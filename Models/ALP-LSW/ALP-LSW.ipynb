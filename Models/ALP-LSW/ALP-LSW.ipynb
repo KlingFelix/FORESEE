{
 "cells": [
  {
   "cell_type": "markdown",
   "metadata": {},
   "source": [
    "# FORESEE Models: ALP - Light Shining Through the Wall"
   ]
  },
  {
   "cell_type": "markdown",
   "metadata": {},
   "source": [
    "Analysis reproducing the results from [arXiv:2204.03599](https://arxiv.org/abs/2204.03599) *\"Axion Searches at the LHC: FASER as a Light Shining through Walls Experiment\"*"
   ]
  },
  {
   "cell_type": "markdown",
   "metadata": {},
   "source": [
    "### Load Libraries"
   ]
  },
  {
   "cell_type": "code",
   "execution_count": 1,
   "metadata": {},
   "outputs": [
    {
     "name": "stderr",
     "output_type": "stream",
     "text": [
      "/home/makelat/work/FORESEE/Models/ALP-LSW/../../src/foresee.py:563: NumbaDeprecationWarning: \u001b[1mThe 'nopython' keyword argument was not supplied to the 'numba.jit' decorator. The implicit default value for this argument is currently False, but it will be changed to True in Numba 0.59.0. See https://numba.readthedocs.io/en/stable/reference/deprecation.html#deprecation-of-object-mode-fall-back-behaviour-when-using-jit for details.\u001b[0m\n",
      "  def boostlist(arr_particle, arr_boost):\n"
     ]
    }
   ],
   "source": [
    "import numpy as np\n",
    "import sys\n",
    "import os\n",
    "src_path = \"../../\"\n",
    "sys.path.append(src_path)\n",
    "from src.foresee import Foresee, Utility, Model\n",
    "from matplotlib import pyplot as plt\n",
    "\n",
    "import random\n",
    "import math\n",
    "from skhep.math.vectors import LorentzVector, Vector3D"
   ]
  },
  {
   "cell_type": "markdown",
   "metadata": {},
   "source": [
    "## 1. Specifying the Model and Setup"
   ]
  },
  {
   "cell_type": "markdown",
   "metadata": {},
   "source": [
    "**Model:** The phenomenology of the ALP can be described by the following Lagrangian\n",
    "\n",
    "\\begin{equation}\n",
    " \\mathcal{L} = - \\frac{1}{2} \\color{red}{m_{a}}^2 a^2  - \\frac{\\color{red}{g}}{4}a F^a_{\\mu\\nu} \\tilde F^a_{\\mu\\nu}\n",
    "\\end{equation}\n",
    "\n",
    "with the ALP mass $m_a$ and the coupling parameter $g$ as free parameters. \n",
    "\n",
    "**Process:** Unlike most other physics models at FASER, here we are not the decay of an ALP inside the FASER decay volume but its conversion in FASER's magnetic field. For this, let us note that we can rewrite the ALP coupling as $a F^a_{\\mu\\nu} \\tilde F^a_{\\mu\\nu} \\sim a \\vec{E} \\cdot \\vec{B}$, so as a coupling between the ALP, an electric field and a magnetic field. This means that in the presence of an external magnetic field a photon can convert into an ALP and vice versa. Her can use this effect twice: once to convert an LHC photon inside the forward LHC magnets  into an ALP, and once to convert the ALP back into a photon in inside the FASER magnet. The signature is therefore a single high-energy photon appearing inside the FASER detector.   \n",
    "\n",
    "Since this process is very specific to this particular mode, we are directly providing the code below, and only rarely make use of the FORESEE functionaties. "
   ]
  },
  {
   "cell_type": "markdown",
   "metadata": {},
   "source": [
    "### a) Load Photons\n",
    "\n",
    "First, let us initiate FORESEE and load the LHC photons into a numpy array labeled `photons`. In the following, we model the production using `EPOSLHC`, `SIBYLL`, `QGSJET`, and `Pythia8-Forward`. "
   ]
  },
  {
   "cell_type": "code",
   "execution_count": 2,
   "metadata": {},
   "outputs": [],
   "source": [
    "foresee = Foresee(path=src_path)\n",
    "\n",
    "energy = \"13.6\"\n",
    "generators=['EPOSLHC', 'SIBYLL', 'QGSJET', 'Pythia8-Forward']\n",
    "modelname=\"ALP-LSW\"\n",
    "nsample=10\n",
    "\n",
    "filename = [foresee.dirpath + \"files/hadrons/\"+energy+\"TeV/\"+gen+\"/\"+gen+\"_\"+energy+\"TeV_22.txt\" for gen in generators]\n",
    "photons = foresee.convert_list_to_momenta(filename,mass=0, nsample=nsample)"
   ]
  },
  {
   "cell_type": "markdown",
   "metadata": {},
   "source": [
    "### b) Define Fields\n",
    "\n",
    "Next, we define the magnetic fields. Here *dipole* magnets are defined by a constant magnetic field $B$ while *quadrupole* magnets are defined by a field gradient $B'$. For FASER, FASER2, the LHC and the HL-LHC we specify\n",
    "\n",
    "- the type of magnet (`q` for quadrupole and `d` for dipole)\n",
    "- the starting position `z` in meters\n",
    "- the length `L` in meters\n",
    "- the strength `B` in Tesla (for dipoles) or gradient `B'` in Tesla/meter (for quadrupoles)\n",
    "\n",
    "The LHC configuration is taken from Ref. [2105.08270](https://arxiv.org/abs/2105.08270), while the HL-LHC configuration is taken from [HL-LHC TDR](https://cds.cern.ch/record/2749422/) . **We should ask the BDSIM folks to check our Bfield parameterization.** **We might need to define an uncertainty on the Bfield parametrization**"
   ]
  },
  {
   "cell_type": "code",
   "execution_count": 3,
   "metadata": {},
   "outputs": [],
   "source": [
    "magnets = {\n",
    "    \"FASER\": [\n",
    "        [\"d\", 0   , 1.5 , 0.6  ],\n",
    "        [\"d\", 1.7 , 1.0 , 0.6  ],\n",
    "        [\"d\", 2.9 , 1.0 , 0.6  ],\n",
    "    ],\n",
    "    \"FASER2\": [\n",
    "        [\"d\", 0   , 20  , 1    ],\n",
    "    ],\n",
    "    \"LHC-14TeV\": [\n",
    "        [\"q\", 22.9, 6.37, 188.6], \n",
    "        [\"d\", 30. , 1   , 1.5  ],\n",
    "        [\"q\", 32  , 5.5 , 191. ],\n",
    "        [\"d\", 38. , 1   , 1.5  ],\n",
    "        [\"q\", 39  , 5.5 , 191  ],\n",
    "        [\"q\", 46.9, 6.37, 188.6],\n",
    "        [\"d\", 53.5, 1   , 1.5  ],\n",
    "        [\"d\", 60. , 20. , 1.28 ],\n",
    "    ],\n",
    "    \"LHC-13.6TeV\": [\n",
    "        ['q', 22.965, 6.37,  197.6983],\n",
    "        ['q', 32.05 , 5.5 , -198.8156],\n",
    "        ['q', 38.55 , 5.5 , -198.8156],\n",
    "        ['q', 46.965, 6.37,  199.0995],\n",
    "        ['d', 59.622, 3.4 , -1.3172  ],\n",
    "        ['d', 63.888, 3.4 , -1.3172  ],\n",
    "        ['d', 68.154, 3.4 , -1.3172  ],\n",
    "        ['d', 72.42 , 3.4 , -1.3172  ],\n",
    "        ['d', 76.686, 3.4 , -1.3172  ],\n",
    "        ['d', 80.952, 3.4 , -1.3172  ],\n",
    "    ],\n",
    "    \"HLLHC\": [\n",
    "        [\"q\", 22.9, 8.4 ,132. ],\n",
    "        [\"d\", 34  , 1.  ,2.5  ],\n",
    "        [\"q\", 35  , 7.17,132. ],\n",
    "        [\"q\", 45  , 7.17,132. ],\n",
    "        [\"d\", 53  , 1   ,2.5  ],\n",
    "        [\"q\", 56. , 8.4 ,132. ],\n",
    "        [\"d\", 68  , 1   ,4.5  ],\n",
    "        [\"d\", 72. , 6.27,5.6  ],\n",
    "    ],\n",
    "}"
   ]
  },
  {
   "cell_type": "markdown",
   "metadata": {},
   "source": [
    "### c) Simple back-on-the envelope estimate\n",
    "\n",
    "We can already perform a vary simple back-on-the envelope estimate by only using the D1 magnet (which provides the dominant contribution) and assuming the small mass limit (so $qL\\ll1$). The function below provides the coupling reach requireing 3 signal events. For this we need: \n",
    "- the number of photons `n0`\n",
    "- the B-field of the D1 magnet `b1`\n",
    "- the length of the D1 magnet `l1`\n",
    "- the B-field of the FASER magnet `b2`\n",
    "- the length of the FASER magnet `l2`"
   ]
  },
  {
   "cell_type": "code",
   "execution_count": 4,
   "metadata": {},
   "outputs": [
    {
     "name": "stdout",
     "output_type": "stream",
     "text": [
      "The LHC reach is g=6.383820680520338e-05\n",
      "The HL-LHC reach is g=4.244115691225136e-06\n"
     ]
    }
   ],
   "source": [
    "def back_on_envelope_estimate(n0=2e15, b1=1.28, l1=20, b2=0.6, l2=3.5):\n",
    "    nevent =  n0 * 1/32 * b1**2 * b2**2 * l1**2 * l2**2\n",
    "    return (3./nevent)**(0.25)\n",
    "\n",
    "print (\"The LHC reach is g=\"   +str( back_on_envelope_estimate(n0=2e15, b1=1.28, l1=20  , b2=0.6, l2=3.5)))\n",
    "print (\"The HL-LHC reach is g=\"+str( back_on_envelope_estimate(n0=6e17, b1=5.6 , l1=6.27, b2=1  , l2=20 )))"
   ]
  },
  {
   "cell_type": "markdown",
   "metadata": {},
   "source": [
    "### d) Production and Detection Probabilities\n",
    "\n",
    "The conversion probability in a magnetic field has been derived in [2203.06137](https://arxiv.org/abs/2203.06137). For **axion to photon converison** we can write\n",
    "\n",
    "\\begin{equation}\n",
    "P(a \\to \\gamma) = \\frac{1}{4} g^2 \\left| \\int dz \\ B(x) \\ e^{i q z} \\right|^2 = \\frac{1}{4} g^2 B^2 L^2 \\left(\\frac{\\sin(qL/2)}{qL/2}\\right)^2\n",
    "\\end{equation}\n",
    "\n",
    "Here we explicitly used that the FASER magnets are homogeneous, which results in linearly polarized photons in the detector. For **photon to axion converison** it is given by\n",
    "\n",
    "\\begin{equation}\n",
    "P(\\gamma \\to a) = \\frac{1}{n_\\text{pol} }\\sum_\\text{pol}\\frac{1}{4} g^2 \\left| \\int dz \\ e^{i q z} \\ \\vec{B}(z)\\cdot  \\vec{p}   \\right|^2 = \\frac{g^2}{8}  \\left( \\left| \\int dz \\ B_x(z) \\ e^{i q z} \\right|^2 + \\left| \\int dz \\ B_y(z)  \\ e^{i q z} \\right|^2 \\right) \n",
    "\\end{equation}\n",
    "\n",
    "Here $p$ denotes the polarization vectors, which we have written in terms of a linear polariztaion basis. To simplify the expression we can use that the fields are (to a good approximation) piecewise constant along the trajectory of a photon and therefore write\n",
    "\n",
    "\\begin{equation}\n",
    " \\int dz B(z) e^{i q z}  =  \\sum_i B_i \\times \\left[ \\frac{e^{iqz}}{iq} \\right]^{z_i+L_i}_{z_i} =   \\sum_i B_i \\times \\frac{e^{iq(z_i+L_i)}-e^{iqz_i}}{iq} =   \\sum_i B_i L_i \\times e^{iq(z_i+L_i/2)}\\frac{e^{iqL_i/2}-e^{-iqL_i/2}}{2i qL_i/2} = \\sum_i B_i L_i \\times e^{iq(z_i+L_i/2)}\\frac{\\sin(q L_i /2)}{qL_i/2} \n",
    "\\end{equation}\n",
    "\n",
    "So we can write \n",
    "\n",
    "\\begin{equation}\n",
    "P(\\gamma \\to a) = \\frac{g^2}{8}  \\left( \\left|  \\sum_i B_{x,i} L_i \\times e^{iq(z_i+L_i/2)}\\frac{\\sin(q L_i /2)}{qL_i/2}  \\right|^2 + \\left|  \\sum_i B_{y,i} L_i \\times e^{iq(z_i+L_i/2)}\\frac{\\sin(q L_i /2)}{qL_i/2}  \\right|^2 \\right) \n",
    "\\end{equation}\n",
    "\n",
    "In addition, we can use also the **Primakoff conversion in production**. Following [1806.02348](https://arxiv.org/abs/1806.02348) and for very small $m_a$, we get\n",
    "\n",
    "\\begin{equation}\n",
    "P(\\gamma \\to a)_{Prim} = \\sigma_{Prim}/\\sigma_{SM} = 0.000737 \\times g^2 \\quad \\text{where} \\quad \\sigma_{Prim} = \\frac{1}{4} g^2 \\alpha Z^2 \\times \\frac12 \\int F^2(t)  d\\log t\n",
    "\\end{equation}\n",
    "\n",
    "Below we provide the exact Primakoff conversion probability factor as `get_conversion_factor()` function. "
   ]
  },
  {
   "cell_type": "code",
   "execution_count": 5,
   "metadata": {},
   "outputs": [
    {
     "name": "stdout",
     "output_type": "stream",
     "text": [
      "0.0007373185713719682\n"
     ]
    }
   ],
   "source": [
    "def get_conversion_factor(tmin=1e-20):\n",
    "    if tmin < 1e-12: return 0.00073736306\n",
    "    alpha, me, ZFe, AFe = 1./137., foresee.masses('11'), 26, 56\n",
    "    a, d  = 111.*ZFe**(-1./3.) / me,  0.164 * AFe**(-2./3.)\n",
    "    SMXSinIGeV2 = 13311.9696379 \n",
    "    logtmin, logtmax, nlogt = np.log10(tmin), 0, 20\n",
    "    dlogt = (logtmax-logtmin)/float(nlogt)\n",
    "    xs=0\n",
    "    for lt in np.linspace(logtmin+0.5*dlogt,logtmax-0.5*dlogt,nlogt):\n",
    "        t = 10**lt\n",
    "        if t<7.39*me*me: ff = a*a*t/(1.+a*a*t)\n",
    "        else: ff = 1./(1.+t/d)\n",
    "        xs += alpha * ZFe**2 / 4. * 0.5 * ff**2  * dlogt * np.log(10) \n",
    "    return xs / SMXSinIGeV2 \n",
    "\n",
    "print (get_conversion_factor(tmin=0.00000000001))"
   ]
  },
  {
   "cell_type": "markdown",
   "metadata": {},
   "source": [
    "We could also have $a \\to \\gamma$ conversion via the **inverse Primakoff process** occuring inside a medium (so axion scattering). The probability is given by $P(a \\to \\gamma)_{Prim} = 1/(\\sigma_{prim} n L) = 0.03 \\times g^2$ for a 7m long LAr detector. Below, we provide a function that estimates the conversion probability in FLArE"
   ]
  },
  {
   "cell_type": "code",
   "execution_count": 6,
   "metadata": {},
   "outputs": [
    {
     "name": "stdout",
     "output_type": "stream",
     "text": [
      "0.02837736181362896\n"
     ]
    }
   ],
   "source": [
    "def get_interaction_flare(tmin=1e-15, tmax=1):\n",
    "    #shortcut\n",
    "    if tmin<1e-12: return 0.02837736181362896\n",
    "    #matter properties\n",
    "    ZFe, AFe, rhoFe, lenFe = 18, 40, 1.4, 700 #FLArE LAr\n",
    "    #get xs in cm2\n",
    "    mproton = foresee.masses('2212')*1.782661921e-24 # converted from GeV to grams\n",
    "    alpha, me = 1./137., foresee.masses('11')\n",
    "    a, d  = 111.*ZFe**(-1./3.) / me,  0.164 * AFe**(-2./3.)\n",
    "    GeV_CM = 0.2e-13\n",
    "    logtmin, logtmax, nlogt = np.log10(tmin), np.log10(tmax), 50\n",
    "    dlogt = (logtmax-logtmin)/float(nlogt)\n",
    "    xs=0\n",
    "    for lt in np.linspace(logtmin+0.5*dlogt,logtmax-0.5*dlogt,nlogt):\n",
    "        t = 10**lt\n",
    "        if t<7.39*me*me: ff = a*a*t/(1.+a*a*t)\n",
    "        else: ff = 1./(1.+t/d)\n",
    "        xs += alpha * ZFe**2 / 4. * 0.5 * ff**2  * dlogt * np.log(10) \n",
    "    xscm2 = xs * GeV_CM**2 \n",
    "    # number density\n",
    "    ndensity = rhoFe / (AFe*mproton)\n",
    "    #get mean free path\n",
    "    mfp = 1 / xscm2 / ndensity\n",
    "    # probability\n",
    "    prob = lenFe / mfp\n",
    "    return prob\n",
    "\n",
    "tmin = 1e-9**4/(2*1000**2)\n",
    "print (get_interaction_flare(tmin=tmin))"
   ]
  },
  {
   "cell_type": "markdown",
   "metadata": {},
   "source": [
    "### e) Event Rate Calculation"
   ]
  },
  {
   "cell_type": "markdown",
   "metadata": {},
   "source": [
    "Now that we have all the ingredients, we can combine them and estimate the number of events in FASER. This is done by the function `get_nevent()` which returns set of couplings and the corresponding number of events. **WE NEED TO IMPLEMENT THE XING ANGLE AND A BETTER TREATMENT OF THE BEAM PIPE GEOMETRY** "
   ]
  },
  {
   "cell_type": "code",
   "execution_count": 7,
   "metadata": {},
   "outputs": [],
   "source": [
    "def get_nevent(\n",
    "        mass,\n",
    "        couplings = np.logspace(-6,0,30+1),\n",
    "        lumi=150,\n",
    "        selection = \"np.sqrt(x.x**2 + x.y**2)<.1\",\n",
    "        distance=480,\n",
    "        magnets_production=None,\n",
    "        magnets_interaction=None,\n",
    "        production_prim=False,  \n",
    "        production_conv=True, \n",
    "        interaction_prim=False, \n",
    "        interaction_conv=True,\n",
    "    ):\n",
    "        \n",
    "    \n",
    "    #lumi ifb > ipb\n",
    "    lumi*=1000\n",
    "    \n",
    "    #decay width\n",
    "    gamma = mass**3/(64*3.1415)\n",
    "    ctau = 0.2e-15/gamma\n",
    "    \n",
    "    # constants:\n",
    "    t_m_igev, m_gev, radius_pipe = 3.5, 5e15, 0.0265\n",
    "    z_tas, radius_tas = 22, 0.017\n",
    "\n",
    "    # loop over particles\n",
    "    nvals = [0 for g in couplings]\n",
    "    stat_p, stat_w = [[] for g in couplings], [[] for g in couplings]\n",
    "    for momentum, weight in zip(photons[0],photons[1]):\n",
    "        \n",
    "        #kinematics\n",
    "        th, en, phi = momentum.theta(), momentum.e, momentum.phi()\n",
    "        q = mass**2/en \n",
    "        \n",
    "        #select events in experimental coverage\n",
    "        x=float(distance/momentum.z)*momentum\n",
    "        if type(x) is np.ndarray: x=Vector3D(x[0],x[1],x[2])\n",
    "        if eval(selection)==False: continue\n",
    "        \n",
    "        #prob production\n",
    "        prob_p = 9\n",
    "        if production_conv:\n",
    "            integralx, integraly = 0, 0\n",
    "            for mag, z, l, field in magnets_production:\n",
    "                if z_tas*th > radius_tas: continue\n",
    "                if z*th > radius_pipe: continue\n",
    "                if mag == \"d\": bx,by = 0, field\n",
    "                else: bx, by = th * z * np.cos(phi) * field, th * z * np.sin(phi) * field\n",
    "                ql=q*l*m_gev\n",
    "                integralx += bx *  t_m_igev  * l * np.exp(-1.J*q*(z+l/2.)*m_gev)* np.sin(ql/2.)/(ql/2.) \n",
    "                integraly += by *  t_m_igev  * l * np.exp(-1.J*q*(z+l/2.)*m_gev)* np.sin(ql/2.)/(ql/2.) \n",
    "            prob_p += 1./8. *(abs(integralx)**2+abs(integraly)**2)\n",
    "        \n",
    "        #primakoff production\n",
    "        if production_prim:\n",
    "            if en>1: prob_p+=get_conversion_factor(tmin=mass**4/(2*en**2) )\n",
    "        \n",
    "        #prob detection\n",
    "        prob_d=0\n",
    "        if interaction_conv:\n",
    "            integral = 0\n",
    "            for mag, z, l, field in magnets_interaction:\n",
    "                if mag == \"d\": b = field\n",
    "                else: continue\n",
    "                ql=q*l*m_gev\n",
    "                integral += b *  t_m_igev  * l * np.exp(-1.J*q*(z+l/2.)*m_gev)* np.sin(ql/2.)/(ql/2.) \n",
    "            prob_d += 1./4. *abs(integral)**2\n",
    "            \n",
    "        # primakoff detection\n",
    "        if interaction_prim: \n",
    "            prob_d += get_interaction_flare(tmin=mass**4/(2*en**2) )\n",
    "            \n",
    "        # lifetime\n",
    "        dbar = ctau*en/mass\n",
    "        \n",
    "        # count event rate\n",
    "        dnevent = weight * lumi * prob_p * prob_d\n",
    "        for ig, g in enumerate(couplings): \n",
    "            prob_notdecay = 1 if mass<1e-4 else np.exp(-(distance-140)/dbar*g**2)\n",
    "            nvals[ig] += g**4 * dnevent * prob_notdecay   \n",
    "            stat_p[ig].append(momentum)\n",
    "            stat_w[ig].append(g**4 * dnevent * prob_notdecay)\n",
    "\n",
    "    return couplings, np.array(nvals), stat_p, np.array(stat_w)"
   ]
  },
  {
   "cell_type": "markdown",
   "metadata": {},
   "source": [
    "### f) Function to Export Events"
   ]
  },
  {
   "cell_type": "markdown",
   "metadata": {},
   "source": [
    "We can also write some events as a HEPMC file."
   ]
  },
  {
   "cell_type": "code",
   "execution_count": 8,
   "metadata": {},
   "outputs": [],
   "source": [
    "def write_events(\n",
    "        mass, \n",
    "        coupling,  \n",
    "        lumi=150,\n",
    "        selection = \"np.sqrt(x.x**2 + x.y**2)<.1\",\n",
    "        distance=480,      \n",
    "        magnets_production=None,\n",
    "        magnets_interaction=None,  \n",
    "        production_prim=False,  \n",
    "        production_conv=True, \n",
    "        interaction_prim=False, \n",
    "        interaction_conv=True,  \n",
    "        filename=None, \n",
    "        numberevent=10, \n",
    "        zposition=0, \n",
    "        seed=None, \n",
    "        return_data=False,\n",
    "    ):\n",
    "          \n",
    "    #set random seed\n",
    "    random.seed(seed)\n",
    "        \n",
    "    # get weighted sample of LLPs\n",
    "    _,_, weighted_raw_data, weights = get_nevent(\n",
    "        mass=mass, \n",
    "        couplings = [coupling],\n",
    "        lumi=lumi,\n",
    "        selection=selection,\n",
    "        distance=distance,\n",
    "        magnets_production=magnets_production,\n",
    "        magnets_interaction=magnets_interaction,\n",
    "        production_prim=production_prim,\n",
    "        production_conv=production_conv,\n",
    "        interaction_prim=interaction_prim,\n",
    "        interaction_conv=interaction_conv,\n",
    "    )\n",
    "    \n",
    "    # process \n",
    "    weighted_data = [[p,0 if w[0]==0 else w/w[0]] for p,w in zip(weighted_raw_data[0], weights[0])]\n",
    "    baseweights = weights[0].T[0]\n",
    "    \n",
    "    # unweight sample \n",
    "    unweighted_raw_data = random.choices(weighted_data, weights=baseweights, k=numberevent)\n",
    "    eventweight = sum(baseweights)/float(numberevent)\n",
    "        \n",
    "    # get photon momenta and decay location\n",
    "    unweighted_data = []\n",
    "    for momentum_gamma, weight in unweighted_raw_data:\n",
    "        # momentum ALP\n",
    "        phi = momentum_gamma.phi()\n",
    "        theta = momentum_gamma.theta()\n",
    "        en = momentum_gamma.e\n",
    "        mom = np.sqrt(en**2-mass**2)\n",
    "        pz, pt = mom*np.cos(theta), mom*np.sin(theta)\n",
    "        px, py = pt*np.cos(phi), pt*np.sin(phi)\n",
    "        momentum_alp = LorentzVector(px,py,pz,en)\n",
    "        # position\n",
    "        posz = zposition\n",
    "        posx = theta*distance*np.cos(phi)\n",
    "        posy = theta*distance*np.sin(phi)\n",
    "        position = LorentzVector(posx,posy,posz,0)\n",
    "        # save\n",
    "        unweighted_data.append([eventweight*weight, position, momentum_alp, [22], [momentum_gamma] ])\n",
    "        \n",
    "    # set output filename\n",
    "    dirname = \"model/events/\"\n",
    "    if not os.path.exists(dirname): os.mkdir(dirname)\n",
    "    if filename==None: filename = dirname+str(mass)+\"_\"+str(coupling)+\".hepmc\"\n",
    "          \n",
    "    # write to HEPMC file\n",
    "    foresee.write_hepmc_file(filename=filename, data=unweighted_data, weightnames=generators)\n",
    "    \n",
    "    #return\n",
    "    if return_data: return weighted_raw_data[0], weights[0], unweighted_raw_data"
   ]
  },
  {
   "cell_type": "markdown",
   "metadata": {},
   "source": [
    "## 2. Event Generation"
   ]
  },
  {
   "cell_type": "markdown",
   "metadata": {},
   "source": [
    "In the following, we want to study one specific benchmark point with $m_{a}=1$ eV and $g=3\\cdot 10^{-5}$ and export events as a HEPMC file. "
   ]
  },
  {
   "cell_type": "code",
   "execution_count": 9,
   "metadata": {},
   "outputs": [],
   "source": [
    "mass, coupling, = 1e-9, 3e-5"
   ]
  },
  {
   "cell_type": "markdown",
   "metadata": {},
   "source": [
    "Let us now specify the detector setup. Here we choose FASER during 2022/2023. "
   ]
  },
  {
   "cell_type": "code",
   "execution_count": 10,
   "metadata": {},
   "outputs": [],
   "source": [
    "lumi = 60\n",
    "distance = 474\n",
    "selection = \"np.sqrt(x.x**2 + (x.y+0.065)**2)<.1\"\n",
    "magnets_production = magnets[\"LHC-14TeV\"]\n",
    "magnets_interaction = magnets[\"FASER\"]"
   ]
  },
  {
   "cell_type": "markdown",
   "metadata": {},
   "source": [
    "For our benchmark point, let us now look at how many particle decay inside the decay volume. We also export 1000 unweighted events as a HEPMC file. "
   ]
  },
  {
   "cell_type": "code",
   "execution_count": 11,
   "metadata": {},
   "outputs": [
    {
     "name": "stdout",
     "output_type": "stream",
     "text": [
      "Expected number of events for EPOSLHC: 11.173\n",
      "Expected number of events for SIBYLL: 9.873\n",
      "Expected number of events for QGSJET: 10.331\n",
      "Expected number of events for Pythia8-Forward: 10.584\n"
     ]
    }
   ],
   "source": [
    "momenta, weights, _ = write_events(\n",
    "    mass = mass, \n",
    "    coupling = coupling, \n",
    "    lumi=lumi,\n",
    "    distance=distance, \n",
    "    selection = selection,\n",
    "    magnets_production=magnets_production,\n",
    "    magnets_interaction=magnets_interaction,\n",
    "    numberevent = 1000,\n",
    "    filename = \"model/events/test.hepmc\", \n",
    "    return_data = True,\n",
    ")\n",
    "\n",
    "for isetup, setup in enumerate(generators):\n",
    "    print(\"Expected number of events for \"+setup+\":\", round(sum(weights[:,isetup]),3))"
   ]
  },
  {
   "cell_type": "markdown",
   "metadata": {},
   "source": [
    "Let us plot the resulting energy distribution"
   ]
  },
  {
   "cell_type": "code",
   "execution_count": 12,
   "metadata": {},
   "outputs": [
    {
     "data": {
      "image/png": "[encoded data removed]",
      "text/plain": [
       "<Figure size 700x500 with 1 Axes>"
      ]
     },
     "metadata": {},
     "output_type": "display_data"
    }
   ],
   "source": [
    "fig = plt.figure(figsize=(7,5))\n",
    "ax = plt.subplot(1,1,1)\n",
    "energies = [p.e for p in momenta], \n",
    "for isetup, setup in enumerate(generators):\n",
    "    ax.hist(energies, weights=weights[:,isetup], bins=np.logspace(2,4, 20+1), histtype='step', label=setup) \n",
    "ax.set_xscale(\"log\")\n",
    "ax.set_xlim(1e2,1e4) \n",
    "ax.set_xlabel(\"E [GeV]\") \n",
    "ax.set_ylabel(\"Number of Events per Bin\") \n",
    "ax.legend(frameon=False, labelspacing=0, fontsize=14)\n",
    "plt.show()"
   ]
  },
  {
   "cell_type": "markdown",
   "metadata": {},
   "source": [
    "## 3. Sensitivity Reach"
   ]
  },
  {
   "cell_type": "markdown",
   "metadata": {},
   "source": [
    "In the following, we will obtain the projected sensitivity for the model. For this, we first define a grid of couplings and masses. "
   ]
  },
  {
   "cell_type": "code",
   "execution_count": 13,
   "metadata": {},
   "outputs": [],
   "source": [
    "masses = np.logspace(-15, 0, 60+1)\n",
    "couplings = np.logspace(-6, 0, 40+1) "
   ]
  },
  {
   "cell_type": "markdown",
   "metadata": {},
   "source": [
    "Let us now scan over various masses and couplings, and record the resulting number of events. Note that here we again consider the FASER configuration, which we set up before."
   ]
  },
  {
   "cell_type": "code",
   "execution_count": 14,
   "metadata": {},
   "outputs": [],
   "source": [
    "#get reach  \n",
    "list_nevents = {label:[] for label in generators}\n",
    "for mass in masses:\n",
    "    _, nevents, _, _  = get_nevent(mass=mass, couplings=couplings, lumi=lumi, distance=distance,\n",
    "        selection=selection, magnets_production=magnets_production, magnets_interaction=magnets_interaction)\n",
    "    for i,label in enumerate(generators): list_nevents[label].append(nevents.T[i])  \n",
    "    \n",
    "#save results\n",
    "if not os.path.exists(\"model/results\"): os.mkdir(\"model/results\")\n",
    "configuration='default'\n",
    "for label in generators: \n",
    "    result = np.array([masses*1e9,couplings,list_nevents[label]], dtype='object')\n",
    "    np.save(\"model/results/\"+energy+\"TeV_\"+configuration+\"_\"+label+\".npy\",result)"
   ]
  },
  {
   "cell_type": "markdown",
   "metadata": {},
   "source": [
    "We can now plot the results. To use FORESEE's plotting functions, we first initialize a FORSEE model. "
   ]
  },
  {
   "cell_type": "code",
   "execution_count": 15,
   "metadata": {},
   "outputs": [],
   "source": [
    "model = Model(\"ALP-LSW\")\n",
    "foresee.set_model(model=model)"
   ]
  },
  {
   "cell_type": "markdown",
   "metadata": {},
   "source": [
    "We then specify all detector setups for which we want to show result (filename in model/results directory, label, color, linestyle, opacity alpha for filled contours, required number of events)."
   ]
  },
  {
   "cell_type": "code",
   "execution_count": 16,
   "metadata": {},
   "outputs": [],
   "source": [
    "setups = [ \n",
    "    [\"13.6TeV_default_EPOSLHC.npy\",         \"EPOSLHC\", \"red\"        ,  \"solid\"  , 0., 3],\n",
    "    [\"13.6TeV_default_SIBYLL.npy\" ,         \"SYBILL\" , \"magenta\"    ,  \"solid\"  , 0., 3],\n",
    "    [\"13.6TeV_default_QGSJET.npy\" ,         \"QGSJET\" , \"orange\"     ,  \"solid\"  , 0., 3],\n",
    "    [\"13.6TeV_default_Pythia8-Forward.npy\" ,\"PYTHIA\" , \"firebrick\"  ,  \"solid\"  , 0., 3],\n",
    "]"
   ]
  },
  {
   "cell_type": "markdown",
   "metadata": {},
   "source": [
    "Then we specify all the existing bounds (filename in model/bounds directory, label, label position x, label position y, label rotation). "
   ]
  },
  {
   "cell_type": "code",
   "execution_count": 17,
   "metadata": {},
   "outputs": [],
   "source": [
    "bounds = [\n",
    "    [\"bounds_Belle2.txt\"  , \"\"                     , 0.210 , 1.5e-3, 0 ],\n",
    "    [\"bounds_PrimEx.txt\"  , \"\"                     , 0.126 , 1.2e-3, 0 ],\n",
    "    [\"bounds_BaBar.txt\"   , \"BaBar\"                , 4e2   , 2e-4  , 0 ],\n",
    "    [\"bounds_BeamDump.txt\", \"Beam\\nDump\"           , 2e4   , 6e-4  , 0 ],\n",
    "    [\"bounds_Nomad.txt\"   , \"Nomad\"                , 3e-2  , 2e-4  , 0 ],\n",
    "    [\"bounds_PVLAS.txt\"   , \"PVLAS\"                , 4e-3  , 7e-6, 90 ],\n",
    "    [\"bounds_ALPS.txt\"    , \"ALPS\"                 , 2e-3  , 7e-6, 90 ],\n",
    "    [\"bounds_Upsilon.txt\" , r\"BaBar $\\Upsilon$\"    , 0.126 , 1.5e-3, 0 ],       \n",
    "]"
   ]
  },
  {
   "cell_type": "markdown",
   "metadata": {},
   "source": [
    "We then specify other projected sensitivitities (filename in model/bounds directory, color, label, label position x, label position y, label rotation) **ADD OTHER SEARCHES FROM PAPER** "
   ]
  },
  {
   "cell_type": "code",
   "execution_count": 18,
   "metadata": {},
   "outputs": [],
   "source": [
    "projections = [\n",
    "#    [\"limits_FASER.txt\" ,   \"firebrick\"    ,r\"FASER\"  , 0.004, 1.00*10**-4, 0  ],\n",
    "#    [\"limits_FASER2.txt\",   \"red\"          ,r\"FASER2\" , 0.004, 3.00*10**-5, 0  ],\n",
    "    [\"limits_FLARE.txt\"  ,  \"blue\"         ,r\"FLARE\"  , 0.02, 1.00*10**-5, 0  ],\n",
    "]"
   ]
  },
  {
   "cell_type": "markdown",
   "metadata": {},
   "source": [
    "We then specify other projected sensitivitities (filename in model/bounds directory, color, label, label position x, label position y, label rotation)"
   ]
  },
  {
   "cell_type": "code",
   "execution_count": 19,
   "metadata": {},
   "outputs": [
    {
     "data": {
      "image/png": "[encoded data removed]",
      "text/plain": [
       "<Figure size 800x800 with 1 Axes>"
      ]
     },
     "metadata": {},
     "output_type": "display_data"
    }
   ],
   "source": [
    "plot = foresee.plot_reach(\n",
    "    setups=setups,\n",
    "    bounds=bounds,\n",
    "    projections=projections,\n",
    "    title=\"ALPs (light shining through the wall)\", \n",
    "    xlims=[1e-3,1e+6], \n",
    "    ylims=[1e-6,1e-2],\n",
    "    xlabel=r\"ALP mass $m_{a}$ [GeV]\", \n",
    "    ylabel=r\"ALP coupling $g_{a\\gamma\\gamma}$ [1/GeV]\",\n",
    "    legendloc=(0.65,0.2),\n",
    "    figsize=(8,8),\n",
    ")\n",
    "\n",
    "# QCD Axion Target Lines\n",
    "DFSZ = np.array([[0.00677, 1e-12], [31136768., 0.005]])\n",
    "plot.plot(DFSZ.T[0], DFSZ.T[1], color=\"k\", lw=1.5, ls=\"dashed\")        \n",
    "plot.text(8e4, 1e-5, \"DFSZ\",fontsize=13, color=\"k\",rotation=68)\n",
    "KSVZ = np.array([[0.00277, 1e-12], [12761133., 0.005]])\n",
    "plot.plot(KSVZ.T[0], KSVZ.T[1], color=\"k\", lw=1.5, ls=\"dashed\")  \n",
    "plot.text(1.2e4, 1e-5, \"KSVZ\",fontsize=13, color=\"k\",rotation=68)\n",
    "\n",
    "plot.subplots_adjust(left=0.12, right=0.97, bottom=0.10, top=0.95)\n",
    "plot.savefig(\"Reach_\"+modelname+\".pdf\")\n",
    "plot.show()"
   ]
  },
  {
   "cell_type": "markdown",
   "metadata": {},
   "source": [
    "The phenomenology of the ALP can be described by the following Lagrangian\n",
    "\n",
    "\\begin{equation}\n",
    " \\mathcal{L} = - \\frac{1}{2} \\color{red}{m_{a}}^2 a^2  - \\frac{\\color{red}{g}}{4}a F^a_{\\mu\\nu} \\tilde F^a_{\\mu\\nu}\n",
    "\\end{equation}\n",
    "\n",
    "The $\\gamma \\to a$ conversion probability in a magnetic field $B_1$ of length $L_1$ is approximately\n",
    "\\begin{equation}\n",
    "P(\\gamma \\to a) = \\frac{1}{2} \\times \\frac{1}{4} g^2 \\left| \\int dz \\ B_1(x) \\ e^{i q z} \\right|^2 = \\frac{1}{8} g^2 B_1^2 L_1^2 \\left(\\frac{\\sin(qL_1/2)}{qL_1/2}\\right)^2 \\approx  \\frac{1}{8} g^2 B_1^2 L_1^2\n",
    "\\end{equation}\n",
    "Here  the  additional factor 1/2 in front accounts for the fact that the photon beam is unpolarized and only the photons with a polarization parallel to the magnetic field can convert into ALPs. \n",
    "\n",
    "The $a \\to \\gamma$ coonversion probability in a magnetic field $B_2$ of length $L_2$ is approximately\n",
    "\\begin{equation}\n",
    "P(a \\to \\gamma) = \\frac{1}{4} g^2 \\left| \\int dz \\ B_2(x) \\ e^{i q z} \\right|^2 = \\frac{1}{4} g^2 B_2^2 L_2^2 \\left(\\frac{\\sin(qL_2/2)}{qL_2/2}\\right)^2 \\approx  \\frac{1}{4} g^2 B_2^2 L_2^2\n",
    "\\end{equation}\n",
    "\n",
    "So the total event rate $N$ is\n",
    "\\begin{equation}\n",
    "N = X \\times (g \\cdot GeV)^4 \\times (B_1/T)^2 \\times (L_1/m)^2 \\times (B_2/T)^2 \\times (L_2/m)^2 \\times N_\\gamma\n",
    "\\end{equation}\n",
    "where $N_\\gamma$ is the number of incoming photons. \n",
    "\n",
    "### Can you calculate $X$ ? "
   ]
  },
  {
   "cell_type": "code",
   "execution_count": 20,
   "metadata": {},
   "outputs": [
    {
     "name": "stdout",
     "output_type": "stream",
     "text": [
      "FLARE: 36.34752890008971 mrad\n",
      "FASERv2: 22.975070865582524 mrad\n",
      "FASERv2-full: 649.8331362917954 mrad\n",
      "NuTeV: 208.61447696648477 mrad\n"
     ]
    }
   ],
   "source": [
    "import numpy as np \n",
    "\n",
    "#FLARE\n",
    "L=100\n",
    "X0=14\n",
    "print (\"FLARE:\", 0.0136 *np.sqrt(L/X0) *1000, \"mrad\")\n",
    "\n",
    "#FASERv2\n",
    "L=1\n",
    "X0=0.3504\n",
    "print (\"FASERv2:\", 0.0136 *np.sqrt(L/X0) *1000, \"mrad\")\n",
    "\n",
    "#FASERv2-full\n",
    "L=800\n",
    "X0=0.3504\n",
    "print (\"FASERv2-full:\", 0.0136 *np.sqrt(L/X0) *1000, \"mrad\")\n",
    "\n",
    "#NuTeV\n",
    "L=400\n",
    "X0=1.7\n",
    "print (\"NuTeV:\", 0.0136 *np.sqrt(L/X0) *1000, \"mrad\")"
   ]
  },
  {
   "cell_type": "code",
   "execution_count": null,
   "metadata": {},
   "outputs": [],
   "source": []
  }
 ],
 "metadata": {
  "kernelspec": {
   "display_name": "Python 3 (ipykernel)",
   "language": "python",
   "name": "python3"
  },
  "language_info": {
   "codemirror_mode": {
    "name": "ipython",
    "version": 3
   },
   "file_extension": ".py",
   "mimetype": "text/x-python",
   "name": "python",
   "nbconvert_exporter": "python",
   "pygments_lexer": "ipython3",
   "version": "3.8.10"
  }
 },
 "nbformat": 4,
 "nbformat_minor": 2
}
