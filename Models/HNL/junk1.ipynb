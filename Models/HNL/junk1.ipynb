{
 "cells": [
  {
   "cell_type": "code",
   "execution_count": null,
   "metadata": {},
   "outputs": [],
   "source": [
    "        strings=[\"2body_lep\",\"2body_tau\",\"3body_H\",\"3body_tau\"]\n",
    "        for l in range(len(strings)):\n",
    "            if br_file_alec[0:len(strings[l])]==strings[l]:\n",
    "                new_file=strings[l]\n",
    "                for m in range(len(br_file_alec)-3):\n",
    "                    if br_file_alec[m:m+3].isdigit():\n",
    "                        #pid_new=str(-abs(int(br_file_alec[m:m+3])))\n",
    "                        #new_file+=pid_new\n",
    "                        if br_file_alec[m-1:m]==\"-\":\n",
    "                            pid_new=str(-int(br_file_alec[m-1:m+3]))\n",
    "                            new_file+=\"_\"+pid_new\n",
    "                        else:\n",
    "                            pid_new=str(-int(br_file_alec[m:m+3]))\n",
    "                            new_file+=\"_\"+pid_new\n",
    "                    if br_file_alec[m:m+2].isdigit() and br_file_alec[m:m+3].isdigit()==False and br_file_alec[m-1:m+2].isdigit()==False:\n",
    "                        if br_file_alec[m-1:m]==\"-\":\n",
    "                            pid_new=str(-int(br_file_alec[m-1:m+2]))\n",
    "                            new_file+=\"_\"+pid_new\n",
    "                        else:\n",
    "                            pid_new=str(-int(br_file_alec[m:m+2]))\n",
    "                            new_file+=\"_\"+pid_new\n",
    "                new_file+=\".txt\"\n",
    "        br_file_alec=new_file\n",
    "        print(\"conjugate file, \",br_file_alec)\n",
    "        br_files_alec.remove(br_file_alec)"
   ]
  }
 ],
 "metadata": {
  "kernelspec": {
   "display_name": "Python 3.8.1 64-bit",
   "language": "python",
   "name": "python3"
  },
  "language_info": {
   "name": "python",
   "version": "3.8.1"
  },
  "orig_nbformat": 4,
  "vscode": {
   "interpreter": {
    "hash": "0adcc2737ebf6a4a119f135174df96668767fca1ef1112612db5ecadf2b6d608"
   }
  }
 },
 "nbformat": 4,
 "nbformat_minor": 2
}
