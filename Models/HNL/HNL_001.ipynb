{
 "cells": [
  {
   "cell_type": "markdown",
   "metadata": {},
   "source": [
    "# FORESEE Models: Heavy Neutral Leptons (HNLs)"
   ]
  },
  {
   "cell_type": "markdown",
   "metadata": {},
   "source": [
    "## Load Libraries "
   ]
  },
  {
   "cell_type": "code",
   "execution_count": 1,
   "metadata": {},
   "outputs": [],
   "source": [
    "import numpy as np\n",
    "import sys\n",
    "import os\n",
    "src_path = \"../../\"\n",
    "sys.path.append(src_path)\n",
    "from src.foresee import Foresee, Utility, Model\n",
    "from HeavyNeutralLepton import * \n",
    "from matplotlib import pyplot as plt\n",
    "import matplotlib.colors as mcolors\n",
    "import random"
   ]
  },
  {
   "cell_type": "markdown",
   "metadata": {},
   "source": [
    "## 1. Specifying the Model"
   ]
  },
  {
   "cell_type": "markdown",
   "metadata": {},
   "source": [
    "Heavy Neutral Leptons, denoted by $N$, are right-handed gauge singlets that can be added as an extenstion to the standard model to give mass to the light active neutrinos. These HNLs mix with the SM active neutrinos, and thus pick up couplings to the SM which are suppresed by a small mixing angle, $U_\\alpha$. The phenomenology of these interactions can be described by the following Lagrangian: \n",
    "\\begin{equation} \n",
    "\\mathcal{L} \\supset   - \\frac{1}{\\sqrt{2}}g\\sum_{\\alpha=e,\\mu,\\tau} U^*_\\alpha  W_\\mu^+  \\,\\overline{N^c} \\, \\gamma^\\mu l_\\alpha  - \\frac{1}{2\\cos\\theta_W}g\\sum_{\\alpha=e,\\mu,\\tau} U^*_\\alpha Z_\\mu  \\overline{N^c}\\, \\gamma^\\mu \\nu_\\alpha+ \\text{h.c.} \n",
    "\\end{equation}\n"
   ]
  },
  {
   "cell_type": "code",
   "execution_count": 2,
   "metadata": {},
   "outputs": [],
   "source": [
    "energy = \"14\"\n",
    "modelname=\"HNL\"\n",
    "model = Model(modelname, path=\"./\")\n",
    "colors=list(mcolors.TABLEAU_COLORS)\n",
    "length = len(colors)\n",
    "\n",
    "allchannels = []\n",
    "production_channels=[]\n",
    "\n",
    "benchmark_ind = 2\n",
    "benchmark = [\"100\",\"010\",\"001\",\"011\",\"111\"]\n",
    "benchmark_act = benchmark[benchmark_ind]\n",
    "\n",
    "gen_ind = 1\n",
    "generators = [\"NLO-P8-Min\", \"NLO-P8\", \"NLO-P8-Max\"]\n",
    "generators_k = [\"SIBYLL\",\"EPOSLHC\",\"QGSJET\"]\n",
    "\n",
    "gen_name=[\"min\",\"middle\",\"max\"]"
   ]
  },
  {
   "cell_type": "markdown",
   "metadata": {},
   "source": [
    "We initialize the couplings and normalize (relevant for 011 and 111 benchmarks)."
   ]
  },
  {
   "cell_type": "code",
   "execution_count": 3,
   "metadata": {},
   "outputs": [],
   "source": [
    "vecoup_un = int(benchmark_act[0])\n",
    "vmucoup_un = int(benchmark_act[1])\n",
    "vtaucoup_un = int(benchmark_act[2])\n",
    "\n",
    "mag = np.sqrt(vecoup_un**2 + vmucoup_un**2 + vtaucoup_un**2)\n",
    "vecoup = vecoup_un  / mag \n",
    "vmucoup = vmucoup_un  / mag \n",
    "vtaucoup = vtaucoup_un  / mag "
   ]
  },
  {
   "cell_type": "code",
   "execution_count": 4,
   "metadata": {},
   "outputs": [],
   "source": [
    "hnl = HeavyNeutralLepton(ve=vecoup, vmu=vmucoup, vtau=vtaucoup)"
   ]
  },
  {
   "cell_type": "markdown",
   "metadata": {},
   "source": [
    "We initialize the MC steps"
   ]
  },
  {
   "cell_type": "code",
   "execution_count": 5,
   "metadata": {},
   "outputs": [],
   "source": [
    "nsteps=10\n",
    "masses = [round(x,5) for x in np.logspace(-1,1,10+1)]"
   ]
  },
  {
   "cell_type": "markdown",
   "metadata": {},
   "source": [
    "**Production:** The semileptonic two body decay of a pseudoscalar meson $P \\to P' N$ is a dominant production mechanism for HNL's. Elements in `channels` have the form `[decay label, parent particle pid (with sign), sign of produced lepton PID (- for positron + for electron),generator]`."
   ]
  },
  {
   "cell_type": "code",
   "execution_count": 6,
   "metadata": {},
   "outputs": [
    {
     "name": "stdout",
     "output_type": "stream",
     "text": [
      "2body_411_-15\n",
      "2body_-411_15\n",
      "2body_431_-15\n",
      "2body_-431_15\n",
      "2body_521_-15\n",
      "2body_-521_15\n",
      "2body_541_-15\n",
      "2body_-541_15\n",
      "2body_211_-15\n",
      "2body_-211_15\n",
      "2body_321_-15\n",
      "2body_-321_15\n"
     ]
    }
   ],
   "source": [
    "channels = [\n",
    "    [r'D^+ \\to l^+ + N'    , '411', '-',generators[gen_ind]],\n",
    "    [r'D^- \\to l^- + N'    ,'-411', '' ,generators[gen_ind]],\n",
    "    [r'D_s^+ \\to l^+ + N'  , '431', '-',generators[gen_ind]],\n",
    "    [r'D_s^- \\to l^- + N'  ,'-431', '' ,generators[gen_ind]],\n",
    "    [r'B^+ \\to + l^+ + N'  , '521', '-',generators[gen_ind]],\n",
    "    [r'B^- \\to + l^- + N'  ,'-521', '' ,generators[gen_ind]],\n",
    "    [r'B_c^+ \\to + l^+ + N', '541', '-',generators[gen_ind]],\n",
    "    [r'B_c^- \\to + l^- + N','-541', '' ,generators[gen_ind]],\n",
    "    [r'pi^+ \\to + l^+ + N','211', '-' ,\"EPOSLHC\"],\n",
    "    [r'pi^- \\to + l^- + N','-211', '' ,\"EPOSLHC\"],\n",
    "    [r'K^+ \\to + l^+ + N','321', '-' ,generators_k[gen_ind]],\n",
    "    [r'K^- \\to + l^- + N','-321', '' ,generators_k[gen_ind]]\n",
    "]\n",
    "\n",
    "\n",
    "for label, pid_had, sign_lep, generator in channels:\n",
    "    for pid_lep in [\"11\",\"13\",\"15\"]:\n",
    "        if hnl.vcoupling[pid_lep] <1e-9: continue\n",
    "        label1 = \"2body_\" + pid_had + \"_\" + sign_lep+pid_lep\n",
    "        label2='[' + '\"' + label1 + '\"' + ', ' + '\"' + colors[random.randint(0,length-1)] + '\"' + ', ' + 'r\"$' + label + '$\"' + '],'\n",
    "        production_channels.append(label2)\n",
    "        print(label1)\n",
    "        #print(label2)\n",
    "        model.add_production_2bodydecay(\n",
    "            label = label1,\n",
    "            pid0 = pid_had,\n",
    "            pid1 = pid_lep,\n",
    "            br = hnl.get_2body_br(pid_had, sign_lep+pid_lep),\n",
    "            generator = generator,\n",
    "            energy = energy,\n",
    "            nsample = nsteps,\n",
    "        )\n",
    "        allchannels.append(label1)"
   ]
  },
  {
   "cell_type": "markdown",
   "metadata": {},
   "source": [
    "They can also be produced in the two body decay of the $\\tau$ lepton, $\\tau \\to \\pi N$. Elements in `channels` have the form `[decay label, parent particle pid, produced hadron pid (without sign), sign of produced hadron, generator]`.\n"
   ]
  },
  {
   "cell_type": "code",
   "execution_count": 7,
   "metadata": {},
   "outputs": [
    {
     "data": {
      "text/plain": [
       "'channels = [\\n[r\\'\\tau^- \\to \\\\pi^- + N\\',\\'15\\',\\'211\\', \\'-\\' , \"Pythia8\"],\\n[r\\'\\tau^+ \\to \\\\pi^+ + N\\',\\'-15\\',\\'211\\', \\'\\'  , \"Pythia8\"],\\n[r\\'\\tau^- \\to K^- + N\\'  ,\\'15\\',\\'321\\', \\'-\\' , \"Pythia8\"],\\n[r\\'\\tau^+ \\to K^+ + N\\'  ,\\'-15\\',\\'321\\', \\'\\'  , \"Pythia8\"],\\n[r\\'\\tau^- \\to \\rho^- + N\\',\\'15\\',\\'213\\', \\'-\\', \"Pythia8\"],\\n[r\\'\\tau^+ \\to \\rho^+ + N\\',\\'-15\\',\\'213\\', \\'\\' , \"Pythia8\"],\\n[r\\'\\tau^- \\to K^{*-} + N\\',\\'15\\',\\'213\\', \\'-\\' , \"Pythia8\"],\\n[r\\'\\tau^+ \\to K^{*+} + N\\',\\'-15\\',\\'213\\', \\'\\' , \"Pythia8\"]\\n]\\n\\n\\nfor label, pid_tau, pid_had, sign_had, generator in channels:\\n    if hnl.vcoupling[str(abs(int(pid_tau)))] <1e-9: continue\\n    label1 = \"2body_tau_\" + pid_tau + \"_\" + sign_had+pid_had\\n    label2=\\'[\\' + \\'\"\\' + label1 + \\'\"\\' + \\', \\' + \\'\"\\' + colors[random.randint(0,length-1)] + \\'\"\\' + \\', \\' + \\'r\"$\\' + label + \\'$\"\\' + \\'],\\'\\n    production_channels.append(label2)\\n    #print(label2)\\n    model.add_production_2bodydecay(\\n        label = label1,\\n        pid0 = pid_tau,\\n        pid1 = pid_had,\\n        br = hnl.get_2body_br_tau(pid_tau, sign_had+pid_had),\\n        generator = generator,\\n        energy = energy,\\n        nsample = nsteps,\\n    )\\n    allchannels.append(label1)'"
      ]
     },
     "execution_count": 7,
     "metadata": {},
     "output_type": "execute_result"
    }
   ],
   "source": [
    "'''channels = [\n",
    "[r'\\tau^- \\to \\pi^- + N','15','211', '-' , \"Pythia8\"],\n",
    "[r'\\tau^+ \\to \\pi^+ + N','-15','211', ''  , \"Pythia8\"],\n",
    "[r'\\tau^- \\to K^- + N'  ,'15','321', '-' , \"Pythia8\"],\n",
    "[r'\\tau^+ \\to K^+ + N'  ,'-15','321', ''  , \"Pythia8\"],\n",
    "[r'\\tau^- \\to \\rho^- + N','15','213', '-', \"Pythia8\"],\n",
    "[r'\\tau^+ \\to \\rho^+ + N','-15','213', '' , \"Pythia8\"],\n",
    "[r'\\tau^- \\to K^{*-} + N','15','213', '-' , \"Pythia8\"],\n",
    "[r'\\tau^+ \\to K^{*+} + N','-15','213', '' , \"Pythia8\"]\n",
    "]\n",
    "\n",
    "\n",
    "for label, pid_tau, pid_had, sign_had, generator in channels:\n",
    "    if hnl.vcoupling[str(abs(int(pid_tau)))] <1e-9: continue\n",
    "    label1 = \"2body_tau_\" + pid_tau + \"_\" + sign_had+pid_had\n",
    "    label2='[' + '\"' + label1 + '\"' + ', ' + '\"' + colors[random.randint(0,length-1)] + '\"' + ', ' + 'r\"$' + label + '$\"' + '],'\n",
    "    production_channels.append(label2)\n",
    "    #print(label2)\n",
    "    model.add_production_2bodydecay(\n",
    "        label = label1,\n",
    "        pid0 = pid_tau,\n",
    "        pid1 = pid_had,\n",
    "        br = hnl.get_2body_br_tau(pid_tau, sign_had+pid_had),\n",
    "        generator = generator,\n",
    "        energy = energy,\n",
    "        nsample = nsteps,\n",
    "    )\n",
    "    allchannels.append(label1)'''"
   ]
  },
  {
   "cell_type": "markdown",
   "metadata": {},
   "source": [
    "We can also produce them through the three body decay of a pseudoscalar meson $P$ to a pseudoscalar $P'$, a lepton $\\ell$ and $N$, through the process $P \\to P' \\ell N$. Elements of `channels` have the form `[decay label, pid of parent hadron, pid of daughter meson (with sign), sign of produced lepton's pid]`.\n"
   ]
  },
  {
   "cell_type": "code",
   "execution_count": 8,
   "metadata": {},
   "outputs": [
    {
     "data": {
      "text/plain": [
       "'channels = [\\n    [r\\'D^0 \\to K^- + l^+ + N\\'             , \\'421\\' , \\'-321\\' , \\'-\\', generators[gen_ind]],\\n    [r\\'D^0 \\to K^+ + l^- + N\\'             , \\'-421\\', \\'321\\'  , \\'\\' , generators[gen_ind]],\\n    [r\\'D^+ \\to \\x08ar{K}^0 + l^+ + N\\'       , \\'411\\' , \\'-311\\' , \\'-\\', generators[gen_ind]],\\n    [r\\'D^- \\to K^0 + l^- + N\\'             ,\\'-411\\' , \\'311\\'  , \\'\\' , generators[gen_ind]],\\n    [r\\'B^+ \\to \\x08ar{D}^0 + l^+ + N\\'       , \\'521\\' ,  \\'-421\\', \\'-\\', generators[gen_ind]],\\n    [r\\'B^- \\to D^0 + l^- + N\\'             , \\'-521\\',  \\'421\\' , \\'\\' , generators[gen_ind]],\\n    [r\\'B^0 \\to D^- + l^+ + N\\'             , \\'511\\' , \\'-411\\' , \\'-\\', generators[gen_ind]],\\n    [r\\'B^0 \\to D^+ + l^- + N\\'             , \\'-511\\', \\'411\\'  , \\'\\' , generators[gen_ind]],\\n    [r\\'B^0_s \\to D^-_s + l^+ + N\\'         , \\'531\\' , \\'-431\\' , \\'-\\', generators[gen_ind]],\\n    [r\\'B^0_s \\to D^+_s + l^- + N\\'         , \\'-531\\', \\'431\\'  , \\'\\' , generators[gen_ind]],\\n    [r\\'B^+_c \\to B^0 + l^+ + N\\'           , \\'541\\' ,  \\'511\\' , \\'-\\', generators[gen_ind]],\\n    [r\\'B^-_c \\to \\x08ar{B}^0 + l^- + N\\'     , \\'-541\\',  \\'-511\\', \\'\\' , generators[gen_ind]],\\n    [r\\'B^+_c \\to B^0_s + l^+ + N\\'         , \\'541\\' ,  \\'531\\' , \\'-\\', generators[gen_ind]],\\n    [r\\'B^-_c \\to \\x08ar{B}^0_s + l^- + N\\'   , \\'-541\\',  \\'-531\\', \\'\\' , generators[gen_ind]],\\n    #new modes\\n    [r\\'K^0_S \\to \\\\pi^+ + l^- + N\\'         , \\'310\\' , \\'211\\'  , \\'\\' ,generators_k[gen_ind]], \\n    [r\\'K^0_S \\to \\\\pi^- + l^+ + N\\'         , \\'310\\' , \\'-211\\' , \\'-\\', generators_k[gen_ind]],\\n    [r\\'K^0_L \\to \\\\pi^+ + l^- + N\\'         , \\'130\\' , \\'211\\'  , \\'\\' , generators_k[gen_ind]],\\n    [r\\'K^0_L \\to \\\\pi^- + l^+ + N\\'         , \\'130\\' , \\'-211\\' , \\'-\\', generators_k[gen_ind]],\\n    [r\\'K^+ \\to \\\\pi^0 + l^+ + N\\'           , \\'321\\' , \\'111\\'  , \\'-\\', generators_k[gen_ind]], \\n    [r\\'K^- \\to \\\\pi^0 + l^- + N\\'           , \\'-321\\', \\'111\\'  , \\'\\' , generators_k[gen_ind]], \\n    [r\\'D_s^+ \\to \\\\eta + l^+ + N\\'          , \\'431\\' , \\'221\\'  , \\'-\\', generators[gen_ind]],\\n    [r\\'D_s^- \\to \\\\eta + l^- + N\\'          , \\'-431\\', \\'221\\'  , \\'\\' , generators[gen_ind]],\\n    [r\\'D_s^+ \\to \\\\eta\\' + l^+ + N\\'        , \\'431\\' , \\'331\\'  , \\'-\\', generators[gen_ind]],\\n    [r\\'D_s^- \\to \\\\eta\\' + l^- + N\\'        , \\'-431\\', \\'331\\'  , \\'\\' , generators[gen_ind]],\\n    [r\\'B^+ \\to \\\\pi^0 + l^+ + N\\'           , \\'521\\' , \\'111\\'  , \\'-\\', generators[gen_ind]],\\n    [r\\'B^- \\to \\\\pi^0 + l^- + N\\'           , \\'-521\\', \\'111\\'  , \\'\\' , generators[gen_ind]],\\n    [r\\'B^+_c \\to D^0 + l^+ + N\\'           , \\'541\\' , \\'421\\'  , \\'-\\', generators[gen_ind]],\\n    [r\\'B^-_c \\to \\x08ar{D^0} + l^- + N\\'     , \\'-541\\', \\'-421\\' , \\'\\' , generators[gen_ind]],\\n    [r\\'B^+_c \\to \\\\eta_c + l^+ + N\\'        , \\'541\\' , \\'441\\'  , \\'-\\', generators[gen_ind]],\\n    [r\\'B^-_c \\to \\\\eta_c + l^- + N\\'        , \\'-541\\', \\'441\\'  , \\'\\' , generators[gen_ind]],\\n    [r\\'D^0 \\to \\\\pi^- + l^+ + N\\'           , \\'421\\' , \\'-211\\' , \\'-\\', generators[gen_ind]],\\n    [r\\'\\x08ar{D^0} \\to \\\\pi^+ + l^- + N\\'     , \\'-421\\', \\'211\\'  , \\'\\' , generators[gen_ind]],\\n    [r\\'D^+ \\to \\\\pi^0 + l^+ + N\\'           , \\'411\\' , \\'111\\'  , \\'-\\', generators[gen_ind]],\\n    [r\\'D^- \\to \\\\pi^0 + l^- + N\\'           , \\'-411\\', \\'111\\'  , \\'\\' , generators[gen_ind]],\\n    [r\\'D_s^+ \\to K^0 + l^+ + N\\'           , \\'431\\' , \\'311\\'  , \\'-\\', generators[gen_ind]],\\n    [r\\'D_s^- \\to \\x08ar{K^0} + l^- + N\\'     , \\'-431\\', \\'-311\\' , \\'\\' , generators[gen_ind]],\\n    [r\\'B^0 \\to \\\\pi^- + l^+ + N\\'           , \\'511\\' , \\'-211\\' , \\'-\\', generators[gen_ind]],\\n    [r\\'\\x08ar{B^0} \\to \\\\pi^+ + l^- + N\\'     , \\'-511\\', \\'211\\'  , \\'\\' , generators[gen_ind]],\\n    [r\\'B^0_s \\to K^- + l^+ + N\\'           , \\'531\\' , \\'-321\\' , \\'-\\', generators[gen_ind]],\\n    [r\\'\\x08ar{B^0_s} \\to K^+ + l^- + N\\'     , \\'-531\\', \\'321\\'  , \\'\\' , generators[gen_ind]],\\n    [r\\'D^+ \\to \\\\eta + l^+ + N\\'            , \\'411\\' , \\'221\\'  , \\'-\\', generators[gen_ind]],\\n    [r\\'D^- \\to \\\\eta + l^- + N\\'            , \\'-411\\' , \\'221\\'  , \\'\\', generators[gen_ind]],\\n    [r\\'D^+ \\to \\\\eta\\' + l^+ + N\\'          , \\'411\\' , \\'331\\'  , \\'-\\', generators[gen_ind]],\\n    [r\\'D^- \\to \\\\eta\\' + l^- + N\\'          , \\'-411\\' , \\'331\\'  , \\'\\', generators[gen_ind]],\\n    [r\\'B^+ \\to \\\\eta + l^+ + N\\'            , \\'521\\' , \\'221\\'  , \\'-\\' , generators[gen_ind]],\\n    [r\\'B^- \\to \\\\eta + l^- + N\\'            , \\'-521\\' , \\'221\\'  , \\'\\' , generators[gen_ind]],\\n    [r\\'B^+ \\to \\\\eta\\' + l^+ + N\\'          , \\'521\\' , \\'331\\'  , \\'-\\' , generators[gen_ind]],\\n    [r\\'B^- \\to \\\\eta\\' + l^- + N\\'          , \\'-521\\' , \\'331\\'  , \\'\\' , generators[gen_ind]]\\n]\\n\\n\\n#print(len(channels))\\nfor label, pid_parent, pid_daughter, sign_lep, generator in channels:\\n    if model.masses(pid_parent) >= model.masses(\\'15\\') + model.masses(pid_daughter):\\n        leptons=[\"11\",\"13\",\"15\"]\\n    if model.masses(pid_parent) <= model.masses(\\'15\\') + model.masses(pid_daughter):\\n        leptons=[\"11\",\"13\"]\\n    for pid_lep in leptons:\\n        if hnl.vcoupling[pid_lep] <1e-9: continue\\n        label1=\"3body_pseudo_\" + pid_parent + \"_\" +pid_daughter+ \"_\" + sign_lep+pid_lep\\n        label2=\\'[\\' + \\'\"\\' + label1 + \\'\"\\' + \\', \\' + \\'\"\\' + colors[random.randint(0,length-1)] + \\'\"\\' + \\', \\' + \\'r\"$\\' + label + \\'$\"\\' + \\'],\\'\\n        production_channels.append(label2)\\n        #print(label2)\\n        model.add_production_3bodydecay(\\n            label = label1,\\n            pid0 = pid_parent,\\n            pid1 = pid_daughter,\\n            pid2 = sign_lep+pid_lep,\\n            br = hnl.get_3body_dbr_pseudoscalar(pid_parent,pid_daughter,sign_lep+pid_lep),\\n            generator = generator,\\n            energy = energy,\\n            nsample = nsteps,\\n            integration = \"dq2dE\",\\n        )\\n        allchannels.append(label1)'"
      ]
     },
     "execution_count": 8,
     "metadata": {},
     "output_type": "execute_result"
    }
   ],
   "source": [
    "'''channels = [\n",
    "    [r'D^0 \\to K^- + l^+ + N'             , '421' , '-321' , '-', generators[gen_ind]],\n",
    "    [r'D^0 \\to K^+ + l^- + N'             , '-421', '321'  , '' , generators[gen_ind]],\n",
    "    [r'D^+ \\to \\bar{K}^0 + l^+ + N'       , '411' , '-311' , '-', generators[gen_ind]],\n",
    "    [r'D^- \\to K^0 + l^- + N'             ,'-411' , '311'  , '' , generators[gen_ind]],\n",
    "    [r'B^+ \\to \\bar{D}^0 + l^+ + N'       , '521' ,  '-421', '-', generators[gen_ind]],\n",
    "    [r'B^- \\to D^0 + l^- + N'             , '-521',  '421' , '' , generators[gen_ind]],\n",
    "    [r'B^0 \\to D^- + l^+ + N'             , '511' , '-411' , '-', generators[gen_ind]],\n",
    "    [r'B^0 \\to D^+ + l^- + N'             , '-511', '411'  , '' , generators[gen_ind]],\n",
    "    [r'B^0_s \\to D^-_s + l^+ + N'         , '531' , '-431' , '-', generators[gen_ind]],\n",
    "    [r'B^0_s \\to D^+_s + l^- + N'         , '-531', '431'  , '' , generators[gen_ind]],\n",
    "    [r'B^+_c \\to B^0 + l^+ + N'           , '541' ,  '511' , '-', generators[gen_ind]],\n",
    "    [r'B^-_c \\to \\bar{B}^0 + l^- + N'     , '-541',  '-511', '' , generators[gen_ind]],\n",
    "    [r'B^+_c \\to B^0_s + l^+ + N'         , '541' ,  '531' , '-', generators[gen_ind]],\n",
    "    [r'B^-_c \\to \\bar{B}^0_s + l^- + N'   , '-541',  '-531', '' , generators[gen_ind]],\n",
    "    #new modes\n",
    "    [r'K^0_S \\to \\pi^+ + l^- + N'         , '310' , '211'  , '' ,generators_k[gen_ind]], \n",
    "    [r'K^0_S \\to \\pi^- + l^+ + N'         , '310' , '-211' , '-', generators_k[gen_ind]],\n",
    "    [r'K^0_L \\to \\pi^+ + l^- + N'         , '130' , '211'  , '' , generators_k[gen_ind]],\n",
    "    [r'K^0_L \\to \\pi^- + l^+ + N'         , '130' , '-211' , '-', generators_k[gen_ind]],\n",
    "    [r'K^+ \\to \\pi^0 + l^+ + N'           , '321' , '111'  , '-', generators_k[gen_ind]], \n",
    "    [r'K^- \\to \\pi^0 + l^- + N'           , '-321', '111'  , '' , generators_k[gen_ind]], \n",
    "    [r'D_s^+ \\to \\eta + l^+ + N'          , '431' , '221'  , '-', generators[gen_ind]],\n",
    "    [r'D_s^- \\to \\eta + l^- + N'          , '-431', '221'  , '' , generators[gen_ind]],\n",
    "    [r'D_s^+ \\to \\eta\\' + l^+ + N'        , '431' , '331'  , '-', generators[gen_ind]],\n",
    "    [r'D_s^- \\to \\eta\\' + l^- + N'        , '-431', '331'  , '' , generators[gen_ind]],\n",
    "    [r'B^+ \\to \\pi^0 + l^+ + N'           , '521' , '111'  , '-', generators[gen_ind]],\n",
    "    [r'B^- \\to \\pi^0 + l^- + N'           , '-521', '111'  , '' , generators[gen_ind]],\n",
    "    [r'B^+_c \\to D^0 + l^+ + N'           , '541' , '421'  , '-', generators[gen_ind]],\n",
    "    [r'B^-_c \\to \\bar{D^0} + l^- + N'     , '-541', '-421' , '' , generators[gen_ind]],\n",
    "    [r'B^+_c \\to \\eta_c + l^+ + N'        , '541' , '441'  , '-', generators[gen_ind]],\n",
    "    [r'B^-_c \\to \\eta_c + l^- + N'        , '-541', '441'  , '' , generators[gen_ind]],\n",
    "    [r'D^0 \\to \\pi^- + l^+ + N'           , '421' , '-211' , '-', generators[gen_ind]],\n",
    "    [r'\\bar{D^0} \\to \\pi^+ + l^- + N'     , '-421', '211'  , '' , generators[gen_ind]],\n",
    "    [r'D^+ \\to \\pi^0 + l^+ + N'           , '411' , '111'  , '-', generators[gen_ind]],\n",
    "    [r'D^- \\to \\pi^0 + l^- + N'           , '-411', '111'  , '' , generators[gen_ind]],\n",
    "    [r'D_s^+ \\to K^0 + l^+ + N'           , '431' , '311'  , '-', generators[gen_ind]],\n",
    "    [r'D_s^- \\to \\bar{K^0} + l^- + N'     , '-431', '-311' , '' , generators[gen_ind]],\n",
    "    [r'B^0 \\to \\pi^- + l^+ + N'           , '511' , '-211' , '-', generators[gen_ind]],\n",
    "    [r'\\bar{B^0} \\to \\pi^+ + l^- + N'     , '-511', '211'  , '' , generators[gen_ind]],\n",
    "    [r'B^0_s \\to K^- + l^+ + N'           , '531' , '-321' , '-', generators[gen_ind]],\n",
    "    [r'\\bar{B^0_s} \\to K^+ + l^- + N'     , '-531', '321'  , '' , generators[gen_ind]],\n",
    "    [r'D^+ \\to \\eta + l^+ + N'            , '411' , '221'  , '-', generators[gen_ind]],\n",
    "    [r'D^- \\to \\eta + l^- + N'            , '-411' , '221'  , '', generators[gen_ind]],\n",
    "    [r'D^+ \\to \\eta\\' + l^+ + N'          , '411' , '331'  , '-', generators[gen_ind]],\n",
    "    [r'D^- \\to \\eta\\' + l^- + N'          , '-411' , '331'  , '', generators[gen_ind]],\n",
    "    [r'B^+ \\to \\eta + l^+ + N'            , '521' , '221'  , '-' , generators[gen_ind]],\n",
    "    [r'B^- \\to \\eta + l^- + N'            , '-521' , '221'  , '' , generators[gen_ind]],\n",
    "    [r'B^+ \\to \\eta\\' + l^+ + N'          , '521' , '331'  , '-' , generators[gen_ind]],\n",
    "    [r'B^- \\to \\eta\\' + l^- + N'          , '-521' , '331'  , '' , generators[gen_ind]]\n",
    "]\n",
    "\n",
    "\n",
    "#print(len(channels))\n",
    "for label, pid_parent, pid_daughter, sign_lep, generator in channels:\n",
    "    if model.masses(pid_parent) >= model.masses('15') + model.masses(pid_daughter):\n",
    "        leptons=[\"11\",\"13\",\"15\"]\n",
    "    if model.masses(pid_parent) <= model.masses('15') + model.masses(pid_daughter):\n",
    "        leptons=[\"11\",\"13\"]\n",
    "    for pid_lep in leptons:\n",
    "        if hnl.vcoupling[pid_lep] <1e-9: continue\n",
    "        label1=\"3body_pseudo_\" + pid_parent + \"_\" +pid_daughter+ \"_\" + sign_lep+pid_lep\n",
    "        label2='[' + '\"' + label1 + '\"' + ', ' + '\"' + colors[random.randint(0,length-1)] + '\"' + ', ' + 'r\"$' + label + '$\"' + '],'\n",
    "        production_channels.append(label2)\n",
    "        #print(label2)\n",
    "        model.add_production_3bodydecay(\n",
    "            label = label1,\n",
    "            pid0 = pid_parent,\n",
    "            pid1 = pid_daughter,\n",
    "            pid2 = sign_lep+pid_lep,\n",
    "            br = hnl.get_3body_dbr_pseudoscalar(pid_parent,pid_daughter,sign_lep+pid_lep),\n",
    "            generator = generator,\n",
    "            energy = energy,\n",
    "            nsample = nsteps,\n",
    "            integration = \"dq2dE\",\n",
    "        )\n",
    "        allchannels.append(label1)'''"
   ]
  },
  {
   "cell_type": "markdown",
   "metadata": {},
   "source": [
    "It can also be produced in a three body decay of a pseudoscalar meson to a vector meson through the channel $P \\to V \\ell N$. Elements of `channels` have the form `[decay label, parent pid, daughter pid, sign of produced lepton - (pid) is a positive lepton]`."
   ]
  },
  {
   "cell_type": "code",
   "execution_count": 9,
   "metadata": {},
   "outputs": [
    {
     "data": {
      "text/plain": [
       "'\\nchannels = [\\n    [r\\'D^0 \\to K^{*-} + l^+ + N\\'                  ,\\'421\\' ,\\'-323\\', \\'-\\' , generators[gen_ind]],\\n    [r\\'D^0 \\to K^{*+} + l^- + N\\'                  ,\\'-421\\', \\'323\\', \\'\\'  , generators[gen_ind]],\\n    [r\\'B^+ \\to \\x08ar{D}^*0 + l^+ + N\\'              ,\\'521\\' ,\\'-423\\', \\'-\\' , generators[gen_ind]],\\n    [r\\'B^- \\to D^*0 + l^- + N\\'                    ,\\'-521\\',\\'423\\' , \\'\\'  , generators[gen_ind]],\\n    [r\\'B^0 \\to D^{*-} + l^+ + N\\'                  ,\\'511\\' ,\\'-413\\', \\'-\\' , generators[gen_ind]],\\n    [r\\'B^0 \\to D^{*+} + l^- + N\\'                  ,\\'-511\\',\\'413\\' , \\'\\'  , generators[gen_ind]],\\n    [r\\'B^0_s \\to D^{*-}_s + l^+ + N\\'              ,\\'531\\' ,\\'-433\\', \\'-\\' , generators[gen_ind]],\\n    [r\\'B^0_s \\to D^{*+}_s + l^- + N\\'              ,\\'-531\\',\\'433\\' , \\'\\'  , generators[gen_ind]],\\n    [r\\'B^+_c \\to B^{*0} + l^+ + N\\'                ,\\'541\\' ,\\'513\\' , \\'-\\' , generators[gen_ind]],\\n    [r\\'B^-_c \\to \\x08ar{B}^{*0} + l^- + N\\'          ,\\'-541\\',\\'-513\\', \\'\\'  , generators[gen_ind]],\\n    [r\\'B^+_c \\to B^{*0}_s+ l^+ + N\\'               ,\\'541\\' ,\\'533\\' , \\'-\\' , generators[gen_ind]],\\n    [r\\'B^-_c \\to \\x08ar{B}^{*0}_s+ l^- + N\\'         ,\\'-541\\',\\'-533\\', \\'\\'  , generators[gen_ind]],\\n    #new modes\\n    [r\\'B^+ \\to \\rho^0 + l^+ + N\\'                  , \\'521\\', \\'113\\', \\'-\\' , generators[gen_ind]],\\n    [r\\'B^- \\to \\rho^0 + l^- + N\\'                  ,\\'-521\\', \\'113\\', \\'\\'  , generators[gen_ind]],\\n    [r\\'B^+_c \\to J/\\\\psi + l^+ + N\\'                , \\'541\\', \\'443\\', \\'-\\' , generators[gen_ind]],\\n    [r\\'B^-_c \\to J/\\\\psi + l^- + N\\'                ,\\'-541\\', \\'443\\', \\'\\'  , generators[gen_ind]],\\n    [r\\'D^0 \\to \\rho^- + l^+ + N\\'                  , \\'421\\',\\'-213\\', \\'-\\' , generators[gen_ind]],\\n    [r\\'\\x08ar{D^0} \\to \\rho^+ + l^- + N\\'            ,\\'-421\\', \\'213\\', \\'\\'  , generators[gen_ind]],\\n    [r\\'D^+ \\to \\rho^0 + l^+ + N\\'                  , \\'411\\', \\'113\\', \\'-\\' , generators[gen_ind]],\\n    [r\\'D^- \\to \\rho^0 + l^- + N\\'                  ,\\'-411\\', \\'113\\', \\'\\'  , generators[gen_ind]],\\n    [r\\'D^- \\to K^{*0} + l^- + N\\'                  ,\\'-411\\', \\'313\\', \\'\\'  , generators[gen_ind]],\\n    [r\\'D^+ \\to \\x08ar{K^{*0}} + l^+ + N\\'            ,\\'-411\\', \\'-313\\', \\'-\\', generators[gen_ind]],\\n    [r\\'D^+_s \\to K^{*0} + l^+ + N\\'                , \\'431\\', \\'313\\', \\'-\\' , generators[gen_ind]],\\n    [r\\'D^-_s \\to \\x08ar{K^{*0}} + l^- + N\\'          ,\\'-431\\',\\'-313\\', \\'-\\' , generators[gen_ind]],\\n    [r\\'D^+_s \\to \\\\phi + l^+ + N\\'                  , \\'431\\', \\'333\\', \\'-\\' , generators[gen_ind]],\\n    [r\\'D^-_s \\to \\\\phi + l^- + N\\'                  ,\\'-431\\', \\'333\\', \\'\\'  , generators[gen_ind]],\\n    [r\\'B^0 \\to \\rho^- + l^+ + N\\'                  , \\'511\\',\\'-213\\', \\'-\\' , generators[gen_ind]],\\n    [r\\'\\x08ar{B^0} \\to \\rho^+ + l^- + N\\'            ,\\'-511\\', \\'213\\', \\'\\'  , generators[gen_ind]],\\n    [r\\'B^0_s \\to K^{*-} + l^+ + N\\'                , \\'531\\',\\'-323\\', \\'-\\' , generators[gen_ind]],\\n    [r\\'\\x08ar{B^0_s} \\to K^{*+} + l^- + N\\'          ,\\'-531\\', \\'323\\', \\'\\'  , generators[gen_ind]],\\n    [r\\'B^+_c \\to D^{*0} + l^+ + N\\'                , \\'541\\', \\'423\\', \\'-\\' , generators[gen_ind]],\\n    [r\\'B^-_c \\to \\x08ar{D^{*0}} + l^- + N\\'          ,\\'-541\\',\\'-423\\', \\'\\'  , generators[gen_ind]],\\n    [r\\'D^- \\to \\\\omega + l^- + N\\'                  ,\\'-411\\', \\'223\\', \\'\\'  , generators[gen_ind]],\\n    [r\\'D^+ \\to \\\\omega + l^+ + N\\'                  , \\'411\\', \\'223\\', \\'-\\' , generators[gen_ind]],\\n    [r\\'B^- \\to \\\\omega + l^- + N\\'                  ,\\'-521\\', \\'223\\', \\'\\'  , generators[gen_ind]],\\n    [r\\'B^+ \\to \\\\omega + l^+ + N\\'                  , \\'521\\', \\'223\\', \\'-\\' , generators[gen_ind]],\\n]\\n\\nfor label, pid_parent, pid_daughter, sign_lep, generator in channels:\\n    if model.masses(pid_parent) >= model.masses(\\'15\\') + model.masses(pid_daughter):\\n        leptons=[\"11\",\"13\",\"15\"]\\n    if model.masses(pid_parent) <= model.masses(\\'15\\') + model.masses(pid_daughter):\\n        leptons=[\"11\",\"13\"]\\n    for pid_lep in [\"11\",\"13\",\"15\"]:\\n        if hnl.vcoupling[pid_lep] <1e-9: continue\\n        label1=\"3body_vector_\" + pid_parent + \"_\" +pid_daughter+ \"_\" + sign_lep+pid_lep\\n        label2=\\'[\\' + \\'\"\\' + label1 + \\'\"\\' + \\', \\' + \\'\"\\' + colors[random.randint(0,length-1)] + \\'\"\\' + \\', \\' + \\'r\"$\\' + label + \\'$\"\\' + \\'],\\'\\n        production_channels.append(label2)\\n        #print(label2)\\n        model.add_production_3bodydecay(\\n            label = label1,\\n            pid0 = pid_parent,\\n            pid1 = pid_daughter,\\n            pid2 = sign_lep+pid_lep,\\n            br = hnl.get_3body_dbr_vector(pid_parent,pid_daughter,sign_lep+pid_lep),\\n            generator = generator,\\n            energy = energy,\\n            nsample = nsteps,\\n            integration = \"dq2dE\",\\n        )\\n        allchannels.append(label1)'"
      ]
     },
     "execution_count": 9,
     "metadata": {},
     "output_type": "execute_result"
    }
   ],
   "source": [
    "'''\n",
    "channels = [\n",
    "    [r'D^0 \\to K^{*-} + l^+ + N'                  ,'421' ,'-323', '-' , generators[gen_ind]],\n",
    "    [r'D^0 \\to K^{*+} + l^- + N'                  ,'-421', '323', ''  , generators[gen_ind]],\n",
    "    [r'B^+ \\to \\bar{D}^*0 + l^+ + N'              ,'521' ,'-423', '-' , generators[gen_ind]],\n",
    "    [r'B^- \\to D^*0 + l^- + N'                    ,'-521','423' , ''  , generators[gen_ind]],\n",
    "    [r'B^0 \\to D^{*-} + l^+ + N'                  ,'511' ,'-413', '-' , generators[gen_ind]],\n",
    "    [r'B^0 \\to D^{*+} + l^- + N'                  ,'-511','413' , ''  , generators[gen_ind]],\n",
    "    [r'B^0_s \\to D^{*-}_s + l^+ + N'              ,'531' ,'-433', '-' , generators[gen_ind]],\n",
    "    [r'B^0_s \\to D^{*+}_s + l^- + N'              ,'-531','433' , ''  , generators[gen_ind]],\n",
    "    [r'B^+_c \\to B^{*0} + l^+ + N'                ,'541' ,'513' , '-' , generators[gen_ind]],\n",
    "    [r'B^-_c \\to \\bar{B}^{*0} + l^- + N'          ,'-541','-513', ''  , generators[gen_ind]],\n",
    "    [r'B^+_c \\to B^{*0}_s+ l^+ + N'               ,'541' ,'533' , '-' , generators[gen_ind]],\n",
    "    [r'B^-_c \\to \\bar{B}^{*0}_s+ l^- + N'         ,'-541','-533', ''  , generators[gen_ind]],\n",
    "    #new modes\n",
    "    [r'B^+ \\to \\rho^0 + l^+ + N'                  , '521', '113', '-' , generators[gen_ind]],\n",
    "    [r'B^- \\to \\rho^0 + l^- + N'                  ,'-521', '113', ''  , generators[gen_ind]],\n",
    "    [r'B^+_c \\to J/\\psi + l^+ + N'                , '541', '443', '-' , generators[gen_ind]],\n",
    "    [r'B^-_c \\to J/\\psi + l^- + N'                ,'-541', '443', ''  , generators[gen_ind]],\n",
    "    [r'D^0 \\to \\rho^- + l^+ + N'                  , '421','-213', '-' , generators[gen_ind]],\n",
    "    [r'\\bar{D^0} \\to \\rho^+ + l^- + N'            ,'-421', '213', ''  , generators[gen_ind]],\n",
    "    [r'D^+ \\to \\rho^0 + l^+ + N'                  , '411', '113', '-' , generators[gen_ind]],\n",
    "    [r'D^- \\to \\rho^0 + l^- + N'                  ,'-411', '113', ''  , generators[gen_ind]],\n",
    "    [r'D^- \\to K^{*0} + l^- + N'                  ,'-411', '313', ''  , generators[gen_ind]],\n",
    "    [r'D^+ \\to \\bar{K^{*0}} + l^+ + N'            ,'-411', '-313', '-', generators[gen_ind]],\n",
    "    [r'D^+_s \\to K^{*0} + l^+ + N'                , '431', '313', '-' , generators[gen_ind]],\n",
    "    [r'D^-_s \\to \\bar{K^{*0}} + l^- + N'          ,'-431','-313', '-' , generators[gen_ind]],\n",
    "    [r'D^+_s \\to \\phi + l^+ + N'                  , '431', '333', '-' , generators[gen_ind]],\n",
    "    [r'D^-_s \\to \\phi + l^- + N'                  ,'-431', '333', ''  , generators[gen_ind]],\n",
    "    [r'B^0 \\to \\rho^- + l^+ + N'                  , '511','-213', '-' , generators[gen_ind]],\n",
    "    [r'\\bar{B^0} \\to \\rho^+ + l^- + N'            ,'-511', '213', ''  , generators[gen_ind]],\n",
    "    [r'B^0_s \\to K^{*-} + l^+ + N'                , '531','-323', '-' , generators[gen_ind]],\n",
    "    [r'\\bar{B^0_s} \\to K^{*+} + l^- + N'          ,'-531', '323', ''  , generators[gen_ind]],\n",
    "    [r'B^+_c \\to D^{*0} + l^+ + N'                , '541', '423', '-' , generators[gen_ind]],\n",
    "    [r'B^-_c \\to \\bar{D^{*0}} + l^- + N'          ,'-541','-423', ''  , generators[gen_ind]],\n",
    "    [r'D^- \\to \\omega + l^- + N'                  ,'-411', '223', ''  , generators[gen_ind]],\n",
    "    [r'D^+ \\to \\omega + l^+ + N'                  , '411', '223', '-' , generators[gen_ind]],\n",
    "    [r'B^- \\to \\omega + l^- + N'                  ,'-521', '223', ''  , generators[gen_ind]],\n",
    "    [r'B^+ \\to \\omega + l^+ + N'                  , '521', '223', '-' , generators[gen_ind]],\n",
    "]\n",
    "\n",
    "for label, pid_parent, pid_daughter, sign_lep, generator in channels:\n",
    "    if model.masses(pid_parent) >= model.masses('15') + model.masses(pid_daughter):\n",
    "        leptons=[\"11\",\"13\",\"15\"]\n",
    "    if model.masses(pid_parent) <= model.masses('15') + model.masses(pid_daughter):\n",
    "        leptons=[\"11\",\"13\"]\n",
    "    for pid_lep in [\"11\",\"13\",\"15\"]:\n",
    "        if hnl.vcoupling[pid_lep] <1e-9: continue\n",
    "        label1=\"3body_vector_\" + pid_parent + \"_\" +pid_daughter+ \"_\" + sign_lep+pid_lep\n",
    "        label2='[' + '\"' + label1 + '\"' + ', ' + '\"' + colors[random.randint(0,length-1)] + '\"' + ', ' + 'r\"$' + label + '$\"' + '],'\n",
    "        production_channels.append(label2)\n",
    "        #print(label2)\n",
    "        model.add_production_3bodydecay(\n",
    "            label = label1,\n",
    "            pid0 = pid_parent,\n",
    "            pid1 = pid_daughter,\n",
    "            pid2 = sign_lep+pid_lep,\n",
    "            br = hnl.get_3body_dbr_vector(pid_parent,pid_daughter,sign_lep+pid_lep),\n",
    "            generator = generator,\n",
    "            energy = energy,\n",
    "            nsample = nsteps,\n",
    "            integration = \"dq2dE\",\n",
    "        )\n",
    "        allchannels.append(label1)'''"
   ]
  },
  {
   "cell_type": "markdown",
   "metadata": {},
   "source": [
    "Lastly, HNL's can be produced through two types of $\\tau$ lepton three body decays: $\\tau \\to \\nu_{\\tau} l N$ and $\\tau \\to \\bar{\\nu}_l l N$"
   ]
  },
  {
   "cell_type": "code",
   "execution_count": 10,
   "metadata": {},
   "outputs": [
    {
     "data": {
      "text/plain": [
       "'channels = [\\n[r\\'\\tau^- \\to l^- + \\nu_{\\tau} + N\\',\\'15\\',\\'16\\',\\'\\',\"Pythia8\"],\\n[r\\'\\tau^+ \\to l^+ + \\nu_{\\tau} + N\\',\\'-15\\',\\'-16\\',\\'-\\',\"Pythia8\"]\\n]\\n\\n\\nfor label, pid_parent, pid_nu, sign_lep, generator in channels:\\n    for pid_lep in [\"11\",\"13\"]:\\n        if hnl.vcoupling[pid_lep] <1e-9: continue\\n        label1=\"3body_tau_\" + pid_parent + \"_\" + sign_lep+pid_lep + \"_\" + pid_nu\\n        label2=\\'[\\' + \\'\"\\' + label1 + \\'\"\\' + \\', \\' + \\'\"\\' + colors[random.randint(0,length-1)] + \\'\"\\' + \\', \\' + \\'r\"$\\' + label + \\'$\"\\' + \\'],\\'\\n        production_channels.append(label2)\\n        model.add_production_3bodydecay(\\n            label = label1,\\n            pid0 = pid_parent,\\n            pid1 = sign_lep+pid_lep,\\n            pid2 = pid_nu,\\n            br = hnl.get_3body_dbr_tau(pid_parent,sign_lep+pid_lep,pid_nu),\\n            generator = generator,\\n            energy = energy,\\n            nsample = nsteps,\\n            integration = \"dE\",\\n        )\\n        allchannels.append(label1)\\n\\n\\nchannels=[\\n[r\\'\\tau^- \\to l^- + \\x08ar{\\nu}_l + N\\',\\'15\\',\\'\\',\"Pythia8\"],\\n[r\\'\\tau^+ \\to l^+ + \\x08ar{\\nu}_l + N\\',\\'-15\\',\\'-\\',\"Pythia8\"]\\n]\\n\\npid_tau=\"15\"\\nfor label, pid_parent, sign_lep, generator in channels:\\n    for pid_lep in [\"11\",\"13\"]:\\n        if pid_lep==\"11\":\\n            label=r\\'\\tau^- \\to e^- + \\x08ar{\\nu}_e + N\\'\\n            pid_nu=\"12\"\\n        if pid_lep==\"13\":\\n            label=r\\'\\tau^- \\to \\\\mu^- + \\x08ar{\\nu}_{\\\\mu} + N\\'\\n            pid_nu=\"14\"\\n        if sign_lep + pid_lep==\"-11\":\\n            pid_nu=\"-12\"\\n        if sign_lep + pid_lep==\"-13\":\\n            pid_nu=\"-14\"\\n        if hnl.vcoupling[pid_tau] <1e-9: continue\\n        label1=\"3body_tau_\" + pid_parent + \"_\" + sign_lep+pid_lep + \"_\" + pid_nu\\n        label2=\\'[\\' + \\'\"\\' + label1 + \\'\"\\' + \\', \\' + \\'\"\\' + colors[random.randint(0,length-1)] + \\'\"\\' + \\', \\' + \\'r\"$\\' + label + \\'$\"\\' + \\'],\\'\\n        production_channels.append(label2)\\n        model.add_production_3bodydecay(\\n            label = label1,\\n            pid0 = pid_parent,\\n            pid1 = sign_lep+pid_lep,\\n            pid2 = pid_nu,\\n            br = hnl.get_3body_dbr_tau(pid_parent,sign_lep+pid_lep,pid_nu),\\n            generator = generator,\\n            energy = energy,\\n            nsample = nsteps,\\n            integration = \"dE\",\\n        )\\n        allchannels.append(label1)'"
      ]
     },
     "execution_count": 10,
     "metadata": {},
     "output_type": "execute_result"
    }
   ],
   "source": [
    "'''channels = [\n",
    "[r'\\tau^- \\to l^- + \\nu_{\\tau} + N','15','16','',\"Pythia8\"],\n",
    "[r'\\tau^+ \\to l^+ + \\nu_{\\tau} + N','-15','-16','-',\"Pythia8\"]\n",
    "]\n",
    "\n",
    "\n",
    "for label, pid_parent, pid_nu, sign_lep, generator in channels:\n",
    "    for pid_lep in [\"11\",\"13\"]:\n",
    "        if hnl.vcoupling[pid_lep] <1e-9: continue\n",
    "        label1=\"3body_tau_\" + pid_parent + \"_\" + sign_lep+pid_lep + \"_\" + pid_nu\n",
    "        label2='[' + '\"' + label1 + '\"' + ', ' + '\"' + colors[random.randint(0,length-1)] + '\"' + ', ' + 'r\"$' + label + '$\"' + '],'\n",
    "        production_channels.append(label2)\n",
    "        model.add_production_3bodydecay(\n",
    "            label = label1,\n",
    "            pid0 = pid_parent,\n",
    "            pid1 = sign_lep+pid_lep,\n",
    "            pid2 = pid_nu,\n",
    "            br = hnl.get_3body_dbr_tau(pid_parent,sign_lep+pid_lep,pid_nu),\n",
    "            generator = generator,\n",
    "            energy = energy,\n",
    "            nsample = nsteps,\n",
    "            integration = \"dE\",\n",
    "        )\n",
    "        allchannels.append(label1)\n",
    "\n",
    "\n",
    "channels=[\n",
    "[r'\\tau^- \\to l^- + \\bar{\\nu}_l + N','15','',\"Pythia8\"],\n",
    "[r'\\tau^+ \\to l^+ + \\bar{\\nu}_l + N','-15','-',\"Pythia8\"]\n",
    "]\n",
    "\n",
    "pid_tau=\"15\"\n",
    "for label, pid_parent, sign_lep, generator in channels:\n",
    "    for pid_lep in [\"11\",\"13\"]:\n",
    "        if pid_lep==\"11\":\n",
    "            label=r'\\tau^- \\to e^- + \\bar{\\nu}_e + N'\n",
    "            pid_nu=\"12\"\n",
    "        if pid_lep==\"13\":\n",
    "            label=r'\\tau^- \\to \\mu^- + \\bar{\\nu}_{\\mu} + N'\n",
    "            pid_nu=\"14\"\n",
    "        if sign_lep + pid_lep==\"-11\":\n",
    "            pid_nu=\"-12\"\n",
    "        if sign_lep + pid_lep==\"-13\":\n",
    "            pid_nu=\"-14\"\n",
    "        if hnl.vcoupling[pid_tau] <1e-9: continue\n",
    "        label1=\"3body_tau_\" + pid_parent + \"_\" + sign_lep+pid_lep + \"_\" + pid_nu\n",
    "        label2='[' + '\"' + label1 + '\"' + ', ' + '\"' + colors[random.randint(0,length-1)] + '\"' + ', ' + 'r\"$' + label + '$\"' + '],'\n",
    "        production_channels.append(label2)\n",
    "        model.add_production_3bodydecay(\n",
    "            label = label1,\n",
    "            pid0 = pid_parent,\n",
    "            pid1 = sign_lep+pid_lep,\n",
    "            pid2 = pid_nu,\n",
    "            br = hnl.get_3body_dbr_tau(pid_parent,sign_lep+pid_lep,pid_nu),\n",
    "            generator = generator,\n",
    "            energy = energy,\n",
    "            nsample = nsteps,\n",
    "            integration = \"dE\",\n",
    "        )\n",
    "        allchannels.append(label1)'''"
   ]
  },
  {
   "cell_type": "markdown",
   "metadata": {},
   "source": [
    "**Decay:** HNLs can decay into purely leptonic finalstates, $\\nu\\, l_\\alpha^+ l_\\beta^-$ or $\\nu\\nu\\nu$, and Hadronic finalstates, $\\nu H^0 (q\\overline{q})$ or $l^\\pm H^\\mp (q\\overline{q}')$,   with a decay width proportional to $\\epsilon^2$. Since we are considering Majorana HNLs, LNV decays are included. We implemented the decay formulas given in [1905.00284](https://arxiv.org/abs/1905.00284). The function `hnl.get_br_and_ctau()` is used to generate the decay branching fractions and lifetimes and stores them in the `Decay Data` folder. "
   ]
  },
  {
   "cell_type": "code",
   "execution_count": 11,
   "metadata": {},
   "outputs": [
    {
     "name": "stderr",
     "output_type": "stream",
     "text": [
      "/data/homezvol3/ahewitt1/Git_felix_new/FORESEE/Models/HNL/HNL_Decay.py:115: RuntimeWarning: invalid value encountered in sqrt\n",
      "  integrand = lambda s: (1/s)*(1 + x - s)*np.sqrt(Lambda(s,y,z))*np.sqrt(Lambda(1,s,x))\n",
      "/data/homezvol3/ahewitt1/Git_felix_new/FORESEE/Models/HNL/HNL_Decay.py:117: IntegrationWarning: The occurrence of roundoff error is detected, which prevents \n",
      "  the requested tolerance from being achieved.  The error may be \n",
      "  underestimated.\n",
      "  integral,error = integrate.quad(integrand, (np.sqrt(y) + np.sqrt(z))**2, (1 - np.sqrt(x))**2)\n",
      "/data/homezvol3/ahewitt1/Git_felix_new/FORESEE/Models/HNL/HNL_Decay.py:105: RuntimeWarning: invalid value encountered in sqrt\n",
      "  integrand = lambda s: (1/s)*(s - x - y)*(1 + z - s)*np.sqrt(Lambda(s,x,y))*np.sqrt(Lambda(1,s,z))\n",
      "/data/homezvol3/ahewitt1/Git_felix_new/FORESEE/Models/HNL/HNL_Decay.py:107: IntegrationWarning: The occurrence of roundoff error is detected, which prevents \n",
      "  the requested tolerance from being achieved.  The error may be \n",
      "  underestimated.\n",
      "  integral,error = integrate.quad(integrand, (np.sqrt(x) + np.sqrt(y))**2, (1 - np.sqrt(z))**2)\n"
     ]
    },
    {
     "name": "stderr",
     "output_type": "stream",
     "text": [
      "/data/homezvol3/ahewitt1/Git_felix_new/FORESEE/Models/HNL/HNL_Decay.py:99: RuntimeWarning: invalid value encountered in sqrt\n",
      "  return np.sqrt(Lambda(1,x,y)) * ((1+ x - y)*(1 + x + 2*y) - 4*x)\n"
     ]
    },
    {
     "data": {
      "text/plain": [
       "{('nu', 'e', 'anti_e'): ['20', '11', '-11'],\n",
       " ('nu', 'mu', 'anti_mu'): ['20', '13', '-13'],\n",
       " ('nu', 'tau', 'anti_tau'): ['20', '15', '-15'],\n",
       " ('e', 'anti_tau', 'nu'): ['11', '-15', '20'],\n",
       " ('tau', 'anti_e', 'nu'): ['15', '-11', '20'],\n",
       " ('mu', 'anti_tau', 'nu'): ['13', '-15', '20'],\n",
       " ('tau', 'anti_mu', 'nu'): ['15', '-13', '20'],\n",
       " ('nu', 'nu', 'nu'): ['20', '20', '20'],\n",
       " ('nu', 'pi0'): ['20', '111'],\n",
       " ('nu', 'eta'): ['20', '221'],\n",
       " ('tau', 'pi+'): ['15', '211'],\n",
       " ('anti_tau', 'anti_pi+'): ['-15', '-211'],\n",
       " ('tau', 'K+'): ['15', '321'],\n",
       " ('anti_tau', 'anti_K+'): ['-15', '-321'],\n",
       " ('nu', 'rho0'): ['20', '113'],\n",
       " ('nu', 'omega'): ['20', '223'],\n",
       " ('tau', 'rho+'): ['15', '213'],\n",
       " ('anti_tau', 'anti_rho+'): ['-15', '-213'],\n",
       " ('tau', 'K+*'): ['15', '323'],\n",
       " ('anti_tau', 'anti_K+*'): ['-15', '-323'],\n",
       " ('tau', 'u', 'anti_d'): ['15', '2', '-1'],\n",
       " ('anti_tau', 'anti_u', 'd'): ['-15', '-2', '1'],\n",
       " ('tau', 'u', 'anti_s'): ['15', '2', '-3'],\n",
       " ('anti_tau', 'anti_u', 's'): ['-15', '-2', '3'],\n",
       " ('tau', 'u', 'anti_b'): ['15', '2', '-5'],\n",
       " ('anti_tau', 'anti_u', 'b'): ['-15', '-2', '5'],\n",
       " ('tau', 'c', 'anti_d'): ['15', '4', '-1'],\n",
       " ('anti_tau', 'anti_c', 'd'): ['-15', '-4', '1'],\n",
       " ('tau', 'c', 'anti_s'): ['15', '4', '-3'],\n",
       " ('anti_tau', 'anti_c', 's'): ['-15', '-4', '3'],\n",
       " ('tau', 'c', 'anti_b'): ['15', '4', '-5'],\n",
       " ('anti_tau', 'anti_c', 'b'): ['-15', '-4', '5'],\n",
       " ('tau', 't', 'anti_d'): ['15', '6', '-1'],\n",
       " ('anti_tau', 'anti_t', 'd'): ['-15', '-6', '1'],\n",
       " ('tau', 't', 'anti_s'): ['15', '6', '-3'],\n",
       " ('anti_tau', 'anti_t', 's'): ['-15', '-6', '3'],\n",
       " ('tau', 't', 'anti_b'): ['15', '6', '-5'],\n",
       " ('anti_tau', 'anti_t', 'b'): ['-15', '-6', '5'],\n",
       " ('nu', 'u', 'anti_u'): ['20', '2', '-2'],\n",
       " ('nu', 'c', 'anti_c'): ['20', '4', '-4'],\n",
       " ('nu', 't', 'anti_t'): ['20', '6', '-6'],\n",
       " ('nu', 'd', 'anti_d'): ['20', '1', '-1'],\n",
       " ('nu', 's', 'anti_s'): ['20', '3', '-3'],\n",
       " ('nu', 'b', 'anti_b'): ['20', '5', '-5']}"
      ]
     },
     "execution_count": 11,
     "metadata": {},
     "output_type": "execute_result"
    }
   ],
   "source": [
    "hnl.get_br_and_ctau(mpts=masses)\n",
    "\n",
    "model.set_ctau_1d(\n",
    "    filename=f\"Decay Data/{tuple(hnl.vcoupling.values())}/ctau.txt\",\n",
    "    coupling_ref=1 \n",
    ")\n",
    "\n",
    "modes,finalstates,filenames = hnl.set_brs()\n",
    "\n",
    "model.set_br_1d(\n",
    "    modes=modes,\n",
    "    finalstates=finalstates,\n",
    "    filenames=filenames\n",
    ")\n",
    "\n",
    "model.br_finalstate"
   ]
  },
  {
   "cell_type": "markdown",
   "metadata": {},
   "source": [
    "We can now initiate FORESEE with the model that we just created. "
   ]
  },
  {
   "cell_type": "code",
   "execution_count": 12,
   "metadata": {},
   "outputs": [],
   "source": [
    "foresee = Foresee()\n",
    "foresee.set_model(model=model)"
   ]
  },
  {
   "cell_type": "markdown",
   "metadata": {},
   "source": [
    "We can see what the branching fractions look like for each of the production channels."
   ]
  },
  {
   "cell_type": "code",
   "execution_count": 13,
   "metadata": {},
   "outputs": [
    {
     "name": "stderr",
     "output_type": "stream",
     "text": [
      "../../src/foresee.py:1563: UserWarning: Attempted to set non-positive left xlim on a log-scaled axis.\n",
      "Invalid limit will be ignored.\n",
      "  ax.set_xlim(xlims[0],xlims[1])\n",
      "../../src/foresee.py:1564: UserWarning: Attempted to set non-positive bottom ylim on a log-scaled axis.\n",
      "Invalid limit will be ignored.\n",
      "  ax.set_ylim(ylims[0],ylims[1])\n"
     ]
    },
    {
     "data": {
      "text/plain": [
       "<module 'matplotlib.pyplot' from '/data/homezvol3/ahewitt1/Git_felix_new/.venv/lib64/python3.6/site-packages/matplotlib/pyplot.py'>"
      ]
     },
     "execution_count": 13,
     "metadata": {},
     "output_type": "execute_result"
    },
    {
     "data": {
      "image/png": "[encoded data removed]",
      "text/plain": [
       "<Figure size 504x360 with 1 Axes>"
      ]
     },
     "metadata": {
      "needs_background": "light"
     },
     "output_type": "display_data"
    }
   ],
   "source": [
    "production_channels_fin=[]\n",
    "for n in range(len(production_channels)):\n",
    "    production_channels_fin.append(eval(production_channels[n])[0])\n",
    "foresee.plot_production_branchings(\n",
    "        masses = masses, \n",
    "        productions = production_channels_fin,\n",
    "        xlims=[0,10],ylims=[0,2],\n",
    "        xlabel=r\"$m_N$ (GeV)\", \n",
    "        ylabel=r\"Br$\",\n",
    "        figsize=(7,5), fs_label=14, title=None, legendloc=(1.02,1.02), dolegend=True, ncol=1, xlog=True, ylog=True,\n",
    "        nsample=nsteps)"
   ]
  },
  {
   "cell_type": "markdown",
   "metadata": {},
   "source": [
    "## 2. Event Generation"
   ]
  },
  {
   "cell_type": "markdown",
   "metadata": {},
   "source": [
    "In the following, we want to study one specific benchmark point with $m_{N}=1$ GeV and $\\epsilon=3\\cdot 10^{-5}$ and export events as a HEPMC file. "
   ]
  },
  {
   "cell_type": "code",
   "execution_count": 14,
   "metadata": {},
   "outputs": [],
   "source": [
    "mass, coupling, = 1.0, 1e-3"
   ]
  },
  {
   "cell_type": "markdown",
   "metadata": {},
   "source": [
    "First, we will produce the corresponding flux for this mass and a reference coupling $\\epsilon_{ref}=1$. "
   ]
  },
  {
   "cell_type": "code",
   "execution_count": 15,
   "metadata": {},
   "outputs": [
    {
     "name": "stdout",
     "output_type": "stream",
     "text": [
      "save data to file: ./model/LLP_spectra/14TeV_2body_521_-15_NLO-P8_m_1.0.npy\n",
      "save data to file: ./model/LLP_spectra/14TeV_2body_-521_15_NLO-P8_m_1.0.npy\n",
      "save data to file: ./model/LLP_spectra/14TeV_2body_541_-15_NLO-P8_m_1.0.npy\n",
      "save data to file: ./model/LLP_spectra/14TeV_2body_-541_15_NLO-P8_m_1.0.npy\n"
     ]
    },
    {
     "data": {
      "image/png": "[encoded data removed]",
      "text/plain": [
       "<Figure size 504x396 with 2 Axes>"
      ]
     },
     "metadata": {
      "needs_background": "light"
     },
     "output_type": "display_data"
    }
   ],
   "source": [
    "plot=foresee.get_llp_spectrum(mass=mass, coupling=1.0, do_plot=True, save_file=True)\n",
    "plot.show()"
   ]
  },
  {
   "cell_type": "markdown",
   "metadata": {},
   "source": [
    "Next, let us define the configuration of the detector (in terms of position, size and luminosity). Here we choose FASER during LHC Run 3. "
   ]
  },
  {
   "cell_type": "code",
   "execution_count": 16,
   "metadata": {},
   "outputs": [],
   "source": [
    "foresee.set_detector(\n",
    "    distance=480, \n",
    "    selection=\"np.sqrt(x.x**2 + x.y**2)<.1\", \n",
    "    length=1.5, \n",
    "    luminosity=250, \n",
    ")"
   ]
  },
  {
   "cell_type": "markdown",
   "metadata": {},
   "source": [
    "For our benchmark point, let us now look at how many particle decay inside the decay volume. We also export 1000 unweighted events as a HEPMC file. "
   ]
  },
  {
   "cell_type": "code",
   "execution_count": 17,
   "metadata": {},
   "outputs": [
    {
     "name": "stdout",
     "output_type": "stream",
     "text": [
      "2body_521_-15\n",
      "Expected number of events for B to l N: 0.0\n"
     ]
    }
   ],
   "source": [
    "setupnames = [r'B to l N']\n",
    "mode = list(iter(model.production))[4]\n",
    "generator = model.production[mode]['production']\n",
    "modes = {mode: generator}\n",
    "print(mode)\n",
    "_, _, _, weighted_raw_data, weights = foresee.get_events(mass=mass, energy=energy, couplings = [coupling], nsample=nsteps, modes=modes)\n",
    "\n",
    "momenta, weights, _ = foresee.write_events(\n",
    "    mass = mass, \n",
    "    coupling = coupling, \n",
    "    energy = energy, \n",
    "    numberevent = 1000,\n",
    "    filename = \"model/events/test.hepmc\", \n",
    "    return_data = True,\n",
    "    weightnames=setupnames,\n",
    "    modes=modes,\n",
    ")\n",
    "\n",
    "for isetup, setup in enumerate(setupnames):\n",
    "    print(\"Expected number of events for \"+setup+\":\", round(sum(weights[:,isetup]),3))"
   ]
  },
  {
   "cell_type": "markdown",
   "metadata": {},
   "source": [
    "Let us plot the resulting energy distribution"
   ]
  },
  {
   "cell_type": "code",
   "execution_count": 18,
   "metadata": {},
   "outputs": [
    {
     "data": {
      "image/png": "[encoded data removed]",
      "text/plain": [
       "<Figure size 504x360 with 1 Axes>"
      ]
     },
     "metadata": {
      "needs_background": "light"
     },
     "output_type": "display_data"
    }
   ],
   "source": [
    "fig = plt.figure(figsize=(7,5))\n",
    "ax = plt.subplot(1,1,1)\n",
    "energies = [p.e for p in momenta], \n",
    "for isetup, setup in enumerate(setupnames):\n",
    "    ax.hist(energies, weights=weights[:,isetup], bins=np.logspace(2,4, 20+1), histtype='step', label=setup) \n",
    "ax.set_xscale(\"log\")\n",
    "ax.set_xlim(1e2,1e4) \n",
    "ax.set_xlabel(\"E [GeV]\") \n",
    "ax.set_ylabel(\"Number of Events per Bin\") \n",
    "ax.legend(frameon=False, labelspacing=0, fontsize=14, loc='upper right')\n",
    "plt.show()"
   ]
  },
  {
   "cell_type": "markdown",
   "metadata": {},
   "source": [
    "## 3. Sensitivity Reach"
   ]
  },
  {
   "cell_type": "markdown",
   "metadata": {},
   "source": [
    "In the following, we will obtain the projected sensitivity for the LLP model. For this, we first define a grid of couplings and masses, and then produce the corresponding fluxes. "
   ]
  },
  {
   "cell_type": "code",
   "execution_count": 19,
   "metadata": {},
   "outputs": [
    {
     "name": "stdout",
     "output_type": "stream",
     "text": [
      "save data to file: ./model/LLP_spectra/14TeV_2body_431_-15_NLO-P8_m_0.1.npy\n",
      "save data to file: ./model/LLP_spectra/14TeV_2body_-431_15_NLO-P8_m_0.1.npy\n",
      "save data to file: ./model/LLP_spectra/14TeV_2body_521_-15_NLO-P8_m_0.1.npy\n",
      "save data to file: ./model/LLP_spectra/14TeV_2body_-521_15_NLO-P8_m_0.1.npy\n",
      "save data to file: ./model/LLP_spectra/14TeV_2body_541_-15_NLO-P8_m_0.1.npy\n",
      "save data to file: ./model/LLP_spectra/14TeV_2body_-541_15_NLO-P8_m_0.1.npy\n",
      "save data to file: ./model/LLP_spectra/14TeV_2body_431_-15_NLO-P8_m_0.15849.npy\n",
      "save data to file: ./model/LLP_spectra/14TeV_2body_-431_15_NLO-P8_m_0.15849.npy\n",
      "save data to file: ./model/LLP_spectra/14TeV_2body_521_-15_NLO-P8_m_0.15849.npy\n",
      "save data to file: ./model/LLP_spectra/14TeV_2body_-521_15_NLO-P8_m_0.15849.npy\n",
      "save data to file: ./model/LLP_spectra/14TeV_2body_541_-15_NLO-P8_m_0.15849.npy\n",
      "save data to file: ./model/LLP_spectra/14TeV_2body_-541_15_NLO-P8_m_0.15849.npy\n",
      "save data to file: ./model/LLP_spectra/14TeV_2body_521_-15_NLO-P8_m_0.25119.npy\n",
      "save data to file: ./model/LLP_spectra/14TeV_2body_-521_15_NLO-P8_m_0.25119.npy\n",
      "save data to file: ./model/LLP_spectra/14TeV_2body_541_-15_NLO-P8_m_0.25119.npy\n",
      "save data to file: ./model/LLP_spectra/14TeV_2body_-541_15_NLO-P8_m_0.25119.npy\n",
      "save data to file: ./model/LLP_spectra/14TeV_2body_521_-15_NLO-P8_m_0.39811.npy\n",
      "save data to file: ./model/LLP_spectra/14TeV_2body_-521_15_NLO-P8_m_0.39811.npy\n",
      "save data to file: ./model/LLP_spectra/14TeV_2body_541_-15_NLO-P8_m_0.39811.npy\n",
      "save data to file: ./model/LLP_spectra/14TeV_2body_-541_15_NLO-P8_m_0.39811.npy\n",
      "save data to file: ./model/LLP_spectra/14TeV_2body_521_-15_NLO-P8_m_0.63096.npy\n",
      "save data to file: ./model/LLP_spectra/14TeV_2body_-521_15_NLO-P8_m_0.63096.npy\n",
      "save data to file: ./model/LLP_spectra/14TeV_2body_541_-15_NLO-P8_m_0.63096.npy\n",
      "save data to file: ./model/LLP_spectra/14TeV_2body_-541_15_NLO-P8_m_0.63096.npy\n",
      "save data to file: ./model/LLP_spectra/14TeV_2body_521_-15_NLO-P8_m_1.0.npy\n",
      "save data to file: ./model/LLP_spectra/14TeV_2body_-521_15_NLO-P8_m_1.0.npy\n",
      "save data to file: ./model/LLP_spectra/14TeV_2body_541_-15_NLO-P8_m_1.0.npy\n",
      "save data to file: ./model/LLP_spectra/14TeV_2body_-541_15_NLO-P8_m_1.0.npy\n",
      "save data to file: ./model/LLP_spectra/14TeV_2body_521_-15_NLO-P8_m_1.58489.npy\n",
      "save data to file: ./model/LLP_spectra/14TeV_2body_-521_15_NLO-P8_m_1.58489.npy\n",
      "save data to file: ./model/LLP_spectra/14TeV_2body_541_-15_NLO-P8_m_1.58489.npy\n",
      "save data to file: ./model/LLP_spectra/14TeV_2body_-541_15_NLO-P8_m_1.58489.npy\n",
      "save data to file: ./model/LLP_spectra/14TeV_2body_521_-15_NLO-P8_m_2.51189.npy\n",
      "save data to file: ./model/LLP_spectra/14TeV_2body_-521_15_NLO-P8_m_2.51189.npy\n",
      "save data to file: ./model/LLP_spectra/14TeV_2body_541_-15_NLO-P8_m_2.51189.npy\n",
      "save data to file: ./model/LLP_spectra/14TeV_2body_-541_15_NLO-P8_m_2.51189.npy\n",
      "save data to file: ./model/LLP_spectra/14TeV_2body_541_-15_NLO-P8_m_3.98107.npy\n",
      "save data to file: ./model/LLP_spectra/14TeV_2body_-541_15_NLO-P8_m_3.98107.npy\n"
     ]
    }
   ],
   "source": [
    "couplings = np.logspace(-5,0,50+1)\n",
    "for mass in masses: foresee.get_llp_spectrum(mass=mass,coupling=1)"
   ]
  },
  {
   "cell_type": "markdown",
   "metadata": {},
   "source": [
    "We can now plot the `production rate vs mass` using the `foresee.plot_production()` function."
   ]
  },
  {
   "cell_type": "code",
   "execution_count": 20,
   "metadata": {},
   "outputs": [
    {
     "data": {
      "text/plain": [
       "<module 'matplotlib.pyplot' from '/data/homezvol3/ahewitt1/Git_felix_new/.venv/lib64/python3.6/site-packages/matplotlib/pyplot.py'>"
      ]
     },
     "execution_count": 20,
     "metadata": {},
     "output_type": "execute_result"
    },
    {
     "data": {
      "image/png": "[encoded data removed]",
      "text/plain": [
       "<Figure size 504x360 with 1 Axes>"
      ]
     },
     "metadata": {
      "needs_background": "light"
     },
     "output_type": "display_data"
    }
   ],
   "source": [
    "productions = [\n",
    "    {\"channels\": [\"2body_411_-11\"] , \"color\": \"red\"    , \"label\": r\"$D^+ \\to e^+ N$\"  , \"generators\": [generators[gen_ind]]  },\n",
    "    {\"channels\": [\"2body_431_-11\"] , \"color\": \"blue\"   , \"label\": r\"$D_s^+ \\to e^+ N$\", \"generators\": [generators[gen_ind]]  },\n",
    "    {\"channels\": [\"2body_521_-11\"] , \"color\": \"green\"  , \"label\": r\"$B^+ \\to e^+ N$\"  , \"generators\": [generators[gen_ind]]  },\n",
    "    {\"channels\": [\"2body_541_-11\"] , \"color\": \"purple\" , \"label\": r\"$B_c^+ \\to e^+ N$\", \"generators\": [generators[gen_ind]]  },\n",
    "    ]\n",
    "\n",
    "foresee.plot_production(\n",
    "        masses=masses, \n",
    "        productions = productions, \n",
    "        condition=\"True\", \n",
    "        energy=energy,\n",
    "        xlims=[0.1,10],\n",
    "        ylims=[1e2,1e9],\n",
    "        xlabel=r\"$m_N (GeV)$\", \n",
    "        ylabel=r\"$\\sigma (pb)$\",\n",
    "        figsize=(7,5), \n",
    "        fs_label=14, \n",
    "        title=None, \n",
    "        legendloc=None, \n",
    "        dolegend=True, \n",
    "        ncol=1,\n",
    "    )"
   ]
  },
  {
   "cell_type": "markdown",
   "metadata": {},
   "source": [
    "Let us now scan over various masses and couplings, and record the resulting number of events. Here we are iterating over various detector configurations: FASER Run 3, FASER HL-LHC, and FASER2 HL-LHC. "
   ]
  },
  {
   "cell_type": "code",
   "execution_count": 21,
   "metadata": {},
   "outputs": [],
   "source": [
    "visible_modes = [mode for mode in list(model.br_finalstate.keys()) if mode != ('nu', 'nu', 'nu')]\n",
    "\n",
    "detectors = [\n",
    "    [\"RUN3_FASER\", 480, \"np.sqrt(x.x**2 + x.y**2)< .1\", 1.5, 250 ,  visible_modes],\n",
    "    [f\"HL_FASER\", 480 , \"np.sqrt(x.x**2 + x.y**2)< .1\", 1.5, 3000,  visible_modes],\n",
    "    [f\"HL_FASER2\", 620, \"-1.5<x.x<1.5 and -.5<x.y<.5\" , 10 , 3000,  visible_modes],\n",
    "]\n",
    "\n",
    "for detector in detectors: \n",
    "    \n",
    "    label, distance, selection, length, luminosity, channels  = detector\n",
    "    foresee.set_detector(distance=distance, selection=selection, length=length, luminosity=luminosity, channels=channels)\n",
    "\n",
    "    list_nevents = []\n",
    "    for mass in masses:\n",
    "        couplings, _, nevents, _, _  = foresee.get_events(mass=mass, energy=energy, couplings = couplings)\n",
    "        list_nevents.append(nevents.T[0])  \n",
    "\n",
    "    configuration='default'\n",
    "    result = np.array([masses,couplings,list_nevents], dtype='object')\n",
    "    np.save(\"model/results/\"+energy+\"TeV_\"+configuration+\"_\"+label+\".npy\",result)\n",
    "    \n",
    "    \n"
   ]
  },
  {
   "cell_type": "markdown",
   "metadata": {},
   "source": [
    "We can now plot the results. For this, we first specify all detector setups for which we want to show result (filename in model/results directory, label, color, linestyle, opacity alpha for filled contours, required number of events)."
   ]
  },
  {
   "cell_type": "code",
   "execution_count": 22,
   "metadata": {},
   "outputs": [],
   "source": [
    "setups = [ \n",
    "    [f\"{energy}TeV_default_RUN3_FASER.npy\",  r\"FASER (Run 3)\"      , \"orange\"   ,  \"solid\"  , 0., 3],\n",
    "    [f\"{energy}TeV_default_HL_FASER.npy\"  ,  r\"FASER (HL-LHC)\"     , \"blue\"     ,  \"solid\"  , 0., 3],\n",
    "    [f\"{energy}TeV_default_HL_FASER2.npy\" ,  r\"FASER2 (HL-LHC)\"    , \"green\"    ,  \"solid\"  , 0., 3]\n",
    "]"
   ]
  },
  {
   "cell_type": "markdown",
   "metadata": {},
   "source": [
    "Then we specify all the existing bounds (filename in model/bounds directory, color, label, label position x, label position y, label rotation)"
   ]
  },
  {
   "cell_type": "code",
   "execution_count": 23,
   "metadata": {},
   "outputs": [],
   "source": [
    "bounds = [\n",
    "    ['bounds_001/bounds_delphi_short.txt', 'Delphi \\n (short)'       , 6.350, 0.00222  ,0  ],\n",
    "    ['bounds_001/bounds_cosmo.txt'       , 'BBN'                     , 0.300, 4.855e-05,-40],\n",
    "    ['bounds_001/bounds_bebc_barouki.txt', 'BEBC \\n (Barouki et al.)', 0.523, 0.000402,-30 ],\n",
    "    ['bounds_001/bounds_charm_2021.txt'  , 'CHARM \\n (2021)'         , 0.555, 0.00176 , -30],\n",
    "    ['bounds_001/bounds_delphi_long.txt' , 'Delphi \\n (long)'        , 2.162, 0.00236 ,-30 ],\n",
    "    ['bounds_001/bounds_babar_2022.txt'  , 'BaBar'                   , 0.857, 0.00377 ,-60 ],\n",
    "    ]"
   ]
  },
  {
   "cell_type": "markdown",
   "metadata": {},
   "source": [
    "We also want to show the branching fractions for some of the channels (name of file in model/br directory, color, line style, label, x-position, y-position)."
   ]
  },
  {
   "cell_type": "code",
   "execution_count": 24,
   "metadata": {},
   "outputs": [],
   "source": [
    "branchings = [\n",
    "    [('nu', 'e', 'anti_e')   , \"red\"           , \"solid\" , r\"$\\nu e^+ e^-$\"      , 5.0,  0.08],\n",
    "    [('nu', 'mu', 'anti_mu') , \"orange\"        , \"solid\" , r\"$\\nu \\mu^+ \\mu^-$\"  , 1.7,  2E-2],\n",
    "    [('e', 'anti_tau', 'nu')        , \"purple\"  , \"solid\" , r\"$\\nu e^+ \\mu^-$\"    , 5.0, 0.025],\n",
    "    [('nu', 'pi0')           , \"blue\"          , \"solid\" , r\"$\\nu \\pi^0$\"        , .2,   0.50],\n",
    "    [('tau', 'pi+')            , \"green\"         , \"solid\" , r\"$e^- \\pi^+ $\"       , .2,   0.13],\n",
    "]"
   ]
  },
  {
   "cell_type": "markdown",
   "metadata": {},
   "source": [
    "Finally, we can plot everything using `foresee.plot_reach()`. "
   ]
  },
  {
   "cell_type": "code",
   "execution_count": 25,
   "metadata": {},
   "outputs": [
    {
     "data": {
      "image/png": "[encoded data removed]",
      "text/plain": [
       "<Figure size 576x576 with 2 Axes>"
      ]
     },
     "metadata": {
      "needs_background": "light"
     },
     "output_type": "display_data"
    }
   ],
   "source": [
    "plot,ax, ax2 = foresee.plot_reach(\n",
    "    setups=setups,\n",
    "    bounds=bounds,\n",
    "    projections=[],\n",
    "    branchings = branchings,\n",
    "    title=\"HNL's\",\n",
    "    xlims = [0.1, 10], \n",
    "    ylims = [1e-5, 1e-2],\n",
    "    xlabel=r\"$m_{N}$ (GeV)\", \n",
    "    ylabel=r\"$\\epsilon$\",\n",
    "    legendloc=(1,0.2),\n",
    "    figsize=(8,8),\n",
    ")\n",
    "\n",
    "plot.savefig(\"Reach_\"+modelname+\".pdf\")\n",
    "plot.show()"
   ]
  },
  {
   "cell_type": "code",
   "execution_count": 26,
   "metadata": {},
   "outputs": [],
   "source": [
    "foresee.extract_contours(\n",
    "    inputfile=f\"model/results/{setups[0][0]}\", \n",
    "    outputfile=f\"model/lines/{setups[0][0]}.txt\"\n",
    ")\n",
    "\n",
    "foresee.extract_contours(\n",
    "    inputfile=f\"model/results/{setups[1][0]}\", \n",
    "    outputfile=f\"model/lines/{setups[1][0]}.txt\"\n",
    ")\n",
    "\n",
    "foresee.extract_contours(\n",
    "    inputfile=f\"model/results/{setups[2][0]}\", \n",
    "    outputfile=f\"model/lines/{setups[2][0]}.txt\"\n",
    ")"
   ]
  }
 ],
 "metadata": {
  "kernelspec": {
   "display_name": "Python 3 (ipykernel)",
   "language": "python",
   "name": "python3"
  },
  "language_info": {
   "codemirror_mode": {
    "name": "ipython",
    "version": 3
   },
   "file_extension": ".py",
   "mimetype": "text/x-python",
   "name": "python",
   "nbconvert_exporter": "python",
   "pygments_lexer": "ipython3",
   "version": "3.6.8"
  }
 },
 "nbformat": 4,
 "nbformat_minor": 2
}
