{
 "cells": [
  {
   "cell_type": "code",
   "execution_count": 10,
   "metadata": {},
   "outputs": [
    {
     "name": "stdout",
     "output_type": "stream",
     "text": [
      "0.8 4.9 qmin qmax\n",
      "the q value corresponding to ENmin is the same as qmin, might be an error\n",
      "0.8 4.9\n",
      "0.8 4.333885224132177\n",
      "qmin qmax 0.8 4.333885224132177\n",
      "0.4 0.3\n"
     ]
    }
   ],
   "source": [
    "\n",
    "#from scipy import optimize\n",
    "import scipy\n",
    "from scipy.optimize import minimize\n",
    "#from scipy import optimize\n",
    "import numpy as np\n",
    "#fun = lambda x,y: (x - 4)^2 + y^2 + 2\n",
    "def fun1(params):\n",
    "    x,y=params\n",
    "    bla=(x - 4)**2 + y**2 + 2\n",
    "    return bla\n",
    "res=scipy.optimize.minimize(fun1,[4,4])\n",
    "#print(res.x,\n",
    "#fun1(res.x))\n",
    "#qmin qmax m0 m1 m2 m3 0.01 1.7764890010538998 1.777 0.0005109989461 0 0.01\n",
    "m0,m1,m2,m3,=5,.1,.3,.5\n",
    "qmin,qmax = (m2+m3),(m0-m1)\n",
    "q2min,q2max = (m2+m3)**2,(m0-m1)**2\n",
    "print(qmin,qmax,'qmin qmax')\n",
    "\n",
    "#maxmin=1 for minimization and maxmin=-1 for maximization, this is because optimize only has a minimization function\n",
    "#the minimum of -1*EN maximizes EN\n",
    "def Energy_tau(q,m0,m1,m2,m3,maxmin):\n",
    "    #m0,m1,m2,m3,=5,.1,.3,.5\n",
    "    qmin,qmax = (m2+m3),(m0-m1)\n",
    "    q2min,q2max = (m2+m3)**2,(m0-m1)**2\n",
    "    E2st = (q**2 - m2**2 + m3**2)/(2*q)\n",
    "    E3st = (m0**2 - q**2 - m1**2)/(2*q)\n",
    "    m232min = (E2st + E3st)**2 - (np.sqrt(E2st**2 - m3**2) + np.sqrt(E3st**2 - m1**2))**2\n",
    "    m232max = (E2st + E3st)**2 - (np.sqrt(E2st**2 - m3**2) - np.sqrt(E3st**2 - m1**2))**2\n",
    "    EN = (m232max + q**2 - m2**2 - m1**2)/(2*m0)\n",
    "    if maxmin==1:\n",
    "        return (EN)\n",
    "    if maxmin==-1:\n",
    "        return(-EN)\n",
    "\n",
    "\n",
    "\n",
    "#q that minimizes energy\n",
    "qminEN=minimize(Energy_tau,[(qmin+qmax)/2],args=(m0,m1,m2,m3,1),bounds=[(qmin,qmax)]).x[0]\n",
    "#q that maximizes energy\n",
    "qmaxEN=scipy.optimize.minimize(Energy_tau,[(qmin+qmax)/2],args=(m0,m1,m2,m3,-1),bounds=[(qmin,qmax)]).x[0]\n",
    "if qminEN==qmin:\n",
    "    print('the q value corresponding to ENmin is the same as qmin, might be an error')\n",
    "if qmaxEN==qmax:\n",
    "    print('the q value corresponding to ENmax is the same as qmax, might be an error')\n",
    "ENmax=Energy_tau(qmaxEN,m0,m1,m2,m3,1)\n",
    "ENmin=Energy_tau(qminEN,m0,m1,m2,m3,1)\n",
    "print(qmin,qmax)\n",
    "print(qminEN,qmaxEN)\n",
    "\n",
    "\n",
    "\n",
    "qminEN=minimize(Energy_tau,[(qmin+qmax)/2],args=(m0,m1,m2,m3,1),bounds=[(qmin,qmax)]).x[0]\n",
    "#q that maximizes energy\n",
    "qmaxEN=scipy.optimize.minimize(Energy_tau,[(qmin+qmax)/2],args=(m0,m1,m2,m3,-1),bounds=[(qmin,qmax)]).x[0]\n",
    "print('qmin qmax', qminEN,qmaxEN)\n",
    "\n",
    "\n",
    "qmin, qmax, m0, m1, m2, m3 = 0.01, 1.7764890010538998, 1.777, 0.0005109989461, 0, 0.01\n",
    "qminEN=minimize(Energy_tau,[.4],args=(m0,m1,m2,m3,1),bounds=[(qmin,qmax)]).x[0]\n",
    "#q that maximizes energy\n",
    "qmaxEN=minimize(Energy_tau,[.3],args=(m0,m1,m2,m3,-1),bounds=[(qmin,qmax)]).x[0]\n",
    "print(qminEN,qmaxEN)\n"
   ]
  },
  {
   "cell_type": "code",
   "execution_count": 4,
   "metadata": {},
   "outputs": [
    {
     "name": "stdout",
     "output_type": "stream",
     "text": [
      "45.0\n"
     ]
    }
   ],
   "source": [
    "pre=5*6/2*3\n",
    "print(pre)"
   ]
  }
 ],
 "metadata": {
  "kernelspec": {
   "display_name": "Python 3.10.4 ('forsee')",
   "language": "python",
   "name": "python3"
  },
  "language_info": {
   "codemirror_mode": {
    "name": "ipython",
    "version": 3
   },
   "file_extension": ".py",
   "mimetype": "text/x-python",
   "name": "python",
   "nbconvert_exporter": "python",
   "pygments_lexer": "ipython3",
   "version": "3.10.4"
  },
  "orig_nbformat": 4,
  "vscode": {
   "interpreter": {
    "hash": "d992d1d0d82f377b2d7582744839498d1eb429866497c2c977ef925f2dbe2ea3"
   }
  }
 },
 "nbformat": 4,
 "nbformat_minor": 2
}
