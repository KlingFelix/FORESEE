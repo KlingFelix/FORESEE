{
 "cells": [
  {
   "cell_type": "markdown",
   "metadata": {},
   "source": [
    "# FORESEE - Heavy Neutral Leptons (HNLs)"
   ]
  },
  {
   "cell_type": "markdown",
   "metadata": {},
   "source": [
    "### Load Libraries "
   ]
  },
  {
   "cell_type": "code",
   "execution_count": 1,
   "metadata": {},
   "outputs": [],
   "source": [
    "import numpy as np\n",
    "import sys\n",
    "import os\n",
    "import matplotlib.colors as mcolors\n",
    "src_path = \"/Users/alechewitt/Desktop/Git_felix_1/FORESEE\"\n",
    "sys.path.append(src_path)\n",
    "from src.foresee import Foresee, Utility, Model\n",
    "\n",
    "from HeavyNeutralLepton import * "
   ]
  },
  {
   "cell_type": "markdown",
   "metadata": {},
   "source": [
    "## 1. Initialization \n"
   ]
  },
  {
   "cell_type": "markdown",
   "metadata": {},
   "source": [
    "All function that we will need are included in the FORESEE package. We start by simply initializing it: "
   ]
  },
  {
   "cell_type": "code",
   "execution_count": 2,
   "metadata": {},
   "outputs": [],
   "source": [
    "foresee = Foresee()"
   ]
  },
  {
   "cell_type": "markdown",
   "metadata": {},
   "source": [
    "HNL's are produced mainly via D and $B$ meson decay. To start, let us have a look at the $\\text{D}^+$ spectrum in terms of the angle with respect to the beam axis $\\theta$ and the momentum $p$. This can be done using the function `get_spectrumplot` which requires the MC particle ID (or simply pid), the MC generator and the energy. The units on the coloraxis are pb/bin. \n",
    "\n",
    "FORESEE provides the 2D spectrum as tables for a variety of particles ($\\pi$, $\\eta$, D, B, ...), generators (SIBYLL, EPOSLHC, QGSJET, PYTHIA) and collision energies (14, 27 and 100 TeV). The datafiles are stored in the directory `files/hadrons`. Let us show the $\\text{D}^+$ spectrum obained by Pythia8. "
   ]
  },
  {
   "cell_type": "code",
   "execution_count": 3,
   "metadata": {},
   "outputs": [
    {
     "data": {
      "image/png": "[encoded data removed]",
      "text/plain": [
       "<Figure size 504x396 with 2 Axes>"
      ]
     },
     "metadata": {
      "needs_background": "light"
     },
     "output_type": "display_data"
    }
   ],
   "source": [
    "plot=foresee.get_spectrumplot(pid=\"411\", generator=\"pythia8\", energy=\"14\",  prange=[[-5, 0, 100],[ 0, 4, 80]])\n",
    "plot.show()"
   ]
  },
  {
   "cell_type": "markdown",
   "metadata": {},
   "source": [
    "## 2. Specifying the Model: Heavy Neutral Leptons"
   ]
  },
  {
   "cell_type": "markdown",
   "metadata": {},
   "source": [
    "In this notebook we consider Heavy Neutral Leptons (HNLs) $N$. These for example naturally arise in models with an addition right handed neutrinos. Their phenomenology is described by a the folling Lagrangian \n",
    "\n",
    "\\begin{equation}\n",
    " \\mathcal{L} = \\bar N (i \\gamma^\\mu \\partial_mu - \\color{red}{m_N}) N - (g/\\sqrt{2}) \\color{red}{U_{\\alpha}} W_\\mu \\bar \\ell_\\alpha \\gamma^\\mu N - (g/\\sqrt{2} c_W) \\color{red}{U_{\\alpha}} Z_\\mu \\bar \\nu_\\alpha \\gamma^\\mu N \n",
    "\\end{equation}\n",
    "\n",
    "where $\\color{red}{m_N}$ is the HNL mass, and $\\color{red}{U_{\\alpha}}$ are the mixings of the HNL with the SM neutrinos of flavour $\\alpha=e,\\mu, \\tau$. For practical purposes, we will define $\\color{red}{U_{\\alpha}} = \\color{red}{g} \\times V_\\alpha$ where $V_\\alpha$ is fixed. In this case the HNL mass $\\color{red}{m_N}$ and the coupling $\\color{red}{g}$ are the free parameters of the model. \n",
    "\n",
    "Since the HNL model is rather complicted, we will use dedicated the `HeavyNeutralLepton` class, which will provide all properties of the model, eg their the *production rate*, the *lifetime* and their *decay branching fractions*. It will be initialized with the values of $V_\\alpha$."
   ]
  },
  {
   "cell_type": "code",
   "execution_count": 4,
   "metadata": {},
   "outputs": [],
   "source": [
    "hnl = HeavyNeutralLepton(ve=.5, vmu=0, vtau=.2)"
   ]
  },
  {
   "cell_type": "markdown",
   "metadata": {},
   "source": [
    "All properties are specified in the `Model` class. We initialize it with the name of the model as argument. "
   ]
  },
  {
   "cell_type": "code",
   "execution_count": 5,
   "metadata": {},
   "outputs": [],
   "source": [
    "energy = \"14\"\n",
    "modelname=\"HNL\"\n",
    "model = Model(modelname, path=\"./\")\n",
    "allchannels = []"
   ]
  },
  {
   "cell_type": "markdown",
   "metadata": {},
   "source": [
    "### a) HNL Production\n",
    "As most LLPs, HNLs are produced in the decay of primary hadrons. Here we need to specify the total branching fraction into the LLP as function of the `coupling` and the `mass`. "
   ]
  },
  {
   "cell_type": "markdown",
   "metadata": {},
   "source": [
    "**Production via 2-body decays** HNLs can be produced in 2-body decays of the type $H^+ \\to \\ell N$. The corresponding branching fractions are given by  \n",
    "\n",
    "\\begin{equation}\n",
    "    \\text{BR}(H^+ \\rightarrow \\ell_{\\alpha}^{+} N ) =   |U_{\\alpha}|^2 \\frac{G_F^2 M_H M_N^2 \\tau_H f_H |V_H|^2 }{8 \\pi}  \\cdot \\left[ 1- \\frac{M_N^2}{M_H^2} + 2 \\frac{M_{\\ell}^2}{M_H^2}+ \\frac{M_{\\ell}^2}{M_N^2} \\left( 1- \\frac{M_{\\ell}^2}{M_H^2} \\right) \\right] \\times \\left[\\left(1+ \\frac{M_N^2}{M_H^2}- \\frac{M_{\\ell}^2}{M_H^2}\\right)^2 - 4 \\frac{M_N^2}{M_H^2}\\right]^{1/2}\n",
    "\\end{equation}\n",
    "\n",
    "In particular we consider the decays:\n",
    "- $D^\\pm, D_s^\\pm, B^\\pm, B_c^\\pm \\to \\ell^\\pm N$"
   ]
  },
  {
   "cell_type": "code",
   "execution_count": 6,
   "metadata": {},
   "outputs": [],
   "source": [
    "#colors for plots\n",
    "import random\n",
    "colors=list(mcolors.CSS4_COLORS)\n",
    "length=len(colors)\n"
   ]
  },
  {
   "cell_type": "code",
   "execution_count": 7,
   "metadata": {},
   "outputs": [
    {
     "name": "stdout",
     "output_type": "stream",
     "text": [
      "[\"2body_411_-11\", \"aliceblue\", r\"$D^+ \\to l^+ + N$\"],\n",
      "[\"2body_411_-15\", \"yellowgreen\", r\"$D^+ \\to l^+ + N$\"],\n",
      "[\"2body_-411_11\", \"crimson\", r\"$D^- \\to l^- + N$\"],\n",
      "[\"2body_-411_15\", \"lightpink\", r\"$D^- \\to l^- + N$\"],\n",
      "[\"2body_431_-11\", \"fuchsia\", r\"$D_s^+ \\to l^+ + N$\"],\n",
      "[\"2body_431_-15\", \"peachpuff\", r\"$D_s^+ \\to l^+ + N$\"],\n",
      "[\"2body_-431_11\", \"tan\", r\"$D_s^- \\to l^- + N$\"],\n",
      "[\"2body_-431_15\", \"darkmagenta\", r\"$D_s^- \\to l^- + N$\"],\n",
      "[\"2body_521_-11\", \"grey\", r\"$B^+ \\to + l^+ + N$\"],\n",
      "[\"2body_521_-15\", \"skyblue\", r\"$B^+ \\to + l^+ + N$\"],\n",
      "[\"2body_-521_11\", \"salmon\", r\"$B^- \\to + l^- + N$\"],\n",
      "[\"2body_-521_15\", \"hotpink\", r\"$B^- \\to + l^- + N$\"],\n",
      "[\"2body_541_-11\", \"lightgoldenrodyellow\", r\"$B_c^+ \\to + l^+ + N$\"],\n",
      "[\"2body_541_-15\", \"greenyellow\", r\"$B_c^+ \\to + l^+ + N$\"],\n",
      "[\"2body_-541_11\", \"orange\", r\"$B_c^- \\to + l^- + N$\"],\n",
      "[\"2body_-541_15\", \"lightskyblue\", r\"$B_c^- \\to + l^- + N$\"],\n"
     ]
    }
   ],
   "source": [
    "channels = [\n",
    "    [r'D^+ \\to l^+ + N'    , '411', '-'],\n",
    "    [r'D^- \\to l^- + N'    ,'-411', '' ],\n",
    "    [r'D_s^+ \\to l^+ + N'  , '431', '-'],\n",
    "    [r'D_s^- \\to l^- + N'  ,'-431', '' ],\n",
    "    [r'B^+ \\to + l^+ + N'  , '521', '-'],\n",
    "    [r'B^- \\to + l^- + N'  ,'-521', '' ],\n",
    "    [r'B_c^+ \\to + l^+ + N', '541', '-'],\n",
    "    [r'B_c^- \\to + l^- + N','-541', '' ]\n",
    "]\n",
    "    \n",
    "for label, pid_had, sign_lep in channels:\n",
    "    for pid_lep in [\"11\",\"13\",\"15\"]:\n",
    "        if hnl.vcoupling[pid_lep] <1e-9: continue\n",
    "        #print (r\"added decay: \"+label+\" for l=\"+hnl.lepton[pid_lep])    \n",
    "        label1 = \"2body_\" + pid_had + \"_\" + sign_lep+pid_lep\n",
    "        print('[' + '\"' + label1 + '\"' + ', ' + '\"' + colors[random.randint(0,length-1)] + '\"' + ', ' + 'r\"$' + label + '$\"' + '],')\n",
    "        model.add_production_2bodydecay(\n",
    "            label = label1,\n",
    "            pid0 = pid_had,\n",
    "            pid1 = pid_lep,\n",
    "            br = hnl.get_2body_br(pid_had, sign_lep+pid_lep),\n",
    "            generator = \"Pythia8\",\n",
    "            energy = energy,\n",
    "            nsample = 3,\n",
    "        )\n",
    "        allchannels.append(label1)"
   ]
  },
  {
   "cell_type": "markdown",
   "metadata": {},
   "source": [
    "**Production via 2-body $\\tau$ decays** HNLs can be produced in 2-body decays of the type $\\tau \\to H N$, the corresponding branching fraction is given by\n",
    "\n",
    "\\begin{aligned}\n",
    "    \\mathrm{Br}(\\tau \\rightarrow \\mathrm{HN}) &=\\tau_\\tau \\cdot \\frac{\\left|U_\\tau\\right|^2}{16 \\pi} G_F^2\\left|V_H\\right|^2 f_H^2 M_\\tau^3 \\cdot\\left(\\left(1-\\frac{M_N^2}{M_\\tau^2}\\right)^2-\\frac{M_H^2}{M_\\tau^2}\\left(1+\\frac{M_N^2}{M_\\tau^2}\\right)\\right) \\\\\n",
    "    & \\times \\sqrt{\\left(1-\\frac{\\left(M_H-M_N\\right)^2}{M_\\tau^2}\\right)\\left(1-\\frac{\\left(M_H+M_N\\right)^2}{M_\\tau^2}\\right)}\n",
    "\\end{aligned}\n",
    "\n",
    "or of the form $\\tau \\to \\rho N$, in this case the branching fraction is given by\n",
    "\n",
    "\\begin{aligned}\n",
    "    \\mathrm{Br}(\\tau \\rightarrow \\rho \\mathrm{N}) &=\\tau_\\tau \\cdot \\frac{\\left|U_\\tau\\right|^2}{8 \\pi} \\frac{g_\\rho^2}{M_\\rho^2} G_F^2\\left|V_{u d}\\right|^2 M_\\tau^3 \\cdot\\left(\\left(1-\\frac{M_N^2}{M_\\tau^2}\\right)^2+\\frac{M_\\rho^2}{M_\\tau^2}\\left(1+\\frac{M_N^2-2 M_\\rho^2}{M_\\tau^2}\\right)\\right) \\\\\n",
    "    & \\times \\sqrt{\\left(1-\\frac{\\left(M_\\rho-M_N\\right)^2}{M_\\tau^2}\\right)\\left(1-\\frac{\\left(M_\\rho+M_N\\right)^2}{M_\\tau^2}\\right)}\n",
    "\\end{aligned}\n",
    "\n",
    "In particular we consider the decays:\n",
    "- $\\tau^{\\pm} \\to \\pi^{\\pm},K^{\\pm}, \\rho^{\\pm} N$"
   ]
  },
  {
   "cell_type": "code",
   "execution_count": 8,
   "metadata": {},
   "outputs": [
    {
     "name": "stdout",
     "output_type": "stream",
     "text": [
      "[\"2body_tau_15_-211\", \"rebeccapurple\", r\"$\\tau^- \\to \\pi^- + N$\"],\n",
      "[\"2body_tau_15_211\", \"greenyellow\", r\"$\\tau^+ \\to \\pi^+ + N$\"],\n",
      "[\"2body_tau_15_-321\", \"darkcyan\", r\"$\\tau^- \\to K^- + N$\"],\n",
      "[\"2body_tau_15_321\", \"darkslategray\", r\"$\\tau^+ \\to K^+ + N$\"],\n",
      "[\"2body_tau_15_-213\", \"papayawhip\", r\"$\\tau^- \\to \\rho^- + N$\"],\n",
      "[\"2body_tau_15_213\", \"blueviolet\", r\"$\\tau^+ \\to \\rho^+ + N$\"],\n"
     ]
    }
   ],
   "source": [
    "#tau 2 body decays\n",
    "#elements in channels have the form [decay label, parent particle pid, produced hadron pid (without sign), sign of produced hadron]\n",
    "channels = [\n",
    "[r'\\tau^- \\to \\pi^- + N','15','211', '-' ],\n",
    "[r'\\tau^+ \\to \\pi^+ + N','15','211', ''  ],\n",
    "[r'\\tau^- \\to K^- + N'  ,'15','321', '-' ],\n",
    "[r'\\tau^+ \\to K^+ + N'  ,'15','321', ''  ],\n",
    "[r'\\tau^- \\to \\rho^- + N','15','213', '-'],\n",
    "[r'\\tau^+ \\to \\rho^+ + N','15','213', '' ]\n",
    "]\n",
    "    \n",
    "for label, pid_tau, pid_had, sign_had in channels:\n",
    "    for pid_tau in [\"15\"]:\n",
    "        if hnl.vcoupling[pid_tau] <1e-9: continue\n",
    "        label1 = \"2body_tau_\" + pid_tau + \"_\" + sign_had+pid_had\n",
    "        print('[' + '\"' + label1 + '\"' + ', ' + '\"' + colors[random.randint(0,length-1)] + '\"' + ', ' + 'r\"$' + label + '$\"' + '],')\n",
    "        model.add_production_2bodydecay(\n",
    "            label = label1,\n",
    "            pid0 = pid_tau,\n",
    "            pid1 = pid_had,\n",
    "            br = hnl.get_2body_br_tau(pid_tau, sign_had+pid_had),\n",
    "            generator = \"Pythia8\",\n",
    "            energy = energy,\n",
    "            nsample = 3,\n",
    "        )\n",
    "        allchannels.append(label1)"
   ]
  },
  {
   "cell_type": "markdown",
   "metadata": {},
   "source": [
    "**Production via 3-body decay to pseudoscalar meson** HNLs can also be produced in 3-body decays of the type $H \\to H' \\ell N$, where H' is a pseudoscalar. The corresponding branching fractions are given by  \n",
    "\n",
    "\\begin{aligned}\n",
    "&\\frac{d \\mathrm{Br}\\left(\\mathrm{H} \\rightarrow \\mathrm{H}^{\\prime} \\mathrm{l}_\\alpha^{+} \\mathrm{N}\\right)}{d E_N d q^2}=\\tau_H \\cdot\\left|U_\\alpha\\right|^2 \\cdot \\frac{\\left|V_{H H^{\\prime}}\\right|^2 G_F^2}{64 \\pi^3 M_H^2} \\left(f_{-}^2\\left(q^2\\right) \\cdot\\left(q^2\\left(M_N^2+M_l^2\\right)-\\left(M_N^2-M_l^2\\right)^2\\right)\\right. \\\\\n",
    "&+2 f_{+}\\left(q^2\\right) f_{-}\\left(q^2\\right)\\left(M_N^2\\left(2 M_H^2-2 M_{H^{\\prime}}^2-4 E_N M_H-M_l^2+M_N^2+q^2\\right)+M_l^2\\left(4 E_N M_H+M_l^2-M_N^2-q^2\\right)\\right) \\\\\n",
    "& +f_{+}^2\\left(q^2\\right)\\left(\\left(4 E_N M_H+M_l^2-M_N^2-q^2\\right)\\left(2 M_H^2-2 M_{H^{\\prime}}^2-4 E_N M_H-M_l^2+M_N^2+q^2\\right)\\right. \\\\\n",
    "&\\left.-\\left(2 M_H^2+2 M_{H^{\\prime}}^2-q^2\\right)\\left(q^2-M_N^2-M_l^2\\right)\\right)\n",
    "\\end{aligned}\n",
    "\n",
    "where\n",
    "\n",
    "\\begin{aligned}\n",
    "f_{+}\\left(q^2\\right) &=\\frac{f_{+}(0)}{\\left(1-q^2 / M_V^2\\right)} \\\\\n",
    "f_0\\left(q^2\\right) &=\\frac{f_0(0)}{\\left(1-q^2 / M_S^2\\right)} \\\\\n",
    "f_0\\left(q^2\\right)=f_{+}\\left(q^2\\right) &+\\frac{q^2}{M_H^2-M_{H'}^2} f_{-}\\left(q^2\\right).\n",
    "\\end{aligned}\n",
    "$M_V$ and $M_S$ are the vector and scalar pole masses and are given by the $D^*(2010)$ and $D_0^*(2400)$ masses, respectively.\n",
    "\n",
    "In particular we consider the decays:\n",
    "- $D^0 \\to K^{\\mp} \\ell^{\\pm} N, \\text{ where } \\ell \\neq \\tau$\n",
    "- $D^{\\pm} \\to \\bar{K^0}  \\ell^{\\pm} N, \\text{ where } \\ell \\neq \\tau$\n",
    "- $B^{\\pm} \\to \\bar{D^0} \\ell^{\\pm} N, \\text{ including } \\tau$\n",
    "- $B^0 \\to D^{\\mp} \\ell^{\\pm} N, \\text{ including } \\tau$\n",
    "- $B_s^0 \\to D_s^{\\mp} \\ell^{\\pm} N, \\text{ including } \\tau$\n",
    "- $B_c^{\\pm} \\to B^0 \\ell^{\\pm} N, \\text{ where } \\ell \\neq \\tau$\n",
    "- $B_c^{\\pm} \\to B_s^0 \\ell^{\\pm} N, \\text{ where } \\ell \\neq \\tau$ "
   ]
  },
  {
   "cell_type": "code",
   "execution_count": 9,
   "metadata": {},
   "outputs": [
    {
     "name": "stdout",
     "output_type": "stream",
     "text": [
      "[\"3body_pseudo_421_-321_-11\", \"darkgoldenrod\", r\"$D^0 \\to K^- + l^+ + N$\"],\n",
      "[\"3body_pseudo_421_321_11\", \"lightcoral\", r\"$D^0 \\to K^+ + l^- + N$\"],\n",
      "[\"3body_pseudo_411_-311_-11\", \"khaki\", r\"$D^+ \\to \\bar{K}^0 + l^+ + N$\"],\n",
      "[\"3body_pseudo_-411_-311_11\", \"ivory\", r\"$D^- \\to \\bar{K}^0 + l^- + N$\"],\n",
      "[\"3body_pseudo_521_421_-11\", \"cornsilk\", r\"$B^+ \\to \\bar{D}^0 + l^+ + N$\"],\n",
      "[\"3body_pseudo_521_421_-15\", \"mediumblue\", r\"$B^+ \\to \\bar{D}^0 + l^+ + N$\"],\n",
      "[\"3body_pseudo_-521_421_11\", \"darkgoldenrod\", r\"$B^- \\to \\bar{D}^0 + l^- + N$\"],\n",
      "[\"3body_pseudo_-521_421_15\", \"navy\", r\"$B^- \\to \\bar{D}^0 + l^- + N$\"],\n",
      "[\"3body_pseudo_511_-411_-11\", \"crimson\", r\"$B^0 \\to D^- + l^+ + N$\"],\n",
      "[\"3body_pseudo_511_-411_-15\", \"ivory\", r\"$B^0 \\to D^- + l^+ + N$\"],\n",
      "[\"3body_pseudo_511_411_11\", \"darkslateblue\", r\"$B^0 \\to D^+ + l^- + N$\"],\n",
      "[\"3body_pseudo_511_411_15\", \"steelblue\", r\"$B^0 \\to D^+ + l^- + N$\"],\n",
      "[\"3body_pseudo_531_-431_-11\", \"antiquewhite\", r\"$B^0_s \\to D^-_s + l^+ + N$\"],\n",
      "[\"3body_pseudo_531_-431_-15\", \"brown\", r\"$B^0_s \\to D^-_s + l^+ + N$\"],\n",
      "[\"3body_pseudo_531_431_11\", \"fuchsia\", r\"$B^0_s \\to D^+_s + l^- + N$\"],\n",
      "[\"3body_pseudo_531_431_15\", \"lightgreen\", r\"$B^0_s \\to D^+_s + l^- + N$\"],\n",
      "[\"3body_pseudo_541_511_-11\", \"violet\", r\"$B^+_c \\to B^0 + l^+ + N$\"],\n",
      "[\"3body_pseudo_-541_511_11\", \"blanchedalmond\", r\"$B^-_c \\to B^0 + l^- + N$\"],\n",
      "[\"3body_pseudo_541_531_-11\", \"darkblue\", r\"$B^+_c \\to B^0_s + l^+ + N$\"],\n",
      "[\"3body_pseudo_-541_531_11\", \"thistle\", r\"$B^-_c \\to B^0_s + l^- + N$\"],\n"
     ]
    }
   ],
   "source": [
    "#elements of 'channels' have the form [decay label, pid of parent hadron, pid of daughter meson (with sign!), sign of produced lepton's pid]\n",
    "channels = [\n",
    "    [r'D^0 \\to K^- + l^+ + N'       , '421', '-321', '-'],\n",
    "    [r'D^0 \\to K^+ + l^- + N'       , '421', '321', ''  ],\n",
    "    [r'D^+ \\to \\bar{K}^0 + l^+ + N' , '411', '-311', '-'],\n",
    "    [r'D^- \\to \\bar{K}^0 + l^- + N' ,'-411', '-311', '' ],\n",
    "    [r'B^+ \\to \\bar{D}^0 + l^+ + N' , '521',  '421', '-'],\n",
    "    [r'B^- \\to \\bar{D}^0 + l^- + N' , '-521',  '421', ''],\n",
    "    [r'B^0 \\to D^- + l^+ + N'       , '511', '-411', '-'],\n",
    "    [r'B^0 \\to D^+ + l^- + N'       , '511', '411', ''  ],\n",
    "    [r'B^0_s \\to D^-_s + l^+ + N'   , '531', '-431', '-'],\n",
    "    [r'B^0_s \\to D^+_s + l^- + N'   , '531', '431', ''  ],\n",
    "    [r'B^+_c \\to B^0 + l^+ + N'     , '541',  '511', '-'],\n",
    "    [r'B^-_c \\to B^0 + l^- + N'     , '-541',  '511', ''],\n",
    "    [r'B^+_c \\to B^0_s + l^+ + N'   , '541',  '531', '-'],\n",
    "    [r'B^-_c \\to B^0_s + l^- + N'   , '-541',  '531', '']\n",
    "]\n",
    "\n",
    "for label, pid_parent, pid_daughter, sign_lep in channels:\n",
    "    if model.masses(pid_parent) >= model.masses('15') + model.masses(pid_daughter):\n",
    "        leptons=[\"11\",\"13\",\"15\"]\n",
    "    if model.masses(pid_parent) <= model.masses('15') + model.masses(pid_daughter):\n",
    "        leptons=[\"11\",\"13\"]\n",
    "    for pid_lep in leptons:\n",
    "        if hnl.vcoupling[pid_lep] <1e-9: continue\n",
    "        label1=\"3body_pseudo_\" + pid_parent + \"_\" +pid_daughter+ \"_\" + sign_lep+pid_lep\n",
    "        print('[' + '\"' + label1 + '\"' + ', ' + '\"' + colors[random.randint(0,length-1)] + '\"' + ', ' + 'r\"$' + label + '$\"' + '],')\n",
    "        model.add_production_3bodydecay(\n",
    "            label = label1,\n",
    "            pid0 = pid_parent,\n",
    "            pid1 = pid_daughter,\n",
    "            pid2 = sign_lep+pid_lep,\n",
    "            br = hnl.get_3body_dbr_pseudoscalar(pid_parent,pid_daughter,sign_lep+pid_lep),\n",
    "            generator = \"Pythia8\",\n",
    "            energy = energy,\n",
    "            nsample = 10,\n",
    "            integration = \"dq2dEN\",\n",
    "        )\n",
    "        allchannels.append(label1)"
   ]
  },
  {
   "cell_type": "markdown",
   "metadata": {},
   "source": [
    "**Production via 3-body decay to vector meson** HNLs can also be produced in 3-body decays of the type $H \\to V \\ell N$, where V is a vector. The corresponding differential branching fractions are given by \n",
    "\\begin{aligned}\n",
    "\\frac{d \\operatorname{Br}\\left(H \\rightarrow V l_\\alpha N\\right)}{d E_N d q^2}=\\tau_H \\cdot\\left|U_\\alpha\\right|^2 \\cdot \\frac{\\left|V_{H V}\\right|^2 G_F^2}{32 \\pi^3 M_H} \\left(\\frac{f_2^2}{2}\\left(q^2-M_N^2-M_l^2+\\omega^2 \\frac{\\Omega^2-\\omega^2}{M_V^2}\\right)\\right. \\\\\n",
    "+\\frac{f_5^2}{2}\\left(M_N^2+M_l^2\\right)\\left(q^2-M_N^2+M_l^2\\right)\\left(\\frac{\\Omega^4}{4 M_V^2}-q^2\\right)+2 f_3^2 M_V^2\\left(\\frac{\\Omega^4}{4 M_V^2}-q^2\\right)\\left(M_N^2+M_l^2-q^2+\\omega^2 \\frac{\\Omega^2-\\omega^2}{M_V^2}\\right) \\\\\n",
    "+2 f_3 f_5\\left(M_N^2 \\omega^2+\\left(\\Omega^2-\\omega^2\\right) M_l^2\\right)\\left(\\frac{\\Omega^4}{4 M_V^2}-q^2\\right)+2 f_1 f_2\\left(q^2\\left(2 \\omega^2-\\Omega^2\\right)+\\Omega^2\\left(M_N^2-M_l^2\\right)\\right) \\\\\n",
    "+\\frac{f_2 f_5}{2}\\left(\\omega^2 \\frac{\\Omega^2}{M_V^2}\\left(M_N^2-M_l^2\\right)+\\frac{\\Omega^4}{M_V^2} M_l^2+2\\left(M_N^2-M_l^2\\right)^2-2 q^2\\left(M_N^2+M_l^2\\right)\\right) \\\\\n",
    "+f_2 f_3\\left(\\Omega^2 \\omega^2 \\frac{\\Omega^2-\\omega^2}{M_V^2}+2 \\omega^2\\left(M_l^2-M_N^2\\right)+\\Omega^2\\left(M_N^2-M_l^2-q^2\\right)\\right) \\\\\n",
    "\\left.+f_1^2\\left(\\Omega^4\\left(q^2-M_N^2+M_l^2\\right)-2 M_V^2\\left(q^4-\\left(M_N^2-M_l^2\\right)^2\\right)+2 \\omega^2 \\Omega^2\\left(M_N^2-q^2-M_l^2\\right)+2 \\omega^4 q^2\\right)\\right) \\\\\n",
    "\\end{aligned}\n",
    "where $\\omega^2=M_H^2-M_V^2+M_N^2-M_l^2-2 M_H E_N$ and $\\Omega^2=M_H^2-M_V^2-q^2.\\\\$\n",
    "The form factors are given by\n",
    "\n",
    "\\begin{aligned}\n",
    "f_1=\\frac{V}{M_H+M_V}, \\quad f_2=\\left(M_H+M_V\\right) \\cdot A_1, \\quad f_3=-\\frac{A_2}{M_H+M_V}, \\\\\n",
    "f_4=\\left(M_V\\left(2 A_0-A_1-A_2\\right)+M_H\\left(A_2-A_1\\right)\\right) \\cdot \\frac{1}{q^2}, \\quad f_5=f_3+f_4,\n",
    "\\end{aligned}\n",
    "\n",
    "$$\n",
    "f\\left(q^2\\right)=\\frac{f(0)}{\\left(1-q^2 / M^2\\right)\\left(1-\\sigma_1 q^2 / M^2+\\sigma_2 q^4 / M^4\\right)}\n",
    "$$\n",
    "$M=M_P$ for form factor $A_0$ and $M=M_V$ for form factor $V$. For form factors $A_1$ and $A_2$ :\n",
    "$$\n",
    "f\\left(q^2\\right)=\\frac{f(0)}{\\left(1-\\sigma_1 q^2 / M_V^2+\\sigma_2 q^4 / M_V^4\\right)}\n",
    "$$\n",
    "\n",
    "In particular we consider the decays:\n",
    "\n",
    "- $D^0  \\to K^{* \\mp} \\ell^{\\pm} N, \\text{ where } \\ell \\neq \\tau$\n",
    "- $B^{\\pm} \\to \\bar{D^{*0}} \\ell^{\\pm} N, \\text{ including } \\tau$\n",
    "- $B^0 \\to D^{* \\mp} \\ell^{\\pm} N, \\text{ including } \\tau$\n",
    "- $B^0_s \\to D_s^{* \\mp} \\ell^{\\pm} N, \\text{ including } \\tau$\n",
    "- $B^{\\pm}_c \\to B^{*0} \\ell^{\\pm} N, \\text{ where } \\ell \\neq \\tau$\n",
    "- $B_c^{\\pm} \\to B_s^{* 0} \\ell^{\\pm} N, \\text{ where } \\ell \\neq \\tau$\n",
    "\n"
   ]
  },
  {
   "cell_type": "code",
   "execution_count": 10,
   "metadata": {},
   "outputs": [
    {
     "name": "stdout",
     "output_type": "stream",
     "text": [
      "[\"3body_vector_421_-323_-11\", \"springgreen\", r\"$D^0 \\to K^{*-} + l^+ + N$\"],\n",
      "[\"3body_vector_421_-323_-15\", \"oldlace\", r\"$D^0 \\to K^{*-} + l^+ + N$\"],\n",
      "[\"3body_vector_421_323_11\", \"cornsilk\", r\"$D^0 \\to K^{*} + l^- + N$\"],\n",
      "[\"3body_vector_421_323_15\", \"slategray\", r\"$D^0 \\to K^{*} + l^- + N$\"],\n",
      "[\"3body_vector_521_-423_-11\", \"slategray\", r\"$B^+ \\to \\bar{D}^*0 + l^+ + N$\"],\n",
      "[\"3body_vector_521_-423_-15\", \"lightsalmon\", r\"$B^+ \\to \\bar{D}^*0 + l^+ + N$\"],\n",
      "[\"3body_vector_-521_-423_11\", \"coral\", r\"$B^- \\to \\bar{D}^*0 + l^- + N$\"],\n",
      "[\"3body_vector_-521_-423_15\", \"honeydew\", r\"$B^- \\to \\bar{D}^*0 + l^- + N$\"],\n",
      "[\"3body_vector_511_-413_-11\", \"palegoldenrod\", r\"$B^0 \\to D^{*-} + l^+ + N$\"],\n",
      "[\"3body_vector_511_-413_-15\", \"pink\", r\"$B^0 \\to D^{*-} + l^+ + N$\"],\n",
      "[\"3body_vector_511_413_11\", \"beige\", r\"$B^0 \\to D^{*+} + l^- + N$\"],\n",
      "[\"3body_vector_511_413_15\", \"green\", r\"$B^0 \\to D^{*+} + l^- + N$\"],\n",
      "[\"3body_vector_531_-433_-11\", \"slateblue\", r\"$B^0_s \\to D^{*-}_s + l^+ + N$\"],\n",
      "[\"3body_vector_531_-433_-15\", \"grey\", r\"$B^0_s \\to D^{*-}_s + l^+ + N$\"],\n",
      "[\"3body_vector_531_433_11\", \"sienna\", r\"$B^0_s \\to D^{*+}_s + l^- + N$\"],\n",
      "[\"3body_vector_531_433_15\", \"lavenderblush\", r\"$B^0_s \\to D^{*+}_s + l^- + N$\"],\n",
      "[\"3body_vector_541_513_-11\", \"springgreen\", r\"$B^+_c \\to B^{*0} + l^+ + N$\"],\n",
      "[\"3body_vector_541_513_-15\", \"midnightblue\", r\"$B^+_c \\to B^{*0} + l^+ + N$\"],\n",
      "[\"3body_vector_-541_513_11\", \"lightslategrey\", r\"$B^-_c \\to B^{*0} + l^- + N$\"],\n",
      "[\"3body_vector_-541_513_15\", \"purple\", r\"$B^-_c \\to B^{*0} + l^- + N$\"],\n",
      "[\"3body_vector_541_533_-11\", \"darkgrey\", r\"$B^+_c \\to B^{*0}_s+ l^+ + N$\"],\n",
      "[\"3body_vector_541_533_-15\", \"darkmagenta\", r\"$B^+_c \\to B^{*0}_s+ l^+ + N$\"],\n",
      "[\"3body_vector_-541_533_11\", \"darkorange\", r\"$B^-_c \\to B^{*0}_s+ l^- + N$\"],\n",
      "[\"3body_vector_-541_533_15\", \"steelblue\", r\"$B^-_c \\to B^{*0}_s+ l^- + N$\"],\n"
     ]
    }
   ],
   "source": [
    "#vector decays\n",
    "#elements of channel have the form [decay label, parent pid, daughter pid, sign of produced lepton]\n",
    "channels = [\n",
    "[r'D^0 \\to K^{*-} + l^+ + N'            ,'421', '-323', '-'],\n",
    "[r'D^0 \\to K^{*} + l^- + N'            ,'421', '323', ''   ],\n",
    "[r'B^+ \\to \\bar{D}^*0 + l^+ + N'      ,'521','-423' , '-'  ],\n",
    "[r'B^- \\to \\bar{D}^*0 + l^- + N'      ,'-521','-423' , ''  ],\n",
    "[r'B^0 \\to D^{*-} + l^+ + N'            ,'511','-413' , '-'],\n",
    "[r'B^0 \\to D^{*+} + l^- + N'            ,'511','413' , ''  ],\n",
    "[r'B^0_s \\to D^{*-}_s + l^+ + N'       ,'531','-433' , '-' ],\n",
    "[r'B^0_s \\to D^{*+}_s + l^- + N'       ,'531','433' , ''   ],\n",
    "[r'B^+_c \\to B^{*0} + l^+ + N'          ,'541','513'  , '-'],\n",
    "[r'B^-_c \\to B^{*0} + l^- + N'          ,'-541','513'  , ''],\n",
    "[r'B^+_c \\to B^{*0}_s+ l^+ + N'        ,'541','533'  , '-' ],\n",
    "[r'B^-_c \\to B^{*0}_s+ l^- + N'        ,'-541','533'  , '' ]\n",
    "]\n",
    "\n",
    "\n",
    "for label, pid_parent, pid_daughter, sign_lep in channels:\n",
    "    if model.masses(pid_parent) >= model.masses('15') + model.masses(pid_daughter):\n",
    "        leptons=[\"11\",\"13\",\"15\"]\n",
    "    if model.masses(pid_parent) <= model.masses('15') + model.masses(pid_daughter):\n",
    "        leptons=[\"11\",\"13\"]\n",
    "    for pid_lep in [\"11\",\"13\",\"15\"]:\n",
    "        if hnl.vcoupling[pid_lep] <1e-9: continue\n",
    "        label1=\"3body_vector_\" + pid_parent + \"_\" +pid_daughter+ \"_\" + sign_lep+pid_lep\n",
    "        print('[' + '\"' + label1 + '\"' + ', ' + '\"' + colors[random.randint(0,length-1)] + '\"' + ', ' + 'r\"$' + label + '$\"' + '],')\n",
    "        model.add_production_3bodydecay(\n",
    "            label = label1,\n",
    "            pid0 = pid_parent,\n",
    "            pid1 = pid_daughter,\n",
    "            pid2 = sign_lep+pid_lep,\n",
    "            br = hnl.get_3body_dbr_vector(pid_parent,pid_daughter,sign_lep+pid_lep),\n",
    "            generator = \"Pythia8\",\n",
    "            energy = energy,\n",
    "            nsample = 10,\n",
    "            integration = \"dq2dEN\",\n",
    "        )\n",
    "        allchannels.append(label1)\n"
   ]
  },
  {
   "cell_type": "markdown",
   "metadata": {},
   "source": [
    "**Production via 3-body $\\tau$ decay** HNLs can also be produced in 3-body decays of $\\tau$. These decays are of the type $\\tau \\to \\nu_{\\tau} \\ell_{\\alpha} N$ or $\\tau \\to \\bar{\\nu}_{\\alpha} \\ell_{\\alpha} N$. The corresponding differential branching fractions are given by,\n",
    "\\begin{aligned}\n",
    "\\frac{d \\mathrm{Br}\\left(\\tau \\rightarrow \\nu_\\tau \\mathrm{l}_\\alpha \\mathrm{N}\\right)}{d E_N} &=\\tau_\\tau \\cdot \\frac{\\left|U_\\alpha\\right|^2}{2 \\pi^3} G_F^2 M_\\tau^2 \\cdot E_N\\left(1+\\frac{M_N^2-M_l^2}{M_\\tau^2}-2 \\frac{E_N}{M_\\tau}\\right)\\left(1-\\frac{M_l^2}{M_\\tau^2+M_N^2-2 E_N M_\\tau}\\right) \\sqrt{E_N^2-M_N^2} \\\\\n",
    "\\end{aligned}\n",
    "and\n",
    "\\begin{aligned}\n",
    "\\frac{d \\operatorname{Br}\\left(\\tau \\rightarrow \\bar{\\nu}_\\alpha l_\\alpha \\mathrm{N}\\right)}{d E_N} &=\\tau_\\tau \\cdot \\frac{\\left|U_\\tau\\right|^2}{4 \\pi^3} G_F^2 M_\\tau^2\\left(1-\\frac{M_l^2}{M_\\tau^2+M_N^2-2 E_N M_\\tau}\\right)^2 \\sqrt{E_N^2-M_N^2} \\\\\n",
    "& \\times\\left(\\left(M_\\tau-E_N\\right)\\left(1-\\frac{M_N^2+M_l^2}{M_\\tau^2}\\right)-\\left(1-\\frac{M_l^2}{M_\\tau^2+M_N^2-2 E_N M_\\tau}\\right)\\left(\\frac{\\left(M_\\tau-E_N\\right)^2}{M_\\tau}+\\frac{E_N^2-M_N^2}{3 M_\\tau}\\right)\\right)\n",
    "\\end{aligned}\n",
    "\n",
    "In particular we consider the decays:\n",
    "- $\\tau^{\\pm} \\to \\nu_{\\tau} \\ell^{\\pm}_{\\alpha} N, \\text{ where } \\alpha \\neq \\tau$\n",
    "- $\\tau^{\\pm} \\to \\bar{\\nu}_{\\alpha} \\ell_{\\alpha}^{\\pm} N, \\text{ where } \\alpha \\neq \\tau$\n"
   ]
  },
  {
   "cell_type": "code",
   "execution_count": 11,
   "metadata": {},
   "outputs": [
    {
     "name": "stdout",
     "output_type": "stream",
     "text": [
      "[\"3body_tau_15_11_18\", \"oldlace\", r\"$\\tau^- \\to l^- + \\nu_{\\tau} + N$\"],\n",
      "[\"3body_tau_-15_-11_18\", \"lightgreen\", r\"$\\tau^+ \\to l^+ + \\nu_{\\tau} + N$\"],\n",
      "[\"3body_tau_15_11_12\", \"beige\", r\"$\\tau^- \\to l^- + \\bar{\\nu}_l + N$\"],\n",
      "[\"3body_tau_-15_-11_12\", \"ivory\", r\"$\\tau^+ \\to l^+ + \\bar{\\nu}_l + N$\"],\n"
     ]
    }
   ],
   "source": [
    "#tau 3 body decays \\tau \\to \\nu_{\\tau} + l_{\\alpha} + N\n",
    "#can a tau decay into another tau particle with a lower energy? I am assuming no, since you could transform into rest frame and violate cons of energy\n",
    "channels = [\n",
    "[r'\\tau^- \\to l^- + \\nu_{\\tau} + N','15','18',''],\n",
    "[r'\\tau^+ \\to l^+ + \\nu_{\\tau} + N','-15','18','-']\n",
    "]\n",
    "\n",
    "for label, pid_parent, pid_nu, sign_lep in channels:\n",
    "    for pid_lep in [\"11\",\"13\"]:\n",
    "        if hnl.vcoupling[pid_lep] <1e-9: continue\n",
    "        label1=\"3body_tau_\" + pid_parent + \"_\" + sign_lep+pid_lep + \"_\" + pid_nu\n",
    "        print('[' + '\"' + label1 + '\"' + ', ' + '\"' + colors[random.randint(0,length-1)] + '\"' + ', ' + 'r\"$' + label + '$\"' + '],')\n",
    "        model.add_production_3bodydecay(\n",
    "            label = label1,\n",
    "            pid0 = pid_parent,\n",
    "            pid1 = sign_lep+pid_lep,\n",
    "            pid2 = pid_nu,\n",
    "            br = hnl.get_3body_dbr_tau(pid_parent,sign_lep+pid_lep,pid_nu),\n",
    "            generator = \"Pythia8\",\n",
    "            energy = energy,\n",
    "            nsample = 1000,\n",
    "            integration = \"dEN\",\n",
    "        )\n",
    "        allchannels.append(label1)\n",
    "\n",
    "\n",
    "#tau 3 body decays '\\tau^- \\to l^- + \\bar{\\nu}_l + N'\n",
    "channels=[\n",
    "[r'\\tau^- \\to l^- + \\bar{\\nu}_l + N','15',''],\n",
    "[r'\\tau^+ \\to l^+ + \\bar{\\nu}_l + N','-15','-']\n",
    "]\n",
    "for label, pid_parent, sign_lep in channels:\n",
    "    for pid_lep in [\"11\",\"13\"]:\n",
    "        if pid_lep==\"11\":\n",
    "            pid_nu=\"12\"\n",
    "        if pid_lep==\"13\":\n",
    "            pid_nu=\"14\"\n",
    "        if hnl.vcoupling[pid_lep] <1e-9: continue\n",
    "        label1=\"3body_tau_\" + pid_parent + \"_\" + sign_lep+pid_lep + \"_\" + pid_nu\n",
    "        print('[' + '\"' + label1 + '\"' + ', ' + '\"' + colors[random.randint(0,length-1)] + '\"' + ', ' + 'r\"$' + label + '$\"' + '],')\n",
    "        model.add_production_3bodydecay(\n",
    "            label = label1,\n",
    "            pid0 = pid_parent,\n",
    "            pid1 = sign_lep+pid_lep,\n",
    "            pid2 = pid_nu,\n",
    "            br = hnl.get_3body_dbr_tau(pid_parent,sign_lep+pid_lep,pid_nu),\n",
    "            generator = \"Pythia8\",\n",
    "            energy = energy,\n",
    "            nsample = 1000,\n",
    "            integration = \"dEN\",\n",
    "        )\n",
    "        allchannels.append(label1)\n",
    "\n",
    "\n",
    "\n",
    "\n"
   ]
  },
  {
   "cell_type": "markdown",
   "metadata": {},
   "source": [
    "### b) HNL Decays\n",
    "\n",
    "HNLs can decay in a variety of final states, where the BR and lifetimes depend on our choice of $V_\\alpha$. In the follwing, we use the function `hnl.get_br_and_ctau()` to create the model files for the branching ratio and lifetime. \n",
    "\n",
    "$\\color{red}{\\text{      ... YOU WILL NEED TO IMPLEMENT THIS FUNCTION}}$"
   ]
  },
  {
   "cell_type": "code",
   "execution_count": 12,
   "metadata": {},
   "outputs": [],
   "source": [
    "# hnl.get_br_and_ctau()"
   ]
  },
  {
   "cell_type": "markdown",
   "metadata": {},
   "source": [
    "**Lifetime:** Like for most other models, HNLs lifetime can be written as $\\ c\\tau(m,g)\\  =\\  c\\tau(m,g_*) \\ \\cdot\\  g_*^2 \\ / \\ g^{2}$ where $m$ is the mass, $g$ is the coupling and $g_*$ is some reference coupling. In this case, we can provide a table of masses $m$ and lifetimes $c\\tau(m,g_*)$ at a reference coupling $g_*$ using `model.set_ctau_1d`. Alternatively, one can also provide a table of masses $m$, couplings $g$ and lifetimes $c\\tau(m,g)$ via `model.set_ctau_2d()`. "
   ]
  },
  {
   "cell_type": "markdown",
   "metadata": {},
   "source": [
    "$\\color{red}{\\text{      ... I AM NOT SURE IF THE ctau.txt FILE IS CORRECT NOR WHERE IT CAME FROM.}}$\n",
    "$\\color{red}{\\text{      ... BUT WE WILL RECALCULATE AND VALIDATE THIS ANYWAY}}$"
   ]
  },
  {
   "cell_type": "code",
   "execution_count": 13,
   "metadata": {},
   "outputs": [],
   "source": [
    "model.set_ctau_1d(\n",
    "    filename=\"model/ctau.txt\", \n",
    "    coupling_ref=10**-3.5\n",
    ")"
   ]
  },
  {
   "cell_type": "markdown",
   "metadata": {},
   "source": [
    "**Branching Fractions:** Similarly, the branching fractions into particular decay channels are independent of the overall couplings. In this case, we can provide a set of tables of masses $m$ and branching fractions $BR(m)$ using `model.set_br_1d`. Alternatively, we can also provide table of masses $m$, couplings $g$ and branching fraction $BR(m,g)$ via `model.set_br_2d()`. In both cases, we need to specify a list of decay modes and a list of filenames with the corresponding data tables. "
   ]
  },
  {
   "cell_type": "code",
   "execution_count": 14,
   "metadata": {},
   "outputs": [],
   "source": [
    "model.set_br_1d(\n",
    "    modes=[\"e_e_ve\"],\n",
    "    finalstates=[[11,-11,12]],\n",
    "    filenames=[\"model/br/br_elec.txt\"]\n",
    ")"
   ]
  },
  {
   "cell_type": "markdown",
   "metadata": {},
   "source": [
    "## 3. Generate LLP Spectra"
   ]
  },
  {
   "cell_type": "markdown",
   "metadata": {},
   "source": [
    "After we have specified the model, let us generate the LLP spectra. We first set the model we just created. "
   ]
  },
  {
   "cell_type": "code",
   "execution_count": 15,
   "metadata": {},
   "outputs": [],
   "source": [
    "foresee.set_model(model=model)"
   ]
  },
  {
   "cell_type": "markdown",
   "metadata": {},
   "source": [
    "FORESEE has the option to plot hadron decay BR into LLPs as a function of the particle mass. This can be done via `foresee.plot_production_branchings()`. This is shown below:"
   ]
  },
  {
   "cell_type": "code",
   "execution_count": 17,
   "metadata": {},
   "outputs": [
    {
     "name": "stderr",
     "output_type": "stream",
     "text": [
      "/Users/alechewitt/Desktop/Git_felix_1/FORESEE/src/foresee.py:1298: UserWarning: Attempted to set non-positive left xlim on a log-scaled axis.\n",
      "Invalid limit will be ignored.\n",
      "  ax.set_xlim(xlims[0],xlims[1])\n",
      "/Users/alechewitt/Desktop/Git_felix_1/FORESEE/src/foresee.py:1299: UserWarning: Attempted to set non-positive bottom ylim on a log-scaled axis.\n",
      "Invalid limit will be ignored.\n",
      "  ax.set_ylim(ylims[0],ylims[1])\n"
     ]
    },
    {
     "data": {
      "image/png": "[encoded data removed]",
      "text/plain": [
       "<Figure size 504x360 with 1 Axes>"
      ]
     },
     "metadata": {
      "needs_background": "light"
     },
     "output_type": "display_data"
    }
   ],
   "source": [
    "masses = np.logspace(-1,1,20+1)\n",
    "\n",
    "productions_2body=[\n",
    "[\"2body_411_-11\", \"mediumorchid\", r\"$D^+ \\to l^+ + N$\"],\n",
    "[\"2body_411_-15\", \"lightcoral\", r\"$D^+ \\to l^+ + N$\"],\n",
    "[\"2body_-411_11\", \"darkgray\", r\"$D^- \\to l^- + N$\"],\n",
    "[\"2body_-411_15\", \"darkgray\", r\"$D^- \\to l^- + N$\"],\n",
    "[\"2body_431_-11\", \"tan\", r\"$D_s^+ \\to l^+ + N$\"],\n",
    "[\"2body_431_-15\", \"darkblue\", r\"$D_s^+ \\to l^+ + N$\"],\n",
    "[\"2body_-431_11\", \"slategrey\", r\"$D_s^- \\to l^- + N$\"],\n",
    "[\"2body_-431_15\", \"aqua\", r\"$D_s^- \\to l^- + N$\"],\n",
    "[\"2body_521_-11\", \"paleturquoise\", r\"$B^+ \\to + l^+ + N$\"],\n",
    "[\"2body_521_-15\", \"lightcyan\", r\"$B^+ \\to + l^+ + N$\"],\n",
    "[\"2body_-521_11\", \"slategray\", r\"$B^- \\to + l^- + N$\"],\n",
    "[\"2body_-521_15\", \"mistyrose\", r\"$B^- \\to + l^- + N$\"],\n",
    "[\"2body_541_-11\", \"olivedrab\", r\"$B_c^+ \\to + l^+ + N$\"],\n",
    "[\"2body_541_-15\", \"darkgoldenrod\", r\"$B_c^+ \\to + l^+ + N$\"],\n",
    "[\"2body_-541_11\", \"lightyellow\", r\"$B_c^- \\to + l^- + N$\"],\n",
    "[\"2body_-541_15\", \"olivedrab\", r\"$B_c^- \\to + l^- + N$\"]\n",
    "]\n",
    "\n",
    "productions_2body_tau=[\n",
    "[\"2body_tau_15_-211\", \"pink\", r\"$\\tau^- \\to \\pi^- + N$\"],\n",
    "[\"2body_tau_15_211\", \"blueviolet\", r\"$\\tau^+ \\to \\pi^+ + N$\"],\n",
    "[\"2body_tau_15_-321\", \"darkslategray\", r\"$\\tau^- \\to K^- + N$\"],\n",
    "[\"2body_tau_15_321\", \"gainsboro\", r\"$\\tau^+ \\to K^+ + N$\"],\n",
    "[\"2body_tau_15_-213\", \"lightblue\", r\"$\\tau^- \\to \\rho^- + N$\"],\n",
    "[\"2body_tau_15_213\", \"moccasin\", r\"$\\tau^+ \\to \\rho^+ + N$\"]\n",
    "]\n",
    "\n",
    "productions_3body_pseudo=[\n",
    "[\"3body_pseudo_421_-321_-11\", \"darkorange\", r\"$D^0 \\to K^- + l^+ + N$\"],\n",
    "[\"3body_pseudo_421_321_11\", \"lavenderblush\", r\"$D^0 \\to K^+ + l^- + N$\"],\n",
    "[\"3body_pseudo_411_-311_-11\", \"khaki\", r\"$D^+ \\to \\bar{K}^0 + l^+ + N$\"],\n",
    "[\"3body_pseudo_-411_-311_11\", \"deepskyblue\", r\"$D^- \\to \\bar{K}^0 + l^- + N$\"],\n",
    "[\"3body_pseudo_521_421_-11\", \"lawngreen\", r\"$B^+ \\to \\bar{D}^0 + l^+ + N$\"],\n",
    "[\"3body_pseudo_521_421_-15\", \"forestgreen\", r\"$B^+ \\to \\bar{D}^0 + l^+ + N$\"],\n",
    "[\"3body_pseudo_-521_421_11\", \"paleturquoise\", r\"$B^- \\to \\bar{D}^0 + l^- + N$\"],\n",
    "[\"3body_pseudo_-521_421_15\", \"darkkhaki\", r\"$B^- \\to \\bar{D}^0 + l^- + N$\"],\n",
    "[\"3body_pseudo_511_-411_-11\", \"ghostwhite\", r\"$B^0 \\to D^- + l^+ + N$\"],\n",
    "[\"3body_pseudo_511_-411_-15\", \"snow\", r\"$B^0 \\to D^- + l^+ + N$\"],\n",
    "[\"3body_pseudo_511_411_11\", \"black\", r\"$B^0 \\to D^+ + l^- + N$\"],\n",
    "[\"3body_pseudo_511_411_15\", \"mediumturquoise\", r\"$B^0 \\to D^+ + l^- + N$\"],\n",
    "[\"3body_pseudo_531_-431_-11\", \"lightsteelblue\", r\"$B^0_s \\to D^-_s + l^+ + N$\"],\n",
    "[\"3body_pseudo_531_-431_-15\", \"greenyellow\", r\"$B^0_s \\to D^-_s + l^+ + N$\"],\n",
    "[\"3body_pseudo_531_431_11\", \"darkslategrey\", r\"$B^0_s \\to D^+_s + l^- + N$\"],\n",
    "[\"3body_pseudo_531_431_15\", \"lemonchiffon\", r\"$B^0_s \\to D^+_s + l^- + N$\"],\n",
    "[\"3body_pseudo_541_511_-11\", \"lightcyan\", r\"$B^+_c \\to B^0 + l^+ + N$\"],\n",
    "[\"3body_pseudo_-541_511_11\", \"yellowgreen\", r\"$B^-_c \\to B^0 + l^- + N$\"],\n",
    "[\"3body_pseudo_541_531_-11\", \"chocolate\", r\"$B^+_c \\to B^0_s + l^+ + N$\"],\n",
    "[\"3body_pseudo_-541_531_11\", \"yellow\", r\"$B^-_c \\to B^0_s + l^- + N$\"]\n",
    "]\n",
    "\n",
    "productions_3body_vector=[\n",
    "[\"3body_vector_421_-323_-11\", \"darkslateblue\", r\"$D^0 \\to K^{*-} + l^+ + N$\"],\n",
    "[\"3body_vector_421_-323_-15\", \"darkslategrey\", r\"$D^0 \\to K^{*-} + l^+ + N$\"],\n",
    "[\"3body_vector_421_323_11\", \"darkseagreen\", r\"$D^0 \\to K^{*} + l^- + N$\"],\n",
    "[\"3body_vector_421_323_15\", \"darkseagreen\", r\"$D^0 \\to K^{*} + l^- + N$\"],\n",
    "[\"3body_vector_521_-423_-11\", \"cadetblue\", r\"$B^+ \\to \\bar{D}^*0 + l^+ + N$\"],\n",
    "[\"3body_vector_521_-423_-15\", \"lightseagreen\", r\"$B^+ \\to \\bar{D}^*0 + l^+ + N$\"],\n",
    "[\"3body_vector_-521_-423_11\", \"lightsalmon\", r\"$B^- \\to \\bar{D}^*0 + l^- + N$\"],\n",
    "[\"3body_vector_-521_-423_15\", \"snow\", r\"$B^- \\to \\bar{D}^*0 + l^- + N$\"],\n",
    "[\"3body_vector_511_-413_-11\", \"orchid\", r\"$B^0 \\to D^{*-} + l^+ + N$\"],\n",
    "[\"3body_vector_511_-413_-15\", \"lightblue\", r\"$B^0 \\to D^{*-} + l^+ + N$\"],\n",
    "[\"3body_vector_511_413_11\", \"lightgreen\", r\"$B^0 \\to D^{*+} + l^- + N$\"],\n",
    "[\"3body_vector_511_413_15\", \"papayawhip\", r\"$B^0 \\to D^{*+} + l^- + N$\"],\n",
    "[\"3body_vector_531_-433_-11\", \"darkgoldenrod\", r\"$B^0_s \\to D^{*-}_s + l^+ + N$\"],\n",
    "[\"3body_vector_531_-433_-15\", \"mediumaquamarine\", r\"$B^0_s \\to D^{*-}_s + l^+ + N$\"],\n",
    "[\"3body_vector_531_433_11\", \"darkkhaki\", r\"$B^0_s \\to D^{*+}_s + l^- + N$\"],\n",
    "[\"3body_vector_531_433_15\", \"darkslateblue\", r\"$B^0_s \\to D^{*+}_s + l^- + N$\"],\n",
    "[\"3body_vector_541_513_-11\", \"lightseagreen\", r\"$B^+_c \\to B^{*0} + l^+ + N$\"],\n",
    "[\"3body_vector_541_513_-15\", \"mediumturquoise\", r\"$B^+_c \\to B^{*0} + l^+ + N$\"],\n",
    "[\"3body_vector_-541_513_11\", \"sandybrown\", r\"$B^-_c \\to B^{*0} + l^- + N$\"],\n",
    "[\"3body_vector_-541_513_15\", \"beige\", r\"$B^-_c \\to B^{*0} + l^- + N$\"],\n",
    "[\"3body_vector_541_533_-11\", \"grey\", r\"$B^+_c \\to B^{*0}_s+ l^+ + N$\"],\n",
    "[\"3body_vector_541_533_-15\", \"rebeccapurple\", r\"$B^+_c \\to B^{*0}_s+ l^+ + N$\"],\n",
    "[\"3body_vector_-541_533_11\", \"blue\", r\"$B^-_c \\to B^{*0}_s+ l^- + N$\"],\n",
    "[\"3body_vector_-541_533_15\", \"mediumblue\", r\"$B^-_c \\to B^{*0}_s+ l^- + N$\"]\n",
    "]\n",
    "\n",
    "productions_3body_tau=[\n",
    "[\"3body_tau_15_11_18\", \"lightslategray\", r\"$\\tau^- \\to l^- + \\nu_{\\tau} + N$\"],\n",
    "[\"3body_tau_-15_-11_18\", \"antiquewhite\", r\"$\\tau^+ \\to l^+ + \\nu_{\\tau} + N$\"],\n",
    "[\"3body_tau_15_11_12\", \"palegoldenrod\", r\"$\\tau^- \\to l^- + \\bar{\\nu}_l + N$\"],\n",
    "[\"3body_tau_-15_-11_12\", \"slateblue\", r\"$\\tau^+ \\to l^+ + \\bar{\\nu}_l + N$\"]\n",
    "]\n",
    "\n",
    "foresee.plot_production_branchings(\n",
    "    masses = masses, \n",
    "    productions = productions_3body_vector,\n",
    "    xlims=[0,3],ylims=[0,.5], \n",
    "    xlabel=r\"HNL Mass [GeV]\", \n",
    "    ylabel=r\"BR/$g^2$\",\n",
    "    legendloc=(1.02,1.02),\n",
    "    fs_label=12,log_scale=True\n",
    ")\n",
    "\n",
    "plot.show()"
   ]
  },
  {
   "cell_type": "markdown",
   "metadata": {},
   "source": [
    "Let's first look at one benchmark scenario with $M_{N}=1$ GeV and $\\epsilon=10^{-3.5}$ using the function `foresee.get_llp_spectrum()`. By default, the result are saved in the `model/LLP_spectra` directory. However, here set `save_file=False` since we don't want to save the results but set `do_plot=True` to plot them. "
   ]
  },
  {
   "cell_type": "code",
   "execution_count": 13,
   "metadata": {},
   "outputs": [
    {
     "data": {
      "image/png": "[encoded data removed]",
      "text/plain": [
       "<Figure size 504x396 with 2 Axes>"
      ]
     },
     "metadata": {
      "needs_background": "light"
     },
     "output_type": "display_data"
    }
   ],
   "source": [
    "plot = foresee.get_llp_spectrum(mass=1., coupling=10**-3.5, do_plot=True, save_file=False)"
   ]
  },
  {
   "cell_type": "markdown",
   "metadata": {},
   "source": [
    "We can now produce a set of LLP spectra for various masses  (chosen to be equally spaced in log(mass)) and unit coupling and save them. "
   ]
  },
  {
   "cell_type": "code",
   "execution_count": 14,
   "metadata": {},
   "outputs": [
    {
     "name": "stdout",
     "output_type": "stream",
     "text": [
      "save data to file: ./model/LLP_spectra/14TeV_2body_411_-11_m_1.npy\n",
      "save data to file: ./model/LLP_spectra/14TeV_2body_-411_11_m_1.npy\n",
      "save data to file: ./model/LLP_spectra/14TeV_2body_431_-11_m_1.npy\n",
      "save data to file: ./model/LLP_spectra/14TeV_2body_-431_11_m_1.npy\n",
      "save data to file: ./model/LLP_spectra/14TeV_2body_521_-11_m_1.npy\n",
      "save data to file: ./model/LLP_spectra/14TeV_2body_-521_11_m_1.npy\n",
      "save data to file: ./model/LLP_spectra/14TeV_2body_541_-11_m_1.npy\n",
      "save data to file: ./model/LLP_spectra/14TeV_2body_-541_11_m_1.npy\n",
      "save data to file: ./model/LLP_spectra/14TeV_3body_411_-311_-11_m_1.npy\n",
      "save data to file: ./model/LLP_spectra/14TeV_3body_-411_-311_11_m_1.npy\n",
      "save data to file: ./model/LLP_spectra/14TeV_3body_421_-321_-11_m_1.npy\n",
      "save data to file: ./model/LLP_spectra/14TeV_3body_521_421_-11_m_1.npy\n",
      "save data to file: ./model/LLP_spectra/14TeV_3body_511_-411_-11_m_1.npy\n",
      "save data to file: ./model/LLP_spectra/14TeV_3body_531_-431_-11_m_1.npy\n"
     ]
    }
   ],
   "source": [
    "masses = np.logspace(-1,1,20+1)\n",
    "masses = [1]\n",
    "for mass in masses:\n",
    "    foresee.get_llp_spectrum(mass=mass,coupling=1)"
   ]
  },
  {
   "cell_type": "markdown",
   "metadata": {},
   "source": [
    "## 4. Count Event Rate in Detector"
   ]
  },
  {
   "cell_type": "markdown",
   "metadata": {},
   "source": [
    "Before counting the number of decays within the detector volume, let us specify the detector geometry. For this we need\n",
    "\n",
    "- the `distance` from the IP in meter (default: 480)\n",
    "- the `length` in meter (default: 5)\n",
    "- the `luminosity` in units of fb^-1 (default: 3000)\n",
    "- the `selection` depending in `x.x` and `x.y` (default: `np.sqrt(x.x**2 + x.y**2)< 1`)\n",
    "- the decay `channels` which the detector can see (default: None, meaning all of them)\n",
    "\n",
    "The default correspond to the FASER2 detector."
   ]
  },
  {
   "cell_type": "code",
   "execution_count": 15,
   "metadata": {},
   "outputs": [],
   "source": [
    "distance, selection, length, luminosity, channels = 480, \"np.sqrt(x.x**2 + x.y**2)< 1\", 5, 3000, None\n",
    "foresee.set_detector(distance=distance, selection=selection, length=length, luminosity=luminosity, channels=channels)"
   ]
  },
  {
   "cell_type": "markdown",
   "metadata": {},
   "source": [
    "Let us look for one specific HNL mass $M_{N}=1$ GeV at how many particle decay inside the decay volume. This can be done using `get_events()` for which we need to specify again the mass and filename. Additionally, we can specify \n",
    "\n",
    "- the `couplings` for which we evaluate the event rate as numpy array (deault `np.logspace(-8,-3,51)`)\n",
    "- the `preselectioncuts` when reading the LLP spectra in terms of momentum `p` and angle `th` (default: `th<0.01 and p>100`)\n",
    "- the number `nsample` describing how many randomly choosen values of $\\phi_{LLP}$ should sampled (default 1). This is only relevant for detectors that are not cylyndrical or not centered around the beam axis. \n",
    "- the production `modes` which should be considered\n",
    "- the `energy` of the experiments"
   ]
  },
  {
   "cell_type": "code",
   "execution_count": 16,
   "metadata": {},
   "outputs": [
    {
     "name": "stdout",
     "output_type": "stream",
     "text": [
      "epsilon = 1.000e-05 : nsignal = 8.436e-06\n",
      "epsilon = 1.000e-04 : nsignal = 8.436e-02\n",
      "epsilon = 1.000e-03 : nsignal = 8.418e+02\n",
      "epsilon = 1.000e-02 : nsignal = 6.889e+06\n",
      "epsilon = 1.000e-01 : nsignal = 1.111e+08\n",
      "epsilon = 1.000e+00 : nsignal = 5.229e-43\n"
     ]
    }
   ],
   "source": [
    "output = foresee.get_events(mass=1, energy=energy, couplings=np.logspace(-5,0,6))\n",
    "coups, ctaus, nsigs, momenta, weights = output\n",
    "for coup,ctau,nsig in zip(coups, ctaus, nsigs):\n",
    "    print (\"epsilon =\", '{:5.3e}'.format(coup), \": nsignal =\", '{:5.3e}'.format(nsig))"
   ]
  },
  {
   "cell_type": "markdown",
   "metadata": {},
   "source": [
    "The previous function also outputs the energy distribution of the HNL particles which decay inside the detector. Let's have a look at them."
   ]
  },
  {
   "cell_type": "code",
   "execution_count": 17,
   "metadata": {},
   "outputs": [
    {
     "data": {
      "image/png": "[encoded data removed]",
      "text/plain": [
       "<Figure size 504x360 with 1 Axes>"
      ]
     },
     "metadata": {
      "needs_background": "light"
     },
     "output_type": "display_data"
    }
   ],
   "source": [
    "from matplotlib import pyplot as plt\n",
    "fig = plt.figure(figsize=(7,5))\n",
    "ax = plt.subplot(1,1,1)\n",
    "ens=[]\n",
    "for coup,momentum,weight in zip(coups,momenta,weights):\n",
    "    if sum(weight)<10**-3 : continue\n",
    "    ax.hist([p.e for p in momentum],  weights=weight, bins=np.logspace(2,4, 20), histtype='step', label=r\"$g=$\"+str(coup)) \n",
    "    ax.set_xscale(\"log\")\n",
    "    ax.set_yscale(\"log\")\n",
    "    ax.set_ylim(10**-1,9*10**7) \n",
    "    ax.set_xlabel(\"E(N) [GeV]\") \n",
    "    ax.set_ylabel(\"Number of Events per bin\") \n",
    "    ax.legend(frameon=False, labelspacing=0)\n",
    "plt.tight_layout()\n",
    "plt.show()"
   ]
  },
  {
   "cell_type": "markdown",
   "metadata": {},
   "source": [
    "FORESEE also includes a function `write_events()` which obtains an unweighted sample of LLP decay events and saves them as a HEPMC file. For this function, we need to specify\n",
    "- the `mass` and `coupling` of the LLP\n",
    "- the collision `energy`\n",
    "- the number of events `numberevent` that should be samples (optional, default=10)\n",
    "- the `filename` of the output file (optional, default=`model/events/<mass>_<coupling>.hepmc`)\n",
    "- the z-position (in meter) of the beginning of the decay volume (optional, default=0)\n",
    "- a random `seed` (optional, default=None)\n",
    "- the `decaychannels` for which the event should bbe written to file (optional, default=None meaning that all channels are written to file)\n",
    "\n",
    "At the moment, FORESEE only supports 2-body LLP decays. For all other cases, including those where no final state information was specified when initiating the `Model`, the LLP will not be decayed. "
   ]
  },
  {
   "cell_type": "code",
   "execution_count": 18,
   "metadata": {},
   "outputs": [
    {
     "name": "stderr",
     "output_type": "stream",
     "text": [
      "/Users/felixkling/Documents/GitHub/FORESEE/src/foresee.py:1037: VisibleDeprecationWarning: Creating an ndarray from ragged nested sequences (which is a list-or-tuple of lists-or-tuples-or ndarrays with different lengths or shapes) is deprecated. If you meant to do this, you must specify 'dtype=object' when creating the ndarray\n",
      "  channels=np.array(channels).T\n"
     ]
    }
   ],
   "source": [
    "foresee.write_events(filename=\"model/events/test.hepmc\", mass=1, coupling=1.000e-02, \n",
    "    energy=\"14\", numberevent=10, zfront=0)"
   ]
  },
  {
   "cell_type": "markdown",
   "metadata": {},
   "source": [
    "Let us have a look at a the output:"
   ]
  },
  {
   "cell_type": "code",
   "execution_count": 19,
   "metadata": {},
   "outputs": [
    {
     "name": "stdout",
     "output_type": "stream",
     "text": [
      "HepMC::Version 2.06.09\n",
      "HepMC::IO_GenEvent-START_EVENT_LISTING\n",
      "E 0 -1 -1. -1. -1. 0 -1 1 1 0 0 0\n",
      "U GEV MM\n",
      "C 689565.3023301548 0.\n",
      "F 0 0 0 0 0 0 0 0 0\n",
      "V -1 0 251.3516300901 69.8444642807 1789.1647076574 0 1 0 0\n",
      "P 1 32 0.1144909564 0.0318142338 218.6405517227 218.6428708601 1.0 1 0 0 -1 0\n",
      "E 1 -1 -1. -1. -1. 0 -1 1 1 0 0 0\n",
      "U GEV MM\n",
      "C 689565.3023301548 0.\n",
      "F 0 0 0 0 0 0 0 0 0\n",
      "V -1 0 -467.94974992 623.3552811867 2115.8704623416 0 1 0 0\n",
      "P 1 32 -0.2028812033 0.2702577991 208.1056301169 208.1083071057 1.0 1 0 0 -1 0\n",
      "E 2 -1 -1. -1. -1. 0 -1 1 1 0 0 0\n",
      "U GEV MM\n",
      "C 689565.3023301548 0.\n",
      "F 0 0 0 0 0 0 0 0 0\n",
      "V -1 0 884.0975641757 -127.6557767214 4852.3915469523 0 1 0 0\n",
      "P 1 32 0.545374419 -0.0787471857 296.0982268377 296.1004281841 1.0 1 0 0 -1 0\n",
      "E 3 -1 -1. -1. -1. 0 -1 1 1 0 0 0\n",
      "U GEV MM\n",
      "C 689565.3023301548 0.\n",
      "F 0 0 0 0 0 0 0 0 0\n",
      "V -1 0 -303.604467263 -106.847827549 2196.6419808459 0 1 0 0\n",
      "P 1 32 -0.3332660534 -0.1172866596 526.8950983414 526.8961657467 1.0 1 0 0 -1 0\n",
      "E 4 -1 -1. -1. -1. 0 -1 1 1 0 0 0\n",
      "U GEV MM\n",
      "C 689565.3023301548 0.\n",
      "F 0 0 0 0 0 0 0 0 0\n",
      "V -1 0 356.54883931 838.3194691257 2198.0431913065 0 1 0 0\n",
      "P 1 32 0.2931838548 0.6893353908 394.6955782233 394.6975558691 1.0 1 0 0 -1 0\n",
      "E 5 -1 -1. -1. -1. 0 -1 1 1 0 0 0\n",
      "U GEV MM\n",
      "C 689565.3023301548 0.\n",
      "F 0 0 0 0 0 0 0 0 0\n",
      "V -1 0 -415.5742085182 609.6792979107 3312.8283342806 0 1 0 0\n",
      "P 1 32 -0.1497296653 0.2196649246 172.9420109617 172.9451063983 1.0 1 0 0 -1 0\n",
      "E 6 -1 -1. -1. -1. 0 -1 1 1 0 0 0\n",
      "U GEV MM\n",
      "C 689565.3023301548 0.\n",
      "F 0 0 0 0 0 0 0 0 0\n",
      "V -1 0 -514.3382442056 -95.6554038869 1534.0639228589 0 1 0 0\n",
      "P 1 32 -0.3839252904 -0.0714015128 358.2936743828 358.2952826923 1.0 1 0 0 -1 0\n",
      "E 7 -1 -1. -1. -1. 0 -1 1 1 0 0 0\n",
      "U GEV MM\n",
      "C 689565.3023301548 0.\n",
      "F 0 0 0 0 0 0 0 0 0\n",
      "V -1 0 450.115669433 -862.6765625824 2582.7665424955 0 1 0 0\n",
      "P 1 32 0.1079067242 -0.2068104006 115.0709276414 115.0755091349 1.0 1 0 0 -1 0\n",
      "E 8 -1 -1. -1. -1. 0 -1 1 1 0 0 0\n",
      "U GEV MM\n",
      "C 689565.3023301548 0.\n",
      "F 0 0 0 0 0 0 0 0 0\n",
      "V -1 0 30.5635817405 -221.0072973191 3718.3066072808 0 1 0 0\n",
      "P 1 32 0.0848450707 -0.6135203634 1332.4889178401 1332.489437021 0.9999999999 1 0 0 -1 0\n",
      "E 9 -1 -1. -1. -1. 0 -1 1 1 0 0 0\n",
      "U GEV MM\n",
      "C 689565.3023301548 0.\n",
      "F 0 0 0 0 0 0 0 0 0\n",
      "V -1 0 285.6289098994 946.8137753781 4562.3830504581 0 1 0 0\n",
      "P 1 32 0.3070227733 1.0177309825 515.9524336442 515.954497822 1.0 1 0 0 -1 0\n",
      "HepMC::IO_GenEvent-END_EVENT_LISTING\n",
      "\n"
     ]
    }
   ],
   "source": [
    "f = open(\"model/events/test.hepmc\", 'r')\n",
    "file_contents = f.read()\n",
    "print (file_contents)"
   ]
  },
  {
   "cell_type": "markdown",
   "metadata": {},
   "source": [
    "## 5. Parameter Scan"
   ]
  },
  {
   "cell_type": "markdown",
   "metadata": {},
   "source": [
    "In the following, we will get the LLP sensitivity reach for different detector configuraions. As an example, we show the FASER2 reach for dark photons for 3 scenarios. We just need to loop over different masses and use the previously introduced funtion `get_events`. The results will be written into a `.npy` file that we can store and plot later."
   ]
  },
  {
   "cell_type": "markdown",
   "metadata": {},
   "source": [
    "- the nominal/default setup"
   ]
  },
  {
   "cell_type": "code",
   "execution_count": 30,
   "metadata": {},
   "outputs": [
    {
     "name": "stderr",
     "output_type": "stream",
     "text": [
      "/Users/felixkling/anaconda/envs/python3/lib/python3.6/site-packages/numpy/core/_asarray.py:136: VisibleDeprecationWarning: Creating an ndarray from ragged nested sequences (which is a list-or-tuple of lists-or-tuples-or ndarrays with different lengths or shapes) is deprecated. If you meant to do this, you must specify 'dtype=object' when creating the ndarray\n",
      "  return array(a, dtype, copy=False, order=order, subok=True)\n"
     ]
    }
   ],
   "source": [
    "#masses\n",
    "masses = np.logspace(-1,1,20+1)\n",
    "\n",
    "#specify setup\n",
    "luminosity, distance = 3000 , 480\n",
    "setup, selection, channels = \"default\", \"np.sqrt(x.x**2 + x.y**2)< 1\", None\n",
    "foresee.set_detector(selection=selection, channels=channels, distance=distance, luminosity=luminosity)\n",
    "\n",
    "#get reach \n",
    "list_nevents = []    \n",
    "for mass in masses:\n",
    "    couplings, _, nevents, _, _ = foresee.get_events(mass=mass, energy=energy,couplings=np.logspace(-5,0,50+1))\n",
    "    list_nevents.append(nevents)  \n",
    "    \n",
    "#save results\n",
    "np.save(model.modelpath+\"model/results/\"+energy+\"TeV_\"+setup+\".npy\",[masses,couplings,list_nevents])"
   ]
  },
  {
   "cell_type": "markdown",
   "metadata": {},
   "source": [
    "## 6. Plot the Results"
   ]
  },
  {
   "cell_type": "markdown",
   "metadata": {},
   "source": [
    "Now let's plot the results. We first specify all detector setups for which we want to show result (filename in model/results directory, label, color, linestyle, opacity alpha for filled contours, required number of events)."
   ]
  },
  {
   "cell_type": "code",
   "execution_count": 31,
   "metadata": {},
   "outputs": [],
   "source": [
    "setups = [\n",
    "    [\"14TeV_default.npy\",    \"default\"  , \"red\",     \"solid\", 0., 3],\n",
    "]"
   ]
  },
  {
   "cell_type": "markdown",
   "metadata": {},
   "source": [
    "Then we specify all the existing bounds (filename in model/bounds directory, label, label position x, label position y, label rotation)"
   ]
  },
  {
   "cell_type": "code",
   "execution_count": 32,
   "metadata": {},
   "outputs": [],
   "source": [
    "bounds = [ \n",
    "]"
   ]
  },
  {
   "cell_type": "markdown",
   "metadata": {},
   "source": [
    "We then specify other projected sensitivitities (filename in model/bounds directory, color, label, label position x, label position y, label rotation)"
   ]
  },
  {
   "cell_type": "code",
   "execution_count": 33,
   "metadata": {},
   "outputs": [],
   "source": [
    "projections = [\n",
    "    [\"limits_SHiP_el.txt\",      \"dodgerblue\" , \"SHiP\"      , 3   , 0.0001 , 0  ],\n",
    "    [\"limits_NA62_el.txt\",      \"blue\"       , \"NA62\"      , 1   , 0.0002 , 0  ],\n",
    "    [\"limits_DUNE_el.txt\",      \"cyan\"       , \"DUNE\"      , 0.6 , 0.00009, 0  ],\n",
    "    ['limits_CODEX_el.txt',     \"purple\"     , \"CODEX\"     , 2e-1, 0.0003 , 0  ],\n",
    "    [\"limits_MATHUSLA_el.txt\",  \"deepskyblue\", \"MATHUSLA\"  , 0.3 , 0.0001 , 0  ],\n",
    "    [\"limits_FASER2_el.txt\",    \"magenta\"    , \"FASER2 OLD\", 0.3 , 0.001  , 0  ]\n",
    "]"
   ]
  },
  {
   "cell_type": "markdown",
   "metadata": {},
   "source": [
    "Finally, we can plot everything using `foresee.plot_reach()`. It returns a matplotlib instance, to which we can add further lines and which we can show or save. Below, we add the dark matter relict target line for a specific benchmark."
   ]
  },
  {
   "cell_type": "code",
   "execution_count": 34,
   "metadata": {},
   "outputs": [
    {
     "data": {
      "image/png": "[encoded data removed]",
      "text/plain": [
       "<Figure size 576x432 with 1 Axes>"
      ]
     },
     "metadata": {
      "needs_background": "light"
     },
     "output_type": "display_data"
    }
   ],
   "source": [
    "plot = foresee.plot_reach(\n",
    "    setups=setups,\n",
    "    bounds=bounds,\n",
    "    projections=projections,\n",
    "    title=\"HNL with Electron Couplings\",\n",
    "    xlims = [1e-1, 10], \n",
    "    ylims = [1e-5, 1 ],\n",
    "    xlabel=r\"HNL mass $M_{N}$ [GeV]\", \n",
    "    ylabel=r\"Kinetic Mixing $|U_{e}|$\",\n",
    "    legendloc=(1,0.68),\n",
    "    figsize=(8,6),\n",
    ")\n",
    "plot.subplots_adjust(left=0.12, right=0.97, bottom=0.10, top=0.95)\n",
    "#plot.savefig(\"/Users/alechewitt/Desktop/Figure.pdf\")\n",
    "plot.show()"
   ]
  },
  {
   "cell_type": "markdown",
   "metadata": {},
   "source": [
    "$\\color{red}{\\text{      ... THE OLD (MAGENTA) and NEW (RED) LINES LOOK SIMILAR}}$\n",
    "$\\color{red}{\\text{      ... THE DIFFERENCED RE PROABLY DUE TO DIFFERENT CHARM PRODUCTION AND MISSING PROD. CHANNELS}}$"
   ]
  },
  {
   "cell_type": "markdown",
   "metadata": {},
   "source": [
    "## 7. Export Contours"
   ]
  },
  {
   "cell_type": "markdown",
   "metadata": {},
   "source": [
    "It might also be useful to extract the contours lines, and save them as a text file. This can be done using the `extract_contours()` function. As example, let us export the FASER2 line. "
   ]
  },
  {
   "cell_type": "code",
   "execution_count": null,
   "metadata": {},
   "outputs": [],
   "source": [
    "foresee.extract_contours(\n",
    "    inputfile=\"model/results/14TeV_default.npy\", \n",
    "    outputfile=\"model/lines/limits_FASER2.txt\"\n",
    ")"
   ]
  },
  {
   "cell_type": "markdown",
   "metadata": {},
   "source": [
    "## Plot Production Cross Section \n",
    "\n",
    "We also can plot the production cross section as a function of the particle mass via `foresee.plot_production`. We do this below to show the production rate associated with different channels (commenting out the subleading channels): "
   ]
  },
  {
   "cell_type": "code",
   "execution_count": null,
   "metadata": {},
   "outputs": [],
   "source": [
    "masses = [0.1, 0.2, 0.3, 0.7, 1, 1.2, 1.4, 2, 3 ]\n",
    "productions = [\n",
    "    [\"2body_411_-11\"     , None      , \"firebrick\"   , r\"$D^+ \\to e^+ N$\"   ],   \n",
    "    [\"2body_431_-11\"     , None      , \"red\"         , r\"$D_s^+ \\to e^+ N$\" ],   \n",
    "    [\"2body_521_-11\"     , [0.5,10]  , \"orange\"      , r\"$B^+ \\to e^+ N$\"   ],  \n",
    "    [\"2body_541_-11\"     , [0.5,10]  , \"gold\"        , r\"$B_c^+ \\to e^+ N$\" ],   \n",
    "    [\"3body_411_-311_-11\", None      , \"blue\"        , r\"$D^+ \\to \\bar{K}^0 e^+ N$\" ],   \n",
    "    [\"3body_421_-321_-11\", None      , \"deepskyblue\" , r\"$D^0 \\to K^- e^+ N$\"       ], \n",
    "    [\"3body_511_-411_-11\", [0.5,10]  , \"green\"       , r\"$B^0 \\to D^- e^+ N$\"       ], \n",
    "    [\"3body_531_-431_-11\", [0.5,10]  , \"limegreen\"   , r\"$B_s^+ \\to D_s^- e^+ N$\"   ], \n",
    "]\n",
    "\n",
    "foresee.plot_production(\n",
    "    masses = masses, \n",
    "    productions = productions,\n",
    "    condition=\"True\", \n",
    "    xlims=[0.1,30],ylims=[10**0,10**10], \n",
    "    xlabel=r\"HNL Mass [GeV]\", \n",
    "    ylabel=r\"Production Rate $\\sigma/\\epsilon^2$ [pb]\",\n",
    "    legendloc=(1.02,1.02),\n",
    "    fs_label=12,\n",
    "    title=\"All HNLs\",\n",
    ")\n",
    "\n",
    "plot.savefig(\"Figure_HNL_Prod_All.pdf\")\n",
    "plot.show()"
   ]
  },
  {
   "cell_type": "code",
   "execution_count": 8,
   "metadata": {},
   "outputs": [
    {
     "name": "stdout",
     "output_type": "stream",
     "text": [
      "334906.4431206457\n",
      "-309843.72139511176\n",
      "245057.81202642337\n",
      "480.7162747587744\n",
      "771783.0450189715\n",
      "249071.01901309317\n"
     ]
    }
   ],
   "source": [
    "#HNL decays 2 body decays\n",
    "#pid1 is the meson pid2 is the smaller particle either lepton or neutrino\n",
    "#from HNL_decays_1\n",
    "#fH is called the decay constant\n",
    "self=model\n",
    "SecToGev=1./(6.582122*pow(10.,-25.))\n",
    "pid1=\"111\"\n",
    "tauN=10**-5*SecToGev\n",
    "GF=1.166378*10**(-5) #GeV^(-2)\n",
    "coupling=1\n",
    "mass=1\n",
    "pid1=\"111\"\n",
    "pid2=\"12\" #electron neutrino\n",
    "br_pi_nu=f\"tauN*(coupling**2*GF**2*hnl.fH(pid1)**2*mass**3/(32*np.pi))*(1-self.masses(pid1)**2/mass**2)**2\"\n",
    "print(eval(br_pi_nu))\n",
    "pid1=\"411\"\n",
    "pid2=\"11\"\n",
    "br_H_l=f\"(tauN*coupling**2*GF**2*hnl.VH(pid1)**2*hnl.fH(pid1)**2*mass**3/(32*np.pi))*((1-self.masses(pid2)**2/mass**2)**2-(self.masses(pid1)**2/mass**2)*(1+self.masses(pid2)**2/mass**2))*np.sqrt((1-((self.masses(pid1)-self.masses(pid2))**2/mass**2))*(1-((self.masses(pid1)+self.masses(pid2))**2/mass**2)))\"\n",
    "print(eval(br_H_l))\n",
    "pid1=\"221\"\n",
    "pid2=\"12\"\n",
    "br_eta_nu=f\"(tauN*coupling**2*GF**2*hnl.fH(pid1)**2*mass**3/(32*np.pi))*(1-self.masses(pid1)**2/mass**2)**2\"\n",
    "print(eval(br_eta_nu))\n",
    "pid1=\"331\"\n",
    "pid2=\"12\"\n",
    "br_etap_nu=f\"(tauN*coupling**2*GF**2*hnl.fH(pid1)**2*mass**3/(32*np.pi))*(1-self.masses(pid1)**2/mass**2)**2\"\n",
    "print(eval(br_etap_nu))\n",
    "pid1=\"213\"\n",
    "pid2=\"11\"\n",
    "grho=0.102 #check this?\n",
    "br_rho_l=f\"(tauN*coupling**2*grho**2*GF**2*hnl.VH(pid1)**2*mass**3/(8*np.pi))*((1-self.masses(pid2)**2/mass**2)**2+(self.masses(pid1)**2/mass**2)*(1+((self.masses(pid2)**2-2*self.masses(pid1)**2)/mass**2))*np.sqrt((1-((self.masses(pid1)-self.masses(pid2))**2/mass**2))*(1-((self.masses(pid1)+self.masses(pid2))**2/mass**2))))\"\n",
    "print(eval(br_rho_l))\n",
    "pid1=\"113\"\n",
    "pid2=\"12\"\n",
    "br_rho0_nu=f\"(tauN*coupling**2*grho**2*GF**2*mass**3/(16*np.pi*self.masses(pid1)**2))*(1+2*self.masses(pid1)**2/mass**2)*(1-self.masses(pid1)**2/mass**2)**2\"\n",
    "print(eval(br_rho0_nu))\n"
   ]
  },
  {
   "cell_type": "code",
   "execution_count": null,
   "metadata": {},
   "outputs": [],
   "source": [
    "#this portion will take a branching fraction and write to a file in the form m br\n",
    "#takes a number and chops off part of it according to the precision, or delta\n",
    "def chop(expr, delta=10**-2):\n",
    "    return np.ma.masked_inside(expr, -delta, delta).filled(0)\n",
    "#for the decays of HNL, takes a branching ratio and creates a file of mass br\n",
    "SecToGev=1./(6.582122*pow(10.,-25.))\n",
    "#tautau=self.tau(pid0)*SecToGev\n",
    "tau=10**-15\n",
    "tau=tau*SecToGev\n",
    "GF=1.166378*10**(-5) #GeV^(-2)\n",
    "pid1='111'\n",
    "self=model\n",
    "fH=self.fH(pid1)\n",
    "br=f\"(tau*coupling**2/(32*np.pi))*GF**2*fH**2*mass**3*(1-{self.masses(pid1)}**2/mass**2)**2\"\n",
    "coupling=1\n",
    "#print(eval(br))\n",
    "#print(self.fH(pid1))\n",
    "def write_m_br_file(br,filename=\"model/br/pi_nu.txt\"):\n",
    "    f = open(filename, \"w+\")\n",
    "    f.close()\n",
    "    f = open(filename, \"a\")\n",
    "    mass=1\n",
    "    mass=.01\n",
    "    delm=.01\n",
    "    steps=int(10/.01)-1\n",
    "    for n in range(steps):\n",
    "        #f.write(f\"{m}  {br}\\n\")\n",
    "        #print(eval(br))\n",
    "        f.write(\" {: <10} {: <10}\\n\".format(*['%.2f' % mass,eval(br)]))\n",
    "        mass=chop(mass+delm)\n",
    "    f.close()\n",
    "    print('file created...')\n",
    "    #a=.0134155\n",
    "\n",
    "write_m_br_file(br)"
   ]
  }
 ],
 "metadata": {
  "kernelspec": {
   "display_name": "Python 3",
   "language": "python",
   "name": "python3"
  },
  "language_info": {
   "codemirror_mode": {
    "name": "ipython",
    "version": 3
   },
   "file_extension": ".py",
   "mimetype": "text/x-python",
   "name": "python",
   "nbconvert_exporter": "python",
   "pygments_lexer": "ipython3",
   "version": "3.10.4"
  },
  "toc": {
   "base_numbering": 1,
   "nav_menu": {
    "height": "734px",
    "width": "465px"
   },
   "number_sections": true,
   "sideBar": true,
   "skip_h1_title": false,
   "title_cell": "Table of Contents",
   "title_sidebar": "Contents",
   "toc_cell": false,
   "toc_position": {},
   "toc_section_display": true,
   "toc_window_display": false
  },
  "vscode": {
   "interpreter": {
    "hash": "d992d1d0d82f377b2d7582744839498d1eb429866497c2c977ef925f2dbe2ea3"
   }
  }
 },
 "nbformat": 4,
 "nbformat_minor": 2
}
