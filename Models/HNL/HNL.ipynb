{
 "cells": [
  {
   "cell_type": "markdown",
   "metadata": {},
   "source": [
    "# FORESEE - Heavy Neutral Leptons (HNLs)"
   ]
  },
  {
   "cell_type": "markdown",
   "metadata": {},
   "source": [
    "### Load Libraries "
   ]
  },
  {
   "cell_type": "code",
   "execution_count": 1,
   "metadata": {},
   "outputs": [],
   "source": [
    "import numpy as np\n",
    "import sys\n",
    "import os\n",
    "import matplotlib.colors as mcolors\n",
    "src_path = \"../..\"\n",
    "sys.path.append(src_path)\n",
    "from src.foresee import Foresee, Utility, Model\n",
    "\n",
    "from HeavyNeutralLepton import * \n",
    "\n",
    "from matplotlib import pyplot as plt\n",
    "import pandas as pd\n",
    "import os\n",
    "import glob\n",
    "\n",
    "from matplotlib import pyplot as plt\n",
    "import pandas as pd\n",
    "from os.path import exists\n",
    "\n",
    "from scipy.integrate import quad"
   ]
  },
  {
   "cell_type": "markdown",
   "metadata": {},
   "source": [
    "## 1. Initialization \n"
   ]
  },
  {
   "cell_type": "markdown",
   "metadata": {},
   "source": [
    "All function that we will need are included in the FORESEE package. We start by simply initializing it: "
   ]
  },
  {
   "cell_type": "code",
   "execution_count": 2,
   "metadata": {},
   "outputs": [],
   "source": [
    "foresee = Foresee()"
   ]
  },
  {
   "cell_type": "markdown",
   "metadata": {},
   "source": [
    "HNL's are produced mainly via D and $B$ meson decay. To start, let us have a look at the $\\text{D}^+$ spectrum in terms of the angle with respect to the beam axis $\\theta$ and the momentum $p$. This can be done using the function `get_spectrumplot` which requires the MC particle ID (or simply pid), the MC generator and the energy. The units on the coloraxis are pb/bin. \n",
    "\n",
    "FORESEE provides the 2D spectrum as tables for a variety of particles ($\\pi$, $\\eta$, D, B, ...), generators (SIBYLL, EPOSLHC, QGSJET, PYTHIA) and collision energies (14, 27 and 100 TeV). The datafiles are stored in the directory `files/hadrons`. Let us show the $\\text{D}^+$ spectrum obained by Pythia8. "
   ]
  },
  {
   "cell_type": "code",
   "execution_count": 3,
   "metadata": {},
   "outputs": [],
   "source": [
    "# plot=foresee.get_spectrumplot(pid=\"15\", generator=\"pythia8\", energy=\"14\",  prange=[[-5, 0, 100],[ 0, 4, 80]])\n",
    "# plot.show()"
   ]
  },
  {
   "cell_type": "markdown",
   "metadata": {},
   "source": [
    "## 2. Specifying the Model: Heavy Neutral Leptons"
   ]
  },
  {
   "cell_type": "markdown",
   "metadata": {},
   "source": [
    "In this notebook we consider Heavy Neutral Leptons (HNLs) $N$. These for example naturally arise in models with an addition right handed neutrinos. Their phenomenology is described by a the folling Lagrangian \n",
    "\n",
    "\\begin{equation}\n",
    " \\mathcal{L} = \\bar N (i \\gamma^\\mu \\partial_{\\mu} - {m_N}) N - (g/\\sqrt{2}) {U_{\\alpha}} W_\\mu \\bar \\ell_\\alpha \\gamma^\\mu N - (g/\\sqrt{2} c_W) {U_{\\alpha}} Z_\\mu \\bar \\nu_\\alpha \\gamma^\\mu N \n",
    "\\end{equation}\n",
    "\n",
    "where ${m_N}$ is the HNL mass, and ${U_{\\alpha}}$ are the mixings of the HNL with the SM neutrinos of flavour $\\alpha=e,\\mu, \\tau$. For practical purposes, we will define ${U_{\\alpha}} = {g} \\times V_\\alpha$ where $V_\\alpha$ is fixed. In this case the HNL mass ${m_N}$ and the coupling ${g}$ are the free parameters of the model. \n",
    "\n",
    "Since the HNL model is rather complicted, we will use dedicated the `HeavyNeutralLepton` class, which will provide all properties of the model, eg their the *production rate*, the *lifetime* and their *decay branching fractions*. It will be initialized with the values of $V_\\alpha$."
   ]
  },
  {
   "cell_type": "code",
   "execution_count": 4,
   "metadata": {},
   "outputs": [],
   "source": [
    "hnl = HeavyNeutralLepton(ve=0.1, vmu=0, vtau=0)\n",
    "nsteps=100\n"
   ]
  },
  {
   "cell_type": "markdown",
   "metadata": {},
   "source": [
    "All properties are specified in the `Model` class. We initialize it with the name of the model as argument. "
   ]
  },
  {
   "cell_type": "code",
   "execution_count": 5,
   "metadata": {},
   "outputs": [],
   "source": [
    "energy = \"14\"\n",
    "modelname=\"HNL\"\n",
    "model = Model(modelname, path=\"./\")\n",
    "allchannels = []\n",
    "production_channels=[]"
   ]
  },
  {
   "cell_type": "markdown",
   "metadata": {},
   "source": [
    "### a) HNL Production\n",
    "As most LLPs, HNLs are produced in the decay of primary hadrons. Here we need to specify the total branching fraction into the LLP as function of the `coupling` and the `mass`. "
   ]
  },
  {
   "cell_type": "markdown",
   "metadata": {},
   "source": [
    "**Production via 2-body decays** HNLs can be produced in 2-body decays of the type $H^+ \\to \\ell N$. The corresponding branching fractions are given by  \n",
    "\n",
    "\\begin{equation}\n",
    "    \\text{BR}(H^+ \\rightarrow \\ell_{\\alpha}^{+} N ) =   |U_{\\alpha}|^2 \\frac{G_F^2 M_H M_N^2 \\tau_H f_H^2 |V_H|^2 }{8 \\pi}  \\cdot \\left[ 1- \\frac{M_N^2}{M_H^2} + 2 \\frac{M_{\\ell}^2}{M_H^2}+ \\frac{M_{\\ell}^2}{M_N^2} \\left( 1- \\frac{M_{\\ell}^2}{M_H^2} \\right) \\right] \\times \\left[\\left(1+ \\frac{M_N^2}{M_H^2}- \\frac{M_{\\ell}^2}{M_H^2}\\right)^2 - 4 \\frac{M_N^2}{M_H^2}\\right]^{1/2}\n",
    "\\end{equation}\n",
    "\n",
    "Source: https://cds.cern.ch/record/2133817/files/main.pdf\n",
    "\n",
    "In particular we consider the decays:\n",
    "- $D^\\pm, D_s^\\pm, B^\\pm, B_c^\\pm \\to \\ell^\\pm N$"
   ]
  },
  {
   "cell_type": "code",
   "execution_count": 6,
   "metadata": {},
   "outputs": [],
   "source": [
    "#colors for plots\n",
    "import random\n",
    "colors=list(mcolors.CSS4_COLORS)\n"
   ]
  },
  {
   "cell_type": "code",
   "execution_count": 7,
   "metadata": {},
   "outputs": [
    {
     "name": "stdout",
     "output_type": "stream",
     "text": [
      "[\"2body_211_-11\", \"cyan\", r\"$pi^+ \\to + l^+ + N$\"],\n",
      "[\"2body_-211_11\", \"lightyellow\", r\"$pi^- \\to + l^- + N$\"],\n"
     ]
    }
   ],
   "source": [
    "#2 body pseudoscalar meson decays\n",
    "#elements in channels have the form [decay label, parent particle pid (with sign), sign of produced lepton PID (- for positron + for electron),generator]\n",
    "channels = [\n",
    "    [r'D^+ \\to l^+ + N'    , '411', '-',\"Pythia8\"],\n",
    "    [r'D^- \\to l^- + N'    ,'-411', '' ,\"Pythia8\"],\n",
    "    [r'D_s^+ \\to l^+ + N'  , '431', '-',\"Pythia8\"],\n",
    "    [r'D_s^- \\to l^- + N'  ,'-431', '' ,\"Pythia8\"],\n",
    "    [r'B^+ \\to + l^+ + N'  , '521', '-',\"Pythia8\"],\n",
    "    [r'B^- \\to + l^- + N'  ,'-521', '' ,\"Pythia8\"],\n",
    "    [r'B_c^+ \\to + l^+ + N', '541', '-',\"Pythia8\"],\n",
    "    [r'B_c^- \\to + l^- + N','-541', '' ,\"Pythia8\"],\n",
    "    [r'pi^+ \\to + l^+ + N','211', '-' ,\"EPOSLHC\"],\n",
    "    [r'pi^- \\to + l^- + N','-211', '' ,\"EPOSLHC\"],\n",
    "    [r'K^+ \\to + l^+ + N','321', '-' ,\"EPOSLHC\"],\n",
    "    [r'K^- \\to + l^- + N','-321', '' ,\"EPOSLHC\"]\n",
    "]\n",
    "\n",
    "#temporary to test\n",
    "channels=[[r'pi^+ \\to + l^+ + N','211', '-' ,\"EPOSLHC\"],\n",
    "    [r'pi^- \\to + l^- + N','-211', '' ,\"EPOSLHC\"]]\n",
    "\n",
    "length=len(colors)  #this is used in the for loop below  \n",
    "for label, pid_had, sign_lep, generator in channels:\n",
    "    for pid_lep in [\"11\",\"13\",\"15\"]:\n",
    "        if hnl.vcoupling[pid_lep] <1e-9: continue\n",
    "        label1 = \"2body_\" + pid_had + \"_\" + sign_lep+pid_lep\n",
    "        label2='[' + '\"' + label1 + '\"' + ', ' + '\"' + colors[random.randint(0,length-1)] + '\"' + ', ' + 'r\"$' + label + '$\"' + '],'\n",
    "        production_channels.append(label2)\n",
    "        print(label2)\n",
    "        model.add_production_2bodydecay(\n",
    "            label = label1,\n",
    "            pid0 = pid_had,\n",
    "            pid1 = pid_lep,\n",
    "            br = hnl.get_2body_br(pid_had, sign_lep+pid_lep),\n",
    "            generator = generator,\n",
    "            energy = energy,\n",
    "            nsample = nsteps,\n",
    "        )\n",
    "        allchannels.append(label1)\n"
   ]
  },
  {
   "cell_type": "markdown",
   "metadata": {},
   "source": [
    "**Production via 2-body $\\tau$ decays** HNLs can be produced in 2-body decays of the type $\\tau \\to H N$, the corresponding branching fraction is given by\n",
    "\n",
    "\\begin{aligned}\n",
    "    \\mathrm{Br}(\\tau \\rightarrow \\mathrm{HN}) &=\\tau_\\tau \\cdot \\frac{\\left|U_\\tau\\right|^2}{16 \\pi} G_F^2\\left|V_H\\right|^2 f_H^2 M_\\tau^3 \\cdot\\left(\\left(1-\\frac{M_N^2}{M_\\tau^2}\\right)^2-\\frac{M_H^2}{M_\\tau^2}\\left(1+\\frac{M_N^2}{M_\\tau^2}\\right)\\right) \\\\\n",
    "    & \\times \\sqrt{\\left(1-\\frac{\\left(M_H-M_N\\right)^2}{M_\\tau^2}\\right)\\left(1-\\frac{\\left(M_H+M_N\\right)^2}{M_\\tau^2}\\right)}\n",
    "\\end{aligned}\n",
    "\n",
    "or of the form $\\tau \\to \\rho N$, in this case the branching fraction is given by\n",
    "\n",
    "\\begin{aligned}\n",
    "    \\mathrm{Br}(\\tau \\rightarrow \\rho \\mathrm{N}) &=\\tau_\\tau \\cdot \\frac{\\left|U_\\tau\\right|^2}{8 \\pi} \\frac{g_\\rho^2}{M_\\rho^2} G_F^2\\left|V_{u d}\\right|^2 M_\\tau^3 \\cdot\\left(\\left(1-\\frac{M_N^2}{M_\\tau^2}\\right)^2+\\frac{M_\\rho^2}{M_\\tau^2}\\left(1+\\frac{M_N^2-2 M_\\rho^2}{M_\\tau^2}\\right)\\right) \\\\\n",
    "    & \\times \\sqrt{\\left(1-\\frac{\\left(M_\\rho-M_N\\right)^2}{M_\\tau^2}\\right)\\left(1-\\frac{\\left(M_\\rho+M_N\\right)^2}{M_\\tau^2}\\right)}\n",
    "\\end{aligned}\n",
    "\n",
    "Source: https://cds.cern.ch/record/2133817/files/main.pdf\n",
    "\n",
    "In particular we consider the decays:\n",
    "- $\\tau^{\\pm} \\to \\pi^{\\pm},K^{\\pm}, \\rho^{\\pm} N$"
   ]
  },
  {
   "cell_type": "code",
   "execution_count": 8,
   "metadata": {},
   "outputs": [],
   "source": [
    "#tau 2 body decays\n",
    "#elements in channels have the form [decay label, parent particle pid, produced hadron pid (without sign), sign of produced hadron, generator]\n",
    "channels = [\n",
    "[r'\\tau^- \\to \\pi^- + N','15','211', '-' , \"Pythia8\"],\n",
    "[r'\\tau^+ \\to \\pi^+ + N','-15','211', ''  , \"Pythia8\"],\n",
    "[r'\\tau^- \\to K^- + N'  ,'15','321', '-' , \"Pythia8\"],\n",
    "[r'\\tau^+ \\to K^+ + N'  ,'-15','321', ''  , \"Pythia8\"],\n",
    "[r'\\tau^- \\to \\rho^- + N','15','213', '-', \"Pythia8\"],\n",
    "[r'\\tau^+ \\to \\rho^+ + N','-15','213', '' , \"Pythia8\"]\n",
    "]\n",
    "\n",
    "#temporary\n",
    "channels=[[r'\\tau^- \\to \\rho^- + N','15','213', '-', \"Pythia8\"],\n",
    "[r'\\tau^+ \\to \\rho^+ + N','-15','213', '' , \"Pythia8\"]]\n",
    "\n",
    "length=len(colors)\n",
    "for label, pid_tau, pid_had, sign_had, generator in channels:\n",
    "    for pid_tau in ['15','-15']:\n",
    "        if hnl.vcoupling[str(abs(int(pid_tau)))] <1e-9: continue\n",
    "        label1 = \"2body_tau_\" + pid_tau + \"_\" + sign_had+pid_had\n",
    "        label2='[' + '\"' + label1 + '\"' + ', ' + '\"' + colors[random.randint(0,length-1)] + '\"' + ', ' + 'r\"$' + label + '$\"' + '],'\n",
    "        production_channels.append(label2)\n",
    "        print(label2)\n",
    "        model.add_production_2bodydecay(\n",
    "            label = label1,\n",
    "            pid0 = pid_tau,\n",
    "            pid1 = pid_had,\n",
    "            br = hnl.get_2body_br_tau(pid_tau, sign_had+pid_had),\n",
    "            generator = generator,\n",
    "            energy = energy,\n",
    "            nsample = nsteps,\n",
    "        )\n",
    "        allchannels.append(label1)"
   ]
  },
  {
   "cell_type": "markdown",
   "metadata": {},
   "source": [
    "**Production via 3-body decay to pseudoscalar meson** HNLs can also be produced in 3-body decays of the type $H \\to H' \\ell N$, where H' is a pseudoscalar. The corresponding branching fractions are given by  \n",
    "\n",
    "\\begin{aligned}\n",
    "&\\frac{d \\mathrm{Br}\\left(\\mathrm{H} \\rightarrow \\mathrm{H}^{\\prime} \\mathrm{l}_\\alpha^{+} \\mathrm{N}\\right)}{d E_N d q^2}=\\tau_H \\cdot\\left|U_\\alpha\\right|^2 \\cdot \\frac{\\left|V_{H H^{\\prime}}\\right|^2 G_F^2}{64 \\pi^3 M_H^2} \\left(f_{-}^2\\left(q^2\\right) \\cdot\\left(q^2\\left(M_N^2+M_l^2\\right)-\\left(M_N^2-M_l^2\\right)^2\\right)\\right. \\\\\n",
    "&+2 f_{+}\\left(q^2\\right) f_{-}\\left(q^2\\right)\\left(M_N^2\\left(2 M_H^2-2 M_{H^{\\prime}}^2-4 E_N M_H-M_l^2+M_N^2+q^2\\right)+M_l^2\\left(4 E_N M_H+M_l^2-M_N^2-q^2\\right)\\right) \\\\\n",
    "& +f_{+}^2\\left(q^2\\right)\\left(\\left(4 E_N M_H+M_l^2-M_N^2-q^2\\right)\\left(2 M_H^2-2 M_{H^{\\prime}}^2-4 E_N M_H-M_l^2+M_N^2+q^2\\right)\\right. \\\\\n",
    "&\\left.-\\left(2 M_H^2+2 M_{H^{\\prime}}^2-q^2\\right)\\left(q^2-M_N^2-M_l^2\\right)\\right)\n",
    "\\end{aligned}\n",
    "\n",
    "where\n",
    "\n",
    "\\begin{aligned}\n",
    "f_{+}\\left(q^2\\right) &=\\frac{f_{+}(0)}{\\left(1-q^2 / M_V^2\\right)} \\\\\n",
    "f_0\\left(q^2\\right) &=\\frac{f_0(0)}{\\left(1-q^2 / M_S^2\\right)} \\\\\n",
    "f_0\\left(q^2\\right)=f_{+}\\left(q^2\\right) &+\\frac{q^2}{M_H^2-M_{H'}^2} f_{-}\\left(q^2\\right).\n",
    "\\end{aligned}\n",
    "\n",
    "Source: https://cds.cern.ch/record/2133817/files/main.pdf\n",
    "\n",
    "- For $D \\rightarrow H' + \\ell + \\nu$ decays, $M_V$ and $M_S$ are the vector and scalar pole masses and are given by the $D^*(2010)$ and $D_0^*(2400)$ masses, respectively. $f_0(0)$ is obtained from https://arxiv.org/pdf/1511.04877.pdf (Note $f_0(0)=f_+(0)$ and $f_-(0)$ can be obtained from these)\n",
    "- For $B \\rightarrow D + \\ell + \\nu$ decays, $M_V$ and $M_S$ are the vector and scalar pole masses and are given by the $B^*_c$ and $B_c$ masses (as suggested in https://journals.aps.org/prd/pdf/10.1103/PhysRevD.62.014006), respectively. $f_0(0)$ is obtained from https://arxiv.org/pdf/1505.03925v2.pdf\n",
    "- For $B_s \\rightarrow D_s + \\ell + \\nu$ decays, $M_V$ and $M_S$ are the vector and scalar pole masses and are given by the $B^*$ and $B$ masses (as suggested in https://journals.aps.org/prd/pdf/10.1103/PhysRevD.62.014006), respectively. $f_0(0)$ is obtained from https://arxiv.org/pdf/1106.3003.pdf (table 1)\n",
    "- For $B_c \\rightarrow B^0 + \\ell + \\nu$ or $B_c \\rightarrow B_s^0 + \\ell + \\nu$ decays, $M_V$ and $M_S$ are the vector and scalar pole masses and are given by the $B^*_c$ and $B_c$ masses, respectively. $f_0(0)$ is obtained from https://arxiv.org/pdf/hep-ph/0007169.pdf (table 2)\n",
    "\n",
    "\n",
    "To obtain the branching fraction we use integration bounds\n",
    "$$(m_{\\ell} + m_N)^2 \\leq q^2 \\leq (m_H - m_{H'})^2$$ \n",
    "with \n",
    "$$q^2=m_{H \\ell}^2$$\n",
    "and\n",
    "$$E_N({m_{\\ell N}^2}^{\\text{min}}) \\leq E_N \\leq E_N({m_{\\ell N}^2}^{\\text{max}})$$\n",
    "where \n",
    "$$E_N = \\frac{m_{\\ell N}^2 + q^2 - m_{\\ell}^2 - m_{H'}^2}{2m_{H}}$$\n",
    "${m_{\\ell N}^2}^{\\text{min}}$ and ${m_{\\ell N}^2}^{\\text{max}}$ are as given in https://pdg.lbl.gov/2019/reviews/rpp2019-rev-kinematics.pdf \n",
    "\n",
    "(we use the convention $H \\sim 0$, $H' \\sim 1$, $\\ell \\sim 2$, and $N \\sim 3$; e.g. $m_{23}^2=m_{\\ell N}^2$)\n",
    "\n",
    "In particular we consider the decays:\n",
    "- $D^0 \\to K^{\\mp} \\ell^{\\pm} N, \\text{ where } \\ell \\neq \\tau$ (since $D^0$ is not heavy enough)\n",
    "- $D^{\\pm} \\to \\bar{K^0}  \\ell^{\\pm} N, \\text{ where } \\ell \\neq \\tau$\n",
    "- $B^{\\pm} \\to \\bar{D^0} \\ell^{\\pm} N, \\text{ including } \\tau$\n",
    "- $B^0 \\to D^{\\mp} \\ell^{\\pm} N, \\text{ including } \\tau$\n",
    "- $B_s^0 \\to D_s^{\\mp} \\ell^{\\pm} N, \\text{ including } \\tau$\n",
    "- $B_c^{\\pm} \\to B^0 \\ell^{\\pm} N, \\text{ where } \\ell \\neq \\tau$\n",
    "- $B_c^{\\pm} \\to B_s^0 \\ell^{\\pm} N, \\text{ where } \\ell \\neq \\tau$ "
   ]
  },
  {
   "cell_type": "code",
   "execution_count": 9,
   "metadata": {},
   "outputs": [
    {
     "name": "stdout",
     "output_type": "stream",
     "text": [
      "[\"3body_pseudo_541_511_-11\", \"lightyellow\", r\"$B^+_c \\to B^0 + l^+ + N$\"],\n",
      "[\"3body_pseudo_-541_-511_11\", \"lemonchiffon\", r\"$B^-_c \\to \\bar{B}^0 + l^- + N$\"],\n",
      "[\"3body_pseudo_541_531_-11\", \"cornflowerblue\", r\"$B^+_c \\to B^0_s + l^+ + N$\"],\n",
      "[\"3body_pseudo_-541_-531_11\", \"navy\", r\"$B^-_c \\to \\bar{B}^0_s + l^- + N$\"],\n"
     ]
    }
   ],
   "source": [
    "#3 body decay into pseudoscalar mesons\n",
    "#elements of 'channels' have the form [decay label, pid of parent hadron, pid of daughter meson (with sign!), sign of produced lepton's pid]\n",
    "channels = [\n",
    "    [r'D^0 \\to K^- + l^+ + N'             , '421', '-321', '-', \"Pythia8\"],\n",
    "    [r'D^0 \\to K^+ + l^- + N'             , '-421', '321', '' , \"Pythia8\" ],\n",
    "    [r'D^+ \\to K^0 + l^+ + N'              , '411', '311', '-', \"Pythia8\"],\n",
    "    [r'D^- \\to \\bar{K}^0 + l^- + N'        ,'-411', '-311' , '' , \"Pythia8\"],\n",
    "    [r'B^+ \\to D^0 + l^+ + N'              , '521',  '421', '-', \"Pythia8\"],\n",
    "    [r'B^- \\to \\bar{D}^0 + l^- + N'        , '-521',  '-421' , '', \"Pythia8\"],\n",
    "    [r'B^0 \\to D^- + l^+ + N'             , '511', '-411', '-', \"Pythia8\"],\n",
    "    [r'B^0 \\to D^+ + l^- + N'             , '-511', '411', ''  , \"Pythia8\"],\n",
    "    [r'B^0_s \\to D^-_s + l^+ + N'         , '531', '-431', '-', \"Pythia8\"],\n",
    "    [r'B^0_s \\to D^+_s + l^- + N'         , '-531', '431', ''  , \"Pythia8\"],\n",
    "    [r'B^+_c \\to B^0 + l^+ + N'           , '541',  '511', '-', \"Pythia8\"],\n",
    "    [r'B^-_c \\to \\bar{B}^0 + l^- + N'     , '-541',  '-511', '', \"Pythia8\"],\n",
    "    [r'B^+_c \\to B^0_s + l^+ + N'         , '541',  '531', '-', \"Pythia8\"],\n",
    "    [r'B^-_c \\to \\bar{B}^0_s + l^- + N'   , '-541',  '-531', '', \"Pythia8\"]\n",
    "\n",
    "]\n",
    "\n",
    "#temporary to test\n",
    "channels=[    [r'B^+_c \\to B^0 + l^+ + N'           , '541',  '511', '-', \"Pythia8\"],[r'B^-_c \\to \\bar{B}^0 + l^- + N'     , '-541',  '-511', '', \"Pythia8\"],[r'B^+_c \\to B^0_s + l^+ + N'         , '541',  '531', '-', \"Pythia8\"],\n",
    "    [r'B^-_c \\to \\bar{B}^0_s + l^- + N'   , '-541',  '-531', '', \"Pythia8\"]]\n",
    "\n",
    "\n",
    "length=len(colors)\n",
    "for label, pid_parent, pid_daughter, sign_lep, generator in channels:\n",
    "    if model.masses(pid_parent) >= model.masses('15') + model.masses(pid_daughter):\n",
    "        leptons=[\"11\",\"13\",\"15\"]\n",
    "    if model.masses(pid_parent) <= model.masses('15') + model.masses(pid_daughter):\n",
    "        leptons=[\"11\",\"13\"]\n",
    "    for pid_lep in leptons:\n",
    "        if hnl.vcoupling[pid_lep] <1e-9: continue\n",
    "        label1=\"3body_pseudo_\" + pid_parent + \"_\" +pid_daughter+ \"_\" + sign_lep+pid_lep\n",
    "        label2='[' + '\"' + label1 + '\"' + ', ' + '\"' + colors[random.randint(0,length-1)] + '\"' + ', ' + 'r\"$' + label + '$\"' + '],'\n",
    "        production_channels.append(label2)\n",
    "        print(label2)\n",
    "        #print('[' + '\"' + label1 + '\"' + ', ' + '\"' + colors[random.randint(0,length-1)] + '\"' + ', ' + 'r\"$' + label + '$\"' + '],')\n",
    "        model.add_production_3bodydecay(\n",
    "            label = label1,\n",
    "            pid0 = pid_parent,\n",
    "            pid1 = pid_daughter,\n",
    "            pid2 = sign_lep+pid_lep,\n",
    "            br = hnl.get_3body_dbr_pseudoscalar(pid_parent,pid_daughter,sign_lep+pid_lep),\n",
    "            generator = generator,\n",
    "            energy = energy,\n",
    "            nsample = nsteps,\n",
    "            integration = \"dq2dEN\",\n",
    "        )\n",
    "        allchannels.append(label1)"
   ]
  },
  {
   "cell_type": "markdown",
   "metadata": {},
   "source": [
    "**Production via 3-body decay to vector meson** HNLs can also be produced in 3-body decays of the type $H \\to V \\ell N$, where V is a vector. The corresponding differential branching fractions are given by \n",
    "\\begin{aligned}\n",
    "\\frac{d \\operatorname{Br}\\left(H \\rightarrow V l_\\alpha N\\right)}{d E_N d q^2}=\\tau_H \\cdot\\left|U_\\alpha\\right|^2 \\cdot \\frac{\\left|V_{H V}\\right|^2 G_F^2}{32 \\pi^3 M_H} \\left(\\frac{f_2^2}{2}\\left(q^2-M_N^2-M_l^2+\\omega^2 \\frac{\\Omega^2-\\omega^2}{M_V^2}\\right)\\right. \\\\\n",
    "+\\frac{f_5^2}{2}\\left(M_N^2+M_l^2\\right)\\left(q^2-M_N^2+M_l^2\\right)\\left(\\frac{\\Omega^4}{4 M_V^2}-q^2\\right)+2 f_3^2 M_V^2\\left(\\frac{\\Omega^4}{4 M_V^2}-q^2\\right)\\left(M_N^2+M_l^2-q^2+\\omega^2 \\frac{\\Omega^2-\\omega^2}{M_V^2}\\right) \\\\\n",
    "+2 f_3 f_5\\left(M_N^2 \\omega^2+\\left(\\Omega^2-\\omega^2\\right) M_l^2\\right)\\left(\\frac{\\Omega^4}{4 M_V^2}-q^2\\right)+2 f_1 f_2\\left(q^2\\left(2 \\omega^2-\\Omega^2\\right)+\\Omega^2\\left(M_N^2-M_l^2\\right)\\right) \\\\\n",
    "+\\frac{f_2 f_5}{2}\\left(\\omega^2 \\frac{\\Omega^2}{M_V^2}\\left(M_N^2-M_l^2\\right)+\\frac{\\Omega^4}{M_V^2} M_l^2+2\\left(M_N^2-M_l^2\\right)^2-2 q^2\\left(M_N^2+M_l^2\\right)\\right) \\\\\n",
    "+f_2 f_3\\left(\\Omega^2 \\omega^2 \\frac{\\Omega^2-\\omega^2}{M_V^2}+2 \\omega^2\\left(M_l^2-M_N^2\\right)+\\Omega^2\\left(M_N^2-M_l^2-q^2\\right)\\right) \\\\\n",
    "\\left.+f_1^2\\left(\\Omega^4\\left(q^2-M_N^2+M_l^2\\right)-2 M_V^2\\left(q^4-\\left(M_N^2-M_l^2\\right)^2\\right)+2 \\omega^2 \\Omega^2\\left(M_N^2-q^2-M_l^2\\right)+2 \\omega^4 q^2\\right)\\right) \\\\\n",
    "\\end{aligned}\n",
    "where $\\omega^2=M_H^2-M_V^2+M_N^2-M_l^2-2 M_H E_N$ and $\\Omega^2=M_H^2-M_V^2-q^2.\\\\$\n",
    "The form factors are given by\n",
    "\n",
    "\\begin{aligned}\n",
    "f_1=\\frac{V}{M_H+M_V}, \\quad f_2=\\left(M_H+M_V\\right) \\cdot A_1, \\quad f_3=-\\frac{A_2}{M_H+M_V}, \\\\\n",
    "f_4=\\left(M_V\\left(2 A_0-A_1-A_2\\right)+M_H\\left(A_2-A_1\\right)\\right) \\cdot \\frac{1}{q^2}, \\quad f_5=f_3+f_4,\n",
    "\\end{aligned}\n",
    "\n",
    "$$\n",
    "f\\left(q^2\\right)=\\frac{f(0)}{\\left(1-q^2 / M^2\\right)\\left(1-\\sigma_1 q^2 / M^2+\\sigma_2 q^4 / M^4\\right)}\n",
    "$$\n",
    "$M=M_P$ for form factor $A_0$ and $M=M_V$ for form factor $V$. For form factors $A_1$ and $A_2$ :\n",
    "$$\n",
    "f\\left(q^2\\right)=\\frac{f(0)}{\\left(1-\\sigma_1 q^2 / M_V^2+\\sigma_2 q^4 / M_V^4\\right)}\n",
    "$$\n",
    "\n",
    "Source: https://cds.cern.ch/record/2133817/files/main.pdf\n",
    "\n",
    "In particular we consider the decays:\n",
    "\n",
    "- $D^0  \\to K^{* \\mp} \\ell^{\\pm} N, \\text{ where } \\ell \\neq \\tau$ (fit parameters obtained from https://journals.aps.org/prd/pdf/10.1103/PhysRevD.62.014006 (table IV))\n",
    "- $B^{\\pm} \\to \\bar{D^{*0}} \\ell^{\\pm} N, \\text{ including } \\tau$ (fit parameters obtained from https://journals.aps.org/prd/pdf/10.1103/PhysRevD.62.014006 (table X))\n",
    "- $B^0 \\to D^{* \\mp} \\ell^{\\pm} N, \\text{ including } \\tau$ (fit parameters obtained from https://journals.aps.org/prd/pdf/10.1103/PhysRevD.62.014006 (table X))\n",
    "- $B^0_s \\to D_s^{* \\mp} \\ell^{\\pm} N, \\text{ including } \\tau$ (fit parameters obtained from https://arxiv.org/pdf/1212.3167.pdf (Table 1))\n",
    "- $B^{\\pm}_c \\to B^{*0} \\ell^{\\pm} N, \\text{ where } \\ell \\neq \\tau$ (fit parameters obtained from https://arxiv.org/pdf/hep-ph/0007169.pdf (Table 3))\n",
    "- $B_c^{\\pm} \\to B_s^{* 0} \\ell^{\\pm} N, \\text{ where } \\ell \\neq \\tau$ (fit parameters obtained from https://arxiv.org/pdf/hep-ph/0007169.pdf (Table 3))\n",
    "\n"
   ]
  },
  {
   "cell_type": "code",
   "execution_count": 10,
   "metadata": {},
   "outputs": [
    {
     "name": "stdout",
     "output_type": "stream",
     "text": [
      "[\"3body_vector_421_-323_-11\", \"cadetblue\", r\"$D^0 \\to K^{*-} + l^+ + N$\"],\n",
      "[\"3body_vector_-421_323_11\", \"darkkhaki\", r\"$D^0 \\to K^{*+} + l^- + N$\"],\n",
      "[\"3body_vector_541_513_-11\", \"blueviolet\", r\"$B^+_c \\to B^{*0} + l^+ + N$\"],\n",
      "[\"3body_vector_-541_-513_11\", \"tomato\", r\"$B^-_c \\to \\bar{B}^{*0} + l^- + N$\"],\n",
      "[\"3body_vector_541_533_-11\", \"goldenrod\", r\"$B^+_c \\to B^{*0}_s+ l^+ + N$\"],\n",
      "[\"3body_vector_-541_-533_11\", \"slategrey\", r\"$B^-_c \\to \\bar{B}^{*0}_s+ l^- + N$\"],\n"
     ]
    }
   ],
   "source": [
    "#vector decays\n",
    "#elements of channel have the form [decay label, parent pid, daughter pid, sign of produced lepton - (pid) is a positive lepton]\n",
    "channels = [\n",
    "[r'D^0 \\to K^{*-} + l^+ + N'                  ,'421', '-323', '-',\"Pythia8\"],\n",
    "[r'D^0 \\to K^{*+} + l^- + N'             ,'-421', '323', ''   ,\"Pythia8\"],\n",
    "[r'B^+ \\to D^*0 + l^+ + N'                    ,'521','423' , '-'  ,\"Pythia8\"],\n",
    "[r'B^- \\to \\bar{D}^*0 + l^- + N'              ,'-521','-423' , ''  ,\"Pythia8\"],\n",
    "[r'B^0 \\to D^{*-} + l^+ + N'                  ,'511','-413' , '-',\"Pythia8\"],\n",
    "[r'B^0 \\to D^{*+} + l^- + N'            ,'-511','413' , ''  ,\"Pythia8\"],\n",
    "[r'B^0_s \\to D^{*-}_s + l^+ + N'              ,'531','-433' , '-' ,\"Pythia8\"],\n",
    "[r'B^0_s \\to D^{*+}_s + l^- + N'        ,'-531','433' , ''   ,\"Pythia8\"],\n",
    "[r'B^+_c \\to B^{*0} + l^+ + N'                ,'541','513'  , '-',\"Pythia8\"],\n",
    "[r'B^-_c \\to \\bar{B}^{*0} + l^- + N'          ,'-541','-513'  , '',\"Pythia8\"],\n",
    "[r'B^+_c \\to B^{*0}_s+ l^+ + N'               ,'541','533'  , '-' ,\"Pythia8\"],\n",
    "[r'B^-_c \\to \\bar{B}^{*0}_s+ l^- + N'         ,'-541','-533'  , '' ,\"Pythia8\"]\n",
    "]\n",
    "\n",
    "#temporary for test\n",
    "channels=[[r'D^0 \\to K^{*-} + l^+ + N'                  ,'421', '-323', '-',\"Pythia8\"],\n",
    "[r'D^0 \\to K^{*+} + l^- + N'             ,'-421', '323', ''   ,\"Pythia8\"],[r'B^+_c \\to B^{*0} + l^+ + N'                ,'541','513'  , '-',\"Pythia8\"],\n",
    "[r'B^-_c \\to \\bar{B}^{*0} + l^- + N'          ,'-541','-513'  , '',\"Pythia8\"],[r'B^+_c \\to B^{*0}_s+ l^+ + N'               ,'541','533'  , '-' ,\"Pythia8\"],\n",
    "[r'B^-_c \\to \\bar{B}^{*0}_s+ l^- + N'         ,'-541','-533'  , '' ,\"Pythia8\"]]\n",
    "\n",
    "length=len(colors)\n",
    "for label, pid_parent, pid_daughter, sign_lep, generator in channels:\n",
    "    if model.masses(pid_parent) >= model.masses('15') + model.masses(pid_daughter):\n",
    "        leptons=[\"11\",\"13\",\"15\"]\n",
    "    if model.masses(pid_parent) <= model.masses('15') + model.masses(pid_daughter):\n",
    "        leptons=[\"11\",\"13\"]\n",
    "    for pid_lep in [\"11\",\"13\",\"15\"]:\n",
    "        if hnl.vcoupling[pid_lep] <1e-9: continue\n",
    "        label1=\"3body_vector_\" + pid_parent + \"_\" +pid_daughter+ \"_\" + sign_lep+pid_lep\n",
    "        label2='[' + '\"' + label1 + '\"' + ', ' + '\"' + colors[random.randint(0,length-1)] + '\"' + ', ' + 'r\"$' + label + '$\"' + '],'\n",
    "        production_channels.append(label2)\n",
    "        print(label2)\n",
    "        #print('[' + '\"' + label1 + '\"' + ', ' + '\"' + colors[random.randint(0,length-1)] + '\"' + ', ' + 'r\"$' + label + '$\"' + '],')\n",
    "        model.add_production_3bodydecay(\n",
    "            label = label1,\n",
    "            pid0 = pid_parent,\n",
    "            pid1 = pid_daughter,\n",
    "            pid2 = sign_lep+pid_lep,\n",
    "            br = hnl.get_3body_dbr_vector(pid_parent,pid_daughter,sign_lep+pid_lep),\n",
    "            generator = generator,\n",
    "            energy = energy,\n",
    "            nsample = nsteps,\n",
    "            integration = \"dq2dEN\",\n",
    "        )\n",
    "        allchannels.append(label1)\n"
   ]
  },
  {
   "cell_type": "markdown",
   "metadata": {},
   "source": [
    "**Production via 3-body $\\tau$ decay** HNLs can also be produced in 3-body decays of $\\tau$. These decays are of the type $\\tau \\to \\nu_{\\tau} \\ell_{\\alpha} N$ or $\\tau \\to \\bar{\\nu}_{\\alpha} \\ell_{\\alpha} N$. The corresponding differential branching fractions are given by,\n",
    "\\begin{aligned}\n",
    "\\frac{d \\mathrm{Br}\\left(\\tau \\rightarrow \\nu_\\tau \\mathrm{l}_\\alpha \\mathrm{N}\\right)}{d E_N} &=\\tau_\\tau \\cdot \\frac{\\left|U_\\alpha\\right|^2}{2 \\pi^3} G_F^2 M_\\tau^2 \\cdot E_N\\left(1+\\frac{M_N^2-M_l^2}{M_\\tau^2}-2 \\frac{E_N}{M_\\tau}\\right)\\left(1-\\frac{M_l^2}{M_\\tau^2+M_N^2-2 E_N M_\\tau}\\right) \\sqrt{E_N^2-M_N^2} \\\\\n",
    "\\end{aligned}\n",
    "and\n",
    "\\begin{aligned}\n",
    "\\frac{d \\operatorname{Br}\\left(\\tau \\rightarrow \\bar{\\nu}_\\alpha l_\\alpha \\mathrm{N}\\right)}{d E_N} &=\\tau_\\tau \\cdot \\frac{\\left|U_\\tau\\right|^2}{4 \\pi^3} G_F^2 M_\\tau^2\\left(1-\\frac{M_l^2}{M_\\tau^2+M_N^2-2 E_N M_\\tau}\\right)^2 \\sqrt{E_N^2-M_N^2} \\\\\n",
    "& \\times\\left(\\left(M_\\tau-E_N\\right)\\left(1-\\frac{M_N^2+M_l^2}{M_\\tau^2}\\right)-\\left(1-\\frac{M_l^2}{M_\\tau^2+M_N^2-2 E_N M_\\tau}\\right)\\left(\\frac{\\left(M_\\tau-E_N\\right)^2}{M_\\tau}+\\frac{E_N^2-M_N^2}{3 M_\\tau}\\right)\\right)\n",
    "\\end{aligned}\n",
    "\n",
    "Source: https://cds.cern.ch/record/2133817/files/main.pdf\n",
    "\n",
    "The bounds of integration are given by\n",
    "\n",
    "$m_N \\leq E_N \\leq \\frac{m_H^2 + m_N^2 -(m_{H'}+m_H)^2}{2 m_H}$\n",
    "\n",
    "In particular we consider the decays:\n",
    "- $\\tau^{\\pm} \\to \\nu_{\\tau} \\ell^{\\pm}_{\\alpha} N, \\text{ where } \\alpha \\neq \\tau$\n",
    "- $\\tau^{\\pm} \\to \\bar{\\nu}_{\\alpha} \\ell_{\\alpha}^{\\pm} N, \\text{ where } \\alpha \\neq \\tau$\n"
   ]
  },
  {
   "cell_type": "code",
   "execution_count": 11,
   "metadata": {},
   "outputs": [
    {
     "name": "stdout",
     "output_type": "stream",
     "text": [
      "[\"3body_tau_15_11_16\", \"floralwhite\", r\"$\\tau^- \\to l^- + \\nu_{\\tau} + N$\"],\n",
      "[\"3body_tau_-15_-11_-16\", \"gray\", r\"$\\tau^+ \\to l^+ + \\nu_{\\tau} + N$\"],\n"
     ]
    }
   ],
   "source": [
    "#tau 3 body decays \\tau \\to \\nu_{\\tau} + l_{\\alpha} + N\n",
    "channels = [\n",
    "[r'\\tau^- \\to l^- + \\nu_{\\tau} + N','15','16','',\"Pythia\"],\n",
    "[r'\\tau^+ \\to l^+ + \\nu_{\\tau} + N','-15','-16','-',\"Pythia\"]\n",
    "]\n",
    "\n",
    "for label, pid_parent, pid_nu, sign_lep, generator in channels:\n",
    "    for pid_lep in [\"11\",\"13\"]:\n",
    "        if hnl.vcoupling[pid_lep] <1e-9: continue\n",
    "        label1=\"3body_tau_\" + pid_parent + \"_\" + sign_lep+pid_lep + \"_\" + pid_nu\n",
    "        label2='[' + '\"' + label1 + '\"' + ', ' + '\"' + colors[random.randint(0,length-1)] + '\"' + ', ' + 'r\"$' + label + '$\"' + '],'\n",
    "        production_channels.append(label2)\n",
    "        print(label2)\n",
    "        #print('[' + '\"' + label1 + '\"' + ', ' + '\"' + colors[random.randint(0,length-1)] + '\"' + ', ' + 'r\"$' + label + '$\"' + '],')\n",
    "        model.add_production_3bodydecay(\n",
    "            label = label1,\n",
    "            pid0 = pid_parent,\n",
    "            pid1 = sign_lep+pid_lep,\n",
    "            pid2 = pid_nu,\n",
    "            br = hnl.get_3body_dbr_tau(pid_parent,sign_lep+pid_lep,pid_nu),\n",
    "            generator = generator,\n",
    "            energy = energy,\n",
    "            nsample = nsteps,\n",
    "            integration = \"dEN\",\n",
    "        )\n",
    "        allchannels.append(label1)\n",
    "\n",
    "\n",
    "#tau 3 body decays '\\tau^- \\to l^- + \\bar{\\nu}_l + N'\n",
    "channels=[\n",
    "[r'\\tau^- \\to l^- + \\bar{\\nu}_l + N','15','',\"Pythia\"],\n",
    "[r'\\tau^+ \\to l^+ + \\bar{\\nu}_l + N','-15','-',\"Pythia\"]\n",
    "]\n",
    "pid_tau=\"15\"\n",
    "for label, pid_parent, sign_lep, generator in channels:\n",
    "    for pid_lep in [\"11\",\"13\"]:\n",
    "        if pid_lep==\"11\":\n",
    "            pid_nu=\"12\"\n",
    "        if pid_lep==\"13\":\n",
    "            pid_nu=\"14\"\n",
    "        if sign_lep + pid_lep==\"-11\":\n",
    "            pid_nu=\"-12\"\n",
    "        if sign_lep + pid_lep==\"-13\":\n",
    "            pid_nu=\"-14\"\n",
    "        if hnl.vcoupling[pid_tau] <1e-9: continue\n",
    "        label1=\"3body_tau_\" + pid_parent + \"_\" + sign_lep+pid_lep + \"_\" + pid_nu\n",
    "        label2='[' + '\"' + label1 + '\"' + ', ' + '\"' + colors[random.randint(0,length-1)] + '\"' + ', ' + 'r\"$' + label + '$\"' + '],'\n",
    "        production_channels.append(label2)\n",
    "        print(label2)\n",
    "        #print('[' + '\"' + label1 + '\"' + ', ' + '\"' + colors[random.randint(0,length-1)] + '\"' + ', ' + 'r\"$' + label + '$\"' + '],')\n",
    "        model.add_production_3bodydecay(\n",
    "            label = label1,\n",
    "            pid0 = pid_parent,\n",
    "            pid1 = sign_lep+pid_lep,\n",
    "            pid2 = pid_nu,\n",
    "            br = hnl.get_3body_dbr_tau(pid_parent,sign_lep+pid_lep,pid_nu),\n",
    "            generator = generator,\n",
    "            energy = energy,\n",
    "            nsample = nsteps,\n",
    "            integration = \"dEN\",\n",
    "        )\n",
    "        allchannels.append(label1)\n",
    "\n",
    "\n",
    "\n",
    "\n",
    "\n"
   ]
  },
  {
   "cell_type": "markdown",
   "metadata": {},
   "source": [
    "### b) HNL Decays\n",
    "\n",
    "HNLs can decay in a variety of final states, where the BR and lifetimes depend on our choice of $V_\\alpha$. Their branching fractions for the leptonic decay modes are given by,"
   ]
  },
  {
   "cell_type": "markdown",
   "metadata": {},
   "source": [
    "**Decay via 3-body leptonic decays**\n",
    "\n",
    "$\\Gamma\\left(N \\rightarrow l_1^{-} l_2^{+} \\nu_{l_2}\\right)=\\left|U_{l_1 N}\\right|^2 \\frac{G_F^2}{192 \\pi^3} m_N^5 I_1\\left(y_{l_1}, y_{\\nu_{l_2}}, y_{l_2}\\right)\\left(1-\\delta_{l_1 l_2}\\right)$\n",
    "\n",
    "$\\Gamma\\left(N \\rightarrow \\nu_{l_1} l_2^{-} l_2^{+}\\right)=\\left|U_{l_1 N}\\right|^2 \\frac{G_F^2}{96 \\pi^3} m_N^5\\left[\\left(g_L^l g_R^l+\\delta_{l_1 l_2} g_R^l\\right) I_2\\left(y_{\\nu_{l_1}}, y_{l_2}, y_{l_2}\\right)\\right.\n",
    "\\left.+\\left(\\left(g_L^l\\right)^2+\\left(g_R^l\\right)^2+\\delta_{l_1 l_2}\\left(1+2 g_L^l\\right)\\right) I_1\\left(y_{\\nu_{l_1}}, y_{l_2}, y_{l_2}\\right)\\right] $\n",
    "\n",
    "$\\sum_{l_2=e, \\mu, \\tau} \\Gamma\\left(N \\rightarrow \\nu_{l_1} \\nu_{l_2} \\bar{\\nu}_{l_2}\\right)=\\left|U_{l_1 N}\\right|^2 \\frac{G_F^2}{96 \\pi^3} m_N^5 $\n",
    "\n",
    "Source: https://arxiv.org/pdf/1005.1607.pdf\n",
    "\n"
   ]
  },
  {
   "cell_type": "markdown",
   "metadata": {},
   "source": [
    "For decays into hadrons, below $m_N \\approx 3$ GeV it is more accurate to describe HNL decays into bounded hadron states (exclusive), whereas for $m_N>3$ GeV it is more accurate to describe HNL decays into free quarks (inclusive). For the total decay width, only the exclusive modes are considered for $m_N<3$ GeV and for $m_N>3$ GeV only the inclusive modes are considered."
   ]
  },
  {
   "cell_type": "markdown",
   "metadata": {},
   "source": [
    "**Decay via 2-body exclusive modes**\n",
    "\n",
    "$  \\Gamma\\left(N \\rightarrow l_1^{-} P^{+}\\right)=\\left|U_{l_1 N}\\right|^2 \\frac{G_F^2}{16 \\pi} m_N^3 f_P^2\\left|V_P\\right|^2 F_P\\left(y_{l_1}, y_P\\right) $\n",
    "- The decays $N \\rightarrow l_1^{-} \\,\\,(K^{+}, \\pi^+, D^+, D^+_s, B^+, B_c^+)$ are implemented (separately)\n",
    "\n",
    "$ \\Gamma\\left(N \\rightarrow \\nu_{l_1} P^0\\right)=\\left|U_{l_1 N}\\right|^2 \\frac{G_F^2}{64 \\pi} m_N^3 f_P^2\\left(1-y_P^2\\right)^2$\n",
    "- The decays $N \\rightarrow \\nu_{l_1} \\,\\, (K^0, \\eta, \\eta', \\pi^0, D^0, B^0, B^0_s)$ are implemented\n",
    "\n",
    "$\\Gamma\\left(N \\rightarrow l_1^{-} V^{+}\\right)=\\left|U_{l_1 N}\\right|^2 \\frac{G_F^2}{16 \\pi} m_N^3 f_V^2\\left|V_V\\right|^2 F_V\\left(y_{l_1}, y_V\\right) $\n",
    "- The decays $N \\rightarrow l_1^{-} \\,\\, (K^{* +}, \\rho^+, D^{*+}, D^{*+}_s, B^{*+})$ are implemented\n",
    "\n",
    "$\\Gamma\\left(N \\rightarrow \\nu_{l_1} V^0\\right)=\\left|U_{l_1 N}\\right|^2 \\frac{G_F^2}{2 \\pi} m_N^3 f_V^2 \\kappa_V^2\\left(1-y_V^2\\right)^2\\left(1+2 y_V^2\\right)$\n",
    "- The decays $N \\rightarrow \\nu_{l_1} \\,\\, (K^{*0}, \\omega, \\rho^0, \\phi, J/\\psi, D^{*0})$ are implemented\n",
    "\n",
    "**Decay via 2-body inclusive modes**\n",
    "\n",
    "$\\Gamma\\left(N \\rightarrow l_1^{-} u \\bar{d}\\right)=\\left|U_{l_1 N}\\right|^2\\left|V_{u d}\\right|^2 \\frac{G_F^2}{64 \\pi^3} m_N^5 I_1\\left(y_{l_1}, y_u, y_d\\right)$\n",
    "- Neglecting the top quark as it is too heavy\n",
    "\n",
    "$\\Gamma\\left(N \\rightarrow \\nu_{l_1} q \\bar{q}\\right)=\\left|U_{l_1 N}\\right|^2 \\frac{G_F^2}{32 \\pi^3} m_N^5 \\left[g_L^q g_R^q I_2\\left(y_{\\nu_{l_1}}, y_q, y_q\\right)+ \\left(\\left(g_L^q\\right)^2+\\left(g_R^q\\right)^2\\right) I_1\\left(y_{\\nu_{l_1}}, y_q, y_q\\right) \\right] $\n",
    "- Neglecting the top quark as it is too heavy\n",
    "\n",
    "Source: https://arxiv.org/pdf/1005.1607.pdf\n",
    "\n"
   ]
  },
  {
   "cell_type": "markdown",
   "metadata": {},
   "source": [
    "**Auxiliary Functions**\n",
    "The neutral-current couplings for leptons and quarks is given by\n",
    "$$\n",
    "\\begin{array}{lll}\n",
    "g_L^l=-1 / 2+\\sin ^2 \\theta_W, & g_L^u=1 / 2-(2 / 3) \\sin ^2 \\theta_W, & g_L^d=-1 / 2+(1 / 3) \\sin ^2 \\theta_W \\\\\n",
    "g_R^l=\\sin ^2 \\theta_W, & g_R^u=-(2 / 3) \\sin ^2 \\theta_W, & g_R^d=(1 / 3) \\sin ^2 \\theta_W\n",
    "\\end{array}\n",
    "$$\n",
    "The neutral-current couplings for mesons are given by\n",
    "$$\n",
    "\\begin{array}{ll}\n",
    "\\kappa_V=\\sin ^2 \\theta_W / 3 & \\text { for } \\rho^0, \\omega, \\\\\n",
    "\\kappa_V=-1 / 4+\\sin ^2 \\theta_W / 3 & \\text { for } K^{* 0}, \\bar{K}^{* 0}, \\phi, \\\\\n",
    "\\kappa_V=1 / 4-2 \\sin ^2 \\theta_W / 3 & \\text { for } D^{* 0}, \\bar{D}^{* 0}, J / \\psi\n",
    "\\end{array}\n",
    "$$\n",
    "The kinematical functions are\n",
    "$$\n",
    "\\begin{aligned}\n",
    "&I_1(x, y, z)=12 \\int_{(x+y)^2}^{(1-z)^2} \\frac{d s}{s}\\left(s-x^2-y^2\\right)\\left(1+z^2-s\\right) \\lambda^{1 / 2}\\left(s, x^2, y^2\\right) \\lambda^{1 / 2}\\left(1, s, z^2\\right), \\\\\n",
    "&I_2(x, y, z)=24 y z \\int_{(y+z)^2}^{(1-x)^2} \\frac{d s}{s}\\left(1+x^2-s\\right) \\lambda^{1 / 2}\\left(s, y^2, z^2\\right) \\lambda^{1 / 2}\\left(1, s, x^2\\right), \\\\\n",
    "&F_P(x, y)=\\lambda^{1 / 2}\\left(1, x^2, y^2\\right)\\left[\\left(1+x^2\\right)\\left(1+x^2-y^2\\right)-4 x^2\\right], \\\\\n",
    "&F_V(x, y)=\\lambda^{1 / 2}\\left(1, x^2, y^2\\right)\\left[\\left(1-x^2\\right)^2+\\left(1+x^2\\right) y^2-2 y^4\\right],\n",
    "\\end{aligned}\n",
    "$$\n",
    "\n",
    "$\\begin{aligned} \\Gamma_N &=\\sum_{l_1, l_2, \\mathcal{H}}\\left[\\eta_N \\Gamma\\left(N \\rightarrow l_1^{-} \\mathcal{H}^{+}\\right)+\\eta_N \\Gamma\\left(N \\rightarrow l_1^{-} l_2^{+} \\nu_{l_2}\\right) +\\Gamma\\left(N \\rightarrow \\nu_{l_1} \\mathcal{H}{ }^0\\right)+\\Gamma\\left(N \\rightarrow l_2^{-} l_2^{+} \\nu_{l_1}\\right)+\\Gamma\\left(N \\rightarrow \\nu_{l_1} \\nu_{l_2} \\bar{\\nu}_{l_2}\\right)\\right], \\end{aligned}$\n",
    "\n",
    "For Majorana HNL's $\\eta_N=2$ and for Dirac HNL's $\\eta_N=1$. Here we only consider Majorana HNL's.\n",
    "\n",
    "Source: https://arxiv.org/pdf/1005.1607.pdf"
   ]
  },
  {
   "cell_type": "markdown",
   "metadata": {},
   "source": [
    "In the follwing, we use the function `hnl.get_br_and_ctau()` to create the model files for the branching ratios (stored in /model/br) and lifetime (ctau.txt). "
   ]
  },
  {
   "cell_type": "code",
   "execution_count": 12,
   "metadata": {},
   "outputs": [
    {
     "name": "stderr",
     "output_type": "stream",
     "text": [
      "/Users/laroccod/GITHUB/FORESEE/Models/HNL/HNL_Decay.py:80: RuntimeWarning: invalid value encountered in sqrt\n",
      "  integrand = lambda s: (1/s) * (1 + x**2 - s)* np.sqrt(Lambda(s,y**2,z**2)) * np.sqrt(Lambda(1,s,x**2))\n",
      "/Users/laroccod/GITHUB/FORESEE/Models/HNL/HNL_Decay.py:82: IntegrationWarning: The occurrence of roundoff error is detected, which prevents \n",
      "  the requested tolerance from being achieved.  The error may be \n",
      "  underestimated.\n",
      "  integral,error = integrate.quad(integrand,(y+z)**2,(1-x)**2)\n",
      "/Users/laroccod/GITHUB/FORESEE/Models/HNL/HNL_Decay.py:72: RuntimeWarning: invalid value encountered in sqrt\n",
      "  integrand = lambda s: (1/s) * (s - x**2 - y**2) * (1 + z**2 - s)* np.sqrt(Lambda(s,x**2,y**2)) * np.sqrt(Lambda(1,s,z**2))\n",
      "/Users/laroccod/GITHUB/FORESEE/Models/HNL/HNL_Decay.py:74: IntegrationWarning: The occurrence of roundoff error is detected, which prevents \n",
      "  the requested tolerance from being achieved.  The error may be \n",
      "  underestimated.\n",
      "  integral,error = integrate.quad(integrand,(x+y)**2,(1-z)**2)\n"
     ]
    }
   ],
   "source": [
    "hnl.get_br_and_ctau(mpts=np.linspace(0.01,10,100))"
   ]
  },
  {
   "cell_type": "markdown",
   "metadata": {},
   "source": [
    "**Lifetime:** Like for most other models, HNLs lifetime can be written as $\\ c\\tau(m,g)\\  =\\  c\\tau(m,g_*) \\ \\cdot\\  g_*^2 \\ / \\ g^{2}$ where $m$ is the mass, $g$ is the coupling and $g_*$ is some reference coupling. In this case, we can provide a table of masses $m$ and lifetimes $c\\tau(m,g_*)$ at a reference coupling $g_*$ using `model.set_ctau_1d`. Alternatively, one can also provide a table of masses $m$, couplings $g$ and lifetimes $c\\tau(m,g)$ via `model.set_ctau_2d()`. "
   ]
  },
  {
   "cell_type": "code",
   "execution_count": 13,
   "metadata": {},
   "outputs": [],
   "source": [
    "model.set_ctau_1d(\n",
    "    filename=f\"Decay Data/{tuple(hnl.vcoupling.values())}/ctau.txt\", \n",
    "    coupling_ref=1  #coupling_ref is the coupling used to generate ctau files\n",
    ")"
   ]
  },
  {
   "cell_type": "markdown",
   "metadata": {},
   "source": [
    "**Branching Fractions:** Similarly, the branching fractions into particular decay channels are independent of the overall couplings. In this case, we can provide a set of tables of masses $m$ and branching fractions $BR(m)$ using `model.set_br_1d`. Alternatively, we can also provide table of masses $m$, couplings $g$ and branching fraction $BR(m,g)$ via `model.set_br_2d()`. In both cases, we need to specify a list of decay modes and a list of filenames with the corresponding data tables. "
   ]
  },
  {
   "cell_type": "code",
   "execution_count": 14,
   "metadata": {},
   "outputs": [],
   "source": [
    "modes,finalstates,filenames = hnl.set_brs()\n",
    "model.set_br_1d(\n",
    "    modes=modes,\n",
    "    finalstates=finalstates,\n",
    "    filenames=filenames\n",
    ")"
   ]
  },
  {
   "cell_type": "markdown",
   "metadata": {},
   "source": [
    "## 3. Generate LLP Spectra"
   ]
  },
  {
   "cell_type": "markdown",
   "metadata": {},
   "source": [
    "After we have specified the model, let us generate the LLP spectra. We first set the model we just created. "
   ]
  },
  {
   "cell_type": "code",
   "execution_count": 15,
   "metadata": {},
   "outputs": [],
   "source": [
    "foresee.set_model(model=model)"
   ]
  },
  {
   "cell_type": "markdown",
   "metadata": {},
   "source": [
    "FORESEE has the option to plot hadron decay BR into LLPs as a function of the particle mass. This can be done via `foresee.plot_production_branchings()`. This is shown below:"
   ]
  },
  {
   "cell_type": "code",
   "execution_count": 16,
   "metadata": {},
   "outputs": [
    {
     "data": {
      "text/plain": [
       "<module 'matplotlib.pyplot' from '/Users/laroccod/miniconda3/lib/python3.9/site-packages/matplotlib/pyplot.py'>"
      ]
     },
     "execution_count": 16,
     "metadata": {},
     "output_type": "execute_result"
    },
    {
     "data": {
      "image/png": "[encoded data removed]",
      "text/plain": [
       "<Figure size 504x360 with 1 Axes>"
      ]
     },
     "metadata": {
      "needs_background": "light"
     },
     "output_type": "display_data"
    }
   ],
   "source": [
    "#I think this part should be moved to the productions part of the notebook? or maybe not since we need to set the model before plotting\n",
    "start=0.0001\n",
    "stop=10\n",
    "masses=np.linspace(start, stop, num=100)\n",
    "\n",
    "#production_channels is in a slightly wrong format, so edit it to be in a correct format\n",
    "production_channels_fin=[]\n",
    "for n in range(len(production_channels)):\n",
    "    production_channels_fin.append(eval(production_channels[n])[0])\n",
    "\n",
    "foresee.plot_production_branchings(\n",
    "    masses = masses, \n",
    "    productions = production_channels_fin, #productions_2body\n",
    "    xlims=[0,5],ylims=[0,.0002], \n",
    "    xlabel=r\"HNL Mass [GeV]\", \n",
    "    ylabel=r\"BR/$g^2$\",\n",
    "    legendloc=(1.02,1.02),\n",
    "    fs_label=12,log_scale=False, nsample=nsteps\n",
    ")"
   ]
  },
  {
   "cell_type": "markdown",
   "metadata": {},
   "source": [
    "Let's first look at one benchmark scenario with $M_{N}=1$ GeV and $\\epsilon=10^{-3.5}$ using the function `foresee.get_llp_spectrum()`. By default, the result are saved in the `model/LLP_spectra` directory. However, here set `save_file=False` since we don't want to save the results but set `do_plot=True` to plot them. "
   ]
  },
  {
   "cell_type": "code",
   "execution_count": 17,
   "metadata": {},
   "outputs": [
    {
     "ename": "KeyboardInterrupt",
     "evalue": "",
     "output_type": "error",
     "traceback": [
      "\u001b[0;31m---------------------------------------------------------------------------\u001b[0m",
      "\u001b[0;31mKeyboardInterrupt\u001b[0m                         Traceback (most recent call last)",
      "Input \u001b[0;32mIn [17]\u001b[0m, in \u001b[0;36m<cell line: 1>\u001b[0;34m()\u001b[0m\n\u001b[0;32m----> 1\u001b[0m plot \u001b[38;5;241m=\u001b[39m \u001b[43mforesee\u001b[49m\u001b[38;5;241;43m.\u001b[39;49m\u001b[43mget_llp_spectrum\u001b[49m\u001b[43m(\u001b[49m\u001b[43mmass\u001b[49m\u001b[38;5;241;43m=\u001b[39;49m\u001b[38;5;241;43m.1\u001b[39;49m\u001b[43m,\u001b[49m\u001b[43m \u001b[49m\u001b[43mcoupling\u001b[49m\u001b[38;5;241;43m=\u001b[39;49m\u001b[38;5;241;43m10\u001b[39;49m\u001b[38;5;241;43m*\u001b[39;49m\u001b[38;5;241;43m*\u001b[39;49m\u001b[43m(\u001b[49m\u001b[38;5;241;43m-\u001b[39;49m\u001b[38;5;241;43m3.5\u001b[39;49m\u001b[43m)\u001b[49m\u001b[43m,\u001b[49m\u001b[43m \u001b[49m\u001b[43mdo_plot\u001b[49m\u001b[38;5;241;43m=\u001b[39;49m\u001b[38;5;28;43;01mTrue\u001b[39;49;00m\u001b[43m,\u001b[49m\u001b[43m \u001b[49m\u001b[43msave_file\u001b[49m\u001b[38;5;241;43m=\u001b[39;49m\u001b[38;5;28;43;01mFalse\u001b[39;49;00m\u001b[43m)\u001b[49m\n",
      "File \u001b[0;32m~/GITHUB/FORESEE/Models/HNL/../../src/foresee.py:720\u001b[0m, in \u001b[0;36mForesee.get_llp_spectrum\u001b[0;34m(self, mass, coupling, channels, do_plot, save_file, print_stats, stat_cuts)\u001b[0m\n\u001b[1;32m    718\u001b[0m w_decay \u001b[38;5;241m=\u001b[39m \u001b[38;5;28mself\u001b[39m\u001b[38;5;241m.\u001b[39mget_decay_prob(pid0, p_mother)\n\u001b[1;32m    719\u001b[0m \u001b[38;5;28;01mfor\u001b[39;00m p_llp,w_lpp \u001b[38;5;129;01min\u001b[39;00m \u001b[38;5;28mzip\u001b[39m(momenta_llp, weights_llp):\n\u001b[0;32m--> 720\u001b[0m     p_llp_lab\u001b[38;5;241m=\u001b[39mp_llp\u001b[38;5;241m.\u001b[39mboost(\u001b[38;5;241;43m-\u001b[39;49m\u001b[38;5;241;43m1.\u001b[39;49m\u001b[38;5;241;43m*\u001b[39;49m\u001b[43mp_mother\u001b[49m\u001b[38;5;241;43m.\u001b[39;49m\u001b[43mboostvector\u001b[49m)\n\u001b[1;32m    721\u001b[0m     momenta_lab\u001b[38;5;241m.\u001b[39mappend(p_llp_lab)\n\u001b[1;32m    722\u001b[0m     weights_lab\u001b[38;5;241m.\u001b[39mappend(w_mother\u001b[38;5;241m*\u001b[39mw_lpp\u001b[38;5;241m*\u001b[39mw_decay)\n",
      "File \u001b[0;32m~/miniconda3/lib/python3.9/site-packages/skhep/math/vectors.py:366\u001b[0m, in \u001b[0;36mVector3D.__rmul__\u001b[0;34m(self, other)\u001b[0m\n\u001b[1;32m    364\u001b[0m \u001b[38;5;28;01mdef\u001b[39;00m \u001b[38;5;21m__rmul__\u001b[39m(\u001b[38;5;28mself\u001b[39m, other):\n\u001b[1;32m    365\u001b[0m     \u001b[38;5;124;03m\"\"\"Right multiplication of the vector by either another vector or a number.\"\"\"\u001b[39;00m\n\u001b[0;32m--> 366\u001b[0m     \u001b[38;5;28;01mreturn\u001b[39;00m \u001b[38;5;28;43mself\u001b[39;49m\u001b[38;5;241;43m.\u001b[39;49m\u001b[38;5;21;43m__mul__\u001b[39;49m\u001b[43m(\u001b[49m\u001b[43mother\u001b[49m\u001b[43m)\u001b[49m\n",
      "File \u001b[0;32m~/miniconda3/lib/python3.9/site-packages/skhep/math/vectors.py:361\u001b[0m, in \u001b[0;36mVector3D.__mul__\u001b[0;34m(self, other)\u001b[0m\n\u001b[1;32m    359\u001b[0m     \u001b[38;5;28;01mreturn\u001b[39;00m \u001b[38;5;28mself\u001b[39m\u001b[38;5;241m.\u001b[39mdot(other)\n\u001b[1;32m    360\u001b[0m v \u001b[38;5;241m=\u001b[39m \u001b[38;5;28mself\u001b[39m\u001b[38;5;241m.\u001b[39mcopy()\n\u001b[0;32m--> 361\u001b[0m v \u001b[38;5;241m*\u001b[39m\u001b[38;5;241m=\u001b[39m other\n\u001b[1;32m    362\u001b[0m \u001b[38;5;28;01mreturn\u001b[39;00m v\n",
      "File \u001b[0;32m~/miniconda3/lib/python3.9/site-packages/skhep/math/vectors.py:320\u001b[0m, in \u001b[0;36mVector3D.__imul__\u001b[0;34m(self, other)\u001b[0m\n\u001b[1;32m    312\u001b[0m \u001b[38;5;124;03m\"\"\"Scaling of the vector by a number.\u001b[39;00m\n\u001b[1;32m    313\u001b[0m \n\u001b[1;32m    314\u001b[0m \u001b[38;5;124;03mExample\u001b[39;00m\n\u001b[0;32m   (...)\u001b[0m\n\u001b[1;32m    317\u001b[0m \u001b[38;5;124;03m>>> v *= 2\u001b[39;00m\n\u001b[1;32m    318\u001b[0m \u001b[38;5;124;03m\"\"\"\u001b[39;00m\n\u001b[1;32m    319\u001b[0m \u001b[38;5;28;01mif\u001b[39;00m \u001b[38;5;28misinstance\u001b[39m(other, (\u001b[38;5;28mint\u001b[39m, \u001b[38;5;28mfloat\u001b[39m)):\n\u001b[0;32m--> 320\u001b[0m     \u001b[38;5;28;01mreturn\u001b[39;00m Vector3D\u001b[38;5;241m.\u001b[39mfromiterable([v \u001b[38;5;241m*\u001b[39m other \u001b[38;5;28;01mfor\u001b[39;00m v \u001b[38;5;129;01min\u001b[39;00m \u001b[38;5;28mself\u001b[39m\u001b[38;5;241m.\u001b[39m__values])\n\u001b[1;32m    321\u001b[0m \u001b[38;5;28;01melse\u001b[39;00m:\n\u001b[1;32m    322\u001b[0m     \u001b[38;5;28;01mraise\u001b[39;00m InvalidOperationError(\n\u001b[1;32m    323\u001b[0m         \u001b[38;5;124m\"\u001b[39m\u001b[38;5;124minvalid operation \u001b[39m\u001b[38;5;124m'\u001b[39m\u001b[38;5;124m*=\u001b[39m\u001b[38;5;124m'\u001b[39m\u001b[38;5;124m between a \u001b[39m\u001b[38;5;124m'\u001b[39m\u001b[38;5;124mVector3D\u001b[39m\u001b[38;5;124m'\u001b[39m\u001b[38;5;124m and a \u001b[39m\u001b[38;5;124m'\u001b[39m\u001b[38;5;132;01m{0}\u001b[39;00m\u001b[38;5;124m'\u001b[39m\u001b[38;5;124m\"\u001b[39m\u001b[38;5;241m.\u001b[39mformat(\n\u001b[1;32m    324\u001b[0m             other\u001b[38;5;241m.\u001b[39m\u001b[38;5;18m__class__\u001b[39m\u001b[38;5;241m.\u001b[39m\u001b[38;5;18m__name__\u001b[39m\n\u001b[1;32m    325\u001b[0m         )\n\u001b[1;32m    326\u001b[0m     )\n",
      "\u001b[0;31mKeyboardInterrupt\u001b[0m: "
     ]
    }
   ],
   "source": [
    "plot = foresee.get_llp_spectrum(mass=.1, coupling=10**(-3.5), do_plot=True, save_file=False)"
   ]
  },
  {
   "cell_type": "markdown",
   "metadata": {},
   "source": [
    "We can now produce a set of LLP spectra for various masses  (chosen to be equally spaced in log(mass)) and unit coupling and save them. "
   ]
  },
  {
   "cell_type": "code",
   "execution_count": null,
   "metadata": {},
   "outputs": [],
   "source": [
    "#removes br files, since this part will create them again\n",
    "path=\"Users/alechewitt/Desktop/Git_felix_new/FORESEE/Models/HNL/model/LLP_spectra/*\"\n",
    "hnl.remove_files_from_folder(path)\n",
    "masses = np.logspace(-1,1,20+1)\n",
    "masses=list(masses)\n",
    "masses.append(1)\n",
    "for mass in masses:\n",
    "    foresee.get_llp_spectrum(mass=mass,coupling=1)"
   ]
  },
  {
   "cell_type": "markdown",
   "metadata": {},
   "source": [
    "## 4. Count Event Rate in Detector"
   ]
  },
  {
   "cell_type": "markdown",
   "metadata": {},
   "source": [
    "Before counting the number of decays within the detector volume, let us specify the detector geometry. For this we need\n",
    "\n",
    "- the `distance` from the IP in meter (default: 480)\n",
    "- the `length` in meter (default: 5)\n",
    "- the `luminosity` in units of fb^-1 (default: 3000)\n",
    "- the `selection` depending in `x.x` and `x.y` (default: `np.sqrt(x.x**2 + x.y**2)< 1`)\n",
    "- the decay `channels` which the detector can see (default: None, meaning all of them)\n",
    "\n",
    "The default correspond to the FASER2 detector."
   ]
  },
  {
   "cell_type": "code",
   "execution_count": null,
   "metadata": {},
   "outputs": [],
   "source": [
    "distance, selection, length, luminosity, channels = 480, \"np.sqrt(x.x**2 + x.y**2)< 1\", 5, 3000, None\n",
    "foresee.set_detector(distance=distance, selection=selection, length=length, luminosity=luminosity, channels=channels)"
   ]
  },
  {
   "cell_type": "markdown",
   "metadata": {},
   "source": [
    "Let us look for one specific HNL mass $M_{N}=1$ GeV at how many particle decay inside the decay volume. This can be done using `get_events()` for which we need to specify again the mass and filename. Additionally, we can specify \n",
    "\n",
    "- the `couplings` for which we evaluate the event rate as numpy array (deault `np.logspace(-8,-3,51)`)\n",
    "- the `preselectioncuts` when reading the LLP spectra in terms of momentum `p` and angle `th` (default: `th<0.01 and p>100`)\n",
    "- the number `nsample` describing how many randomly choosen values of $\\phi_{LLP}$ should sampled (default 1). This is only relevant for detectors that are not cylyndrical or not centered around the beam axis. \n",
    "- the production `modes` which should be considered\n",
    "- the `energy` of the experiments"
   ]
  },
  {
   "cell_type": "code",
   "execution_count": null,
   "metadata": {},
   "outputs": [],
   "source": [
    "#you must use one of the masses from the list 'masses' above that generated and saved the llp spectra in order to get nonzero signals\n",
    "output = foresee.get_events(mass=1, energy=energy, couplings=np.logspace(-5,0,6))\n",
    "coups, ctaus, nsigs, momenta, weights = output\n",
    "for coup,ctau,nsig in zip(coups, ctaus, nsigs):\n",
    "    print (\"epsilon =\", '{:5.3e}'.format(coup), \": nsignal =\", '{:5.3e}'.format(nsig))"
   ]
  },
  {
   "cell_type": "markdown",
   "metadata": {},
   "source": [
    "The previous function also outputs the energy distribution of the HNL particles which decay inside the detector. Let's have a look at them."
   ]
  },
  {
   "cell_type": "code",
   "execution_count": null,
   "metadata": {},
   "outputs": [],
   "source": [
    "from matplotlib import pyplot as plt\n",
    "fig = plt.figure(figsize=(7,5))\n",
    "ax = plt.subplot(1,1,1)\n",
    "ens=[]\n",
    "for coup,momentum,weight in zip(coups,momenta,weights):\n",
    "    if sum(weight)<10**-3 : continue\n",
    "    ax.hist([p.e for p in momentum],  weights=weight, bins=np.logspace(2,4, 20), histtype='step', label=r\"$g=$\"+str(coup)) \n",
    "    ax.set_xscale(\"log\")\n",
    "    ax.set_yscale(\"log\")\n",
    "    ax.set_ylim(10**-1,9*10**7) \n",
    "    ax.set_xlabel(\"E(N) [GeV]\") \n",
    "    ax.set_ylabel(\"Number of Events per bin\") \n",
    "    ax.legend(frameon=False, labelspacing=0)\n",
    "plt.tight_layout()\n",
    "plt.show()"
   ]
  },
  {
   "cell_type": "markdown",
   "metadata": {},
   "source": [
    "FORESEE also includes a function `write_events()` which obtains an unweighted sample of LLP decay events and saves them as a HEPMC file. For this function, we need to specify\n",
    "- the `mass` and `coupling` of the LLP\n",
    "- the collision `energy`\n",
    "- the number of events `numberevent` that should be samples (optional, default=10)\n",
    "- the `filename` of the output file (optional, default=`model/events/<mass>_<coupling>.hepmc`)\n",
    "- the z-position (in meter) of the beginning of the decay volume (optional, default=0)\n",
    "- a random `seed` (optional, default=None)\n",
    "- the `decaychannels` for which the event should bbe written to file (optional, default=None meaning that all channels are written to file)\n",
    "\n",
    "At the moment, FORESEE only supports 2-body LLP decays. For all other cases, including those where no final state information was specified when initiating the `Model`, the LLP will not be decayed. "
   ]
  },
  {
   "cell_type": "code",
   "execution_count": null,
   "metadata": {},
   "outputs": [],
   "source": [
    "foresee.write_events(filename=\"model/events/test.hepmc\", mass=1, coupling=1.000e-02, \n",
    "    energy=\"14\", numberevent=10, zfront=0)"
   ]
  },
  {
   "cell_type": "markdown",
   "metadata": {},
   "source": [
    "Let us have a look at a the output:"
   ]
  },
  {
   "cell_type": "code",
   "execution_count": null,
   "metadata": {},
   "outputs": [],
   "source": [
    "f = open(\"model/events/test.hepmc\", 'r')\n",
    "file_contents = f.read()\n",
    "print (file_contents)"
   ]
  },
  {
   "cell_type": "markdown",
   "metadata": {},
   "source": [
    "## 5. Parameter Scan"
   ]
  },
  {
   "cell_type": "markdown",
   "metadata": {},
   "source": [
    "In the following, we will get the LLP sensitivity reach for different detector configuraions. As an example, we show the FASER2 reach for dark photons for 3 scenarios. We just need to loop over different masses and use the previously introduced funtion `get_events`. The results will be written into a `.npy` file that we can store and plot later."
   ]
  },
  {
   "cell_type": "markdown",
   "metadata": {},
   "source": [
    "- the nominal/default setup"
   ]
  },
  {
   "cell_type": "code",
   "execution_count": null,
   "metadata": {},
   "outputs": [],
   "source": [
    "#masses\n",
    "masses = np.logspace(-1,1,20+1)\n",
    "\n",
    "#specify setup\n",
    "luminosity, distance = 3000 , 480\n",
    "setup, selection, channels = \"default\", \"np.sqrt(x.x**2 + x.y**2)< 1\", None\n",
    "foresee.set_detector(selection=selection, channels=channels, distance=distance, luminosity=luminosity)\n",
    "\n",
    "#get reach \n",
    "list_nevents = []    \n",
    "for mass in masses:\n",
    "    couplings, _, nevents, _, _ = foresee.get_events(mass=mass, energy=energy,couplings=np.logspace(-5,0,50+1))\n",
    "    list_nevents.append(nevents)  \n",
    "    \n",
    "#save results\n",
    "np.save(model.modelpath+\"model/results/\"+energy+\"TeV_\"+setup+\".npy\",[masses,couplings,list_nevents])"
   ]
  },
  {
   "cell_type": "markdown",
   "metadata": {},
   "source": [
    "## 6. Plot the Results"
   ]
  },
  {
   "cell_type": "markdown",
   "metadata": {},
   "source": [
    "Now let's plot the results. We first specify all detector setups for which we want to show result (filename in model/results directory, label, color, linestyle, opacity alpha for filled contours, required number of events)."
   ]
  },
  {
   "cell_type": "code",
   "execution_count": null,
   "metadata": {},
   "outputs": [],
   "source": [
    "setups = [\n",
    "    [\"14TeV_default.npy\",    \"default\"  , \"red\",     \"solid\", 0., 3],\n",
    "]"
   ]
  },
  {
   "cell_type": "markdown",
   "metadata": {},
   "source": [
    "Then we specify all the existing bounds (filename in model/bounds directory, label, label position x, label position y, label rotation)"
   ]
  },
  {
   "cell_type": "code",
   "execution_count": null,
   "metadata": {},
   "outputs": [],
   "source": [
    "bounds = bounds = [ \n",
    "    [\"bounds_LHCb1.txt\", \"LHCb\",  0.220, 0.9*10**-4, 0  ],\n",
    "    [\"bounds_LHCb2.txt\",  None  , 0    , 0         , 0  ],\n",
    "    [\"bounds_LHCb3.txt\",  None  , 0    , 0         , 0  ],\n",
    "    [\"bounds_E137.txt\",  \"E137\",  0.015, 1.2*10**-7, 0  ],\n",
    "    [\"bounds_Charm.txt\", \"CHARM\", 0.120, 1.3*10**-7, -8 ],\n",
    "    [\"bounds_NuCal.txt\", \"NuCal\", 0.041, 8.0*10**-6, -24],\n",
    "    [\"bounds_E141.txt\",  \"E141\",  0.011, 7.5*10**-5, 17 ],\n",
    "    [\"bounds_NA64.txt\",  \"NA64\",  0.013, 2.3*10**-4, -35],\n",
    "    [\"bounds_BaBar.txt\", \"BaBar\", 0.360, 1.4*10**-3, 0  ],\n",
    "    [\"bounds_NA48.txt\",  \"NA48\",  0.040, 1.4*10**-3, 0  ],\n",
    "]\n",
    "\n",
    "\n",
    "#more correct than above\n",
    "bounds = [ \n",
    "    [\"bounds_BBN_el.txt\",  \"BBN\"  , 3*10**-1    , 3*10**-5        , -40  ],\n",
    "    [\"bounds_el.txt\",None,  0.220, 0.9*10**-4, 0  ],\n",
    "    ]\n",
    "\n",
    "'''[\"bounds_LHCb_el.txt\",  \"LHCb\"  , 0    , 0         , 0  ]\n",
    "    [\"bounds_el.txt\", None,  0.220, 0.9*10**-4, 0  ],\n",
    "'''\n",
    "\n",
    "#this one doesnt even show up\n",
    "#[\"bounds_LHCb_el.txt\",  None  , 0    , 0         , 0  ]"
   ]
  },
  {
   "cell_type": "markdown",
   "metadata": {},
   "source": [
    "We then specify other projected sensitivitities (filename in model/bounds directory, color, label, label position x, label position y, label rotation)"
   ]
  },
  {
   "cell_type": "code",
   "execution_count": null,
   "metadata": {},
   "outputs": [],
   "source": [
    "projections = [\n",
    "\n",
    "\n",
    "\n",
    "\n",
    "    [\"limits_SHiP_el.txt\",           \"orange\",  \"SHiP\"    , 3, 10**-4, 0  ],\n",
    "    [\"limits_NA62_el.txt\",           \"blue\",    \"NA62\"    ,1, 0.0002 , 0  ],\n",
    "    [\"limits_DUNE_el.txt\",           \"magenta\",    \"DUNE\"    ,0.6, 0.00009 , 0  ],\n",
    "    ['limits_CODEX_el.txt',           \"purple\",    \"CODEX\"    ,2*10**-1, 0.0003, 0  ],\n",
    "    [\"limits_MATHUSLA_el.txt\",           \"forestgreen\",  \"MATHUSLA\"    , 0.3, 0.0001 , 0  ]\n",
    "\n",
    "\n",
    "\n",
    "]"
   ]
  },
  {
   "cell_type": "markdown",
   "metadata": {},
   "source": [
    "Finally, we can plot everything using `foresee.plot_reach()`. It returns a matplotlib instance, to which we can add further lines and which we can show or save. Below, we add the dark matter relict target line for a specific benchmark."
   ]
  },
  {
   "cell_type": "code",
   "execution_count": null,
   "metadata": {},
   "outputs": [],
   "source": [
    "plot = foresee.plot_reach(\n",
    "    setups=setups,\n",
    "    bounds=bounds,\n",
    "    projections=projections,\n",
    "    title=\"HNL with Electron Couplings\",\n",
    "    xlims = [1e-1, 10], \n",
    "    ylims = [1e-5, 10e-2 ],\n",
    "    xlabel=r\"HNL mass $M_{N}$ [GeV]\", \n",
    "    ylabel=r\"Kinetic Mixing $|U_{e}|$\",\n",
    "    legendloc=(1,0.68),\n",
    "    figsize=(8,6),\n",
    ")\n",
    "plot.subplots_adjust(left=0.12, right=0.97, bottom=0.10, top=0.95)\n",
    "#plot.savefig(\"/Users/alechewitt/Desktop/Figure.pdf\")\n",
    "plot.show()"
   ]
  },
  {
   "cell_type": "markdown",
   "metadata": {},
   "source": [
    "$\\color{red}{\\text{      ... THE OLD (MAGENTA) and NEW (RED) LINES LOOK SIMILAR}}$\n",
    "$\\color{red}{\\text{      ... THE DIFFERENCED RE PROABLY DUE TO DIFFERENT CHARM PRODUCTION AND MISSING PROD. CHANNELS}}$"
   ]
  },
  {
   "cell_type": "markdown",
   "metadata": {},
   "source": [
    "## 7. Export Contours"
   ]
  },
  {
   "cell_type": "markdown",
   "metadata": {},
   "source": [
    "It might also be useful to extract the contours lines, and save them as a text file. This can be done using the `extract_contours()` function. As example, let us export the FASER2 line. "
   ]
  },
  {
   "cell_type": "code",
   "execution_count": null,
   "metadata": {},
   "outputs": [],
   "source": [
    "foresee.extract_contours(\n",
    "    inputfile=\"model/results/14TeV_default.npy\", \n",
    "    outputfile=\"model/lines/limits_FASER2.txt\"\n",
    ")"
   ]
  },
  {
   "cell_type": "markdown",
   "metadata": {},
   "source": [
    "## Plot Production Cross Section \n",
    "\n",
    "We also can plot the production cross section as a function of the particle mass via `foresee.plot_production`. We do this below to show the production rate associated with different channels (commenting out the subleading channels): "
   ]
  },
  {
   "cell_type": "code",
   "execution_count": null,
   "metadata": {},
   "outputs": [],
   "source": [
    "masses = [0.1, 0.2, 0.3, 0.7, 1, 1.2, 1.4, 2, 3 ]\n",
    "productions = [\n",
    "    [\"2body_411_-11\"     , None      , \"firebrick\"   , r\"$D^+ \\to e^+ N$\"   ],   \n",
    "    [\"2body_431_-11\"     , None      , \"red\"         , r\"$D_s^+ \\to e^+ N$\" ],   \n",
    "    [\"2body_521_-11\"     , [0.5,10]  , \"orange\"      , r\"$B^+ \\to e^+ N$\"   ],  \n",
    "    [\"2body_541_-11\"     , [0.5,10]  , \"gold\"        , r\"$B_c^+ \\to e^+ N$\" ],   \n",
    "    [\"3body_411_-311_-11\", None      , \"blue\"        , r\"$D^+ \\to \\bar{K}^0 e^+ N$\" ],   \n",
    "    [\"3body_421_-321_-11\", None      , \"deepskyblue\" , r\"$D^0 \\to K^- e^+ N$\"       ], \n",
    "    [\"3body_511_-411_-11\", [0.5,10]  , \"green\"       , r\"$B^0 \\to D^- e^+ N$\"       ], \n",
    "    [\"3body_531_-431_-11\", [0.5,10]  , \"limegreen\"   , r\"$B_s^+ \\to D_s^- e^+ N$\"   ], \n",
    "]\n",
    "\n",
    "foresee.plot_production(\n",
    "    masses = masses, \n",
    "    productions = productions,\n",
    "    condition=\"True\", \n",
    "    xlims=[0.1,30],ylims=[10**0,10**10], \n",
    "    xlabel=r\"HNL Mass [GeV]\", \n",
    "    ylabel=r\"Production Rate $\\sigma/\\epsilon^2$ [pb]\",\n",
    "    legendloc=(1.02,1.02),\n",
    "    fs_label=12,\n",
    "    title=\"All HNLs\",\n",
    ")\n",
    "\n",
    "plot.savefig(\"Figure_HNL_Prod_All.pdf\")\n",
    "plot.show()"
   ]
  }
 ],
 "metadata": {
  "kernelspec": {
   "display_name": "Python 3 (ipykernel)",
   "language": "python",
   "name": "python3"
  },
  "language_info": {
   "codemirror_mode": {
    "name": "ipython",
    "version": 3
   },
   "file_extension": ".py",
   "mimetype": "text/x-python",
   "name": "python",
   "nbconvert_exporter": "python",
   "pygments_lexer": "ipython3",
   "version": "3.9.5"
  },
  "toc": {
   "base_numbering": 1,
   "nav_menu": {
    "height": "734px",
    "width": "465px"
   },
   "number_sections": true,
   "sideBar": true,
   "skip_h1_title": false,
   "title_cell": "Table of Contents",
   "title_sidebar": "Contents",
   "toc_cell": false,
   "toc_position": {},
   "toc_section_display": true,
   "toc_window_display": false
  },
  "vscode": {
   "interpreter": {
    "hash": "d992d1d0d82f377b2d7582744839498d1eb429866497c2c977ef925f2dbe2ea3"
   }
  }
 },
 "nbformat": 4,
 "nbformat_minor": 2
}
