{
 "cells": [
  {
   "cell_type": "markdown",
   "metadata": {},
   "source": [
    "# FORESEE - Heavy Neutral Leptons (HNLs)"
   ]
  },
  {
   "cell_type": "markdown",
   "metadata": {},
   "source": [
    "### Load Libraries "
   ]
  },
  {
   "cell_type": "code",
   "execution_count": 1,
   "metadata": {},
   "outputs": [],
   "source": [
    "import numpy as np\n",
    "import sys\n",
    "import os\n",
    "import matplotlib.colors as mcolors\n",
    "src_path = \"/Users/alechewitt/Desktop/Git_felix_2/FORESEE\"\n",
    "sys.path.append(src_path)\n",
    "from src.foresee import Foresee, Utility, Model\n",
    "\n",
    "from HeavyNeutralLepton import * "
   ]
  },
  {
   "cell_type": "markdown",
   "metadata": {},
   "source": [
    "## 1. Initialization \n"
   ]
  },
  {
   "cell_type": "markdown",
   "metadata": {},
   "source": [
    "All function that we will need are included in the FORESEE package. We start by simply initializing it: "
   ]
  },
  {
   "cell_type": "code",
   "execution_count": 2,
   "metadata": {},
   "outputs": [],
   "source": [
    "foresee = Foresee()"
   ]
  },
  {
   "cell_type": "markdown",
   "metadata": {},
   "source": [
    "HNL's are produced mainly via D and $B$ meson decay. To start, let us have a look at the $\\text{D}^+$ spectrum in terms of the angle with respect to the beam axis $\\theta$ and the momentum $p$. This can be done using the function `get_spectrumplot` which requires the MC particle ID (or simply pid), the MC generator and the energy. The units on the coloraxis are pb/bin. \n",
    "\n",
    "FORESEE provides the 2D spectrum as tables for a variety of particles ($\\pi$, $\\eta$, D, B, ...), generators (SIBYLL, EPOSLHC, QGSJET, PYTHIA) and collision energies (14, 27 and 100 TeV). The datafiles are stored in the directory `files/hadrons`. Let us show the $\\text{D}^+$ spectrum obained by Pythia8. "
   ]
  },
  {
   "cell_type": "code",
   "execution_count": 3,
   "metadata": {},
   "outputs": [
    {
     "data": {
      "image/png": "[encoded data removed]",
      "text/plain": [
       "<Figure size 504x396 with 2 Axes>"
      ]
     },
     "metadata": {
      "needs_background": "light"
     },
     "output_type": "display_data"
    }
   ],
   "source": [
    "plot=foresee.get_spectrumplot(pid=\"411\", generator=\"pythia8\", energy=\"14\",  prange=[[-5, 0, 100],[ 0, 4, 80]])\n",
    "plot.show()"
   ]
  },
  {
   "cell_type": "markdown",
   "metadata": {},
   "source": [
    "## 2. Specifying the Model: Heavy Neutral Leptons"
   ]
  },
  {
   "cell_type": "markdown",
   "metadata": {},
   "source": [
    "In this notebook we consider Heavy Neutral Leptons (HNLs) $N$. These for example naturally arise in models with an addition right handed neutrinos. Their phenomenology is described by a the folling Lagrangian \n",
    "\n",
    "\\begin{equation}\n",
    " \\mathcal{L} = \\bar N (i \\gamma^\\mu \\partial_mu - \\color{red}{m_N}) N - (g/\\sqrt{2}) \\color{red}{U_{\\alpha}} W_\\mu \\bar \\ell_\\alpha \\gamma^\\mu N - (g/\\sqrt{2} c_W) \\color{red}{U_{\\alpha}} Z_\\mu \\bar \\nu_\\alpha \\gamma^\\mu N \n",
    "\\end{equation}\n",
    "\n",
    "where $\\color{red}{m_N}$ is the HNL mass, and $\\color{red}{U_{\\alpha}}$ are the mixings of the HNL with the SM neutrinos of flavour $\\alpha=e,\\mu, \\tau$. For practical purposes, we will define $\\color{red}{U_{\\alpha}} = \\color{red}{g} \\times V_\\alpha$ where $V_\\alpha$ is fixed. In this case the HNL mass $\\color{red}{m_N}$ and the coupling $\\color{red}{g}$ are the free parameters of the model. \n",
    "\n",
    "Since the HNL model is rather complicted, we will use dedicated the `HeavyNeutralLepton` class, which will provide all properties of the model, eg their the *production rate*, the *lifetime* and their *decay branching fractions*. It will be initialized with the values of $V_\\alpha$."
   ]
  },
  {
   "cell_type": "code",
   "execution_count": 4,
   "metadata": {},
   "outputs": [],
   "source": [
    "hnl = HeavyNeutralLepton(ve=1, vmu=0, vtau=0)\n"
   ]
  },
  {
   "cell_type": "markdown",
   "metadata": {},
   "source": [
    "All properties are specified in the `Model` class. We initialize it with the name of the model as argument. "
   ]
  },
  {
   "cell_type": "code",
   "execution_count": 5,
   "metadata": {},
   "outputs": [],
   "source": [
    "energy = \"14\"\n",
    "modelname=\"HNL\"\n",
    "model = Model(modelname, path=\"./\")\n",
    "allchannels = []"
   ]
  },
  {
   "cell_type": "markdown",
   "metadata": {},
   "source": [
    "### a) HNL Production\n",
    "As most LLPs, HNLs are produced in the decay of primary hadrons. Here we need to specify the total branching fraction into the LLP as function of the `coupling` and the `mass`. "
   ]
  },
  {
   "cell_type": "markdown",
   "metadata": {},
   "source": [
    "**Production via 2-body decays** HNLs can be produced in 2-body decays of the type $H^+ \\to \\ell N$. The corresponding branching fractions are given by  \n",
    "\n",
    "\\begin{equation}\n",
    "    \\text{BR}(H^+ \\rightarrow \\ell_{\\alpha}^{+} N ) =   |U_{\\alpha}|^2 \\frac{G_F^2 M_H M_N^2 \\tau_H f_H |V_H|^2 }{8 \\pi}  \\cdot \\left[ 1- \\frac{M_N^2}{M_H^2} + 2 \\frac{M_{\\ell}^2}{M_H^2}+ \\frac{M_{\\ell}^2}{M_N^2} \\left( 1- \\frac{M_{\\ell}^2}{M_H^2} \\right) \\right] \\times \\left[\\left(1+ \\frac{M_N^2}{M_H^2}- \\frac{M_{\\ell}^2}{M_H^2}\\right)^2 - 4 \\frac{M_N^2}{M_H^2}\\right]^{1/2}\n",
    "\\end{equation}\n",
    "\n",
    "In particular we consider the decays:\n",
    "- $D^\\pm, D_s^\\pm, B^\\pm, B_c^\\pm \\to \\ell^\\pm N$"
   ]
  },
  {
   "cell_type": "code",
   "execution_count": 6,
   "metadata": {},
   "outputs": [],
   "source": [
    "#colors for plots\n",
    "import random\n",
    "colors=list(mcolors.CSS4_COLORS)\n",
    "length=len(colors)\n"
   ]
  },
  {
   "cell_type": "code",
   "execution_count": 7,
   "metadata": {},
   "outputs": [
    {
     "name": "stdout",
     "output_type": "stream",
     "text": [
      "[\"2body_411_-11\", \"peachpuff\", r\"$D^+ \\to l^+ + N$\"],\n",
      "[\"2body_-411_11\", \"lightcyan\", r\"$D^- \\to l^- + N$\"],\n",
      "[\"2body_431_-11\", \"yellowgreen\", r\"$D_s^+ \\to l^+ + N$\"],\n",
      "[\"2body_-431_11\", \"coral\", r\"$D_s^- \\to l^- + N$\"],\n",
      "[\"2body_521_-11\", \"saddlebrown\", r\"$B^+ \\to + l^+ + N$\"],\n",
      "[\"2body_-521_11\", \"deeppink\", r\"$B^- \\to + l^- + N$\"],\n",
      "[\"2body_541_-11\", \"dimgrey\", r\"$B_c^+ \\to + l^+ + N$\"],\n",
      "[\"2body_-541_11\", \"darkgreen\", r\"$B_c^- \\to + l^- + N$\"],\n"
     ]
    }
   ],
   "source": [
    "channels = [\n",
    "    [r'D^+ \\to l^+ + N'    , '411', '-'],\n",
    "    [r'D^- \\to l^- + N'    ,'-411', '' ],\n",
    "    [r'D_s^+ \\to l^+ + N'  , '431', '-'],\n",
    "    [r'D_s^- \\to l^- + N'  ,'-431', '' ],\n",
    "    [r'B^+ \\to + l^+ + N'  , '521', '-'],\n",
    "    [r'B^- \\to + l^- + N'  ,'-521', '' ],\n",
    "    [r'B_c^+ \\to + l^+ + N', '541', '-'],\n",
    "    [r'B_c^- \\to + l^- + N','-541', '' ]\n",
    "]\n",
    "    \n",
    "for label, pid_had, sign_lep in channels:\n",
    "    for pid_lep in [\"11\",\"13\",\"15\"]:\n",
    "        if hnl.vcoupling[pid_lep] <1e-9: continue\n",
    "        #print (r\"added decay: \"+label+\" for l=\"+hnl.lepton[pid_lep])    \n",
    "        label1 = \"2body_\" + pid_had + \"_\" + sign_lep+pid_lep\n",
    "        print('[' + '\"' + label1 + '\"' + ', ' + '\"' + colors[random.randint(0,length-1)] + '\"' + ', ' + 'r\"$' + label + '$\"' + '],')\n",
    "        model.add_production_2bodydecay(\n",
    "            label = label1,\n",
    "            pid0 = pid_had,\n",
    "            pid1 = pid_lep,\n",
    "            br = hnl.get_2body_br(pid_had, sign_lep+pid_lep),\n",
    "            generator = \"Pythia8\",\n",
    "            energy = energy,\n",
    "            nsample = 3,\n",
    "        )\n",
    "        allchannels.append(label1)"
   ]
  },
  {
   "cell_type": "markdown",
   "metadata": {},
   "source": [
    "**Production via 2-body $\\tau$ decays** HNLs can be produced in 2-body decays of the type $\\tau \\to H N$, the corresponding branching fraction is given by\n",
    "\n",
    "\\begin{aligned}\n",
    "    \\mathrm{Br}(\\tau \\rightarrow \\mathrm{HN}) &=\\tau_\\tau \\cdot \\frac{\\left|U_\\tau\\right|^2}{16 \\pi} G_F^2\\left|V_H\\right|^2 f_H^2 M_\\tau^3 \\cdot\\left(\\left(1-\\frac{M_N^2}{M_\\tau^2}\\right)^2-\\frac{M_H^2}{M_\\tau^2}\\left(1+\\frac{M_N^2}{M_\\tau^2}\\right)\\right) \\\\\n",
    "    & \\times \\sqrt{\\left(1-\\frac{\\left(M_H-M_N\\right)^2}{M_\\tau^2}\\right)\\left(1-\\frac{\\left(M_H+M_N\\right)^2}{M_\\tau^2}\\right)}\n",
    "\\end{aligned}\n",
    "\n",
    "or of the form $\\tau \\to \\rho N$, in this case the branching fraction is given by\n",
    "\n",
    "\\begin{aligned}\n",
    "    \\mathrm{Br}(\\tau \\rightarrow \\rho \\mathrm{N}) &=\\tau_\\tau \\cdot \\frac{\\left|U_\\tau\\right|^2}{8 \\pi} \\frac{g_\\rho^2}{M_\\rho^2} G_F^2\\left|V_{u d}\\right|^2 M_\\tau^3 \\cdot\\left(\\left(1-\\frac{M_N^2}{M_\\tau^2}\\right)^2+\\frac{M_\\rho^2}{M_\\tau^2}\\left(1+\\frac{M_N^2-2 M_\\rho^2}{M_\\tau^2}\\right)\\right) \\\\\n",
    "    & \\times \\sqrt{\\left(1-\\frac{\\left(M_\\rho-M_N\\right)^2}{M_\\tau^2}\\right)\\left(1-\\frac{\\left(M_\\rho+M_N\\right)^2}{M_\\tau^2}\\right)}\n",
    "\\end{aligned}\n",
    "\n",
    "In particular we consider the decays:\n",
    "- $\\tau^{\\pm} \\to \\pi^{\\pm},K^{\\pm}, \\rho^{\\pm} N$"
   ]
  },
  {
   "cell_type": "code",
   "execution_count": 8,
   "metadata": {},
   "outputs": [],
   "source": [
    "#tau 2 body decays\n",
    "#elements in channels have the form [decay label, parent particle pid, produced hadron pid (without sign), sign of produced hadron]\n",
    "channels = [\n",
    "[r'\\tau^- \\to \\pi^- + N','15','211', '-' ],\n",
    "[r'\\tau^+ \\to \\pi^+ + N','15','211', ''  ],\n",
    "[r'\\tau^- \\to K^- + N'  ,'15','321', '-' ],\n",
    "[r'\\tau^+ \\to K^+ + N'  ,'15','321', ''  ],\n",
    "[r'\\tau^- \\to \\rho^- + N','15','213', '-'],\n",
    "[r'\\tau^+ \\to \\rho^+ + N','15','213', '' ]\n",
    "]\n",
    "    \n",
    "for label, pid_tau, pid_had, sign_had in channels:\n",
    "    for pid_tau in [\"15\"]:\n",
    "        if hnl.vcoupling[pid_tau] <1e-9: continue\n",
    "        label1 = \"2body_tau_\" + pid_tau + \"_\" + sign_had+pid_had\n",
    "        print('[' + '\"' + label1 + '\"' + ', ' + '\"' + colors[random.randint(0,length-1)] + '\"' + ', ' + 'r\"$' + label + '$\"' + '],')\n",
    "        model.add_production_2bodydecay(\n",
    "            label = label1,\n",
    "            pid0 = pid_tau,\n",
    "            pid1 = pid_had,\n",
    "            br = hnl.get_2body_br_tau(pid_tau, sign_had+pid_had),\n",
    "            generator = \"Pythia8\",\n",
    "            energy = energy,\n",
    "            nsample = 3,\n",
    "        )\n",
    "        allchannels.append(label1)"
   ]
  },
  {
   "cell_type": "markdown",
   "metadata": {},
   "source": [
    "**Production via 3-body decay to pseudoscalar meson** HNLs can also be produced in 3-body decays of the type $H \\to H' \\ell N$, where H' is a pseudoscalar. The corresponding branching fractions are given by  \n",
    "\n",
    "\\begin{aligned}\n",
    "&\\frac{d \\mathrm{Br}\\left(\\mathrm{H} \\rightarrow \\mathrm{H}^{\\prime} \\mathrm{l}_\\alpha^{+} \\mathrm{N}\\right)}{d E_N d q^2}=\\tau_H \\cdot\\left|U_\\alpha\\right|^2 \\cdot \\frac{\\left|V_{H H^{\\prime}}\\right|^2 G_F^2}{64 \\pi^3 M_H^2} \\left(f_{-}^2\\left(q^2\\right) \\cdot\\left(q^2\\left(M_N^2+M_l^2\\right)-\\left(M_N^2-M_l^2\\right)^2\\right)\\right. \\\\\n",
    "&+2 f_{+}\\left(q^2\\right) f_{-}\\left(q^2\\right)\\left(M_N^2\\left(2 M_H^2-2 M_{H^{\\prime}}^2-4 E_N M_H-M_l^2+M_N^2+q^2\\right)+M_l^2\\left(4 E_N M_H+M_l^2-M_N^2-q^2\\right)\\right) \\\\\n",
    "& +f_{+}^2\\left(q^2\\right)\\left(\\left(4 E_N M_H+M_l^2-M_N^2-q^2\\right)\\left(2 M_H^2-2 M_{H^{\\prime}}^2-4 E_N M_H-M_l^2+M_N^2+q^2\\right)\\right. \\\\\n",
    "&\\left.-\\left(2 M_H^2+2 M_{H^{\\prime}}^2-q^2\\right)\\left(q^2-M_N^2-M_l^2\\right)\\right)\n",
    "\\end{aligned}\n",
    "\n",
    "where\n",
    "\n",
    "\\begin{aligned}\n",
    "f_{+}\\left(q^2\\right) &=\\frac{f_{+}(0)}{\\left(1-q^2 / M_V^2\\right)} \\\\\n",
    "f_0\\left(q^2\\right) &=\\frac{f_0(0)}{\\left(1-q^2 / M_S^2\\right)} \\\\\n",
    "f_0\\left(q^2\\right)=f_{+}\\left(q^2\\right) &+\\frac{q^2}{M_H^2-M_{H'}^2} f_{-}\\left(q^2\\right).\n",
    "\\end{aligned}\n",
    "$M_V$ and $M_S$ are the vector and scalar pole masses and are given by the $D^*(2010)$ and $D_0^*(2400)$ masses, respectively.\n",
    "\n",
    "In particular we consider the decays:\n",
    "- $D^0 \\to K^{\\mp} \\ell^{\\pm} N, \\text{ where } \\ell \\neq \\tau$\n",
    "- $D^{\\pm} \\to \\bar{K^0}  \\ell^{\\pm} N, \\text{ where } \\ell \\neq \\tau$\n",
    "- $B^{\\pm} \\to \\bar{D^0} \\ell^{\\pm} N, \\text{ including } \\tau$\n",
    "- $B^0 \\to D^{\\mp} \\ell^{\\pm} N, \\text{ including } \\tau$\n",
    "- $B_s^0 \\to D_s^{\\mp} \\ell^{\\pm} N, \\text{ including } \\tau$\n",
    "- $B_c^{\\pm} \\to B^0 \\ell^{\\pm} N, \\text{ where } \\ell \\neq \\tau$\n",
    "- $B_c^{\\pm} \\to B_s^0 \\ell^{\\pm} N, \\text{ where } \\ell \\neq \\tau$ "
   ]
  },
  {
   "cell_type": "code",
   "execution_count": 9,
   "metadata": {},
   "outputs": [
    {
     "name": "stdout",
     "output_type": "stream",
     "text": [
      "[\"3body_pseudo_421_-321_-11\", \"rebeccapurple\", r\"$D^0 \\to K^- + l^+ + N$\"],\n",
      "[\"3body_pseudo_421_321_11\", \"royalblue\", r\"$D^0 \\to K^+ + l^- + N$\"],\n",
      "[\"3body_pseudo_411_-311_-11\", \"palevioletred\", r\"$D^+ \\to \\bar{K}^0 + l^+ + N$\"],\n",
      "[\"3body_pseudo_-411_-311_11\", \"salmon\", r\"$D^- \\to \\bar{K}^0 + l^- + N$\"],\n",
      "[\"3body_pseudo_521_421_-11\", \"thistle\", r\"$B^+ \\to \\bar{D}^0 + l^+ + N$\"],\n",
      "[\"3body_pseudo_-521_421_11\", \"honeydew\", r\"$B^- \\to \\bar{D}^0 + l^- + N$\"],\n",
      "[\"3body_pseudo_511_-411_-11\", \"green\", r\"$B^0 \\to D^- + l^+ + N$\"],\n",
      "[\"3body_pseudo_511_411_11\", \"thistle\", r\"$B^0 \\to D^+ + l^- + N$\"],\n",
      "[\"3body_pseudo_531_-431_-11\", \"mintcream\", r\"$B^0_s \\to D^-_s + l^+ + N$\"],\n",
      "[\"3body_pseudo_531_431_11\", \"lightgoldenrodyellow\", r\"$B^0_s \\to D^+_s + l^- + N$\"],\n",
      "[\"3body_pseudo_541_511_-11\", \"dodgerblue\", r\"$B^+_c \\to B^0 + l^+ + N$\"],\n",
      "[\"3body_pseudo_-541_511_11\", \"lightskyblue\", r\"$B^-_c \\to B^0 + l^- + N$\"],\n",
      "[\"3body_pseudo_541_531_-11\", \"white\", r\"$B^+_c \\to B^0_s + l^+ + N$\"],\n",
      "[\"3body_pseudo_-541_531_11\", \"palegreen\", r\"$B^-_c \\to B^0_s + l^- + N$\"],\n"
     ]
    }
   ],
   "source": [
    "#elements of 'channels' have the form [decay label, pid of parent hadron, pid of daughter meson (with sign!), sign of produced lepton's pid]\n",
    "channels = [\n",
    "    [r'D^0 \\to K^- + l^+ + N'       , '421', '-321', '-'],\n",
    "    [r'D^0 \\to K^+ + l^- + N'       , '421', '321', ''  ],\n",
    "    [r'D^+ \\to \\bar{K}^0 + l^+ + N' , '411', '-311', '-'],\n",
    "    [r'D^- \\to \\bar{K}^0 + l^- + N' ,'-411', '-311', '' ],\n",
    "    [r'B^+ \\to \\bar{D}^0 + l^+ + N' , '521',  '421', '-'],\n",
    "    [r'B^- \\to \\bar{D}^0 + l^- + N' , '-521',  '421', ''],\n",
    "    [r'B^0 \\to D^- + l^+ + N'       , '511', '-411', '-'],\n",
    "    [r'B^0 \\to D^+ + l^- + N'       , '511', '411', ''  ],\n",
    "    [r'B^0_s \\to D^-_s + l^+ + N'   , '531', '-431', '-'],\n",
    "    [r'B^0_s \\to D^+_s + l^- + N'   , '531', '431', ''  ],\n",
    "    [r'B^+_c \\to B^0 + l^+ + N'     , '541',  '511', '-'],\n",
    "    [r'B^-_c \\to B^0 + l^- + N'     , '-541',  '511', ''],\n",
    "    [r'B^+_c \\to B^0_s + l^+ + N'   , '541',  '531', '-'],\n",
    "    [r'B^-_c \\to B^0_s + l^- + N'   , '-541',  '531', '']\n",
    "]\n",
    "\n",
    "for label, pid_parent, pid_daughter, sign_lep in channels:\n",
    "    if model.masses(pid_parent) >= model.masses('15') + model.masses(pid_daughter):\n",
    "        leptons=[\"11\",\"13\",\"15\"]\n",
    "    if model.masses(pid_parent) <= model.masses('15') + model.masses(pid_daughter):\n",
    "        leptons=[\"11\",\"13\"]\n",
    "    for pid_lep in leptons:\n",
    "        if hnl.vcoupling[pid_lep] <1e-9: continue\n",
    "        label1=\"3body_pseudo_\" + pid_parent + \"_\" +pid_daughter+ \"_\" + sign_lep+pid_lep\n",
    "        print('[' + '\"' + label1 + '\"' + ', ' + '\"' + colors[random.randint(0,length-1)] + '\"' + ', ' + 'r\"$' + label + '$\"' + '],')\n",
    "        model.add_production_3bodydecay(\n",
    "            label = label1,\n",
    "            pid0 = pid_parent,\n",
    "            pid1 = pid_daughter,\n",
    "            pid2 = sign_lep+pid_lep,\n",
    "            br = hnl.get_3body_dbr_pseudoscalar(pid_parent,pid_daughter,sign_lep+pid_lep),\n",
    "            generator = \"Pythia8\",\n",
    "            energy = energy,\n",
    "            nsample = 10,\n",
    "            integration = \"dq2dEN\",\n",
    "        )\n",
    "        allchannels.append(label1)"
   ]
  },
  {
   "cell_type": "markdown",
   "metadata": {},
   "source": [
    "**Production via 3-body decay to vector meson** HNLs can also be produced in 3-body decays of the type $H \\to V \\ell N$, where V is a vector. The corresponding differential branching fractions are given by \n",
    "\\begin{aligned}\n",
    "\\frac{d \\operatorname{Br}\\left(H \\rightarrow V l_\\alpha N\\right)}{d E_N d q^2}=\\tau_H \\cdot\\left|U_\\alpha\\right|^2 \\cdot \\frac{\\left|V_{H V}\\right|^2 G_F^2}{32 \\pi^3 M_H} \\left(\\frac{f_2^2}{2}\\left(q^2-M_N^2-M_l^2+\\omega^2 \\frac{\\Omega^2-\\omega^2}{M_V^2}\\right)\\right. \\\\\n",
    "+\\frac{f_5^2}{2}\\left(M_N^2+M_l^2\\right)\\left(q^2-M_N^2+M_l^2\\right)\\left(\\frac{\\Omega^4}{4 M_V^2}-q^2\\right)+2 f_3^2 M_V^2\\left(\\frac{\\Omega^4}{4 M_V^2}-q^2\\right)\\left(M_N^2+M_l^2-q^2+\\omega^2 \\frac{\\Omega^2-\\omega^2}{M_V^2}\\right) \\\\\n",
    "+2 f_3 f_5\\left(M_N^2 \\omega^2+\\left(\\Omega^2-\\omega^2\\right) M_l^2\\right)\\left(\\frac{\\Omega^4}{4 M_V^2}-q^2\\right)+2 f_1 f_2\\left(q^2\\left(2 \\omega^2-\\Omega^2\\right)+\\Omega^2\\left(M_N^2-M_l^2\\right)\\right) \\\\\n",
    "+\\frac{f_2 f_5}{2}\\left(\\omega^2 \\frac{\\Omega^2}{M_V^2}\\left(M_N^2-M_l^2\\right)+\\frac{\\Omega^4}{M_V^2} M_l^2+2\\left(M_N^2-M_l^2\\right)^2-2 q^2\\left(M_N^2+M_l^2\\right)\\right) \\\\\n",
    "+f_2 f_3\\left(\\Omega^2 \\omega^2 \\frac{\\Omega^2-\\omega^2}{M_V^2}+2 \\omega^2\\left(M_l^2-M_N^2\\right)+\\Omega^2\\left(M_N^2-M_l^2-q^2\\right)\\right) \\\\\n",
    "\\left.+f_1^2\\left(\\Omega^4\\left(q^2-M_N^2+M_l^2\\right)-2 M_V^2\\left(q^4-\\left(M_N^2-M_l^2\\right)^2\\right)+2 \\omega^2 \\Omega^2\\left(M_N^2-q^2-M_l^2\\right)+2 \\omega^4 q^2\\right)\\right) \\\\\n",
    "\\end{aligned}\n",
    "where $\\omega^2=M_H^2-M_V^2+M_N^2-M_l^2-2 M_H E_N$ and $\\Omega^2=M_H^2-M_V^2-q^2.\\\\$\n",
    "The form factors are given by\n",
    "\n",
    "\\begin{aligned}\n",
    "f_1=\\frac{V}{M_H+M_V}, \\quad f_2=\\left(M_H+M_V\\right) \\cdot A_1, \\quad f_3=-\\frac{A_2}{M_H+M_V}, \\\\\n",
    "f_4=\\left(M_V\\left(2 A_0-A_1-A_2\\right)+M_H\\left(A_2-A_1\\right)\\right) \\cdot \\frac{1}{q^2}, \\quad f_5=f_3+f_4,\n",
    "\\end{aligned}\n",
    "\n",
    "$$\n",
    "f\\left(q^2\\right)=\\frac{f(0)}{\\left(1-q^2 / M^2\\right)\\left(1-\\sigma_1 q^2 / M^2+\\sigma_2 q^4 / M^4\\right)}\n",
    "$$\n",
    "$M=M_P$ for form factor $A_0$ and $M=M_V$ for form factor $V$. For form factors $A_1$ and $A_2$ :\n",
    "$$\n",
    "f\\left(q^2\\right)=\\frac{f(0)}{\\left(1-\\sigma_1 q^2 / M_V^2+\\sigma_2 q^4 / M_V^4\\right)}\n",
    "$$\n",
    "\n",
    "In particular we consider the decays:\n",
    "\n",
    "- $D^0  \\to K^{* \\mp} \\ell^{\\pm} N, \\text{ where } \\ell \\neq \\tau$\n",
    "- $B^{\\pm} \\to \\bar{D^{*0}} \\ell^{\\pm} N, \\text{ including } \\tau$\n",
    "- $B^0 \\to D^{* \\mp} \\ell^{\\pm} N, \\text{ including } \\tau$\n",
    "- $B^0_s \\to D_s^{* \\mp} \\ell^{\\pm} N, \\text{ including } \\tau$\n",
    "- $B^{\\pm}_c \\to B^{*0} \\ell^{\\pm} N, \\text{ where } \\ell \\neq \\tau$\n",
    "- $B_c^{\\pm} \\to B_s^{* 0} \\ell^{\\pm} N, \\text{ where } \\ell \\neq \\tau$\n",
    "\n"
   ]
  },
  {
   "cell_type": "code",
   "execution_count": 10,
   "metadata": {},
   "outputs": [
    {
     "name": "stdout",
     "output_type": "stream",
     "text": [
      "[\"3body_vector_421_-323_-11\", \"gold\", r\"$D^0 \\to K^{*-} + l^+ + N$\"],\n",
      "[\"3body_vector_421_323_11\", \"darkblue\", r\"$D^0 \\to K^{*} + l^- + N$\"],\n",
      "[\"3body_vector_521_-423_-11\", \"sandybrown\", r\"$B^+ \\to \\bar{D}^*0 + l^+ + N$\"],\n",
      "[\"3body_vector_-521_-423_11\", \"tomato\", r\"$B^- \\to \\bar{D}^*0 + l^- + N$\"],\n",
      "[\"3body_vector_511_-413_-11\", \"oldlace\", r\"$B^0 \\to D^{*-} + l^+ + N$\"],\n",
      "[\"3body_vector_511_413_11\", \"lightpink\", r\"$B^0 \\to D^{*+} + l^- + N$\"],\n",
      "[\"3body_vector_531_-433_-11\", \"goldenrod\", r\"$B^0_s \\to D^{*-}_s + l^+ + N$\"],\n",
      "[\"3body_vector_531_433_11\", \"aqua\", r\"$B^0_s \\to D^{*+}_s + l^- + N$\"],\n",
      "[\"3body_vector_541_513_-11\", \"mediumpurple\", r\"$B^+_c \\to B^{*0} + l^+ + N$\"],\n",
      "[\"3body_vector_-541_513_11\", \"green\", r\"$B^-_c \\to B^{*0} + l^- + N$\"],\n",
      "[\"3body_vector_541_533_-11\", \"lightgray\", r\"$B^+_c \\to B^{*0}_s+ l^+ + N$\"],\n",
      "[\"3body_vector_-541_533_11\", \"yellow\", r\"$B^-_c \\to B^{*0}_s+ l^- + N$\"],\n"
     ]
    }
   ],
   "source": [
    "#vector decays\n",
    "#elements of channel have the form [decay label, parent pid, daughter pid, sign of produced lepton]\n",
    "channels = [\n",
    "[r'D^0 \\to K^{*-} + l^+ + N'            ,'421', '-323', '-'],\n",
    "[r'D^0 \\to K^{*} + l^- + N'            ,'421', '323', ''   ],\n",
    "[r'B^+ \\to \\bar{D}^*0 + l^+ + N'      ,'521','-423' , '-'  ],\n",
    "[r'B^- \\to \\bar{D}^*0 + l^- + N'      ,'-521','-423' , ''  ],\n",
    "[r'B^0 \\to D^{*-} + l^+ + N'            ,'511','-413' , '-'],\n",
    "[r'B^0 \\to D^{*+} + l^- + N'            ,'511','413' , ''  ],\n",
    "[r'B^0_s \\to D^{*-}_s + l^+ + N'       ,'531','-433' , '-' ],\n",
    "[r'B^0_s \\to D^{*+}_s + l^- + N'       ,'531','433' , ''   ],\n",
    "[r'B^+_c \\to B^{*0} + l^+ + N'          ,'541','513'  , '-'],\n",
    "[r'B^-_c \\to B^{*0} + l^- + N'          ,'-541','513'  , ''],\n",
    "[r'B^+_c \\to B^{*0}_s+ l^+ + N'        ,'541','533'  , '-' ],\n",
    "[r'B^-_c \\to B^{*0}_s+ l^- + N'        ,'-541','533'  , '' ]\n",
    "]\n",
    "\n",
    "\n",
    "for label, pid_parent, pid_daughter, sign_lep in channels:\n",
    "    if model.masses(pid_parent) >= model.masses('15') + model.masses(pid_daughter):\n",
    "        leptons=[\"11\",\"13\",\"15\"]\n",
    "    if model.masses(pid_parent) <= model.masses('15') + model.masses(pid_daughter):\n",
    "        leptons=[\"11\",\"13\"]\n",
    "    for pid_lep in [\"11\",\"13\",\"15\"]:\n",
    "        if hnl.vcoupling[pid_lep] <1e-9: continue\n",
    "        label1=\"3body_vector_\" + pid_parent + \"_\" +pid_daughter+ \"_\" + sign_lep+pid_lep\n",
    "        print('[' + '\"' + label1 + '\"' + ', ' + '\"' + colors[random.randint(0,length-1)] + '\"' + ', ' + 'r\"$' + label + '$\"' + '],')\n",
    "        model.add_production_3bodydecay(\n",
    "            label = label1,\n",
    "            pid0 = pid_parent,\n",
    "            pid1 = pid_daughter,\n",
    "            pid2 = sign_lep+pid_lep,\n",
    "            br = hnl.get_3body_dbr_vector(pid_parent,pid_daughter,sign_lep+pid_lep),\n",
    "            generator = \"Pythia8\",\n",
    "            energy = energy,\n",
    "            nsample = 10,\n",
    "            integration = \"dq2dEN\",\n",
    "        )\n",
    "        allchannels.append(label1)\n"
   ]
  },
  {
   "cell_type": "markdown",
   "metadata": {},
   "source": [
    "**Production via 3-body $\\tau$ decay** HNLs can also be produced in 3-body decays of $\\tau$. These decays are of the type $\\tau \\to \\nu_{\\tau} \\ell_{\\alpha} N$ or $\\tau \\to \\bar{\\nu}_{\\alpha} \\ell_{\\alpha} N$. The corresponding differential branching fractions are given by,\n",
    "\\begin{aligned}\n",
    "\\frac{d \\mathrm{Br}\\left(\\tau \\rightarrow \\nu_\\tau \\mathrm{l}_\\alpha \\mathrm{N}\\right)}{d E_N} &=\\tau_\\tau \\cdot \\frac{\\left|U_\\alpha\\right|^2}{2 \\pi^3} G_F^2 M_\\tau^2 \\cdot E_N\\left(1+\\frac{M_N^2-M_l^2}{M_\\tau^2}-2 \\frac{E_N}{M_\\tau}\\right)\\left(1-\\frac{M_l^2}{M_\\tau^2+M_N^2-2 E_N M_\\tau}\\right) \\sqrt{E_N^2-M_N^2} \\\\\n",
    "\\end{aligned}\n",
    "and\n",
    "\\begin{aligned}\n",
    "\\frac{d \\operatorname{Br}\\left(\\tau \\rightarrow \\bar{\\nu}_\\alpha l_\\alpha \\mathrm{N}\\right)}{d E_N} &=\\tau_\\tau \\cdot \\frac{\\left|U_\\tau\\right|^2}{4 \\pi^3} G_F^2 M_\\tau^2\\left(1-\\frac{M_l^2}{M_\\tau^2+M_N^2-2 E_N M_\\tau}\\right)^2 \\sqrt{E_N^2-M_N^2} \\\\\n",
    "& \\times\\left(\\left(M_\\tau-E_N\\right)\\left(1-\\frac{M_N^2+M_l^2}{M_\\tau^2}\\right)-\\left(1-\\frac{M_l^2}{M_\\tau^2+M_N^2-2 E_N M_\\tau}\\right)\\left(\\frac{\\left(M_\\tau-E_N\\right)^2}{M_\\tau}+\\frac{E_N^2-M_N^2}{3 M_\\tau}\\right)\\right)\n",
    "\\end{aligned}\n",
    "\n",
    "In particular we consider the decays:\n",
    "- $\\tau^{\\pm} \\to \\nu_{\\tau} \\ell^{\\pm}_{\\alpha} N, \\text{ where } \\alpha \\neq \\tau$\n",
    "- $\\tau^{\\pm} \\to \\bar{\\nu}_{\\alpha} \\ell_{\\alpha}^{\\pm} N, \\text{ where } \\alpha \\neq \\tau$\n"
   ]
  },
  {
   "cell_type": "code",
   "execution_count": 11,
   "metadata": {},
   "outputs": [
    {
     "name": "stdout",
     "output_type": "stream",
     "text": [
      "[\"3body_tau_15_11_18\", \"cadetblue\", r\"$\\tau^- \\to l^- + \\nu_{\\tau} + N$\"],\n",
      "[\"3body_tau_-15_-11_18\", \"cadetblue\", r\"$\\tau^+ \\to l^+ + \\nu_{\\tau} + N$\"],\n",
      "[\"3body_tau_15_11_12\", \"darkcyan\", r\"$\\tau^- \\to l^- + \\bar{\\nu}_l + N$\"],\n",
      "[\"3body_tau_-15_-11_12\", \"lightgreen\", r\"$\\tau^+ \\to l^+ + \\bar{\\nu}_l + N$\"],\n"
     ]
    }
   ],
   "source": [
    "#tau 3 body decays \\tau \\to \\nu_{\\tau} + l_{\\alpha} + N\n",
    "#can a tau decay into another tau particle with a lower energy? I am assuming no, since you could transform into rest frame and violate cons of energy\n",
    "channels = [\n",
    "[r'\\tau^- \\to l^- + \\nu_{\\tau} + N','15','18',''],\n",
    "[r'\\tau^+ \\to l^+ + \\nu_{\\tau} + N','-15','18','-']\n",
    "]\n",
    "\n",
    "for label, pid_parent, pid_nu, sign_lep in channels:\n",
    "    for pid_lep in [\"11\",\"13\"]:\n",
    "        if hnl.vcoupling[pid_lep] <1e-9: continue\n",
    "        label1=\"3body_tau_\" + pid_parent + \"_\" + sign_lep+pid_lep + \"_\" + pid_nu\n",
    "        print('[' + '\"' + label1 + '\"' + ', ' + '\"' + colors[random.randint(0,length-1)] + '\"' + ', ' + 'r\"$' + label + '$\"' + '],')\n",
    "        model.add_production_3bodydecay(\n",
    "            label = label1,\n",
    "            pid0 = pid_parent,\n",
    "            pid1 = sign_lep+pid_lep,\n",
    "            pid2 = pid_nu,\n",
    "            br = hnl.get_3body_dbr_tau(pid_parent,sign_lep+pid_lep,pid_nu),\n",
    "            generator = \"Pythia8\",\n",
    "            energy = energy,\n",
    "            nsample = 1000,\n",
    "            integration = \"dEN\",\n",
    "        )\n",
    "        allchannels.append(label1)\n",
    "\n",
    "\n",
    "#tau 3 body decays '\\tau^- \\to l^- + \\bar{\\nu}_l + N'\n",
    "channels=[\n",
    "[r'\\tau^- \\to l^- + \\bar{\\nu}_l + N','15',''],\n",
    "[r'\\tau^+ \\to l^+ + \\bar{\\nu}_l + N','-15','-']\n",
    "]\n",
    "for label, pid_parent, sign_lep in channels:\n",
    "    for pid_lep in [\"11\",\"13\"]:\n",
    "        if pid_lep==\"11\":\n",
    "            pid_nu=\"12\"\n",
    "        if pid_lep==\"13\":\n",
    "            pid_nu=\"14\"\n",
    "        if hnl.vcoupling[pid_lep] <1e-9: continue\n",
    "        label1=\"3body_tau_\" + pid_parent + \"_\" + sign_lep+pid_lep + \"_\" + pid_nu\n",
    "        print('[' + '\"' + label1 + '\"' + ', ' + '\"' + colors[random.randint(0,length-1)] + '\"' + ', ' + 'r\"$' + label + '$\"' + '],')\n",
    "        model.add_production_3bodydecay(\n",
    "            label = label1,\n",
    "            pid0 = pid_parent,\n",
    "            pid1 = sign_lep+pid_lep,\n",
    "            pid2 = pid_nu,\n",
    "            br = hnl.get_3body_dbr_tau(pid_parent,sign_lep+pid_lep,pid_nu),\n",
    "            generator = \"Pythia8\",\n",
    "            energy = energy,\n",
    "            nsample = 1000,\n",
    "            integration = \"dEN\",\n",
    "        )\n",
    "        allchannels.append(label1)\n",
    "\n",
    "\n",
    "\n",
    "\n"
   ]
  },
  {
   "cell_type": "markdown",
   "metadata": {},
   "source": [
    "### b) HNL Decays\n",
    "\n",
    "HNLs can decay in a variety of final states, where the BR and lifetimes depend on our choice of $V_\\alpha$. In the follwing, we use the function `hnl.get_br_and_ctau()` to create the model files for the branching ratio and lifetime. \n",
    "\n",
    "$\\color{red}{\\text{      ... YOU WILL NEED TO IMPLEMENT THIS FUNCTION}}$"
   ]
  },
  {
   "cell_type": "code",
   "execution_count": 12,
   "metadata": {},
   "outputs": [],
   "source": [
    "# hnl.get_br_and_ctau()"
   ]
  },
  {
   "cell_type": "markdown",
   "metadata": {},
   "source": [
    "**Lifetime:** Like for most other models, HNLs lifetime can be written as $\\ c\\tau(m,g)\\  =\\  c\\tau(m,g_*) \\ \\cdot\\  g_*^2 \\ / \\ g^{2}$ where $m$ is the mass, $g$ is the coupling and $g_*$ is some reference coupling. In this case, we can provide a table of masses $m$ and lifetimes $c\\tau(m,g_*)$ at a reference coupling $g_*$ using `model.set_ctau_1d`. Alternatively, one can also provide a table of masses $m$, couplings $g$ and lifetimes $c\\tau(m,g)$ via `model.set_ctau_2d()`. "
   ]
  },
  {
   "cell_type": "markdown",
   "metadata": {},
   "source": [
    "$\\color{red}{\\text{      ... I AM NOT SURE IF THE ctau.txt FILE IS CORRECT NOR WHERE IT CAME FROM.}}$\n",
    "$\\color{red}{\\text{      ... BUT WE WILL RECALCULATE AND VALIDATE THIS ANYWAY}}$"
   ]
  },
  {
   "cell_type": "code",
   "execution_count": 13,
   "metadata": {},
   "outputs": [],
   "source": [
    "model.set_ctau_1d(\n",
    "    filename=\"model/ctau.txt\", \n",
    "    coupling_ref=10**-3.5\n",
    ")"
   ]
  },
  {
   "cell_type": "markdown",
   "metadata": {},
   "source": [
    "**Branching Fractions:** Similarly, the branching fractions into particular decay channels are independent of the overall couplings. In this case, we can provide a set of tables of masses $m$ and branching fractions $BR(m)$ using `model.set_br_1d`. Alternatively, we can also provide table of masses $m$, couplings $g$ and branching fraction $BR(m,g)$ via `model.set_br_2d()`. In both cases, we need to specify a list of decay modes and a list of filenames with the corresponding data tables. "
   ]
  },
  {
   "cell_type": "code",
   "execution_count": 14,
   "metadata": {},
   "outputs": [
    {
     "ename": "FileNotFoundError",
     "evalue": "[Errno 2] No such file or directory: './model/br/br_elec.txt'",
     "output_type": "error",
     "traceback": [
      "\u001b[0;31m---------------------------------------------------------------------------\u001b[0m",
      "\u001b[0;31mFileNotFoundError\u001b[0m                         Traceback (most recent call last)",
      "\u001b[1;32m/Users/alechewitt/Desktop/Git_felix_2/FORESEE/Models/HNL/HNL.ipynb Cell 32\u001b[0m in \u001b[0;36m<cell line: 1>\u001b[0;34m()\u001b[0m\n\u001b[0;32m----> <a href='vscode-notebook-cell:/Users/alechewitt/Desktop/Git_felix_2/FORESEE/Models/HNL/HNL.ipynb#X43sZmlsZQ%3D%3D?line=0'>1</a>\u001b[0m model\u001b[39m.\u001b[39;49mset_br_1d(\n\u001b[1;32m      <a href='vscode-notebook-cell:/Users/alechewitt/Desktop/Git_felix_2/FORESEE/Models/HNL/HNL.ipynb#X43sZmlsZQ%3D%3D?line=1'>2</a>\u001b[0m     modes\u001b[39m=\u001b[39;49m[\u001b[39m\"\u001b[39;49m\u001b[39me_e_ve\u001b[39;49m\u001b[39m\"\u001b[39;49m],\n\u001b[1;32m      <a href='vscode-notebook-cell:/Users/alechewitt/Desktop/Git_felix_2/FORESEE/Models/HNL/HNL.ipynb#X43sZmlsZQ%3D%3D?line=2'>3</a>\u001b[0m     finalstates\u001b[39m=\u001b[39;49m[[\u001b[39m11\u001b[39;49m,\u001b[39m-\u001b[39;49m\u001b[39m11\u001b[39;49m,\u001b[39m12\u001b[39;49m]],\n\u001b[1;32m      <a href='vscode-notebook-cell:/Users/alechewitt/Desktop/Git_felix_2/FORESEE/Models/HNL/HNL.ipynb#X43sZmlsZQ%3D%3D?line=3'>4</a>\u001b[0m     filenames\u001b[39m=\u001b[39;49m[\u001b[39m\"\u001b[39;49m\u001b[39mmodel/br/br_elec.txt\u001b[39;49m\u001b[39m\"\u001b[39;49m]\n\u001b[1;32m      <a href='vscode-notebook-cell:/Users/alechewitt/Desktop/Git_felix_2/FORESEE/Models/HNL/HNL.ipynb#X43sZmlsZQ%3D%3D?line=4'>5</a>\u001b[0m )\n",
      "File \u001b[0;32m~/Desktop/Git_felix_2/FORESEE/src/foresee.py:200\u001b[0m, in \u001b[0;36mModel.set_br_1d\u001b[0;34m(self, modes, filenames, finalstates)\u001b[0m\n\u001b[1;32m    198\u001b[0m \u001b[39mif\u001b[39;00m finalstates\u001b[39m==\u001b[39m\u001b[39mNone\u001b[39;00m: finalstates\u001b[39m=\u001b[39m[\u001b[39mNone\u001b[39;00m \u001b[39mfor\u001b[39;00m _ \u001b[39min\u001b[39;00m modes]\n\u001b[1;32m    199\u001b[0m \u001b[39mfor\u001b[39;00m channel, filename, finalstate \u001b[39min\u001b[39;00m \u001b[39mzip\u001b[39m(modes, filenames, finalstates):\n\u001b[0;32m--> 200\u001b[0m     data \u001b[39m=\u001b[39m \u001b[39mself\u001b[39;49m\u001b[39m.\u001b[39;49mreadfile(\u001b[39mself\u001b[39;49m\u001b[39m.\u001b[39;49mmodelpath\u001b[39m+\u001b[39;49mfilename)\u001b[39m.\u001b[39mT\n\u001b[1;32m    201\u001b[0m     function \u001b[39m=\u001b[39m interpolate\u001b[39m.\u001b[39minterp1d(data[\u001b[39m0\u001b[39m], data[\u001b[39m1\u001b[39m],fill_value\u001b[39m=\u001b[39m\u001b[39m\"\u001b[39m\u001b[39mextrapolate\u001b[39m\u001b[39m\"\u001b[39m)\n\u001b[1;32m    202\u001b[0m     \u001b[39mself\u001b[39m\u001b[39m.\u001b[39mbr_functions[channel] \u001b[39m=\u001b[39m function\n",
      "File \u001b[0;32m~/Desktop/Git_felix_2/FORESEE/src/foresee.py:102\u001b[0m, in \u001b[0;36mUtility.readfile\u001b[0;34m(self, filename)\u001b[0m\n\u001b[1;32m    100\u001b[0m \u001b[39mdef\u001b[39;00m \u001b[39mreadfile\u001b[39m(\u001b[39mself\u001b[39m,filename):\n\u001b[1;32m    101\u001b[0m     array \u001b[39m=\u001b[39m []\n\u001b[0;32m--> 102\u001b[0m     \u001b[39mwith\u001b[39;00m \u001b[39mopen\u001b[39;49m(filename) \u001b[39mas\u001b[39;00m f:\n\u001b[1;32m    103\u001b[0m         \u001b[39mfor\u001b[39;00m line \u001b[39min\u001b[39;00m f:\n\u001b[1;32m    104\u001b[0m             \u001b[39mif\u001b[39;00m line[\u001b[39m0\u001b[39m]\u001b[39m==\u001b[39m\u001b[39m\"\u001b[39m\u001b[39m#\u001b[39m\u001b[39m\"\u001b[39m:\u001b[39mcontinue\u001b[39;00m\n",
      "\u001b[0;31mFileNotFoundError\u001b[0m: [Errno 2] No such file or directory: './model/br/br_elec.txt'"
     ]
    }
   ],
   "source": [
    "model.set_br_1d(\n",
    "    modes=[\"e_e_ve\"],\n",
    "    finalstates=[[11,-11,12]],\n",
    "    filenames=[\"model/br/br_elec.txt\"]\n",
    ")"
   ]
  },
  {
   "cell_type": "markdown",
   "metadata": {},
   "source": [
    "## 3. Generate LLP Spectra"
   ]
  },
  {
   "cell_type": "markdown",
   "metadata": {},
   "source": [
    "After we have specified the model, let us generate the LLP spectra. We first set the model we just created. "
   ]
  },
  {
   "cell_type": "code",
   "execution_count": null,
   "metadata": {},
   "outputs": [],
   "source": [
    "foresee.set_model(model=model)"
   ]
  },
  {
   "cell_type": "markdown",
   "metadata": {},
   "source": [
    "FORESEE has the option to plot hadron decay BR into LLPs as a function of the particle mass. This can be done via `foresee.plot_production_branchings()`. This is shown below:"
   ]
  },
  {
   "cell_type": "code",
   "execution_count": null,
   "metadata": {},
   "outputs": [
    {
     "data": {
      "image/png": "[encoded data removed]",
      "text/plain": [
       "<Figure size 504x360 with 1 Axes>"
      ]
     },
     "metadata": {
      "needs_background": "light"
     },
     "output_type": "display_data"
    }
   ],
   "source": [
    "masses = np.logspace(-1,1,20+1)\n",
    "\n",
    "productions_2body=[\n",
    "[\"2body_411_-11\", \"mediumorchid\", r\"$D^+ \\to l^+ + N$\"],\n",
    "[\"2body_411_-15\", \"lightcoral\", r\"$D^+ \\to l^+ + N$\"],\n",
    "[\"2body_-411_11\", \"darkgray\", r\"$D^- \\to l^- + N$\"],\n",
    "[\"2body_-411_15\", \"darkgray\", r\"$D^- \\to l^- + N$\"],\n",
    "[\"2body_431_-11\", \"tan\", r\"$D_s^+ \\to l^+ + N$\"],\n",
    "[\"2body_431_-15\", \"darkblue\", r\"$D_s^+ \\to l^+ + N$\"],\n",
    "[\"2body_-431_11\", \"slategrey\", r\"$D_s^- \\to l^- + N$\"],\n",
    "[\"2body_-431_15\", \"aqua\", r\"$D_s^- \\to l^- + N$\"],\n",
    "[\"2body_521_-11\", \"paleturquoise\", r\"$B^+ \\to + l^+ + N$\"],\n",
    "[\"2body_521_-15\", \"lightcyan\", r\"$B^+ \\to + l^+ + N$\"],\n",
    "[\"2body_-521_11\", \"slategray\", r\"$B^- \\to + l^- + N$\"],\n",
    "[\"2body_-521_15\", \"mistyrose\", r\"$B^- \\to + l^- + N$\"],\n",
    "[\"2body_541_-11\", \"olivedrab\", r\"$B_c^+ \\to + l^+ + N$\"],\n",
    "[\"2body_541_-15\", \"darkgoldenrod\", r\"$B_c^+ \\to + l^+ + N$\"],\n",
    "[\"2body_-541_11\", \"lightyellow\", r\"$B_c^- \\to + l^- + N$\"],\n",
    "[\"2body_-541_15\", \"olivedrab\", r\"$B_c^- \\to + l^- + N$\"]\n",
    "]\n",
    "\n",
    "productions_2body_tau=[\n",
    "[\"2body_tau_15_-211\", \"pink\", r\"$\\tau^- \\to \\pi^- + N$\"],\n",
    "[\"2body_tau_15_211\", \"blueviolet\", r\"$\\tau^+ \\to \\pi^+ + N$\"],\n",
    "[\"2body_tau_15_-321\", \"darkslategray\", r\"$\\tau^- \\to K^- + N$\"],\n",
    "[\"2body_tau_15_321\", \"gainsboro\", r\"$\\tau^+ \\to K^+ + N$\"],\n",
    "[\"2body_tau_15_-213\", \"lightblue\", r\"$\\tau^- \\to \\rho^- + N$\"],\n",
    "[\"2body_tau_15_213\", \"moccasin\", r\"$\\tau^+ \\to \\rho^+ + N$\"]\n",
    "]\n",
    "\n",
    "productions_3body_pseudo=[\n",
    "[\"3body_pseudo_421_-321_-11\", \"darkorange\", r\"$D^0 \\to K^- + l^+ + N$\"],\n",
    "[\"3body_pseudo_421_321_11\", \"lavenderblush\", r\"$D^0 \\to K^+ + l^- + N$\"],\n",
    "[\"3body_pseudo_411_-311_-11\", \"khaki\", r\"$D^+ \\to \\bar{K}^0 + l^+ + N$\"],\n",
    "[\"3body_pseudo_-411_-311_11\", \"deepskyblue\", r\"$D^- \\to \\bar{K}^0 + l^- + N$\"],\n",
    "[\"3body_pseudo_521_421_-11\", \"lawngreen\", r\"$B^+ \\to \\bar{D}^0 + l^+ + N$\"],\n",
    "[\"3body_pseudo_521_421_-15\", \"forestgreen\", r\"$B^+ \\to \\bar{D}^0 + l^+ + N$\"],\n",
    "[\"3body_pseudo_-521_421_11\", \"paleturquoise\", r\"$B^- \\to \\bar{D}^0 + l^- + N$\"],\n",
    "[\"3body_pseudo_-521_421_15\", \"darkkhaki\", r\"$B^- \\to \\bar{D}^0 + l^- + N$\"],\n",
    "[\"3body_pseudo_511_-411_-11\", \"ghostwhite\", r\"$B^0 \\to D^- + l^+ + N$\"],\n",
    "[\"3body_pseudo_511_-411_-15\", \"snow\", r\"$B^0 \\to D^- + l^+ + N$\"],\n",
    "[\"3body_pseudo_511_411_11\", \"black\", r\"$B^0 \\to D^+ + l^- + N$\"],\n",
    "[\"3body_pseudo_511_411_15\", \"mediumturquoise\", r\"$B^0 \\to D^+ + l^- + N$\"],\n",
    "[\"3body_pseudo_531_-431_-11\", \"lightsteelblue\", r\"$B^0_s \\to D^-_s + l^+ + N$\"],\n",
    "[\"3body_pseudo_531_-431_-15\", \"greenyellow\", r\"$B^0_s \\to D^-_s + l^+ + N$\"],\n",
    "[\"3body_pseudo_531_431_11\", \"darkslategrey\", r\"$B^0_s \\to D^+_s + l^- + N$\"],\n",
    "[\"3body_pseudo_531_431_15\", \"lemonchiffon\", r\"$B^0_s \\to D^+_s + l^- + N$\"],\n",
    "[\"3body_pseudo_541_511_-11\", \"lightcyan\", r\"$B^+_c \\to B^0 + l^+ + N$\"],\n",
    "[\"3body_pseudo_-541_511_11\", \"yellowgreen\", r\"$B^-_c \\to B^0 + l^- + N$\"],\n",
    "[\"3body_pseudo_541_531_-11\", \"chocolate\", r\"$B^+_c \\to B^0_s + l^+ + N$\"],\n",
    "[\"3body_pseudo_-541_531_11\", \"yellow\", r\"$B^-_c \\to B^0_s + l^- + N$\"]\n",
    "]\n",
    "\n",
    "productions_3body_vector=[\n",
    "[\"3body_vector_421_-323_-11\", \"darkslateblue\", r\"$D^0 \\to K^{*-} + l^+ + N$\"],\n",
    "[\"3body_vector_421_-323_-15\", \"darkslategrey\", r\"$D^0 \\to K^{*-} + l^+ + N$\"],\n",
    "[\"3body_vector_421_323_11\", \"darkseagreen\", r\"$D^0 \\to K^{*} + l^- + N$\"],\n",
    "[\"3body_vector_421_323_15\", \"darkseagreen\", r\"$D^0 \\to K^{*} + l^- + N$\"],\n",
    "[\"3body_vector_521_-423_-11\", \"cadetblue\", r\"$B^+ \\to \\bar{D}^*0 + l^+ + N$\"],\n",
    "[\"3body_vector_521_-423_-15\", \"lightseagreen\", r\"$B^+ \\to \\bar{D}^*0 + l^+ + N$\"],\n",
    "[\"3body_vector_-521_-423_11\", \"lightsalmon\", r\"$B^- \\to \\bar{D}^*0 + l^- + N$\"],\n",
    "[\"3body_vector_-521_-423_15\", \"snow\", r\"$B^- \\to \\bar{D}^*0 + l^- + N$\"],\n",
    "[\"3body_vector_511_-413_-11\", \"orchid\", r\"$B^0 \\to D^{*-} + l^+ + N$\"],\n",
    "[\"3body_vector_511_-413_-15\", \"lightblue\", r\"$B^0 \\to D^{*-} + l^+ + N$\"],\n",
    "[\"3body_vector_511_413_11\", \"lightgreen\", r\"$B^0 \\to D^{*+} + l^- + N$\"],\n",
    "[\"3body_vector_511_413_15\", \"papayawhip\", r\"$B^0 \\to D^{*+} + l^- + N$\"],\n",
    "[\"3body_vector_531_-433_-11\", \"darkgoldenrod\", r\"$B^0_s \\to D^{*-}_s + l^+ + N$\"],\n",
    "[\"3body_vector_531_-433_-15\", \"mediumaquamarine\", r\"$B^0_s \\to D^{*-}_s + l^+ + N$\"],\n",
    "[\"3body_vector_531_433_11\", \"darkkhaki\", r\"$B^0_s \\to D^{*+}_s + l^- + N$\"],\n",
    "[\"3body_vector_531_433_15\", \"darkslateblue\", r\"$B^0_s \\to D^{*+}_s + l^- + N$\"],\n",
    "[\"3body_vector_541_513_-11\", \"lightseagreen\", r\"$B^+_c \\to B^{*0} + l^+ + N$\"],\n",
    "[\"3body_vector_541_513_-15\", \"mediumturquoise\", r\"$B^+_c \\to B^{*0} + l^+ + N$\"],\n",
    "[\"3body_vector_-541_513_11\", \"sandybrown\", r\"$B^-_c \\to B^{*0} + l^- + N$\"],\n",
    "[\"3body_vector_-541_513_15\", \"beige\", r\"$B^-_c \\to B^{*0} + l^- + N$\"],\n",
    "[\"3body_vector_541_533_-11\", \"grey\", r\"$B^+_c \\to B^{*0}_s+ l^+ + N$\"],\n",
    "[\"3body_vector_541_533_-15\", \"rebeccapurple\", r\"$B^+_c \\to B^{*0}_s+ l^+ + N$\"],\n",
    "[\"3body_vector_-541_533_11\", \"blue\", r\"$B^-_c \\to B^{*0}_s+ l^- + N$\"],\n",
    "[\"3body_vector_-541_533_15\", \"mediumblue\", r\"$B^-_c \\to B^{*0}_s+ l^- + N$\"]\n",
    "]\n",
    "\n",
    "productions_3body_tau=[\n",
    "[\"3body_tau_15_11_18\", \"lightslategray\", r\"$\\tau^- \\to l^- + \\nu_{\\tau} + N$\"],\n",
    "[\"3body_tau_-15_-11_18\", \"antiquewhite\", r\"$\\tau^+ \\to l^+ + \\nu_{\\tau} + N$\"],\n",
    "[\"3body_tau_15_11_12\", \"palegoldenrod\", r\"$\\tau^- \\to l^- + \\bar{\\nu}_l + N$\"],\n",
    "[\"3body_tau_-15_-11_12\", \"slateblue\", r\"$\\tau^+ \\to l^+ + \\bar{\\nu}_l + N$\"]\n",
    "]\n",
    "\n",
    "foresee.plot_production_branchings(\n",
    "    masses = masses, \n",
    "    productions = productions_2body,\n",
    "    xlims=[0,3],ylims=[0,.5], \n",
    "    xlabel=r\"HNL Mass [GeV]\", \n",
    "    ylabel=r\"BR/$g^2$\",\n",
    "    legendloc=(1.02,1.02),\n",
    "    fs_label=12,log_scale=False\n",
    ")\n",
    "\n",
    "plot.show()"
   ]
  },
  {
   "cell_type": "markdown",
   "metadata": {},
   "source": [
    "Let's first look at one benchmark scenario with $M_{N}=1$ GeV and $\\epsilon=10^{-3.5}$ using the function `foresee.get_llp_spectrum()`. By default, the result are saved in the `model/LLP_spectra` directory. However, here set `save_file=False` since we don't want to save the results but set `do_plot=True` to plot them. "
   ]
  },
  {
   "cell_type": "code",
   "execution_count": null,
   "metadata": {},
   "outputs": [
    {
     "ename": "FileNotFoundError",
     "evalue": "[Errno 2] No such file or directory: '../../files/hadrons/14TeV/Pythia8/Pythia8_14TeV_15.txt'",
     "output_type": "error",
     "traceback": [
      "\u001b[0;31m---------------------------------------------------------------------------\u001b[0m",
      "\u001b[0;31mFileNotFoundError\u001b[0m                         Traceback (most recent call last)",
      "\u001b[1;32m/Users/alechewitt/Desktop/Git_felix_2/FORESEE/Models/HNL/HNL.ipynb Cell 39\u001b[0m in \u001b[0;36m<cell line: 1>\u001b[0;34m()\u001b[0m\n\u001b[0;32m----> <a href='vscode-notebook-cell:/Users/alechewitt/Desktop/Git_felix_2/FORESEE/Models/HNL/HNL.ipynb#X53sZmlsZQ%3D%3D?line=0'>1</a>\u001b[0m plot \u001b[39m=\u001b[39m foresee\u001b[39m.\u001b[39;49mget_llp_spectrum(mass\u001b[39m=\u001b[39;49m\u001b[39m1.\u001b[39;49m, coupling\u001b[39m=\u001b[39;49m\u001b[39m10\u001b[39;49m\u001b[39m*\u001b[39;49m\u001b[39m*\u001b[39;49m\u001b[39m-\u001b[39;49m\u001b[39m3.5\u001b[39;49m, do_plot\u001b[39m=\u001b[39;49m\u001b[39mTrue\u001b[39;49;00m, save_file\u001b[39m=\u001b[39;49m\u001b[39mFalse\u001b[39;49;00m)\n",
      "File \u001b[0;32m~/Desktop/Git_felix_2/FORESEE/src/foresee.py:670\u001b[0m, in \u001b[0;36mForesee.get_llp_spectrum\u001b[0;34m(self, mass, coupling, channels, do_plot, save_file, print_stats, stat_cuts)\u001b[0m\n\u001b[1;32m    668\u001b[0m \u001b[39m# load mother particle spectrum\u001b[39;00m\n\u001b[1;32m    669\u001b[0m filename \u001b[39m=\u001b[39m \u001b[39mself\u001b[39m\u001b[39m.\u001b[39mdirpath \u001b[39m+\u001b[39m \u001b[39m\"\u001b[39m\u001b[39mfiles/hadrons/\u001b[39m\u001b[39m\"\u001b[39m\u001b[39m+\u001b[39menergy\u001b[39m+\u001b[39m\u001b[39m\"\u001b[39m\u001b[39mTeV/\u001b[39m\u001b[39m\"\u001b[39m\u001b[39m+\u001b[39mgenerator\u001b[39m+\u001b[39m\u001b[39m\"\u001b[39m\u001b[39m/\u001b[39m\u001b[39m\"\u001b[39m\u001b[39m+\u001b[39mgenerator\u001b[39m+\u001b[39m\u001b[39m\"\u001b[39m\u001b[39m_\u001b[39m\u001b[39m\"\u001b[39m\u001b[39m+\u001b[39menergy\u001b[39m+\u001b[39m\u001b[39m\"\u001b[39m\u001b[39mTeV_\u001b[39m\u001b[39m\"\u001b[39m\u001b[39m+\u001b[39mpid0\u001b[39m+\u001b[39m\u001b[39m\"\u001b[39m\u001b[39m.txt\u001b[39m\u001b[39m\"\u001b[39m\n\u001b[0;32m--> 670\u001b[0m momenta_mother, weights_mother \u001b[39m=\u001b[39m \u001b[39mself\u001b[39;49m\u001b[39m.\u001b[39;49mconvert_list_to_momenta(filename,mass\u001b[39m=\u001b[39;49m\u001b[39mself\u001b[39;49m\u001b[39m.\u001b[39;49mmasses(pid0), preselectioncut\u001b[39m=\u001b[39;49mpreselectioncut)\n\u001b[1;32m    672\u001b[0m \u001b[39m# get sample of LLP momenta in the mother's rest frame\u001b[39;00m\n\u001b[1;32m    673\u001b[0m m0, m1, m2 \u001b[39m=\u001b[39m \u001b[39mself\u001b[39m\u001b[39m.\u001b[39mmasses(pid0), \u001b[39mself\u001b[39m\u001b[39m.\u001b[39mmasses(pid1,mass), mass\n",
      "File \u001b[0;32m~/Desktop/Git_felix_2/FORESEE/src/foresee.py:325\u001b[0m, in \u001b[0;36mForesee.convert_list_to_momenta\u001b[0;34m(self, filename, mass, filetype, nsample, preselectioncut, nocuts, extend_to_low_pt_scale)\u001b[0m\n\u001b[1;32m    323\u001b[0m \u001b[39mdef\u001b[39;00m \u001b[39mconvert_list_to_momenta\u001b[39m(\u001b[39mself\u001b[39m,filename,mass,filetype\u001b[39m=\u001b[39m\u001b[39m\"\u001b[39m\u001b[39mtxt\u001b[39m\u001b[39m\"\u001b[39m,nsample\u001b[39m=\u001b[39m\u001b[39m1\u001b[39m,preselectioncut\u001b[39m=\u001b[39m\u001b[39mNone\u001b[39;00m, nocuts\u001b[39m=\u001b[39m\u001b[39mFalse\u001b[39;00m, extend_to_low_pt_scale\u001b[39m=\u001b[39m\u001b[39mNone\u001b[39;00m):\n\u001b[1;32m    324\u001b[0m     \u001b[39mif\u001b[39;00m filetype\u001b[39m==\u001b[39m\u001b[39m\"\u001b[39m\u001b[39mtxt\u001b[39m\u001b[39m\"\u001b[39m:\n\u001b[0;32m--> 325\u001b[0m         list_logth, list_logp, list_xs \u001b[39m=\u001b[39m \u001b[39mself\u001b[39;49m\u001b[39m.\u001b[39;49mreadfile(filename)\u001b[39m.\u001b[39mT\n\u001b[1;32m    326\u001b[0m     \u001b[39melif\u001b[39;00m filetype\u001b[39m==\u001b[39m\u001b[39m\"\u001b[39m\u001b[39mnpy\u001b[39m\u001b[39m\"\u001b[39m:\n\u001b[1;32m    327\u001b[0m         list_logth, list_logp, list_xs \u001b[39m=\u001b[39m np\u001b[39m.\u001b[39mload(filename)\n",
      "File \u001b[0;32m~/Desktop/Git_felix_2/FORESEE/src/foresee.py:102\u001b[0m, in \u001b[0;36mUtility.readfile\u001b[0;34m(self, filename)\u001b[0m\n\u001b[1;32m    100\u001b[0m \u001b[39mdef\u001b[39;00m \u001b[39mreadfile\u001b[39m(\u001b[39mself\u001b[39m,filename):\n\u001b[1;32m    101\u001b[0m     array \u001b[39m=\u001b[39m []\n\u001b[0;32m--> 102\u001b[0m     \u001b[39mwith\u001b[39;00m \u001b[39mopen\u001b[39;49m(filename) \u001b[39mas\u001b[39;00m f:\n\u001b[1;32m    103\u001b[0m         \u001b[39mfor\u001b[39;00m line \u001b[39min\u001b[39;00m f:\n\u001b[1;32m    104\u001b[0m             \u001b[39mif\u001b[39;00m line[\u001b[39m0\u001b[39m]\u001b[39m==\u001b[39m\u001b[39m\"\u001b[39m\u001b[39m#\u001b[39m\u001b[39m\"\u001b[39m:\u001b[39mcontinue\u001b[39;00m\n",
      "\u001b[0;31mFileNotFoundError\u001b[0m: [Errno 2] No such file or directory: '../../files/hadrons/14TeV/Pythia8/Pythia8_14TeV_15.txt'"
     ]
    }
   ],
   "source": [
    "plot = foresee.get_llp_spectrum(mass=1., coupling=10**-3.5, do_plot=True, save_file=False)"
   ]
  },
  {
   "cell_type": "markdown",
   "metadata": {},
   "source": [
    "We can now produce a set of LLP spectra for various masses  (chosen to be equally spaced in log(mass)) and unit coupling and save them. "
   ]
  },
  {
   "cell_type": "code",
   "execution_count": null,
   "metadata": {},
   "outputs": [
    {
     "name": "stdout",
     "output_type": "stream",
     "text": [
      "save data to file: ./model/LLP_spectra/14TeV_2body_411_-11_m_1.npy\n",
      "save data to file: ./model/LLP_spectra/14TeV_2body_-411_11_m_1.npy\n",
      "save data to file: ./model/LLP_spectra/14TeV_2body_431_-11_m_1.npy\n",
      "save data to file: ./model/LLP_spectra/14TeV_2body_-431_11_m_1.npy\n",
      "save data to file: ./model/LLP_spectra/14TeV_2body_521_-11_m_1.npy\n",
      "save data to file: ./model/LLP_spectra/14TeV_2body_-521_11_m_1.npy\n",
      "save data to file: ./model/LLP_spectra/14TeV_2body_541_-11_m_1.npy\n",
      "save data to file: ./model/LLP_spectra/14TeV_2body_-541_11_m_1.npy\n",
      "save data to file: ./model/LLP_spectra/14TeV_3body_411_-311_-11_m_1.npy\n",
      "save data to file: ./model/LLP_spectra/14TeV_3body_-411_-311_11_m_1.npy\n",
      "save data to file: ./model/LLP_spectra/14TeV_3body_421_-321_-11_m_1.npy\n",
      "save data to file: ./model/LLP_spectra/14TeV_3body_521_421_-11_m_1.npy\n",
      "save data to file: ./model/LLP_spectra/14TeV_3body_511_-411_-11_m_1.npy\n",
      "save data to file: ./model/LLP_spectra/14TeV_3body_531_-431_-11_m_1.npy\n"
     ]
    }
   ],
   "source": [
    "masses = np.logspace(-1,1,20+1)\n",
    "masses = [1]\n",
    "for mass in masses:\n",
    "    foresee.get_llp_spectrum(mass=mass,coupling=1)"
   ]
  },
  {
   "cell_type": "markdown",
   "metadata": {},
   "source": [
    "## 4. Count Event Rate in Detector"
   ]
  },
  {
   "cell_type": "markdown",
   "metadata": {},
   "source": [
    "Before counting the number of decays within the detector volume, let us specify the detector geometry. For this we need\n",
    "\n",
    "- the `distance` from the IP in meter (default: 480)\n",
    "- the `length` in meter (default: 5)\n",
    "- the `luminosity` in units of fb^-1 (default: 3000)\n",
    "- the `selection` depending in `x.x` and `x.y` (default: `np.sqrt(x.x**2 + x.y**2)< 1`)\n",
    "- the decay `channels` which the detector can see (default: None, meaning all of them)\n",
    "\n",
    "The default correspond to the FASER2 detector."
   ]
  },
  {
   "cell_type": "code",
   "execution_count": null,
   "metadata": {},
   "outputs": [],
   "source": [
    "distance, selection, length, luminosity, channels = 480, \"np.sqrt(x.x**2 + x.y**2)< 1\", 5, 3000, None\n",
    "foresee.set_detector(distance=distance, selection=selection, length=length, luminosity=luminosity, channels=channels)"
   ]
  },
  {
   "cell_type": "markdown",
   "metadata": {},
   "source": [
    "Let us look for one specific HNL mass $M_{N}=1$ GeV at how many particle decay inside the decay volume. This can be done using `get_events()` for which we need to specify again the mass and filename. Additionally, we can specify \n",
    "\n",
    "- the `couplings` for which we evaluate the event rate as numpy array (deault `np.logspace(-8,-3,51)`)\n",
    "- the `preselectioncuts` when reading the LLP spectra in terms of momentum `p` and angle `th` (default: `th<0.01 and p>100`)\n",
    "- the number `nsample` describing how many randomly choosen values of $\\phi_{LLP}$ should sampled (default 1). This is only relevant for detectors that are not cylyndrical or not centered around the beam axis. \n",
    "- the production `modes` which should be considered\n",
    "- the `energy` of the experiments"
   ]
  },
  {
   "cell_type": "code",
   "execution_count": null,
   "metadata": {},
   "outputs": [
    {
     "name": "stdout",
     "output_type": "stream",
     "text": [
      "epsilon = 1.000e-05 : nsignal = 8.436e-06\n",
      "epsilon = 1.000e-04 : nsignal = 8.436e-02\n",
      "epsilon = 1.000e-03 : nsignal = 8.418e+02\n",
      "epsilon = 1.000e-02 : nsignal = 6.889e+06\n",
      "epsilon = 1.000e-01 : nsignal = 1.111e+08\n",
      "epsilon = 1.000e+00 : nsignal = 5.229e-43\n"
     ]
    }
   ],
   "source": [
    "output = foresee.get_events(mass=1, energy=energy, couplings=np.logspace(-5,0,6))\n",
    "coups, ctaus, nsigs, momenta, weights = output\n",
    "for coup,ctau,nsig in zip(coups, ctaus, nsigs):\n",
    "    print (\"epsilon =\", '{:5.3e}'.format(coup), \": nsignal =\", '{:5.3e}'.format(nsig))"
   ]
  },
  {
   "cell_type": "markdown",
   "metadata": {},
   "source": [
    "The previous function also outputs the energy distribution of the HNL particles which decay inside the detector. Let's have a look at them."
   ]
  },
  {
   "cell_type": "code",
   "execution_count": null,
   "metadata": {},
   "outputs": [
    {
     "data": {
      "image/png": "[encoded data removed]",
      "text/plain": [
       "<Figure size 504x360 with 1 Axes>"
      ]
     },
     "metadata": {
      "needs_background": "light"
     },
     "output_type": "display_data"
    }
   ],
   "source": [
    "from matplotlib import pyplot as plt\n",
    "fig = plt.figure(figsize=(7,5))\n",
    "ax = plt.subplot(1,1,1)\n",
    "ens=[]\n",
    "for coup,momentum,weight in zip(coups,momenta,weights):\n",
    "    if sum(weight)<10**-3 : continue\n",
    "    ax.hist([p.e for p in momentum],  weights=weight, bins=np.logspace(2,4, 20), histtype='step', label=r\"$g=$\"+str(coup)) \n",
    "    ax.set_xscale(\"log\")\n",
    "    ax.set_yscale(\"log\")\n",
    "    ax.set_ylim(10**-1,9*10**7) \n",
    "    ax.set_xlabel(\"E(N) [GeV]\") \n",
    "    ax.set_ylabel(\"Number of Events per bin\") \n",
    "    ax.legend(frameon=False, labelspacing=0)\n",
    "plt.tight_layout()\n",
    "plt.show()"
   ]
  },
  {
   "cell_type": "markdown",
   "metadata": {},
   "source": [
    "FORESEE also includes a function `write_events()` which obtains an unweighted sample of LLP decay events and saves them as a HEPMC file. For this function, we need to specify\n",
    "- the `mass` and `coupling` of the LLP\n",
    "- the collision `energy`\n",
    "- the number of events `numberevent` that should be samples (optional, default=10)\n",
    "- the `filename` of the output file (optional, default=`model/events/<mass>_<coupling>.hepmc`)\n",
    "- the z-position (in meter) of the beginning of the decay volume (optional, default=0)\n",
    "- a random `seed` (optional, default=None)\n",
    "- the `decaychannels` for which the event should bbe written to file (optional, default=None meaning that all channels are written to file)\n",
    "\n",
    "At the moment, FORESEE only supports 2-body LLP decays. For all other cases, including those where no final state information was specified when initiating the `Model`, the LLP will not be decayed. "
   ]
  },
  {
   "cell_type": "code",
   "execution_count": null,
   "metadata": {},
   "outputs": [
    {
     "name": "stderr",
     "output_type": "stream",
     "text": [
      "/Users/felixkling/Documents/GitHub/FORESEE/src/foresee.py:1037: VisibleDeprecationWarning: Creating an ndarray from ragged nested sequences (which is a list-or-tuple of lists-or-tuples-or ndarrays with different lengths or shapes) is deprecated. If you meant to do this, you must specify 'dtype=object' when creating the ndarray\n",
      "  channels=np.array(channels).T\n"
     ]
    }
   ],
   "source": [
    "foresee.write_events(filename=\"model/events/test.hepmc\", mass=1, coupling=1.000e-02, \n",
    "    energy=\"14\", numberevent=10, zfront=0)"
   ]
  },
  {
   "cell_type": "markdown",
   "metadata": {},
   "source": [
    "Let us have a look at a the output:"
   ]
  },
  {
   "cell_type": "code",
   "execution_count": null,
   "metadata": {},
   "outputs": [
    {
     "name": "stdout",
     "output_type": "stream",
     "text": [
      "HepMC::Version 2.06.09\n",
      "HepMC::IO_GenEvent-START_EVENT_LISTING\n",
      "E 0 -1 -1. -1. -1. 0 -1 1 1 0 0 0\n",
      "U GEV MM\n",
      "C 689565.3023301548 0.\n",
      "F 0 0 0 0 0 0 0 0 0\n",
      "V -1 0 251.3516300901 69.8444642807 1789.1647076574 0 1 0 0\n",
      "P 1 32 0.1144909564 0.0318142338 218.6405517227 218.6428708601 1.0 1 0 0 -1 0\n",
      "E 1 -1 -1. -1. -1. 0 -1 1 1 0 0 0\n",
      "U GEV MM\n",
      "C 689565.3023301548 0.\n",
      "F 0 0 0 0 0 0 0 0 0\n",
      "V -1 0 -467.94974992 623.3552811867 2115.8704623416 0 1 0 0\n",
      "P 1 32 -0.2028812033 0.2702577991 208.1056301169 208.1083071057 1.0 1 0 0 -1 0\n",
      "E 2 -1 -1. -1. -1. 0 -1 1 1 0 0 0\n",
      "U GEV MM\n",
      "C 689565.3023301548 0.\n",
      "F 0 0 0 0 0 0 0 0 0\n",
      "V -1 0 884.0975641757 -127.6557767214 4852.3915469523 0 1 0 0\n",
      "P 1 32 0.545374419 -0.0787471857 296.0982268377 296.1004281841 1.0 1 0 0 -1 0\n",
      "E 3 -1 -1. -1. -1. 0 -1 1 1 0 0 0\n",
      "U GEV MM\n",
      "C 689565.3023301548 0.\n",
      "F 0 0 0 0 0 0 0 0 0\n",
      "V -1 0 -303.604467263 -106.847827549 2196.6419808459 0 1 0 0\n",
      "P 1 32 -0.3332660534 -0.1172866596 526.8950983414 526.8961657467 1.0 1 0 0 -1 0\n",
      "E 4 -1 -1. -1. -1. 0 -1 1 1 0 0 0\n",
      "U GEV MM\n",
      "C 689565.3023301548 0.\n",
      "F 0 0 0 0 0 0 0 0 0\n",
      "V -1 0 356.54883931 838.3194691257 2198.0431913065 0 1 0 0\n",
      "P 1 32 0.2931838548 0.6893353908 394.6955782233 394.6975558691 1.0 1 0 0 -1 0\n",
      "E 5 -1 -1. -1. -1. 0 -1 1 1 0 0 0\n",
      "U GEV MM\n",
      "C 689565.3023301548 0.\n",
      "F 0 0 0 0 0 0 0 0 0\n",
      "V -1 0 -415.5742085182 609.6792979107 3312.8283342806 0 1 0 0\n",
      "P 1 32 -0.1497296653 0.2196649246 172.9420109617 172.9451063983 1.0 1 0 0 -1 0\n",
      "E 6 -1 -1. -1. -1. 0 -1 1 1 0 0 0\n",
      "U GEV MM\n",
      "C 689565.3023301548 0.\n",
      "F 0 0 0 0 0 0 0 0 0\n",
      "V -1 0 -514.3382442056 -95.6554038869 1534.0639228589 0 1 0 0\n",
      "P 1 32 -0.3839252904 -0.0714015128 358.2936743828 358.2952826923 1.0 1 0 0 -1 0\n",
      "E 7 -1 -1. -1. -1. 0 -1 1 1 0 0 0\n",
      "U GEV MM\n",
      "C 689565.3023301548 0.\n",
      "F 0 0 0 0 0 0 0 0 0\n",
      "V -1 0 450.115669433 -862.6765625824 2582.7665424955 0 1 0 0\n",
      "P 1 32 0.1079067242 -0.2068104006 115.0709276414 115.0755091349 1.0 1 0 0 -1 0\n",
      "E 8 -1 -1. -1. -1. 0 -1 1 1 0 0 0\n",
      "U GEV MM\n",
      "C 689565.3023301548 0.\n",
      "F 0 0 0 0 0 0 0 0 0\n",
      "V -1 0 30.5635817405 -221.0072973191 3718.3066072808 0 1 0 0\n",
      "P 1 32 0.0848450707 -0.6135203634 1332.4889178401 1332.489437021 0.9999999999 1 0 0 -1 0\n",
      "E 9 -1 -1. -1. -1. 0 -1 1 1 0 0 0\n",
      "U GEV MM\n",
      "C 689565.3023301548 0.\n",
      "F 0 0 0 0 0 0 0 0 0\n",
      "V -1 0 285.6289098994 946.8137753781 4562.3830504581 0 1 0 0\n",
      "P 1 32 0.3070227733 1.0177309825 515.9524336442 515.954497822 1.0 1 0 0 -1 0\n",
      "HepMC::IO_GenEvent-END_EVENT_LISTING\n",
      "\n"
     ]
    }
   ],
   "source": [
    "f = open(\"model/events/test.hepmc\", 'r')\n",
    "file_contents = f.read()\n",
    "print (file_contents)"
   ]
  },
  {
   "cell_type": "markdown",
   "metadata": {},
   "source": [
    "## 5. Parameter Scan"
   ]
  },
  {
   "cell_type": "markdown",
   "metadata": {},
   "source": [
    "In the following, we will get the LLP sensitivity reach for different detector configuraions. As an example, we show the FASER2 reach for dark photons for 3 scenarios. We just need to loop over different masses and use the previously introduced funtion `get_events`. The results will be written into a `.npy` file that we can store and plot later."
   ]
  },
  {
   "cell_type": "markdown",
   "metadata": {},
   "source": [
    "- the nominal/default setup"
   ]
  },
  {
   "cell_type": "code",
   "execution_count": null,
   "metadata": {},
   "outputs": [
    {
     "name": "stderr",
     "output_type": "stream",
     "text": [
      "/Users/felixkling/anaconda/envs/python3/lib/python3.6/site-packages/numpy/core/_asarray.py:136: VisibleDeprecationWarning: Creating an ndarray from ragged nested sequences (which is a list-or-tuple of lists-or-tuples-or ndarrays with different lengths or shapes) is deprecated. If you meant to do this, you must specify 'dtype=object' when creating the ndarray\n",
      "  return array(a, dtype, copy=False, order=order, subok=True)\n"
     ]
    }
   ],
   "source": [
    "#masses\n",
    "masses = np.logspace(-1,1,20+1)\n",
    "\n",
    "#specify setup\n",
    "luminosity, distance = 3000 , 480\n",
    "setup, selection, channels = \"default\", \"np.sqrt(x.x**2 + x.y**2)< 1\", None\n",
    "foresee.set_detector(selection=selection, channels=channels, distance=distance, luminosity=luminosity)\n",
    "\n",
    "#get reach \n",
    "list_nevents = []    \n",
    "for mass in masses:\n",
    "    couplings, _, nevents, _, _ = foresee.get_events(mass=mass, energy=energy,couplings=np.logspace(-5,0,50+1))\n",
    "    list_nevents.append(nevents)  \n",
    "    \n",
    "#save results\n",
    "np.save(model.modelpath+\"model/results/\"+energy+\"TeV_\"+setup+\".npy\",[masses,couplings,list_nevents])"
   ]
  },
  {
   "cell_type": "markdown",
   "metadata": {},
   "source": [
    "## 6. Plot the Results"
   ]
  },
  {
   "cell_type": "markdown",
   "metadata": {},
   "source": [
    "Now let's plot the results. We first specify all detector setups for which we want to show result (filename in model/results directory, label, color, linestyle, opacity alpha for filled contours, required number of events)."
   ]
  },
  {
   "cell_type": "code",
   "execution_count": null,
   "metadata": {},
   "outputs": [],
   "source": [
    "setups = [\n",
    "    [\"14TeV_default.npy\",    \"default\"  , \"red\",     \"solid\", 0., 3],\n",
    "]"
   ]
  },
  {
   "cell_type": "markdown",
   "metadata": {},
   "source": [
    "Then we specify all the existing bounds (filename in model/bounds directory, label, label position x, label position y, label rotation)"
   ]
  },
  {
   "cell_type": "code",
   "execution_count": null,
   "metadata": {},
   "outputs": [],
   "source": [
    "bounds = [ \n",
    "]"
   ]
  },
  {
   "cell_type": "markdown",
   "metadata": {},
   "source": [
    "We then specify other projected sensitivitities (filename in model/bounds directory, color, label, label position x, label position y, label rotation)"
   ]
  },
  {
   "cell_type": "code",
   "execution_count": null,
   "metadata": {},
   "outputs": [],
   "source": [
    "projections = [\n",
    "    [\"limits_SHiP_el.txt\",      \"dodgerblue\" , \"SHiP\"      , 3   , 0.0001 , 0  ],\n",
    "    [\"limits_NA62_el.txt\",      \"blue\"       , \"NA62\"      , 1   , 0.0002 , 0  ],\n",
    "    [\"limits_DUNE_el.txt\",      \"cyan\"       , \"DUNE\"      , 0.6 , 0.00009, 0  ],\n",
    "    ['limits_CODEX_el.txt',     \"purple\"     , \"CODEX\"     , 2e-1, 0.0003 , 0  ],\n",
    "    [\"limits_MATHUSLA_el.txt\",  \"deepskyblue\", \"MATHUSLA\"  , 0.3 , 0.0001 , 0  ],\n",
    "    [\"limits_FASER2_el.txt\",    \"magenta\"    , \"FASER2 OLD\", 0.3 , 0.001  , 0  ]\n",
    "]"
   ]
  },
  {
   "cell_type": "markdown",
   "metadata": {},
   "source": [
    "Finally, we can plot everything using `foresee.plot_reach()`. It returns a matplotlib instance, to which we can add further lines and which we can show or save. Below, we add the dark matter relict target line for a specific benchmark."
   ]
  },
  {
   "cell_type": "code",
   "execution_count": null,
   "metadata": {},
   "outputs": [
    {
     "data": {
      "image/png": "[encoded data removed]",
      "text/plain": [
       "<Figure size 576x432 with 1 Axes>"
      ]
     },
     "metadata": {
      "needs_background": "light"
     },
     "output_type": "display_data"
    }
   ],
   "source": [
    "plot = foresee.plot_reach(\n",
    "    setups=setups,\n",
    "    bounds=bounds,\n",
    "    projections=projections,\n",
    "    title=\"HNL with Electron Couplings\",\n",
    "    xlims = [1e-1, 10], \n",
    "    ylims = [1e-5, 1 ],\n",
    "    xlabel=r\"HNL mass $M_{N}$ [GeV]\", \n",
    "    ylabel=r\"Kinetic Mixing $|U_{e}|$\",\n",
    "    legendloc=(1,0.68),\n",
    "    figsize=(8,6),\n",
    ")\n",
    "plot.subplots_adjust(left=0.12, right=0.97, bottom=0.10, top=0.95)\n",
    "#plot.savefig(\"/Users/alechewitt/Desktop/Figure.pdf\")\n",
    "plot.show()"
   ]
  },
  {
   "cell_type": "markdown",
   "metadata": {},
   "source": [
    "$\\color{red}{\\text{      ... THE OLD (MAGENTA) and NEW (RED) LINES LOOK SIMILAR}}$\n",
    "$\\color{red}{\\text{      ... THE DIFFERENCED RE PROABLY DUE TO DIFFERENT CHARM PRODUCTION AND MISSING PROD. CHANNELS}}$"
   ]
  },
  {
   "cell_type": "markdown",
   "metadata": {},
   "source": [
    "## 7. Export Contours"
   ]
  },
  {
   "cell_type": "markdown",
   "metadata": {},
   "source": [
    "It might also be useful to extract the contours lines, and save them as a text file. This can be done using the `extract_contours()` function. As example, let us export the FASER2 line. "
   ]
  },
  {
   "cell_type": "code",
   "execution_count": null,
   "metadata": {},
   "outputs": [],
   "source": [
    "foresee.extract_contours(\n",
    "    inputfile=\"model/results/14TeV_default.npy\", \n",
    "    outputfile=\"model/lines/limits_FASER2.txt\"\n",
    ")"
   ]
  },
  {
   "cell_type": "markdown",
   "metadata": {},
   "source": [
    "## Plot Production Cross Section \n",
    "\n",
    "We also can plot the production cross section as a function of the particle mass via `foresee.plot_production`. We do this below to show the production rate associated with different channels (commenting out the subleading channels): "
   ]
  },
  {
   "cell_type": "code",
   "execution_count": null,
   "metadata": {},
   "outputs": [],
   "source": [
    "masses = [0.1, 0.2, 0.3, 0.7, 1, 1.2, 1.4, 2, 3 ]\n",
    "productions = [\n",
    "    [\"2body_411_-11\"     , None      , \"firebrick\"   , r\"$D^+ \\to e^+ N$\"   ],   \n",
    "    [\"2body_431_-11\"     , None      , \"red\"         , r\"$D_s^+ \\to e^+ N$\" ],   \n",
    "    [\"2body_521_-11\"     , [0.5,10]  , \"orange\"      , r\"$B^+ \\to e^+ N$\"   ],  \n",
    "    [\"2body_541_-11\"     , [0.5,10]  , \"gold\"        , r\"$B_c^+ \\to e^+ N$\" ],   \n",
    "    [\"3body_411_-311_-11\", None      , \"blue\"        , r\"$D^+ \\to \\bar{K}^0 e^+ N$\" ],   \n",
    "    [\"3body_421_-321_-11\", None      , \"deepskyblue\" , r\"$D^0 \\to K^- e^+ N$\"       ], \n",
    "    [\"3body_511_-411_-11\", [0.5,10]  , \"green\"       , r\"$B^0 \\to D^- e^+ N$\"       ], \n",
    "    [\"3body_531_-431_-11\", [0.5,10]  , \"limegreen\"   , r\"$B_s^+ \\to D_s^- e^+ N$\"   ], \n",
    "]\n",
    "\n",
    "foresee.plot_production(\n",
    "    masses = masses, \n",
    "    productions = productions,\n",
    "    condition=\"True\", \n",
    "    xlims=[0.1,30],ylims=[10**0,10**10], \n",
    "    xlabel=r\"HNL Mass [GeV]\", \n",
    "    ylabel=r\"Production Rate $\\sigma/\\epsilon^2$ [pb]\",\n",
    "    legendloc=(1.02,1.02),\n",
    "    fs_label=12,\n",
    "    title=\"All HNLs\",\n",
    ")\n",
    "\n",
    "plot.savefig(\"Figure_HNL_Prod_All.pdf\")\n",
    "plot.show()"
   ]
  },
  {
   "cell_type": "code",
   "execution_count": null,
   "metadata": {},
   "outputs": [],
   "source": [
    "#this portion will take a branching fraction and write to a file in the form m br\n",
    "#takes a number and chops off part of it according to the precision, or delta\n",
    "def chop(expr, delta=10**-2):\n",
    "    return np.ma.masked_inside(expr, -delta, delta).filled(0)\n",
    "#for the decays of HNL, takes a branching ratio and creates a file of mass br\n",
    "def write_m_br_file(br,mass_produced,filename=\"model/pi_nu.txt\"):\n",
    "    f = open(filename, \"w+\")\n",
    "    f.close()\n",
    "    f = open(filename, \"a\")\n",
    "    #mass=1\n",
    "    mass=.01\n",
    "    delm=.01\n",
    "    steps=int(10/.01)-1\n",
    "    for n in range(steps):\n",
    "        #f.write(f\"{m}  {br}\\n\")\n",
    "        #print(eval(br))\n",
    "        if mass>mass_produced:\n",
    "            f.write(\" {: <10} {: <10}\\n\".format(*['%.2f' % mass,eval(br)]))\n",
    "        else:\n",
    "            f.write(\" {: <10} {: <10}\\n\".format(*['%.2f' % mass,0]))\n",
    "\n",
    "        mass=chop(mass+delm)\n",
    "    f.close()\n",
    "    print('file created...')\n",
    "    #a=.0134155\n",
    "\n",
    "#same as write_m_br_file except for mass between, start_mass, end_mass is for the starting mass for br_had and ending mass for br_had\n",
    "def write_m_br_had_file(br,br_had,mass_produced,start_mass,end_mass,filename=\"model/pi_nu.txt\"):\n",
    "    f = open(filename, \"w+\")\n",
    "    f.close()\n",
    "    f = open(filename, \"a\")\n",
    "    #mass=1\n",
    "\n",
    "\n",
    "\n",
    "\n",
    "    mass=start_mass\n",
    "    delm=.01\n",
    "    steps=int((end_mass-start_mass)/.01)+1\n",
    "    for n in range(steps):\n",
    "        #f.write(f\"{m}  {br}\\n\")\n",
    "        #print(eval(br))\n",
    "        if mass>mass_produced:\n",
    "            f.write(\" {: <10} {: <10}\\n\".format(*['%.2f' % mass,eval(br_had)]))\n",
    "        else:\n",
    "            f.write(\" {: <10} {: <10}\\n\".format(*['%.2f' % mass,0]))\n",
    "\n",
    "        mass=chop(mass+delm)\n",
    "\n",
    "\n",
    "\n",
    "\n",
    "\n",
    "\n",
    "    mass=end_mass\n",
    "    delm=.01\n",
    "    steps=int((10-end_mass)/.01)+1\n",
    "    for n in range(steps):\n",
    "        #f.write(f\"{m}  {br}\\n\")\n",
    "        #print(eval(br))\n",
    "        if mass>mass_produced:\n",
    "            f.write(\" {: <10} {: <10}\\n\".format(*['%.2f' % mass,eval(br)]))\n",
    "        else:\n",
    "            f.write(\" {: <10} {: <10}\\n\".format(*['%.2f' % mass,0]))\n",
    "\n",
    "        mass=chop(mass+delm)\n",
    "    f.close()\n",
    "    print('file created...')\n",
    "    #a=.0134155\n",
    "\n",
    "#this is for the decay N->nu_l1 l2 l2\n",
    "def write_m_brm_file(filename=\"model/pi_nu.txt\"):\n",
    "    f = open(filename, \"w+\")\n",
    "    f.close()\n",
    "    f = open(filename, \"a\")\n",
    "    #mass=1\n",
    "    mass=.01\n",
    "    br=bra_nul1_l2_l2(mass,l1,l2)+\"*6.58*10**-14\"\n",
    "    delm=.01\n",
    "    steps=int(10/.01)-1\n",
    "    for n in range(steps):\n",
    "        #f.write(f\"{m}  {br}\\n\")\n",
    "        #print(eval(br))\n",
    "        f.write(\" {: <10} {: <10}\\n\".format(*['%.2f' % mass,eval(br)]))\n",
    "        mass=chop(mass+delm)\n",
    "    f.close()\n",
    "    print('file created...')\n",
    "\n",
    "def write_m_ctau_file(filename=\"model/ctau.txt\"):\n",
    "    f = open(filename, \"w+\")\n",
    "    f.close()\n",
    "    f = open(filename, \"a\")\n",
    "    #mass=1\n",
    "    mass=.01\n",
    "    coupling=1\n",
    "    tau_N=f\"6.58*10**-14*coupling**-2\"\n",
    "    ctau=tau_N+\"*3*10**8\"\n",
    "    delm=.01\n",
    "    steps=int(10/.01)-1\n",
    "    for n in range(steps):\n",
    "        #f.write(f\"{m}  {br}\\n\")\n",
    "        #print(eval(br))\n",
    "        f.write(\" {: <10} {: <10}\\n\".format(*['%.2f' % mass,eval(ctau)]))\n",
    "        mass=chop(mass+delm)\n",
    "    f.close()\n",
    "    print('file created...')\n",
    "\n",
    "#write_m_br_file(br)"
   ]
  },
  {
   "cell_type": "code",
   "execution_count": null,
   "metadata": {},
   "outputs": [
    {
     "ename": "NameError",
     "evalue": "name 'write_m_br_had_file' is not defined",
     "output_type": "error",
     "traceback": [
      "\u001b[0;31m---------------------------------------------------------------------------\u001b[0m",
      "\u001b[0;31mNameError\u001b[0m                                 Traceback (most recent call last)",
      "\u001b[1;32m/Users/alechewitt/Desktop/Git_felix_2/FORESEE/Models/HNL/HNL.ipynb Cell 73\u001b[0m in \u001b[0;36m<cell line: 1>\u001b[0;34m()\u001b[0m\n\u001b[0;32m----> <a href='vscode-notebook-cell:/Users/alechewitt/Desktop/Git_felix_2/FORESEE/Models/HNL/HNL.ipynb#Y150sZmlsZQ%3D%3D?line=0'>1</a>\u001b[0m write_m_br_had_file(\u001b[39mf\u001b[39m\u001b[39m\"\u001b[39m\u001b[39m1\u001b[39m\u001b[39m\"\u001b[39m,\u001b[39mf\u001b[39m\u001b[39m\"\u001b[39m\u001b[39m0\u001b[39m\u001b[39m\"\u001b[39m,\u001b[39m0\u001b[39m,\u001b[39m0.1345\u001b[39m,\u001b[39m1.2334\u001b[39m,filename\u001b[39m=\u001b[39m\u001b[39m\"\u001b[39m\u001b[39mmodel/pi_nu.txt\u001b[39m\u001b[39m\"\u001b[39m)\n",
      "\u001b[0;31mNameError\u001b[0m: name 'write_m_br_had_file' is not defined"
     ]
    }
   ],
   "source": [
    "write_m_br_had_file(f\"1\",f\"0\",0,0.1345,1.2334,filename=\"model/pi_nu.txt\")"
   ]
  },
  {
   "cell_type": "code",
   "execution_count": 89,
   "metadata": {},
   "outputs": [],
   "source": [
    "#takes a number and chops off part of it according to the precision, or delta\n",
    "def chop(expr, delta=10**-2):\n",
    "    return np.ma.masked_inside(expr, -delta, delta).filled(0)\n",
    "#this portion will take a branching fraction and write to a file in the form m br\n",
    "#for the decays of HNL, takes a branching ratio and creates a file of mass br\n",
    "def write_m_br_file(br,mass_produced,filename=\"model/pi_nu.txt\",start_mass=0,end_mass=10):\n",
    "    f = open(filename, \"w+\")\n",
    "    f.close()\n",
    "    f = open(filename, \"a\")\n",
    "    #mass=1\n",
    "    mass=0.01\n",
    "    delm=0.01\n",
    "    steps=int((10-0)/0.01)-1\n",
    "    for n in range(steps):\n",
    "        #f.write(f\"{m}  {br}\\n\")\n",
    "        #print(eval(br))\n",
    "        if mass>mass_produced and mass>start_mass and mass<end_mass:\n",
    "            f.write(\" {: <10} {: <10}\\n\".format(*['%.2f' % mass,eval(br)]))\n",
    "        else:\n",
    "            f.write(\" {: <10} {: <10}\\n\".format(*['%.2f' % mass,0]))\n",
    "\n",
    "        mass=chop(mass+delm)\n",
    "    f.close()\n",
    "    print('file created...')\n",
    "    #a=.0134155\n",
    "\n",
    "#same as write_m_br_file except for mass between, start_mass, end_mass is for the starting mass for br_had and ending mass for br_had\n",
    "def write_m_br_had_file(br,br_had,mass_produced,start_mass,end_mass,filename=\"model/pi_nu.txt\"):\n",
    "    f = open(filename, \"w+\")\n",
    "    f.close()\n",
    "    f = open(filename, \"a\")\n",
    "    #mass=1\n",
    "\n",
    "\n",
    "\n",
    "\n",
    "    mass=start_mass\n",
    "    delm=.01\n",
    "    steps=int((end_mass-start_mass)/.01)+1\n",
    "    for n in range(steps):\n",
    "        #f.write(f\"{m}  {br}\\n\")\n",
    "        #print(eval(br))\n",
    "        if mass>mass_produced:\n",
    "            f.write(\" {: <10} {: <10}\\n\".format(*['%.2f' % mass,eval(br_had)]))\n",
    "        else:\n",
    "            f.write(\" {: <10} {: <10}\\n\".format(*['%.2f' % mass,0]))\n",
    "\n",
    "        mass=chop(mass+delm)\n",
    "\n",
    "\n",
    "\n",
    "\n",
    "\n",
    "\n",
    "    mass=end_mass\n",
    "    delm=.01\n",
    "    steps=int((10-end_mass)/.01)+1\n",
    "    for n in range(steps):\n",
    "        #f.write(f\"{m}  {br}\\n\")\n",
    "        #print(eval(br))\n",
    "        if mass>mass_produced:\n",
    "            f.write(\" {: <10} {: <10}\\n\".format(*['%.2f' % mass,eval(br)]))\n",
    "        else:\n",
    "            f.write(\" {: <10} {: <10}\\n\".format(*['%.2f' % mass,0]))\n",
    "\n",
    "        mass=chop(mass+delm)\n",
    "    f.close()\n",
    "    print('file created...')\n",
    "    #a=.0134155\n",
    "\n",
    "#this is for the decay N->nu_l1 l2 l2\n",
    "def write_m_brm_file(filename=\"model/pi_nu.txt\"):\n",
    "    f = open(filename, \"w+\")\n",
    "    f.close()\n",
    "    f = open(filename, \"a\")\n",
    "    #mass=1\n",
    "    mass=.01\n",
    "    br=bra_nul1_l2_l2(mass,l1,l2)+\"*6.58*10**-14\"\n",
    "    delm=.01\n",
    "    steps=int(10/.01)-1\n",
    "    for n in range(steps):\n",
    "        #f.write(f\"{m}  {br}\\n\")\n",
    "        #print(eval(br))\n",
    "        f.write(\" {: <10} {: <10}\\n\".format(*['%.2f' % mass,eval(br)]))\n",
    "        mass=chop(mass+delm)\n",
    "    f.close()\n",
    "    print('file created...')\n",
    "\n",
    "def write_m_ctau_file(filename=\"model/ctau.txt\"):\n",
    "    f = open(filename, \"w+\")\n",
    "    f.close()\n",
    "    f = open(filename, \"a\")\n",
    "    #mass=1\n",
    "    mass=.01\n",
    "    coupling=1\n",
    "    tau_N=f\"6.58*10**-14*coupling**-2\"\n",
    "    ctau=tau_N+\"*3*10**8\"\n",
    "    delm=.01\n",
    "    steps=int(10/.01)-1\n",
    "    for n in range(steps):\n",
    "        #f.write(f\"{m}  {br}\\n\")\n",
    "        #print(eval(br))\n",
    "        f.write(\" {: <10} {: <10}\\n\".format(*['%.2f' % mass,eval(ctau)]))\n",
    "        mass=chop(mass+delm)\n",
    "    f.close()\n",
    "    print('file created...')\n",
    "\n",
    "def calc_m_tau(filename=\"model/tau_GeV.txt\"):\n",
    "    br_files=os.listdir(\"model/width/\")\n",
    "    lep_file_char=\"width_3body_lep\"\n",
    "    had_file_char=\"width_3body_inc\"\n",
    "    counter=0\n",
    "    for n in range(len(br_files)):\n",
    "        if br_files[n][0:len(lep_file_char)]==lep_file_char or br_files[n][0:len(had_file_char)]==had_file_char:\n",
    "            counter+=1\n",
    "            file_name=br_files[n]\n",
    "            m_width_df_temp = pd.read_csv(f\"model/width/{file_name}\",delimiter='       ',engine='python',names=['mass','width'],index_col=False)\n",
    "            m_width_df_temp['width'] = m_width_df_temp['width'].fillna(0)\n",
    "            #mass_temp=m_width_df_temp['mass'].tolist()\n",
    "            if counter==1:\n",
    "                width=np.array(m_width_df_temp['width'].tolist())\n",
    "            if counter!=1:\n",
    "                width_temp=np.array(m_width_df_temp['width'].tolist())\n",
    "                width+= width_temp\n",
    "            #mass=mass+mass_temp\n",
    "    mass=np.array(m_width_df_temp['mass'].tolist())\n",
    "    tau=1/width\n",
    "    return(mass,tau)\n",
    "\n",
    "def calc_m_ctau(filename=\"model/ctau.txt\"):\n",
    "    br_files=os.listdir(\"model/width/\")\n",
    "    lep_file_char=\"width_3body_lep\"\n",
    "    had_file_char=\"width_2body_ex\"\n",
    "    hadf_file_char=\"width_3body_inc\"\n",
    "    counter=0\n",
    "    for n in range(len(br_files)):\n",
    "        if br_files[n][0:len(lep_file_char)]==lep_file_char or br_files[n][0:len(had_file_char)]==had_file_char or br_files[n][0:len(hadf_file_char)]==hadf_file_char:\n",
    "            counter+=1\n",
    "            file_name=br_files[n]\n",
    "            m_width_df_temp = pd.read_csv(f\"model/width/{file_name}\",delimiter='       ',engine='python',names=['mass','width'],index_col=False)\n",
    "            m_width_df_temp['width'] = m_width_df_temp['width'].fillna(0)\n",
    "            #mass_temp=m_width_df_temp['mass'].tolist()\n",
    "            if counter==1:\n",
    "                width=np.array(m_width_df_temp['width'].tolist())\n",
    "            if counter!=1:\n",
    "                width_temp=np.array(m_width_df_temp['width'].tolist())\n",
    "                width+= width_temp\n",
    "            #mass=mass+mass_temp\n",
    "    mass=np.array(m_width_df_temp['mass'].tolist())\n",
    "    ctau=((1/(width*10**-7))*((6.582122*pow(10.,-25.))))*3*10**8\n",
    "    return(mass,ctau)\n",
    "\n",
    "def write_m_ctau_file(filename=\"model/ctau.txt\"):\n",
    "    br_files=os.listdir(\"model/width/\")\n",
    "    lep_file_char=\"width_3body_lep\"\n",
    "    had_file_char=\"width_2body_ex\"\n",
    "    hadf_file_char=\"width_3body_inc\"\n",
    "    counter=0\n",
    "    for n in range(len(br_files)):\n",
    "        if br_files[n][0:len(lep_file_char)]==lep_file_char or br_files[n][0:len(had_file_char)]==had_file_char or br_files[n][0:len(hadf_file_char)]==hadf_file_char:\n",
    "            counter+=1\n",
    "            file_name=br_files[n]\n",
    "            m_width_df_temp = pd.read_csv(f\"model/width/{file_name}\",delimiter='       ',engine='python',names=['mass','width'],index_col=False)\n",
    "            m_width_df_temp['width'] = m_width_df_temp['width'].fillna(0)\n",
    "            #mass_temp=m_width_df_temp['mass'].tolist()\n",
    "            if counter==1:\n",
    "                width=np.array(m_width_df_temp['width'].tolist())\n",
    "            if counter!=1:\n",
    "                width_temp=np.array(m_width_df_temp['width'].tolist())\n",
    "                width+= width_temp\n",
    "            #mass=mass+mass_temp\n",
    "    mass=np.array(m_width_df_temp['mass'].tolist())\n",
    "    ctau=((1/(width*10**-7))*((6.582122*pow(10.,-25.))))*3*10**8\n",
    "    f = open(filename, \"w+\")\n",
    "    f.close()\n",
    "    f = open(filename, \"a\")\n",
    "    if len(mass)!=len(ctau):\n",
    "        print(\"the masses dont match the shape of ctau!!!\")\n",
    "    for n in range(len(mass)):\n",
    "        f.write(\" {: <10} {: <10}\\n\".format(*['%.2f' % mass[n],ctau[n]]))\n",
    "    f.close()\n",
    "\n",
    "def read_m_br(characteristic):\n",
    "    br_files=os.listdir(\"model/width/\")\n",
    "    width=[]\n",
    "    counter=0\n",
    "    for n in range(len(br_files)):\n",
    "        if br_files[n][0:len(characteristic)]==characteristic:\n",
    "            counter+=1\n",
    "            file_name=br_files[n]\n",
    "            m_width_df_temp = pd.read_csv(f\"model/width/{file_name}\",delimiter='       ',engine='python',names=['mass','width'],index_col=False)\n",
    "            #mass_temp=m_width_df_temp['mass'].tolist()\n",
    "            if counter==1:\n",
    "                width=np.array(m_width_df_temp['width'].tolist())\n",
    "            if counter!=1:\n",
    "                width_temp=np.array(m_width_df_temp['width'].tolist())\n",
    "                width+= width_temp\n",
    "            #mass=mass+mass_temp\n",
    "\n",
    "    mass=np.array(m_width_df_temp['mass'].tolist())\n",
    "    return (mass,width,counter)\n",
    "\n",
    "def read_digitized_file(filename,name_col1=\"x\",name_col2=\"y\"):\n",
    "    x_y_df = pd.read_csv(f\"/Users/alechewitt/Desktop/{filename}\",delimiter=',',engine='python',names=[name_col1,name_col2],index_col=False)\n",
    "    x=np.array(x_y_df[name_col1].tolist())[4:]\n",
    "    y=np.array(x_y_df[name_col2].tolist())[4:]\n",
    "    x=[float(a) for a in x]\n",
    "    y=[float(a) for a in y]\n",
    "    return(x,y)\n",
    "\n",
    "def convert_width_to_br():\n",
    "    br_files=os.listdir(\"model/width/\")\n",
    "    width=[]\n",
    "    counter=0\n",
    "    ctau=pd.read_csv(f\"model/ctau.txt\",delimiter='       ',engine='python',names=['mass','ctau'],index_col=False)\n",
    "    for n in range(len(br_files)):\n",
    "        #if br_files[n][0:len(characteristic)]==characteristic:\n",
    "        counter+=1\n",
    "        file_name=br_files[n]\n",
    "        m_width_df = pd.read_csv(f\"model/width/{file_name}\",delimiter='       ',engine='python',names=['mass','width'],index_col=False)\n",
    "        m_width_df['width']=m_width_df['width']*ctau['ctau']/(((6.582122*pow(10.,-25.)))*3*10**8)\n",
    "        numpy_array = m_width_df.to_numpy()\n",
    "        np.savetxt(\"model/test_file.txt\", numpy_array, fmt = \"%d\")\n",
    "        #mass_temp=m_width_df_temp['mass'].tolist()\n",
    "        '''if counter==1:\n",
    "            width=np.array(m_width_df_temp['width'].tolist())\n",
    "        if counter!=1:\n",
    "            width_temp=np.array(m_width_df_temp['width'].tolist())\n",
    "            width+= width_temp'''\n",
    "        \n",
    "        #mass=mass+mass_temp\n",
    "\n"
   ]
  },
  {
   "cell_type": "code",
   "execution_count": 99,
   "metadata": {},
   "outputs": [
    {
     "name": "stdout",
     "output_type": "stream",
     "text": [
      "     mass         width\n",
      "0    0.01  0.000000e+00\n",
      "1    0.02  0.000000e+00\n",
      "2    0.03  0.000000e+00\n",
      "3    0.04  0.000000e+00\n",
      "4    0.05  0.000000e+00\n",
      "..    ...           ...\n",
      "994  9.95  2.471901e-09\n",
      "995  9.96  2.484347e-09\n",
      "996  9.97  2.496844e-09\n",
      "997  9.98  2.509391e-09\n",
      "998  9.99  2.521988e-09\n",
      "\n",
      "[999 rows x 2 columns]\n",
      "     mass          ctau\n",
      "0    0.01  3.308380e+14\n",
      "1    0.02  1.014611e+13\n",
      "2    0.03  1.331422e+12\n",
      "3    0.04  3.155628e+11\n",
      "4    0.05  1.033445e+11\n",
      "..    ...           ...\n",
      "994  9.95  1.874225e-02\n",
      "995  9.96  1.864360e-02\n",
      "996  9.97  1.854556e-02\n",
      "997  9.98  1.844815e-02\n",
      "998  9.99  1.835135e-02\n",
      "\n",
      "[999 rows x 2 columns]\n",
      "     mass         width\n",
      "0    0.01  0.000000e+00\n",
      "1    0.02  0.000000e+00\n",
      "2    0.03  0.000000e+00\n",
      "3    0.04  0.000000e+00\n",
      "4    0.05  0.000000e+00\n",
      "..    ...           ...\n",
      "994  9.95  2.471901e-09\n",
      "995  9.96  2.484347e-09\n",
      "996  9.97  2.496844e-09\n",
      "997  9.98  2.509391e-09\n",
      "998  9.99  2.521988e-09\n",
      "\n",
      "[999 rows x 2 columns]\n",
      "     mass          width\n",
      "0    0.01       0.000000\n",
      "1    0.02       0.000000\n",
      "2    0.03       0.000000\n",
      "3    0.04       0.000000\n",
      "4    0.05       0.000000\n",
      "..    ...            ...\n",
      "994  9.95  234620.327351\n",
      "995  9.96  234560.461438\n",
      "996  9.97  234500.745596\n",
      "997  9.98  234441.179078\n",
      "998  9.99  234381.761139\n",
      "\n",
      "[999 rows x 2 columns]\n"
     ]
    }
   ],
   "source": [
    "w_df = pd.read_csv(f\"model/width/width_3body_inc_u_bu_l_1_-1_12.txt\",delimiter='       ',engine='python',names=['mass','width'],index_col=False)\n",
    "ctau_df = pd.read_csv(f\"model/ctau.txt\",delimiter='       ',engine='python',names=['mass','ctau'],index_col=False)\n",
    "print(w_df)\n",
    "print(ctau_df)\n",
    "#w_df['width']=w_df['width']*ctau_df['ctau']\n",
    "print(w_df)\n",
    "w_df['width']=w_df['width']*ctau_df['ctau']/(((6.582122*pow(10.,-25.)))*3*10**8)\n",
    "\n",
    "print(w_df)"
   ]
  },
  {
   "cell_type": "code",
   "execution_count": 90,
   "metadata": {},
   "outputs": [
    {
     "data": {
      "image/png": "[encoded data removed]",
      "text/plain": [
       "<Figure size 432x288 with 1 Axes>"
      ]
     },
     "metadata": {
      "needs_background": "light"
     },
     "output_type": "display_data"
    }
   ],
   "source": [
    "import pandas as pd\n",
    "from matplotlib import pyplot as plt\n",
    "write_m_ctau_file(filename=\"model/ctau.txt\")\n",
    "mass,tau=calc_m_tau(filename=\"model/tau_GeV.txt\")\n",
    "mass,ctau=calc_m_ctau(filename=\"model/ctau.txt\")\n",
    "filename=\"felix_pts.csv\"\n",
    "massf,ctauf=read_digitized_file(filename,name_col1=\"x\",name_col2=\"y\")\n",
    "plt.plot(mass,ctau)\n",
    "#plt.plot(massf,ctauf)\n",
    "plt.xscale(\"log\")\n",
    "plt.yscale(\"log\")\n",
    "plt.xlim(0.01,5)\n",
    "plt.ylim(1,10**14)\n",
    "plt.show()"
   ]
  },
  {
   "cell_type": "code",
   "execution_count": 74,
   "metadata": {},
   "outputs": [
    {
     "name": "stdout",
     "output_type": "stream",
     "text": [
      "file created...\n",
      "3 body N->sum_{alpha beta} nu_alpha bar{nu}_beta nu_beta done...\n",
      "file created...\n"
     ]
    },
    {
     "name": "stderr",
     "output_type": "stream",
     "text": [
      "<string>:1: RuntimeWarning: divide by zero encountered in log\n",
      "<string>:1: RuntimeWarning: invalid value encountered in multiply\n"
     ]
    },
    {
     "name": "stdout",
     "output_type": "stream",
     "text": [
      "file created...\n",
      "file created...\n",
      "file created...\n",
      "file created...\n",
      "file created...\n",
      "3 body N->l_{\u0007lpha \n",
      "eqeta}^- l_beta^+ nu_beta done...\n"
     ]
    },
    {
     "name": "stderr",
     "output_type": "stream",
     "text": [
      "<string>:1: RuntimeWarning: invalid value encountered in double_scalars\n",
      "<string>:1: RuntimeWarning: invalid value encountered in log\n"
     ]
    },
    {
     "name": "stdout",
     "output_type": "stream",
     "text": [
      "file created...\n",
      "file created...\n",
      "file created...\n",
      "file created...\n",
      "file created...\n",
      "file created...\n",
      "file created...\n",
      "file created...\n",
      "file created...\n",
      "3 body N->l_beta^+ l_beta^- nu_alpha done...\n",
      "file created...\n",
      "file created...\n",
      "file created...\n",
      "file created...\n",
      "file created...\n",
      "file created...\n",
      "file created...\n",
      "file created...\n",
      "file created...\n",
      "3 body N->l_beta^+ l_beta^- nu_alpha done...\n",
      "file created...\n",
      "file created...\n",
      "file created...\n",
      "file created...\n",
      "file created...\n",
      "file created...\n",
      "file created...\n",
      "file created...\n",
      "file created...\n",
      "file created...\n",
      "file created...\n",
      "file created...\n",
      "file created...\n",
      "file created...\n",
      "file created...\n",
      "file created...\n",
      "file created...\n",
      "file created...\n",
      "3 body N->U bar{D} l_alpha^- done...\n",
      "file created...\n",
      "file created...\n",
      "file created...\n",
      "file created...\n",
      "file created...\n",
      "file created...\n",
      "file created...\n",
      "file created...\n",
      "file created...\n",
      "file created...\n",
      "file created...\n",
      "file created...\n",
      "file created...\n",
      "file created...\n",
      "file created...\n",
      "3 body N-> qar{q} nu_alpha done...\n",
      "file created...\n",
      "file created...\n",
      "file created...\n",
      "N->pi^0 nu_alpha done...\n",
      "file created...\n",
      "file created...\n",
      "file created...\n",
      "N->eta nu_alpha done...\n",
      "file created...\n",
      "file created...\n",
      "file created...\n",
      "N->eta' nu_alpha done...\n",
      "file created...\n",
      "file created...\n",
      "file created...\n",
      "file created...\n",
      "file created...\n",
      "file created...\n",
      "N->rho+ l_alpha- done...\n",
      "file created...\n",
      "file created...\n",
      "file created...\n",
      "N->rho0 nu_alpha done...\n",
      "file created...\n",
      "file created...\n",
      "file created...\n",
      "file created...\n",
      "file created...\n",
      "file created...\n",
      "N->P+ l- done...\n",
      "file created...\n",
      "file created...\n",
      "file created...\n",
      "file created...\n",
      "file created...\n",
      "file created...\n",
      "N->P0 nu done...\n",
      "file created...\n",
      "file created...\n",
      "file created...\n",
      "file created...\n",
      "file created...\n",
      "file created...\n",
      "N->V+ l- done...\n",
      "file created...\n",
      "file created...\n",
      "file created...\n",
      "file created...\n",
      "file created...\n",
      "file created...\n",
      "N->V0 nu done...\n"
     ]
    }
   ],
   "source": [
    "#list of mesons which the HNL can decay to.\n",
    "#only 3 body decays suggested by Jonathan\n",
    "self=model\n",
    "coupling=1\n",
    "GF=1.166378*10**(-5)\n",
    "xw=0.231\n",
    "pseudoscalars_symbols=[\"K^0\",\"\\bar{K}^0\",\"K^+\",\"K^-\" ,\"\\pi^0\",\"\\pi^+\",\"\\pi^-\",\"\\eta\",\"\\eta'\",\"D_s^+\",\"D_s^-\",\"D0\" ,\"D^+\",\"D^-\" ,\"B^0\", \"B^+\",\"B^-\" ]\n",
    "pseudoscalars=        [\"311\",\"-311\"     ,\"321\",\"-321\",\"111\"  ,\"211\"  ,\"-211\"  ,\"221\",\"331\"  ,\"431\"  ,\"-431\" ,\"421\",\"411\",\"-411\",\"511\",\"521\" ,\"-521\"]\n",
    "pseudoscalars_charged_symbols=[\"K^+\",\"K^-\" ,\"\\pi^+\",\"\\pi^-\",\"D_s^+\",\"D_s^-\",\"D^+\",\"D^-\" ,\"B^+\" ,\"B^-\"  ]\n",
    "pseudoscalars_charged=        [\"321\",\"-321\",\"211\"  ,\"-211\" ,\"431\"  ,\"-431\" ,\"411\",\"-411\",\"521\" ,\"-521\" ]\n",
    "vectors_symbols=[\"K^{*0}\",\"\\bar{K}^{*0}\",\"K^{*+}\",\"K^{*-}\",\"\\rho_0\",\"\\rho^+\",\"\\rho^-\",\"\\omega\",\"\\phi\",\"D^*0\" ]\n",
    "vectors=        [\"313\"   ,\"-313\"        ,\"323\"   ,\"-323\"  ,\"113\"   ,\"213\"   ,\"-213\"  ,\"223\"   ,\"333\" ,\"423\"  ]\n",
    "vectors_charged_symbols=[\"K^{*+}\",\"K^{*-}\"]\n",
    "vectors_charged=        [\"323\"   ,\"-323\"  ] #took out omega and phi, not sure where to find data, their lifetimes are super small 10^-23 roughly and they decay into channels we have implemented\n",
    "leptons=[\"11\",\"13\",\"15\"]\n",
    "nu_alpha=[\"12\",\"14\",\"16\"]\n",
    "\n",
    "pid_start=\"111\"\n",
    "pid_end=\"331\"\n",
    "self=model\n",
    "start_mass=self.masses(pid_start)\n",
    "end_mass=self.masses(pid_end)\n",
    "\n",
    "#for N->sum_{alpha beta} nu_alpha bar{nu}_beta nu_beta\n",
    "pid1=\"12\"\n",
    "pid2=\"14\"\n",
    "pid3=\"16\"\n",
    "mass_produced=self.masses(pid1)+self.masses(pid2)+self.masses(pid3)\n",
    "br_nu_bnu_nu=f\"(GF**2*mass**5/(192*np.pi**3))*(hnl.vcoupling[str(abs(int(pid1))-1)]**2+hnl.vcoupling[str(abs(int(pid2))-1)]**2+hnl.vcoupling[str(abs(int(pid3))-1)]**2)\"\n",
    "write_m_br_file(br_nu_bnu_nu,mass_produced,filename=f\"model/br/width_3body_lep_sum_nua_bnub_nub.txt\")\n",
    "\n",
    "print('3 body N->sum_{alpha beta} nu_alpha bar{nu}_beta nu_beta done...')\n",
    "\n",
    "\n",
    "#for N->l_{\\alpha \\neq \\beta}^- l_beta^+ nu_beta\n",
    "xl1=np.max([self.masses(pid1),self.masses(pid2)])\n",
    "br_la_lb_nub=f\"(GF**2*mass**5/(192*np.pi**3))*hnl.vcoupling[str(abs(int(pid1)))]**2*(1-8*xl1**2+8*xl1**6-xl1**8-12*xl1**4*np.log(xl1**2))\"\n",
    "for a in range(len(leptons)):\n",
    "    for b in range(len(leptons)):\n",
    "        if a!=b:\n",
    "            pid1=leptons[a]\n",
    "            pid2=leptons[b]\n",
    "            pid2=\"-\"+pid2\n",
    "            pid3=nu_alpha[b]\n",
    "            mass_produced=self.masses(pid1)+self.masses(pid2)+self.masses(pid3)\n",
    "            write_m_br_file(br_la_lb_nub,mass_produced,filename=f\"model/br/width_3body_lep_la_lb_nub_{pid1}_{pid2}_{pid3}.txt\")\n",
    "print('3 body N->l_{\\alpha \\neq \\beta}^- l_beta^+ nu_beta done...')\n",
    "\n",
    "\n",
    "\n",
    "\n",
    "#for N->l_beta^+ l_beta^- nu_alpha \n",
    "import sympy as smp\n",
    "import mpmath as mp\n",
    "def analyze_pid1_pid3(pid1,pid3):\n",
    "    if pid1 in [\"11\",\"-11\"]:\n",
    "        beta=1\n",
    "    if pid1 in [\"13\",\"-13\"]:\n",
    "        beta=2\n",
    "    if pid1 in [\"15\",\"-15\"]:\n",
    "        beta=3\n",
    "    if pid3 in [\"12\",\"-12\"]:\n",
    "        alpha=1\n",
    "    if pid3 in [\"14\",\"-14\"]:\n",
    "        alpha=2\n",
    "    if pid3 in [\"16\",\"-16\"]:\n",
    "        alpha=3\n",
    "    return(alpha,beta)\n",
    "def calc_br_lb_lb_nua(pid1,pid2,pid3):\n",
    "    delta=lambda l1,l2: 1 if l1==l2 else 0\n",
    "    xl=f\"(self.masses(pid1)/mass)\"\n",
    "    xw=f\"(0.231)\" #xw=sin(theta_w)^2\n",
    "    L=f\"np.log((1-3*{xl}**2-(1-{xl}**2)*np.sqrt(1-4*{xl}**2))/({xl}**2*(1+np.sqrt(1-4*{xl}**2))))\"\n",
    "    C1=f\"(1/4)*(1-4*{xw}+8*{xw}**2)\"\n",
    "    C2=f\"(1/2)*{xw}*(2*{xw}-1)\"\n",
    "    C3=f\"(1/4)*(1+4*{xw}+8*{xw}**2)\"\n",
    "    C4=f\"(1/2)*{xw}*(2*{xw}+1)\"\n",
    "    alpha,beta=analyze_pid1_pid3(pid1,pid3)\n",
    "    coupling=f\"hnl.vcoupling[str(abs(int(pid3))-1)]\"\n",
    "    br_lb_lb_nua=f\"(GF**2*mass**5/(192*np.pi**3))*coupling**2*(({C1}*(1-{delta(alpha,beta)})+{C3}*{delta(alpha,beta)})*((1-14*{xl}**2-2*{xl}**4-12*{xl}**6)*np.sqrt(1-4*{xl}**2)+12*{xl}**4*({xl}**4-1)*{L})+4*({C2}*(1-{delta(alpha,beta)})+{C4}*{delta(alpha,beta)})*({xl}**2*(2+10*{xl}**2-12*{xl}**4)*np.sqrt(1-4*{xl}**2)+6*{xl}**4*(1-2*{xl}**2+2*{xl}**4)*{L}))\"\n",
    "    return(br_lb_lb_nua)\n",
    "for b in range(len(leptons)):\n",
    "    for a in range(len(nu_alpha)):\n",
    "        pid1=leptons[b]\n",
    "        pid1=\"-\"+pid1\n",
    "        pid2=leptons[b]\n",
    "        pid3=nu_alpha[a]\n",
    "        mass_produced=self.masses(pid1)+self.masses(pid2)+self.masses(pid3)\n",
    "        br_lb_lb_nua=calc_br_lb_lb_nua(pid1,pid2,pid3)\n",
    "        write_m_br_file(br_lb_lb_nua,mass_produced,filename=f\"model/br/width_3body_lep_lb_lb_nua_{pid1}_{pid2}_{pid3}.txt\")\n",
    "print('3 body N->l_beta^+ l_beta^- nu_alpha done...')\n",
    "#for N->l_beta^+ l_beta^- nu_alpha using daniels formula\n",
    "lamda=lambda a,b,c: a**2+b**2+c**2-2*a*b-2*b*c-2*c*a\n",
    "I1_integrand=lambda s,x,y,z: (12/s)*(s-x**2-y**2)*(1+z**2-s)*np.sqrt(lamda(s,x**2,y**2))*np.sqrt(lamda(1,s,z**2))\n",
    "I2_integrand=lambda s,x,y,z: (24*y*z/s)*(1+x**2-s)*np.sqrt(lamda(s,y**2,z**2))*np.sqrt(lamda(1,s,x**2))\n",
    "from scipy.integrate import quad\n",
    "def calc_br_lb_lb_nua(pid1,pid2,pid3):\n",
    "    delta=lambda l1,l2: 1 if l1==l2 else 0\n",
    "    if pid2==\"11\":\n",
    "        l2=1\n",
    "    if pid2==\"13\":\n",
    "        l2=2\n",
    "    if pid2==\"15\":\n",
    "        l2=3\n",
    "    if pid3==\"12\":\n",
    "        l1=1\n",
    "    if pid3==\"14\":\n",
    "        l1=2\n",
    "    if pid3==\"16\":\n",
    "        l1=3\n",
    "    gL=f\"(-(1/2)+xw)\"\n",
    "    gR=f\"xw\"\n",
    "    x=f\"0\"\n",
    "    y=f\"(self.masses(pid2)/mass)\"\n",
    "    z=y\n",
    "    I1=f\"quad(I1_integrand,({x}+{y})**2,(1-{z})**2,args=({x},{y},{z}))[0]\"\n",
    "    I2=f\"quad(I2_integrand,({y}+{z})**2,(1-{x})**2,args=({x},{y},{z}))[0]\"\n",
    "    coupling=f\"hnl.vcoupling[str(abs(int(pid3))-1)]\"\n",
    "    br_lb_lb_nua=f\"(coupling**2*GF**2*mass**5/(96*np.pi**3))*(({gL}*{gR}+{delta(l1,l2)}*{gR})*{I2}+({gL}**2+{gR}**2+{delta(l1,l2)}*(1+2*{gL}))*{I1})\"\n",
    "    return(br_lb_lb_nua)\n",
    "for b in range(len(leptons)):\n",
    "    for a in range(len(nu_alpha)):\n",
    "        pid1=leptons[b]\n",
    "        pid1=\"-\"+pid1\n",
    "        pid2=leptons[b]\n",
    "        pid3=nu_alpha[a]\n",
    "        mass_produced=self.masses(pid1)+self.masses(pid2)+self.masses(pid3)\n",
    "        br_lb_lb_nua=calc_br_lb_lb_nua(pid1,pid2,pid3)\n",
    "        write_m_br_file(br_lb_lb_nua,mass_produced,filename=f\"model/br/width_3body_lep_lb_lb_nua_{pid1}_{pid2}_{pid3}.txt\")\n",
    "print('3 body N->l_beta^+ l_beta^- nu_alpha done...')\n",
    "\n",
    "\n",
    "\n",
    "#HNL decays 3 body (quarks)\n",
    "#for N->U bar{D} l_alpha^-\n",
    "#pid1=U; pid2=bar{D}; pid3=l_alpha^-\n",
    "from scipy.integrate import quad\n",
    "#pid1=\"2\"\n",
    "#pid2=\"1\"\n",
    "#pid3=\"11\"\n",
    "quarks_u_symbols=[\"u\",\"c\",\"t\"]\n",
    "quarks_u=        [\"2\",\"4\"]\n",
    "quarks_d_symbols=[\"d\",\"s\",\"b\"]      #skipped top quark since it is very heavy\n",
    "quarks_d=        [\"1\",\"3\",\"5\"]\n",
    "pid1=\"211\"\n",
    "br_H_l=f\"(coupling**2/(16*np.pi))*GF**2*hnl.VH(pid1)**2*hnl.fH(pid1)**2*mass**3*((1-self.masses(pid2)**2/mass**2)**2-(self.masses(pid1)**2/mass**2)*(1+self.masses(pid2)**2/mass**2))*np.sqrt((1-(self.masses(pid1)-self.masses(pid2))**2/mass**2)*(1-(self.masses(pid1)+self.masses(pid2))**2/mass**2))\"\n",
    "I_integrand=lambda s,x,y,z: (12/s)*(s-x**2-y**2)*(1+z**2-s)*np.sqrt(lamda(s,x**2,y**2))*np.sqrt(lamda(1,s,z**2))\n",
    "lamda=lambda a,b,c: a**2+b**2+c**2-2*a*b-2*b*c-2*c*a\n",
    "def calc_br_u_bd_l(pid1,pid2,pid3):\n",
    "    xd=f\"(self.masses(pid2)/mass)\"\n",
    "    xu=f\"(self.masses(pid1)/mass)\"\n",
    "    xl=f\"(self.masses(pid3)/mass)\"\n",
    "    x=xl\n",
    "    y=xu\n",
    "    z=xd\n",
    "    I=f\"quad(I_integrand,({x}+{y})**2,(1-{z})**2,args=({x},{y},{z}))[0]\"\n",
    "    coupling=f\"hnl.vcoupling[str(abs(int(pid3)))]\"\n",
    "    br_u_d_l=f\"(hnl.VHHp(pid1,pid2)**2*GF**2*mass**5*coupling**2/(32*np.pi**3))*{I}\"\n",
    "    return(br_u_d_l)\n",
    "\n",
    "for u in range(len(quarks_u)):\n",
    "    for d in range(len(quarks_d)):\n",
    "        for a in range(len(leptons)):\n",
    "            pid1=quarks_u[u]\n",
    "            pid2=quarks_d[d]\n",
    "            pid3=leptons[a]\n",
    "            mass_produced=self.masses(pid1)+self.masses(pid2)+self.masses(pid3)\n",
    "            br_u_d_l=calc_br_u_bd_l(pid1,pid2,pid3)\n",
    "            write_m_br_file(br_u_d_l,mass_produced,filename=f\"model/br/width_3body_inc_u_d_l_{pid1}_{pid2}_{pid3}.txt\",start_mass=end_mass,end_mass=10)\n",
    "print('3 body N->U bar{D} l_alpha^- done...')\n",
    "\n",
    "#HNL decays 3 body (quarks)\n",
    "#inclusive decays\n",
    "#for N-> q \\bar{q} nu_l\n",
    "nu_alpha=[\"12\",\"14\",\"16\"]\n",
    "GF=1.166378*10**(-5)\n",
    "lamda=lambda a,b,c: a**2+b**2+c**2-2*a*b-2*b*c-2*c*a\n",
    "x=0\n",
    "xq=f\"(self.masses(pid1)/mass)\"\n",
    "y=xq\n",
    "z=xq\n",
    "xw=f\"(0.231)\" #xw=sin(theta_w)^2\n",
    "I1_integrand=lambda s,x,y,z: (12/s)*(s-x**2-y**2)*(1+z**2-s)*np.sqrt(lamda(s,x**2,y**2))*np.sqrt(lamda(1,s,z**2))\n",
    "I2_integrand=lambda s,x,y,z: (24*y*z/s)*(1+x**2-s)*np.sqrt(lamda(s,y**2,z**2))*np.sqrt(lamda(1,s,x**2))\n",
    "\n",
    "def calc_br_q_bq_nu(pid1,pid3):\n",
    "    if pid1 in quarks_u:\n",
    "        gL=f\"(1/2-(2/3)*{xw})\"\n",
    "        gR=f\"(-(2/3)*{xw})\" #article had 2 g_R^U so I assumed one was supposed to have a D\n",
    "    if pid1 in quarks_d:\n",
    "        gL=f\"(-1/2+(1/3)*{xw})\"\n",
    "        gR=f\"((1/3)*{xw})\"\n",
    "    I1=f\"quad(I1_integrand,({x}+{y})**2,(1-{z})**2,args=({x},{y},{z}))[0]\"\n",
    "    I2=f\"quad(I2_integrand,({y}+{z})**2,(1-{x})**2,args=({x},{y},{z}))[0]\"\n",
    "    coupling=f\"hnl.vcoupling[str(abs(int(pid3))-1)]\"\n",
    "    br_q_bq_nu=f\"(coupling**2*GF**2*mass**5/(32*np.pi**3))*({gL}*{gR}*{I2}+({gL}**2+{gR}**2)*{I1})\"\n",
    "    return(br_q_bq_nu)\n",
    "\n",
    "pid1=\"111\"\n",
    "br_pi0_nu=f\"(coupling**2/(32*np.pi))*GF**2*hnl.fH(pid1)**2*mass**3*(1-self.masses(pid1)**2/mass**2)**2\"\n",
    "\n",
    "for q in range(len(quarks_u+quarks_d)):\n",
    "    pid1=(quarks_u+quarks_d)[q]\n",
    "    pid2=\"-\"+pid1\n",
    "    for a in range(len(nu_alpha)):\n",
    "        pid3=nu_alpha[a]\n",
    "        mass_produced=self.masses(pid1)+self.masses(pid2)+self.masses(pid3)\n",
    "        br_q_bq_nu=calc_br_q_bq_nu(pid1,pid3)\n",
    "        write_m_br_file(br_q_bq_nu,mass_produced,filename=f\"model/br/width_3body_inc_u_bu_l_{pid1}_{pid2}_{pid3}.txt\",start_mass=end_mass,end_mass=10)\n",
    "print('3 body N-> q \\bar{q} nu_alpha done...')\n",
    "\n",
    "#exclusive hadronic channels\n",
    "#for N->pi^0 nu_alpha\n",
    "leptons=[\"11\",\"13\",\"15\"]\n",
    "nu_alpha=[\"12\",\"14\",\"16\"]\n",
    "pid1=\"111\"\n",
    "mass_produced=self.masses(pid1)\n",
    "br_pi0_nu=f\"(coupling**2/(32*np.pi))*GF**2*hnl.fH(pid1)**2*mass**3*(1-self.masses(pid1)**2/mass**2)**2\"\n",
    "for n in range(len(nu_alpha)):\n",
    "    pid2=nu_alpha[n]\n",
    "    write_m_br_file(br_pi0_nu,mass_produced,filename=f\"model/br/width_2body_ex_pi0_{pid2}.txt\",start_mass=start_mass,end_mass=end_mass)\n",
    "print('N->pi^0 nu_alpha done...')\n",
    "\n",
    "#for N->eta nu_alpha\n",
    "pid_start=\"111\"\n",
    "pid_end=\"331\"\n",
    "start_mass=self.masses(pid_start)\n",
    "end_mass=self.masses(pid_end)\n",
    "pid1=\"221\"\n",
    "br_eta_nu=f\"(coupling**2/(32*np.pi))*GF**2*hnl.fH(pid1)**2*mass**3*(1-self.masses(pid1)**2/mass**2)**2\"\n",
    "mass_produced=self.masses(pid1)\n",
    "for n in range(len(nu_alpha)):\n",
    "    pid2=nu_alpha[n]\n",
    "    write_m_br_file(br_eta_nu,mass_produced,filename=f\"model/br/width_2body_ex_eta_{pid2}.txt\",start_mass=start_mass,end_mass=end_mass)\n",
    "print('N->eta nu_alpha done...')\n",
    "\n",
    "#for N->eta' nu_alpha\n",
    "pid1=\"331\"\n",
    "br_etap_nu=f\"(coupling**2/(32*np.pi))*GF**2*hnl.fH(pid1)**2*mass**3*(1-self.masses(pid1)**2/mass**2)**2\"\n",
    "mass_produced=self.masses(pid1)\n",
    "for n in range(len(nu_alpha)):\n",
    "    pid2=nu_alpha[n]\n",
    "    write_m_br_file(br_etap_nu,mass_produced,filename=f\"model/br/width_2body_ex_etap_{pid2}.txt\",start_mass=start_mass,end_mass=end_mass)\n",
    "print(\"N->eta' nu_alpha done...\")\n",
    "\n",
    "#for N->rho+ l_alpha-\n",
    "grho=0.102\n",
    "pid1=\"213\"\n",
    "br_rho_l=f\"(coupling**2/(8*np.pi))*(grho**2/self.masses(pid1)**2)*GF**2*hnl.VH(pid1)**2*mass**3*((1-self.masses(pid2)**2/mass**2)**2+(self.masses(pid1)**2/mass**2)*(1+(self.masses(pid2)**2-2*self.masses(pid1)**2)/mass**2))*np.sqrt((1-(self.masses(pid1)-self.masses(pid2))**2/mass**2)*(1-(self.masses(pid1)+self.masses(pid2))**2/mass**2))\"\n",
    "for n in range(len(leptons)):\n",
    "    pid2=leptons[n]\n",
    "    mass_produced=self.masses(pid1)+self.masses(pid2)\n",
    "    write_m_br_file(br_rho_l,mass_produced,filename=f\"model/br/width_2body_ex_rho_{pid2}.txt\",start_mass=start_mass,end_mass=end_mass)\n",
    "#charge conjugate processes\n",
    "pid1=\"-213\"\n",
    "for n in range(len(leptons)):\n",
    "    pid2=leptons[n]\n",
    "    write_m_br_file(br_rho_l,mass_produced,filename=f\"model/br/width_2body_ex_rho_{pid2}.txt\",start_mass=start_mass,end_mass=end_mass)\n",
    "print('N->rho+ l_alpha- done...')\n",
    "\n",
    "#for N->rho0 nu_alpha\n",
    "pid1=\"113\"\n",
    "pid2=\"11\"\n",
    "br_rho0_nu=f\"(coupling**2/(16*np.pi))*(grho**2/self.masses(pid1)**2)*GF**2*mass**3*(1+2*self.masses(pid1)**2/mass**2)*(1-self.masses(pid1)**2/mass**2)**2\"\n",
    "mass_produced=self.masses(pid1)\n",
    "for n in range(len(nu_alpha)):\n",
    "    pid2=nu_alpha[n]\n",
    "    write_m_br_file(br_rho0_nu,mass_produced,filename=f\"model/br/width_2body_ex_rho0_{pid2}.txt\",start_mass=start_mass,end_mass=end_mass)\n",
    "print('N->rho0 nu_alpha done...')\n",
    "\n",
    "\n",
    "\n",
    "GF=1.166378*10**(-5)\n",
    "leptons=[\"11\",\"13\",\"15\"]\n",
    "nu_alpha=[\"12\",\"14\",\"16\"]\n",
    "pid_start=\"111\"\n",
    "pid_end=\"331\"\n",
    "self=model\n",
    "start_mass=self.masses(pid_start)\n",
    "end_mass=self.masses(pid_end)\n",
    "\n",
    "#mass=1\n",
    "\n",
    "#pseudoscalar and vector decays\n",
    "lamda=lambda a,b,c: a**2+b**2+c**2-2*a*b-2*b*c-2*c*a\n",
    "#for N->P+ l- \n",
    "charged_pseudo_symb=[\"K+\",\"K-\"]\n",
    "charged_pseudo=[\"321\",\"-321\"]\n",
    "pid1=\"321\"\n",
    "pid2=\"11\"\n",
    "FP=lambda x,y: np.sqrt(lamda(1,x**2,y**2))*((1+x**2)*(1+x**2-y**2)-4*x**2)\n",
    "yP=self.masses(pid1)\n",
    "yl=self.masses(pid2)\n",
    "coupling=f\"hnl.vcoupling[str(abs(int(pid2)))]\"\n",
    "br_P_l=f\"({coupling}**2*GF**2*mass**3*hnl.fH(pid1)**2*hnl.VH(pid1)**2/(16*np.pi))*{FP(yl,yP)}\"\n",
    "for n in range(len(charged_pseudo)):\n",
    "    pid1=charged_pseudo[n]\n",
    "    for m in range(len(leptons)):\n",
    "        if int(pid1)<0:\n",
    "            pid2=\"-\"+leptons[m]\n",
    "        else:\n",
    "            pid2=leptons[m]\n",
    "        mass_produced=self.masses(pid1)+self.masses(pid2)\n",
    "        write_m_br_file(br_P_l,mass_produced,filename=f\"model/br/width_2body_ex_P_{pid1}_{pid2}.txt\",start_mass=start_mass,end_mass=end_mass)\n",
    "print(\"N->P+ l- done...\")\n",
    "\n",
    "#for N->P0 nu\n",
    "neutral_pseudo_symb=[\"K0\",\"\\bar{K}0\"]\n",
    "neutral_pseudo=[\"311\",\"-311\"]\n",
    "#pid1=\"311\"\n",
    "#pid2=\"12\"\n",
    "coupling=f\"hnl.vcoupling[str(abs(int(pid2))-1)]\"\n",
    "br_P0_nu=f\"({coupling}**2*GF**2*mass**3*hnl.fH(pid1)**2/(64*np.pi))*(1-{yP}**2)**2\"\n",
    "for n in range(len(neutral_pseudo)):\n",
    "    pid1=neutral_pseudo[n]\n",
    "    for m in range(len(nu_alpha)):\n",
    "        if int(pid1)<0:\n",
    "            pid2=\"-\"+nu_alpha[m]\n",
    "        else:\n",
    "            pid2=nu_alpha[m]\n",
    "        mass_produced=self.masses(pid1)+self.masses(pid2)\n",
    "        write_m_br_file(br_P0_nu,mass_produced,filename=f\"model/br/width_2body_ex_P0_{pid1}_{pid2}.txt\",start_mass=start_mass,end_mass=end_mass)\n",
    "print(\"N->P0 nu done...\")\n",
    "\n",
    "#for N->V+ l-\n",
    "charged_vec_symb=[\"K*+\",\"K*-\"]\n",
    "charged_vec=[\"323\",\"-323\"]\n",
    "#pid1=\"323\"\n",
    "#pid2=\"11\"\n",
    "FV=lambda x,y: np.sqrt(lamda(1,x**2,y**2))*((1-x**2)**2+(1+x**2)*y**2-2*y**4)\n",
    "yV=self.masses(pid1)\n",
    "coupling=f\"hnl.vcoupling[str(abs(int(pid2)))]\"\n",
    "br_V_l=f\"({coupling}**2*GF**2*mass**3*hnl.fH(pid1)**2*hnl.VH(pid1)**2/(16*np.pi))*{FV(yl,yV)}\"\n",
    "for n in range(len(charged_vec)):\n",
    "    pid1=charged_vec[n]\n",
    "    for m in range(len(leptons)):\n",
    "        if int(pid1)<0:\n",
    "            pid2=\"-\"+leptons[m]\n",
    "        else:\n",
    "            pid2=leptons[m]\n",
    "        mass_produced=self.masses(pid1)+self.masses(pid2)\n",
    "        write_m_br_file(br_V_l,mass_produced,filename=f\"model/br/width_2body_ex_V_{pid1}_{pid2}.txt\",start_mass=start_mass,end_mass=end_mass)\n",
    "print(\"N->V+ l- done...\")\n",
    "\n",
    "#for N->V0 nu\n",
    "neutral_vec_symb=[\"K*0\",\"\\bar{K}*0\"]\n",
    "neutral_vec=[\"313\",\"-313\"]\n",
    "#pid1=\"313\"\n",
    "#pid2=\"12\"\n",
    "xw=f\"0.231\"\n",
    "coupling=f\"hnl.vcoupling[str(abs(int(pid2))-1)]\"\n",
    "kv=1 #just a dummy value to get code to work\n",
    "br_V0_nu=f\"({coupling}**2*GF**2*mass**3*hnl.fH(pid1)**2*{kv}**2/(2*np.pi))*(1-{yV}**2)**2*(1+2*{yV}**2)\"\n",
    "for n in range(len(neutral_vec)):\n",
    "    pid1=neutral_vec[n]\n",
    "    if abs(int(pid1))==313:\n",
    "        kv=f\"(-1/4)+xw/3\"\n",
    "    for m in range(len(nu_alpha)):\n",
    "        if int(pid1)<0:\n",
    "            pid2=\"-\"+nu_alpha[m]\n",
    "        else:\n",
    "            pid2=nu_alpha[m]\n",
    "        mass_produced=self.masses(pid1)+self.masses(pid2)\n",
    "        write_m_br_file(br_V0_nu,mass_produced,filename=f\"model/br/width_2body_ex_V0_{pid1}_{pid2}.txt\",start_mass=start_mass,end_mass=end_mass)\n",
    "print(\"N->V0 nu done...\")"
   ]
  },
  {
   "cell_type": "code",
   "execution_count": 19,
   "metadata": {},
   "outputs": [
    {
     "data": {
      "image/png": "[encoded data removed]",
      "text/plain": [
       "<Figure size 432x288 with 1 Axes>"
      ]
     },
     "metadata": {
      "needs_background": "light"
     },
     "output_type": "display_data"
    }
   ],
   "source": [
    "#reads in br files for HNL decays\n",
    "import pandas as pd\n",
    "from matplotlib import pyplot as plt\n",
    "\n",
    "def read_m_br(characteristic):\n",
    "    br_files=os.listdir(\"model/br/\")\n",
    "    width=[]\n",
    "    counter=0\n",
    "    for n in range(len(br_files)):\n",
    "        if br_files[n][0:len(characteristic)]==characteristic:\n",
    "            counter+=1\n",
    "            file_name=br_files[n]\n",
    "            m_width_df_temp = pd.read_csv(f\"model/br/{file_name}\",delimiter='       ',engine='python',names=['mass','width'],index_col=False)\n",
    "            #mass_temp=m_width_df_temp['mass'].tolist()\n",
    "            if counter==1:\n",
    "                width=np.array(m_width_df_temp['width'].tolist())\n",
    "            if counter!=1:\n",
    "                width_temp=np.array(m_width_df_temp['width'].tolist())\n",
    "                width+= width_temp\n",
    "            #mass=mass+mass_temp\n",
    "\n",
    "    mass=np.array(m_width_df_temp['mass'].tolist())\n",
    "    return (mass,width,counter)\n",
    "\n",
    "characteristic=\"width_3body_sum\"\n",
    "mass,width,counter=read_m_br(characteristic)\n",
    "plt.plot(mass,width)\n",
    "plt.xscale(\"log\")\n",
    "plt.yscale(\"log\")\n",
    "plt.show()\n",
    "\n"
   ]
  },
  {
   "cell_type": "code",
   "execution_count": 51,
   "metadata": {},
   "outputs": [
    {
     "name": "stdout",
     "output_type": "stream",
     "text": [
      "[1, 2]\n"
     ]
    }
   ],
   "source": [
    "bla=[]\n",
    "ey=[1,2]\n",
    "bla=bla+ey\n",
    "print(bla)"
   ]
  },
  {
   "cell_type": "code",
   "execution_count": null,
   "metadata": {},
   "outputs": [
    {
     "data": {
      "text/plain": [
       "[<matplotlib.lines.Line2D at 0x13f372290>]"
      ]
     },
     "execution_count": 111,
     "metadata": {},
     "output_type": "execute_result"
    },
    {
     "data": {
      "image/png": "[encoded data removed]",
      "text/plain": [
       "<Figure size 432x288 with 1 Axes>"
      ]
     },
     "metadata": {
      "needs_background": "light"
     },
     "output_type": "display_data"
    }
   ],
   "source": [
    "file_name=\"Nue-e-e.csv\"\n",
    "m_width_df_temp = pd.read_csv(f\"model/br/{file_name}\",delimiter=' ',engine='python',names=['mass','width'],index_col=False)\n",
    "df=m_width_df_temp\n",
    "mass_daniel=df['mass'].tolist()\n",
    "width_daniel=df['width'].tolist()\n",
    "df['width']\n",
    "plt.plot(mass_daniel,width_daniel)"
   ]
  },
  {
   "cell_type": "code",
   "execution_count": null,
   "metadata": {},
   "outputs": [
    {
     "data": {
      "image/png": "[encoded data removed]",
      "text/plain": [
       "<Figure size 432x288 with 1 Axes>"
      ]
     },
     "metadata": {
      "needs_background": "light"
     },
     "output_type": "display_data"
    }
   ],
   "source": [
    "file_name=\"width_3body_lb_lb_nua_-11_11_12.txt\"\n",
    "m_width_df_temp = pd.read_csv(f\"model/br/{file_name}\",delimiter='       ',engine='python',names=['mass','width'],index_col=False)\n",
    "df=m_width_df_temp\n",
    "mass=df['mass'].tolist()\n",
    "width=df['width'].tolist()\n",
    "plt.plot(mass,width)\n",
    "plt.plot(mass_daniel,width_daniel)\n",
    "plt.xlim(0,10)\n",
    "plt.ylim(0,300*10**-11)\n",
    "plt.show()"
   ]
  },
  {
   "cell_type": "code",
   "execution_count": null,
   "metadata": {},
   "outputs": [
    {
     "name": "stdout",
     "output_type": "stream",
     "text": [
      "1.6094379124341003\n",
      "-9.28008169108590530371929810223e-17\n"
     ]
    }
   ],
   "source": [
    "import numpy as np\n",
    "import sympy as smp\n",
    "import mpmath as mp\n",
    "print(smp.log(5+10**-18).evalf(30)-smp.log(5).evalf(30))\n",
    "#import mpmath\n",
    "mp.mp.dps = 50\n",
    "#import mpmath as mp\n",
    "print(np.log(5,np.set_printoptions(precision=70)))\n",
    "print(smp.log(5+10**-18).evalf(30)-smp.log(5).evalf(30))\n"
   ]
  },
  {
   "cell_type": "code",
   "execution_count": null,
   "metadata": {},
   "outputs": [],
   "source": [
    "self=model\n",
    "coupling=1\n",
    "GF=1.166378*10**(-5)\n",
    "xw=0.231"
   ]
  },
  {
   "cell_type": "code",
   "execution_count": null,
   "metadata": {},
   "outputs": [
    {
     "name": "stderr",
     "output_type": "stream",
     "text": [
      "/var/folders/7n/xcfzp7ld2x3cgybk310trqrw0000gn/T/ipykernel_1467/1998857995.py:5: ParserWarning: Length of header or names does not match length of data. This leads to a loss of data with index_col=False.\n",
      "  m_width_df_tot = pd.read_csv(f\"model/br/width_3body_la_lb_nub_11_-13_14.txt\",delimiter='       ',engine='python',names=['mass'],index_col=False)\n",
      "/var/folders/7n/xcfzp7ld2x3cgybk310trqrw0000gn/T/ipykernel_1467/1998857995.py:14: ParserWarning: Length of header or names does not match length of data. This leads to a loss of data with index_col=False.\n",
      "  m_width_df_visible = pd.read_csv(f\"model/br/width_3body_la_lb_nub_11_-13_14.txt\",delimiter='       ',engine='python',names=['mass'],index_col=False)\n"
     ]
    },
    {
     "name": "stdout",
     "output_type": "stream",
     "text": [
      "     mass         width\n",
      "0    0.01  0.000000e+00\n",
      "1    0.02  0.000000e+00\n",
      "2    0.03  0.000000e+00\n",
      "3    0.04  0.000000e+00\n",
      "4    0.05  0.000000e+00\n",
      "..    ...           ...\n",
      "994  9.95  2.228657e-09\n",
      "995  9.96  2.239879e-09\n",
      "996  9.97  2.251146e-09\n",
      "997  9.98  2.262458e-09\n",
      "998  9.99  2.273816e-09\n",
      "\n",
      "[999 rows x 2 columns]\n"
     ]
    }
   ],
   "source": [
    "import pandas as pd\n",
    "#data.columns=['mass','width']\n",
    "#take a dummy file, just to read in a dataframe with one column of mass\n",
    "#retrieving dataframe with [mass, width1,width2,...] i.e., all widths\n",
    "m_width_df_tot = pd.read_csv(f\"model/br/width_3body_la_lb_nub_11_-13_14.txt\",delimiter='       ',engine='python',names=['mass'],index_col=False)\n",
    "br_files=os.listdir(\"model/br/\")\n",
    "for n in range(len(br_files)):\n",
    "    if br_files[n][0:5]=='width':\n",
    "        file_name=br_files[n]\n",
    "        m_width_df_temp = pd.read_csv(f\"model/br/{file_name}\",delimiter='       ',engine='python',names=['mass','width'],index_col=False)\n",
    "        m_width_df_tot[file_name]=m_width_df_temp['width']\n",
    "\n",
    "#retrieving dataframe with [mass, widthvis1,widthvis2,...] i.e., all visible widths\n",
    "m_width_df_visible = pd.read_csv(f\"model/br/width_3body_la_lb_nub_11_-13_14.txt\",delimiter='       ',engine='python',names=['mass'],index_col=False)\n",
    "for n in range(len(br_files)):\n",
    "    if br_files[n][0:15]!=\"width_3body_sum\":\n",
    "        file_name=br_files[n]\n",
    "        m_width_df_temp = pd.read_csv(f\"model/br/{file_name}\",delimiter='       ',engine='python',names=['mass','width'],index_col=False)\n",
    "        m_width_df_visible[file_name]=m_width_df_temp['width']\n",
    "\n",
    "m_width_df_invisible=pd.read_csv(f\"model/br/width_3body_sum_nua_bnub_nub.txt\",delimiter='       ',engine='python',names=['mass','width'],index_col=False)\n",
    "print(m_width_df_invisible)\n"
   ]
  },
  {
   "cell_type": "code",
   "execution_count": null,
   "metadata": {},
   "outputs": [
    {
     "data": {
      "image/png": "[encoded data removed]",
      "text/plain": [
       "<Figure size 432x288 with 1 Axes>"
      ]
     },
     "metadata": {
      "needs_background": "light"
     },
     "output_type": "display_data"
    },
    {
     "data": {
      "image/png": "[encoded data removed]",
      "text/plain": [
       "<Figure size 432x288 with 1 Axes>"
      ]
     },
     "metadata": {
      "needs_background": "light"
     },
     "output_type": "display_data"
    },
    {
     "data": {
      "image/png": "[encoded data removed]",
      "text/plain": [
       "<Figure size 432x288 with 1 Axes>"
      ]
     },
     "metadata": {
      "needs_background": "light"
     },
     "output_type": "display_data"
    },
    {
     "data": {
      "image/png": "[encoded data removed]",
      "text/plain": [
       "<Figure size 432x288 with 1 Axes>"
      ]
     },
     "metadata": {
      "needs_background": "light"
     },
     "output_type": "display_data"
    }
   ],
   "source": [
    "from matplotlib import pyplot as plt\n",
    "import numpy as np\n",
    "#for finding the total width\n",
    "df=m_width_df_tot\n",
    "mass=df.iloc[:,0].tolist()\n",
    "#width_tot=[]\n",
    "n_column=np.array(df.iloc[:,1].tolist())\n",
    "#for n in range(2,len(df.columns)+1):\n",
    "#first_column=np.array(df.iloc[:,1].tolist())\n",
    "#n_column=np.array(df.iloc[:,1].tolist())\n",
    "df_width_columns=df.iloc[:,1:len(df)]\n",
    "df_width_columns[df_width_columns<0]=0\n",
    "#print(df_width_columns.sum(axis=1))\n",
    "width_tot=np.array(df_width_columns.sum(axis=1).tolist())\n",
    "\n",
    "#for finding the total visible width\n",
    "df=m_width_df_visible\n",
    "df_width_columns_vis=df.iloc[:,1:len(df)]\n",
    "df_width_columns_vis[df_width_columns_vis<0]=0\n",
    "width_tot_vis=np.array(df_width_columns_vis.sum(axis=1).tolist())\n",
    "\n",
    "#for finding the total invisible width\n",
    "width_tot_invis=m_width_df_invisible\n",
    "\n",
    "\n",
    "SecToGev=1./(6.582122*pow(10.,-25.))\n",
    "#plt.xscale(\"log\")\n",
    "#plt.yscale(\"log\")\n",
    "plt.xlabel(\"MN(GeV)\")\n",
    "plt.ylabel(r\"$c \\tau_{N}$\")\n",
    "plt.plot(mass,(1/(width_tot*10**-7*SecToGev))*3*10**8)\n",
    "plt.xscale(\"log\")\n",
    "plt.yscale(\"log\")\n",
    "plt.ylim(1,10**14)\n",
    "plt.xlim(.1,5)\n",
    "plt.show()\n",
    "\n",
    "plt.xlabel(\"MN(GeV)\")\n",
    "plt.ylabel(r\"$\\Gamma_{tot}$\")\n",
    "plt.plot(mass,width_tot)\n",
    "plt.xscale(\"log\")\n",
    "plt.yscale(\"log\")\n",
    "plt.ylim(1,10**14)\n",
    "plt.xlim(.1,5)\n",
    "plt.show()\n",
    "\n",
    "plt.xlabel(\"MN(GeV)\")\n",
    "plt.ylabel(r\"$\\Gamma_{visible}$\")\n",
    "plt.plot(mass,width_tot_vis)\n",
    "plt.ylim(0,3.5*10**-8)\n",
    "plt.xlim(.1,10)\n",
    "plt.show()\n",
    "\n",
    "plt.xlabel(\"MN(GeV)\")\n",
    "plt.ylabel(r\"$\\Gamma_{invisible}$\")\n",
    "plt.plot(mass,width_tot_invis)\n",
    "plt.ylim(0,3.5*10**-8)\n",
    "plt.xlim(.01,10)\n",
    "plt.show()\n"
   ]
  },
  {
   "cell_type": "code",
   "execution_count": null,
   "metadata": {},
   "outputs": [
    {
     "ename": "FileNotFoundError",
     "evalue": "[Errno 2] No such file or directory: 'model/br/width_etap_12.txt'",
     "output_type": "error",
     "traceback": [
      "\u001b[0;31m---------------------------------------------------------------------------\u001b[0m",
      "\u001b[0;31mFileNotFoundError\u001b[0m                         Traceback (most recent call last)",
      "\u001b[1;32m/Users/alechewitt/Desktop/Git_felix_2/FORESEE/Models/HNL/HNL.ipynb Cell 78\u001b[0m in \u001b[0;36m<cell line: 1>\u001b[0;34m()\u001b[0m\n\u001b[0;32m----> <a href='vscode-notebook-cell:/Users/alechewitt/Desktop/Git_felix_2/FORESEE/Models/HNL/HNL.ipynb#Y140sZmlsZQ%3D%3D?line=0'>1</a>\u001b[0m m_width_df_tot \u001b[39m=\u001b[39m pd\u001b[39m.\u001b[39;49mread_csv(\u001b[39mf\u001b[39;49m\u001b[39m\"\u001b[39;49m\u001b[39mmodel/br/width_etap_12.txt\u001b[39;49m\u001b[39m\"\u001b[39;49m,delimiter\u001b[39m=\u001b[39;49m\u001b[39m'\u001b[39;49m\u001b[39m       \u001b[39;49m\u001b[39m'\u001b[39;49m,engine\u001b[39m=\u001b[39;49m\u001b[39m'\u001b[39;49m\u001b[39mpython\u001b[39;49m\u001b[39m'\u001b[39;49m,names\u001b[39m=\u001b[39;49m[\u001b[39m'\u001b[39;49m\u001b[39mmass\u001b[39;49m\u001b[39m'\u001b[39;49m],index_col\u001b[39m=\u001b[39;49m\u001b[39mFalse\u001b[39;49;00m)\n\u001b[1;32m      <a href='vscode-notebook-cell:/Users/alechewitt/Desktop/Git_felix_2/FORESEE/Models/HNL/HNL.ipynb#Y140sZmlsZQ%3D%3D?line=1'>2</a>\u001b[0m \u001b[39mprint\u001b[39m(m_width_df_tot)\n",
      "File \u001b[0;32m/opt/miniconda3/envs/forsee/lib/python3.10/site-packages/pandas/util/_decorators.py:311\u001b[0m, in \u001b[0;36mdeprecate_nonkeyword_arguments.<locals>.decorate.<locals>.wrapper\u001b[0;34m(*args, **kwargs)\u001b[0m\n\u001b[1;32m    305\u001b[0m \u001b[39mif\u001b[39;00m \u001b[39mlen\u001b[39m(args) \u001b[39m>\u001b[39m num_allow_args:\n\u001b[1;32m    306\u001b[0m     warnings\u001b[39m.\u001b[39mwarn(\n\u001b[1;32m    307\u001b[0m         msg\u001b[39m.\u001b[39mformat(arguments\u001b[39m=\u001b[39marguments),\n\u001b[1;32m    308\u001b[0m         \u001b[39mFutureWarning\u001b[39;00m,\n\u001b[1;32m    309\u001b[0m         stacklevel\u001b[39m=\u001b[39mstacklevel,\n\u001b[1;32m    310\u001b[0m     )\n\u001b[0;32m--> 311\u001b[0m \u001b[39mreturn\u001b[39;00m func(\u001b[39m*\u001b[39;49margs, \u001b[39m*\u001b[39;49m\u001b[39m*\u001b[39;49mkwargs)\n",
      "File \u001b[0;32m/opt/miniconda3/envs/forsee/lib/python3.10/site-packages/pandas/io/parsers/readers.py:680\u001b[0m, in \u001b[0;36mread_csv\u001b[0;34m(filepath_or_buffer, sep, delimiter, header, names, index_col, usecols, squeeze, prefix, mangle_dupe_cols, dtype, engine, converters, true_values, false_values, skipinitialspace, skiprows, skipfooter, nrows, na_values, keep_default_na, na_filter, verbose, skip_blank_lines, parse_dates, infer_datetime_format, keep_date_col, date_parser, dayfirst, cache_dates, iterator, chunksize, compression, thousands, decimal, lineterminator, quotechar, quoting, doublequote, escapechar, comment, encoding, encoding_errors, dialect, error_bad_lines, warn_bad_lines, on_bad_lines, delim_whitespace, low_memory, memory_map, float_precision, storage_options)\u001b[0m\n\u001b[1;32m    665\u001b[0m kwds_defaults \u001b[39m=\u001b[39m _refine_defaults_read(\n\u001b[1;32m    666\u001b[0m     dialect,\n\u001b[1;32m    667\u001b[0m     delimiter,\n\u001b[0;32m   (...)\u001b[0m\n\u001b[1;32m    676\u001b[0m     defaults\u001b[39m=\u001b[39m{\u001b[39m\"\u001b[39m\u001b[39mdelimiter\u001b[39m\u001b[39m\"\u001b[39m: \u001b[39m\"\u001b[39m\u001b[39m,\u001b[39m\u001b[39m\"\u001b[39m},\n\u001b[1;32m    677\u001b[0m )\n\u001b[1;32m    678\u001b[0m kwds\u001b[39m.\u001b[39mupdate(kwds_defaults)\n\u001b[0;32m--> 680\u001b[0m \u001b[39mreturn\u001b[39;00m _read(filepath_or_buffer, kwds)\n",
      "File \u001b[0;32m/opt/miniconda3/envs/forsee/lib/python3.10/site-packages/pandas/io/parsers/readers.py:575\u001b[0m, in \u001b[0;36m_read\u001b[0;34m(filepath_or_buffer, kwds)\u001b[0m\n\u001b[1;32m    572\u001b[0m _validate_names(kwds\u001b[39m.\u001b[39mget(\u001b[39m\"\u001b[39m\u001b[39mnames\u001b[39m\u001b[39m\"\u001b[39m, \u001b[39mNone\u001b[39;00m))\n\u001b[1;32m    574\u001b[0m \u001b[39m# Create the parser.\u001b[39;00m\n\u001b[0;32m--> 575\u001b[0m parser \u001b[39m=\u001b[39m TextFileReader(filepath_or_buffer, \u001b[39m*\u001b[39;49m\u001b[39m*\u001b[39;49mkwds)\n\u001b[1;32m    577\u001b[0m \u001b[39mif\u001b[39;00m chunksize \u001b[39mor\u001b[39;00m iterator:\n\u001b[1;32m    578\u001b[0m     \u001b[39mreturn\u001b[39;00m parser\n",
      "File \u001b[0;32m/opt/miniconda3/envs/forsee/lib/python3.10/site-packages/pandas/io/parsers/readers.py:933\u001b[0m, in \u001b[0;36mTextFileReader.__init__\u001b[0;34m(self, f, engine, **kwds)\u001b[0m\n\u001b[1;32m    930\u001b[0m     \u001b[39mself\u001b[39m\u001b[39m.\u001b[39moptions[\u001b[39m\"\u001b[39m\u001b[39mhas_index_names\u001b[39m\u001b[39m\"\u001b[39m] \u001b[39m=\u001b[39m kwds[\u001b[39m\"\u001b[39m\u001b[39mhas_index_names\u001b[39m\u001b[39m\"\u001b[39m]\n\u001b[1;32m    932\u001b[0m \u001b[39mself\u001b[39m\u001b[39m.\u001b[39mhandles: IOHandles \u001b[39m|\u001b[39m \u001b[39mNone\u001b[39;00m \u001b[39m=\u001b[39m \u001b[39mNone\u001b[39;00m\n\u001b[0;32m--> 933\u001b[0m \u001b[39mself\u001b[39m\u001b[39m.\u001b[39m_engine \u001b[39m=\u001b[39m \u001b[39mself\u001b[39;49m\u001b[39m.\u001b[39;49m_make_engine(f, \u001b[39mself\u001b[39;49m\u001b[39m.\u001b[39;49mengine)\n",
      "File \u001b[0;32m/opt/miniconda3/envs/forsee/lib/python3.10/site-packages/pandas/io/parsers/readers.py:1217\u001b[0m, in \u001b[0;36mTextFileReader._make_engine\u001b[0;34m(self, f, engine)\u001b[0m\n\u001b[1;32m   1213\u001b[0m     mode \u001b[39m=\u001b[39m \u001b[39m\"\u001b[39m\u001b[39mrb\u001b[39m\u001b[39m\"\u001b[39m\n\u001b[1;32m   1214\u001b[0m \u001b[39m# error: No overload variant of \"get_handle\" matches argument types\u001b[39;00m\n\u001b[1;32m   1215\u001b[0m \u001b[39m# \"Union[str, PathLike[str], ReadCsvBuffer[bytes], ReadCsvBuffer[str]]\"\u001b[39;00m\n\u001b[1;32m   1216\u001b[0m \u001b[39m# , \"str\", \"bool\", \"Any\", \"Any\", \"Any\", \"Any\", \"Any\"\u001b[39;00m\n\u001b[0;32m-> 1217\u001b[0m \u001b[39mself\u001b[39m\u001b[39m.\u001b[39mhandles \u001b[39m=\u001b[39m get_handle(  \u001b[39m# type: ignore[call-overload]\u001b[39;49;00m\n\u001b[1;32m   1218\u001b[0m     f,\n\u001b[1;32m   1219\u001b[0m     mode,\n\u001b[1;32m   1220\u001b[0m     encoding\u001b[39m=\u001b[39;49m\u001b[39mself\u001b[39;49m\u001b[39m.\u001b[39;49moptions\u001b[39m.\u001b[39;49mget(\u001b[39m\"\u001b[39;49m\u001b[39mencoding\u001b[39;49m\u001b[39m\"\u001b[39;49m, \u001b[39mNone\u001b[39;49;00m),\n\u001b[1;32m   1221\u001b[0m     compression\u001b[39m=\u001b[39;49m\u001b[39mself\u001b[39;49m\u001b[39m.\u001b[39;49moptions\u001b[39m.\u001b[39;49mget(\u001b[39m\"\u001b[39;49m\u001b[39mcompression\u001b[39;49m\u001b[39m\"\u001b[39;49m, \u001b[39mNone\u001b[39;49;00m),\n\u001b[1;32m   1222\u001b[0m     memory_map\u001b[39m=\u001b[39;49m\u001b[39mself\u001b[39;49m\u001b[39m.\u001b[39;49moptions\u001b[39m.\u001b[39;49mget(\u001b[39m\"\u001b[39;49m\u001b[39mmemory_map\u001b[39;49m\u001b[39m\"\u001b[39;49m, \u001b[39mFalse\u001b[39;49;00m),\n\u001b[1;32m   1223\u001b[0m     is_text\u001b[39m=\u001b[39;49mis_text,\n\u001b[1;32m   1224\u001b[0m     errors\u001b[39m=\u001b[39;49m\u001b[39mself\u001b[39;49m\u001b[39m.\u001b[39;49moptions\u001b[39m.\u001b[39;49mget(\u001b[39m\"\u001b[39;49m\u001b[39mencoding_errors\u001b[39;49m\u001b[39m\"\u001b[39;49m, \u001b[39m\"\u001b[39;49m\u001b[39mstrict\u001b[39;49m\u001b[39m\"\u001b[39;49m),\n\u001b[1;32m   1225\u001b[0m     storage_options\u001b[39m=\u001b[39;49m\u001b[39mself\u001b[39;49m\u001b[39m.\u001b[39;49moptions\u001b[39m.\u001b[39;49mget(\u001b[39m\"\u001b[39;49m\u001b[39mstorage_options\u001b[39;49m\u001b[39m\"\u001b[39;49m, \u001b[39mNone\u001b[39;49;00m),\n\u001b[1;32m   1226\u001b[0m )\n\u001b[1;32m   1227\u001b[0m \u001b[39massert\u001b[39;00m \u001b[39mself\u001b[39m\u001b[39m.\u001b[39mhandles \u001b[39mis\u001b[39;00m \u001b[39mnot\u001b[39;00m \u001b[39mNone\u001b[39;00m\n\u001b[1;32m   1228\u001b[0m f \u001b[39m=\u001b[39m \u001b[39mself\u001b[39m\u001b[39m.\u001b[39mhandles\u001b[39m.\u001b[39mhandle\n",
      "File \u001b[0;32m/opt/miniconda3/envs/forsee/lib/python3.10/site-packages/pandas/io/common.py:789\u001b[0m, in \u001b[0;36mget_handle\u001b[0;34m(path_or_buf, mode, encoding, compression, memory_map, is_text, errors, storage_options)\u001b[0m\n\u001b[1;32m    784\u001b[0m \u001b[39melif\u001b[39;00m \u001b[39misinstance\u001b[39m(handle, \u001b[39mstr\u001b[39m):\n\u001b[1;32m    785\u001b[0m     \u001b[39m# Check whether the filename is to be opened in binary mode.\u001b[39;00m\n\u001b[1;32m    786\u001b[0m     \u001b[39m# Binary mode does not support 'encoding' and 'newline'.\u001b[39;00m\n\u001b[1;32m    787\u001b[0m     \u001b[39mif\u001b[39;00m ioargs\u001b[39m.\u001b[39mencoding \u001b[39mand\u001b[39;00m \u001b[39m\"\u001b[39m\u001b[39mb\u001b[39m\u001b[39m\"\u001b[39m \u001b[39mnot\u001b[39;00m \u001b[39min\u001b[39;00m ioargs\u001b[39m.\u001b[39mmode:\n\u001b[1;32m    788\u001b[0m         \u001b[39m# Encoding\u001b[39;00m\n\u001b[0;32m--> 789\u001b[0m         handle \u001b[39m=\u001b[39m \u001b[39mopen\u001b[39;49m(\n\u001b[1;32m    790\u001b[0m             handle,\n\u001b[1;32m    791\u001b[0m             ioargs\u001b[39m.\u001b[39;49mmode,\n\u001b[1;32m    792\u001b[0m             encoding\u001b[39m=\u001b[39;49mioargs\u001b[39m.\u001b[39;49mencoding,\n\u001b[1;32m    793\u001b[0m             errors\u001b[39m=\u001b[39;49merrors,\n\u001b[1;32m    794\u001b[0m             newline\u001b[39m=\u001b[39;49m\u001b[39m\"\u001b[39;49m\u001b[39m\"\u001b[39;49m,\n\u001b[1;32m    795\u001b[0m         )\n\u001b[1;32m    796\u001b[0m     \u001b[39melse\u001b[39;00m:\n\u001b[1;32m    797\u001b[0m         \u001b[39m# Binary mode\u001b[39;00m\n\u001b[1;32m    798\u001b[0m         handle \u001b[39m=\u001b[39m \u001b[39mopen\u001b[39m(handle, ioargs\u001b[39m.\u001b[39mmode)\n",
      "\u001b[0;31mFileNotFoundError\u001b[0m: [Errno 2] No such file or directory: 'model/br/width_etap_12.txt'"
     ]
    }
   ],
   "source": [
    "m_width_df_tot = pd.read_csv(f\"model/br/width_etap_12.txt\",delimiter='       ',engine='python',names=['mass'],index_col=False)\n",
    "print(m_width_df_tot)\n"
   ]
  }
 ],
 "metadata": {
  "kernelspec": {
   "display_name": "Python 3.10.4 ('forsee')",
   "language": "python",
   "name": "python3"
  },
  "language_info": {
   "codemirror_mode": {
    "name": "ipython",
    "version": 3
   },
   "file_extension": ".py",
   "mimetype": "text/x-python",
   "name": "python",
   "nbconvert_exporter": "python",
   "pygments_lexer": "ipython3",
   "version": "3.10.4"
  },
  "toc": {
   "base_numbering": 1,
   "nav_menu": {
    "height": "734px",
    "width": "465px"
   },
   "number_sections": true,
   "sideBar": true,
   "skip_h1_title": false,
   "title_cell": "Table of Contents",
   "title_sidebar": "Contents",
   "toc_cell": false,
   "toc_position": {},
   "toc_section_display": true,
   "toc_window_display": false
  },
  "vscode": {
   "interpreter": {
    "hash": "d992d1d0d82f377b2d7582744839498d1eb429866497c2c977ef925f2dbe2ea3"
   }
  }
 },
 "nbformat": 4,
 "nbformat_minor": 2
}
