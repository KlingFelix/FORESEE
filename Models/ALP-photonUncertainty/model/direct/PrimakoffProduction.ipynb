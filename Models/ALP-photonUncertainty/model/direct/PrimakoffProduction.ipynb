{
 "cells": [
  {
   "cell_type": "markdown",
   "metadata": {},
   "source": [
    "# FORESEE - ALP with photon couplings"
   ]
  },
  {
   "cell_type": "markdown",
   "metadata": {},
   "source": [
    "### Load Libraries "
   ]
  },
  {
   "cell_type": "code",
   "execution_count": 2,
   "metadata": {
    "ExecuteTime": {
     "end_time": "2023-11-13T00:34:04.036862Z",
     "start_time": "2023-11-13T00:34:02.185648Z"
    }
   },
   "outputs": [
    {
     "name": "stderr",
     "output_type": "stream",
     "text": [
      "/Users/abraham/Documents/GitHub/roshanFORESEE/src/foresee.py:596: NumbaDeprecationWarning: The 'nopython' keyword argument was not supplied to the 'numba.jit' decorator. The implicit default value for this argument is currently False, but it will be changed to True in Numba 0.59.0. See https://numba.readthedocs.io/en/stable/reference/deprecation.html#deprecation-of-object-mode-fall-back-behaviour-when-using-jit for details.\n",
      "  def boostlist(arr_particle, arr_boost):\n"
     ]
    }
   ],
   "source": [
    "import numpy as np\n",
    "import sys\n",
    "import os\n",
    "#src_path = \"/Users/felixkling/Documents/GitHub/FORESEE/\"\n",
    "src_path = \"/Users/abraham/Documents/GitHub/roshanFORESEE/\"\n",
    "sys.path.append(src_path)\n",
    "from src.foresee import Foresee, Utility, Model"
   ]
  },
  {
   "cell_type": "markdown",
   "metadata": {},
   "source": [
    "## 1. Initialization "
   ]
  },
  {
   "cell_type": "markdown",
   "metadata": {},
   "source": [
    "We will use some function from the FORESEE package. So let's load it first."
   ]
  },
  {
   "cell_type": "code",
   "execution_count": 2,
   "metadata": {
    "ExecuteTime": {
     "end_time": "2023-11-12T22:46:40.592625Z",
     "start_time": "2023-11-12T22:46:39.690800Z"
    }
   },
   "outputs": [],
   "source": [
    "foresee = Foresee(path=src_path)"
   ]
  },
  {
   "cell_type": "markdown",
   "metadata": {},
   "source": [
    "## 2. ALP Production via Primakoff Process"
   ]
  },
  {
   "cell_type": "markdown",
   "metadata": {},
   "source": [
    "The phenomenology of the ALP with $\\gamma$-couplings can be described by the following Lagrangian\n",
    "\n",
    "\\begin{equation}\n",
    " \\mathcal{L} = - \\frac{1}{2} m_{a}^2 a^2  - \\frac{g}{4}a F^a_{\\mu\\nu} \\tilde F^a_{\\mu\\nu}\n",
    "\\end{equation}\n",
    "\n",
    "with the ALP mass $a$ and the coupling parameter $g$ as free parameters. For the search for ALPS at forward experiments we need to know i) the *production rate*, ii) the *lifetime* and iii) possibly the *decay branching fractions* of dark photons as function of those two parameters. All properties are specified in the `Model` class. We initialize it with the name of the model as argument. "
   ]
  },
  {
   "cell_type": "markdown",
   "metadata": {},
   "source": [
    "**Production** The ALP is mainly produced via the Primakoff Process. Following [1806.02348](https://arxiv.org/pdf/1806.02348.pdf) Eq (6), the Primakoff cross section is given by\n",
    "\\begin{equation}\n",
    " \\frac{d\\sigma}{d\\log\\theta } \n",
    " = \\theta \\frac{d\\sigma}{d\\log\\theta} = g^2 \\frac{\\alpha Z^2}{4} \\times F(t)^2 \\times \\frac{p_a^4 \\theta^4}{t^2}\n",
    "\\end{equation}\n",
    "where $p_a \\approx E_\\gamma$, $t = m_a^4 / (2E_\\gamma^2) + E_\\gamma^2 \\theta^2$ and the form factor is given by $F(t) = a^2t/(1+a^2t)$ for $t<7.39m_e^2$ and $F(t) = 1/(1+t/d)$ for $t>7.39m_e^2$. In the following, we will get the ALP spectrum and save it. \n",
    "\n",
    "Let us first define a function `get_spectrum()` that obtains this spectrum."
   ]
  },
  {
   "cell_type": "code",
   "execution_count": 3,
   "metadata": {
    "ExecuteTime": {
     "end_time": "2023-11-12T22:46:44.018091Z",
     "start_time": "2023-11-12T22:46:44.003314Z"
    }
   },
   "outputs": [],
   "source": [
    "def get_spectrum(mass, generator=\"EPOSLHC\", energy=\"13.6\"):\n",
    "    \n",
    "    #load photon spectrum\n",
    "    filepath = src_path+\"files/hadrons/\"+energy+\"TeV/\"+generator+\"/\"+generator+\"_\"+energy+\"TeV_22.txt\"\n",
    "    photons = foresee.readfile(filepath)\n",
    "    \n",
    "    #define quantities\n",
    "    alpha, me, ZFe, AFe = 1./137., 0.000511, 26, 56\n",
    "    a, d  = 111.*ZFe**(-1./3.) / me,  0.164 * AFe**(-2./3.)\n",
    "    SMXSinBarn, GeV2inBarn = 5, 0.389379e-3\n",
    "    SMXSinIGeV2 = 13311.9696379 \n",
    "\n",
    "    # integration boundaries theta \n",
    "    logthmin, logthmax, nlogth = -12, 0, 20\n",
    "    dlogth = (logthmax-logthmin)/float(nlogth)\n",
    "    \n",
    "    # prepare output file\n",
    "    filename_out = energy+\"TeV/\"+generator+\"/\"+generator+\"_Prim_\"+energy+\"TeV_\"+str(mass)+\".txt\"\n",
    "    f= open(filename_out,\"w+\")\n",
    "    f.write(\"# This file contains the cross section for ALP-photon with g=1 into the FORWARD hemisphere only\\n\")\n",
    "    f.write(\"#  log10(theta)    log10(p/GeV)     cross-section[pb/bin]\\n\")\n",
    "        \n",
    "    # loop over photons in spectrum\n",
    "    for logth,logen,wgt in photons:\n",
    "        # weight == 0\n",
    "        if wgt==0: \n",
    "            f.write(str(logth)+\" \"+str(logen)+\" \"+str(wgt)+\"\\n\")\n",
    "            continue\n",
    "        # finite weight\n",
    "        xs, xsx = 0, 0\n",
    "        k = 10**logen\n",
    "        for ltheta in np.linspace(logthmin+0.5*dlogth,logthmax-0.5*dlogth,nlogth):\n",
    "            # kinematics\n",
    "            theta = 10**ltheta\n",
    "            t = mass**4 / (2.*k**2) + k**2 * theta**2\n",
    "            #form factor \n",
    "            if t<7.39*me*me: ff = a*a*t/(1.+a*a*t)\n",
    "            else: ff = 1./(1.+t/d)\n",
    "            #combine\n",
    "            xs += alpha * ZFe**2 / 4. * ff**2 * k**4 * np.sin(theta)**3 *theta / t**2 * dlogth * np.log(10)\n",
    "\n",
    "        # print \n",
    "        prob = xs / SMXSinIGeV2\n",
    "        if np.isnan(prob): prob=0\n",
    "        f.write(str(logth)+\" \"+str(logen)+\" \"+str(wgt*prob)+\"\\n\")\n",
    "    \n",
    "    #close file\n",
    "    f.close()"
   ]
  },
  {
   "cell_type": "markdown",
   "metadata": {},
   "source": [
    "And then loop over a set of masses, and calculate it"
   ]
  },
  {
   "cell_type": "code",
   "execution_count": 4,
   "metadata": {
    "ExecuteTime": {
     "end_time": "2023-11-12T22:46:47.689614Z",
     "start_time": "2023-11-12T22:46:47.686747Z"
    }
   },
   "outputs": [],
   "source": [
    "generators = ['EPOSLHC', 'SIBYLL', 'QGSJET', 'Pythia8-Forward']\n",
    "energy='13.6'"
   ]
  },
  {
   "cell_type": "code",
   "execution_count": 6,
   "metadata": {
    "ExecuteTime": {
     "end_time": "2023-11-12T22:57:40.454070Z",
     "start_time": "2023-11-12T22:55:49.230087Z"
    }
   },
   "outputs": [],
   "source": [
    "masses = [float(x) for x in ['{:0.4e}'.format(m) for m in np.logspace(-2,1,30+1)]]\n",
    "for generator in generators:\n",
    "    for mass in masses: \n",
    "        get_spectrum(mass=mass, generator=generator, energy=energy)"
   ]
  },
  {
   "cell_type": "code",
   "execution_count": 5,
   "metadata": {
    "ExecuteTime": {
     "end_time": "2023-11-12T22:55:26.218925Z",
     "start_time": "2023-11-12T22:55:26.207714Z"
    }
   },
   "outputs": [
    {
     "name": "stdout",
     "output_type": "stream",
     "text": [
      "[0.01, 0.012589, 0.015849, 0.019953, 0.025119, 0.031623, 0.039811, 0.050119, 0.063096, 0.079433, 0.1, 0.12589, 0.15849, 0.19953, 0.25119, 0.31623, 0.39811, 0.50119, 0.63096, 0.79433, 1.0, 1.2589, 1.5849, 1.9953, 2.5119, 3.1623, 3.9811, 5.0119, 6.3096, 7.9433, 10.0]\n"
     ]
    }
   ],
   "source": [
    "masses = [float(x) for x in ['{:0.4e}'.format(m) for m in np.logspace(-2,1,30+1)]]\n",
    "print (masses)"
   ]
  },
  {
   "cell_type": "code",
   "execution_count": 4,
   "metadata": {
    "ExecuteTime": {
     "end_time": "2023-11-13T00:34:11.054074Z",
     "start_time": "2023-11-13T00:34:11.049022Z"
    }
   },
   "outputs": [
    {
     "name": "stdout",
     "output_type": "stream",
     "text": [
      "[0.01, 0.012589, 0.015849, 0.019953, 0.025119, 0.031623, 0.039811, 0.050119, 0.063096, 0.079433, 0.1, 0.12589, 0.15849, 0.19953, 0.25119, 0.31623, 0.39811, 0.50119, 0.63096, 0.79433, 1.0, 1.2589, 1.5849, 1.9953, 2.5119, 3.1623, 3.9811, 5.0119, 6.3096, 7.9433, 10.0, 12.589, 15.849, 19.953, 25.119, 31.623, 39.811, 50.119, 63.096, 79.433, 100.0]\n"
     ]
    }
   ],
   "source": [
    "masses = [float(x) for x in ['{:0.4e}'.format(m) for m in np.logspace(-2,2,40+1)]]\n",
    "print (masses)"
   ]
  },
  {
   "cell_type": "code",
   "execution_count": null,
   "metadata": {},
   "outputs": [],
   "source": []
  }
 ],
 "metadata": {
  "kernelspec": {
   "display_name": "Python 3 (ipykernel)",
   "language": "python",
   "name": "python3"
  },
  "language_info": {
   "codemirror_mode": {
    "name": "ipython",
    "version": 3
   },
   "file_extension": ".py",
   "mimetype": "text/x-python",
   "name": "python",
   "nbconvert_exporter": "python",
   "pygments_lexer": "ipython3",
   "version": "3.10.5"
  },
  "toc": {
   "base_numbering": 1,
   "nav_menu": {
    "height": "734px",
    "width": "465px"
   },
   "number_sections": true,
   "sideBar": true,
   "skip_h1_title": false,
   "title_cell": "Table of Contents",
   "title_sidebar": "Contents",
   "toc_cell": false,
   "toc_position": {},
   "toc_section_display": true,
   "toc_window_display": false
  }
 },
 "nbformat": 4,
 "nbformat_minor": 2
}
