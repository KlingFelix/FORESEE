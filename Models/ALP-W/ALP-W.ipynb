{
 "cells": [
  {
   "cell_type": "markdown",
   "metadata": {},
   "source": [
    "# FORESEE Models: ALP coupling to SU(2)L "
   ]
  },
  {
   "cell_type": "markdown",
   "metadata": {},
   "source": [
    "## Load Libraries "
   ]
  },
  {
   "cell_type": "code",
   "execution_count": 1,
   "metadata": {
    "ExecuteTime": {
     "end_time": "2023-12-12T15:41:09.152948Z",
     "start_time": "2023-12-12T15:41:08.141251Z"
    }
   },
   "outputs": [
    {
     "name": "stderr",
     "output_type": "stream",
     "text": [
      "/home/makelat/work/FORESEE/Models/ALP-W/../../src/foresee.py:565: NumbaDeprecationWarning: \u001b[1mThe 'nopython' keyword argument was not supplied to the 'numba.jit' decorator. The implicit default value for this argument is currently False, but it will be changed to True in Numba 0.59.0. See https://numba.readthedocs.io/en/stable/reference/deprecation.html#deprecation-of-object-mode-fall-back-behaviour-when-using-jit for details.\u001b[0m\n",
      "  def boostlist(arr_particle, arr_boost):\n"
     ]
    }
   ],
   "source": [
    "import numpy as np\n",
    "import sys\n",
    "import os\n",
    "src_path = \"../../\"\n",
    "sys.path.append(src_path)\n",
    "from src.foresee import Foresee, Utility, Model\n",
    "from matplotlib import pyplot as plt"
   ]
  },
  {
   "cell_type": "markdown",
   "metadata": {},
   "source": [
    "## 1. Specifying the Model"
   ]
  },
  {
   "cell_type": "markdown",
   "metadata": {},
   "source": [
    "The phenomenology of the ALP coupling to SU(2)$_L$ can be described by the following Lagrangian\n",
    "\n",
    "\\begin{equation}\n",
    " \\mathcal{L} = - \\frac{1}{2} \\color{red}{m_{a}}^2 a^2  - \\frac{\\color{red}{g_{aWW}}}{4}a W^a_{\\mu\\nu} \\tilde W^a_{\\mu\\nu}\n",
    "\\end{equation}\n",
    "\n",
    "with the ALP mass $m_a$ and the coupling parameter $g_{aWW}$ as free parameters. "
   ]
  },
  {
   "cell_type": "code",
   "execution_count": 2,
   "metadata": {
    "ExecuteTime": {
     "end_time": "2023-12-12T15:41:09.540312Z",
     "start_time": "2023-12-12T15:41:09.537691Z"
    }
   },
   "outputs": [],
   "source": [
    "energy = \"13.6\"\n",
    "modelname=\"ALP-W\"\n",
    "model = Model(modelname, path=\"./\")"
   ]
  },
  {
   "cell_type": "markdown",
   "metadata": {},
   "source": [
    "**Production** The ALP is mainly produced in FCNC kaon and B-meson decays. The branching fractions are (with $g = g_{aWW}\\cdot GeV$)\n",
    "\n",
    "\\begin{equation}\n",
    "    \\text{BR}(K^+ \\to \\pi^+ a) = 10.5 \\times g^2 \\times [(1-(m_\\pi+m_a)^2/m_K^2)(1-(m_\\pi-m_a)^2/m_K^2)]^{1/2}\n",
    "\\end{equation}\n",
    "\\begin{equation}\n",
    "\\text{BR}(K_L \\to \\pi^0 a) = 4.5 \\times g^2 \\times [(1-(m_\\pi+m_a)^2/m_K^2)(1-(m_\\pi-m_a)^2/m_K^2)]^{1/2}\n",
    "\\end{equation}\n",
    "\\begin{equation}\n",
    "\\text{BR}(B \\to X_s a)     = 2.3 \\cdot 10^4 \\times g^2 \\times [(1-m_a^2/m_B^2)]^{2}\n",
    "\\end{equation}\n",
    "\n",
    "In the following, we model light hadron production using `EPOSLHC`, `SIBYLL`, `QGSJET` and `Pythia8-Forward` and heavy hadron production using the `POWHEG+Pythia8` predicions."
   ]
  },
  {
   "cell_type": "code",
   "execution_count": 3,
   "metadata": {
    "ExecuteTime": {
     "end_time": "2023-12-12T15:45:31.326326Z",
     "start_time": "2023-12-12T15:45:31.320947Z"
    }
   },
   "outputs": [],
   "source": [
    "model.add_production_2bodydecay(\n",
    "    pid0 = \"130\",\n",
    "    pid1 = \"111\",\n",
    "    br = \"4.5 * coupling**2 * np.sqrt((1-(mass+self.masses('pid1'))**2/self.masses('pid0')**2)*(1-(mass-self.masses('pid1'))**2/self.masses('pid0')**2))\",\n",
    "    generator = ['EPOSLHC', 'SIBYLL', 'QGSJET', 'Pythia8-Forward'],\n",
    "    energy = energy,\n",
    "    nsample = 100\n",
    ")\n",
    "model.add_production_2bodydecay(\n",
    "    pid0 = \"321\",\n",
    "    pid1 = \"211\",\n",
    "    br = \"10.5 * coupling**2 * np.sqrt((1-(mass+self.masses('pid1'))**2/self.masses('pid0')**2)*(1-(mass-self.masses('pid1'))**2/self.masses('pid0')**2))\",\n",
    "    generator = ['EPOSLHC', 'SIBYLL', 'QGSJET', 'Pythia8-Forward'],\n",
    "    energy = energy,\n",
    "    nsample = 100, \n",
    ")\n",
    "model.add_production_2bodydecay(\n",
    "    pid0 = \"-321\",\n",
    "    pid1 = \"211\",\n",
    "    br = \"10.5 * coupling**2 * np.sqrt((1-(mass+self.masses('pid1'))**2/self.masses('pid0')**2)*(1-(mass-self.masses('pid1'))**2/self.masses('pid0')**2))\",\n",
    "    generator = ['EPOSLHC', 'SIBYLL', 'QGSJET', 'Pythia8-Forward'],\n",
    "    energy = energy,\n",
    "    nsample = 100, \n",
    ") "
   ]
  },
  {
   "cell_type": "code",
   "execution_count": 4,
   "metadata": {
    "ExecuteTime": {
     "end_time": "2023-12-12T15:45:37.864860Z",
     "start_time": "2023-12-12T15:45:37.859610Z"
    }
   },
   "outputs": [],
   "source": [
    "model.add_production_2bodydecay(\n",
    "    pid0 = \"511\",\n",
    "    pid1 = \"130\",\n",
    "    br = \"2.3e4 * coupling**2 * (1-(mass/self.masses('pid0'))**2)**2\",\n",
    "    generator = ['NLO-P8','NLO-P8-Max', 'NLO-P8-Min'],\n",
    "    energy = energy,\n",
    "    nsample = 1000, \n",
    ") \n",
    "\n",
    "model.add_production_2bodydecay(\n",
    "    pid0 = \"-511\",\n",
    "    pid1 = \"130\",\n",
    "    br = \"2.3e4 * coupling**2 * (1-(mass/self.masses('pid0'))**2)**2\",\n",
    "    generator = ['NLO-P8','NLO-P8-Max', 'NLO-P8-Min'],\n",
    "    energy = energy,\n",
    "    nsample = 1000, \n",
    ") \n",
    "\n",
    "model.add_production_2bodydecay(\n",
    "    pid0 = \"521\",\n",
    "    pid1 = \"321\",\n",
    "    br = \"2.3e4 * coupling**2 * (1-(mass/self.masses('pid0'))**2)**2\",\n",
    "    generator = ['NLO-P8','NLO-P8-Max', 'NLO-P8-Min'],\n",
    "    energy = energy,\n",
    "    nsample = 1000, \n",
    ") \n",
    "\n",
    "model.add_production_2bodydecay(\n",
    "    pid0 = \"-521\",\n",
    "    pid1 = \"-321\",\n",
    "    br = \"2.3e4 * coupling**2 * (1-(mass/self.masses('pid0'))**2)**2\",\n",
    "    generator = ['NLO-P8','NLO-P8-Max', 'NLO-P8-Min'],\n",
    "    energy = energy,\n",
    "    nsample = 1000, \n",
    ") \n",
    "\n",
    "model.add_production_2bodydecay(\n",
    "    pid0 = \"531\",\n",
    "    pid1 = \"333\",\n",
    "    br = \"2.3e4 * coupling**2 * (1-(mass/self.masses('pid0'))**2)**2\",\n",
    "    generator = ['NLO-P8','NLO-P8-Max', 'NLO-P8-Min'],\n",
    "    energy = energy,\n",
    "    nsample = 100, \n",
    ") \n",
    "\n",
    "model.add_production_2bodydecay(\n",
    "    pid0 = \"-531\",\n",
    "    pid1 = \"333\",\n",
    "    br = \"2.3e4 * coupling**2 * (1-(mass/self.masses('pid0'))**2)**2\",\n",
    "    generator = ['NLO-P8','NLO-P8-Max', 'NLO-P8-Min'],\n",
    "    energy = energy,\n",
    "    nsample = 100, \n",
    ")  "
   ]
  },
  {
   "cell_type": "markdown",
   "metadata": {},
   "source": [
    "**Decay:** The ALP mainly decays to pairs of photons. "
   ]
  },
  {
   "cell_type": "code",
   "execution_count": 5,
   "metadata": {
    "ExecuteTime": {
     "end_time": "2023-12-12T15:45:42.197280Z",
     "start_time": "2023-12-12T15:45:42.190839Z"
    }
   },
   "outputs": [],
   "source": [
    "model.set_ctau_1d(\n",
    "    filename=\"model/ctau.txt\", \n",
    ")\n",
    "\n",
    "decay_modes = [\"gamma_gamma\", \"e_e_gamma\"] \n",
    "model.set_br_1d(\n",
    "    modes = decay_modes,\n",
    "    finalstates=[[22,22], [11,-11,22]],\n",
    "    filenames=[\"model/br/\"+mode+\".txt\" for mode in decay_modes],\n",
    ")"
   ]
  },
  {
   "cell_type": "markdown",
   "metadata": {},
   "source": [
    "We can now initiate FORESEE with the model that we just created. "
   ]
  },
  {
   "cell_type": "code",
   "execution_count": 6,
   "metadata": {
    "ExecuteTime": {
     "end_time": "2023-12-12T15:45:44.080140Z",
     "start_time": "2023-12-12T15:45:43.128391Z"
    }
   },
   "outputs": [],
   "source": [
    "foresee = Foresee(path=src_path)\n",
    "foresee.set_model(model=model)"
   ]
  },
  {
   "cell_type": "markdown",
   "metadata": {},
   "source": [
    "## 2. Event Generation"
   ]
  },
  {
   "cell_type": "markdown",
   "metadata": {},
   "source": [
    "In the following, we want to study one specific benchmark point with $m_{a}=150$ MeV and $g= 10^{-4}$ and export events as a HEPMC file. "
   ]
  },
  {
   "cell_type": "code",
   "execution_count": 7,
   "metadata": {
    "ExecuteTime": {
     "end_time": "2023-12-12T15:45:44.761844Z",
     "start_time": "2023-12-12T15:45:44.759565Z"
    }
   },
   "outputs": [],
   "source": [
    "mass, coupling, = 0.15, 1e-4"
   ]
  },
  {
   "cell_type": "markdown",
   "metadata": {},
   "source": [
    "First, we will produce the corresponding flux for this mass and a reference coupling $\\epsilon_{ref}=1$. "
   ]
  },
  {
   "cell_type": "code",
   "execution_count": 8,
   "metadata": {
    "ExecuteTime": {
     "end_time": "2023-12-12T15:48:31.656976Z",
     "start_time": "2023-12-12T15:45:48.876011Z"
    }
   },
   "outputs": [
    {
     "name": "stdout",
     "output_type": "stream",
     "text": [
      "save data to file: ./model/LLP_spectra/13.6TeV_130_EPOSLHC_m_0.15.npy\n",
      "save data to file: ./model/LLP_spectra/13.6TeV_130_SIBYLL_m_0.15.npy\n",
      "save data to file: ./model/LLP_spectra/13.6TeV_130_QGSJET_m_0.15.npy\n",
      "save data to file: ./model/LLP_spectra/13.6TeV_130_Pythia8-Forward_m_0.15.npy\n",
      "save data to file: ./model/LLP_spectra/13.6TeV_321_EPOSLHC_m_0.15.npy\n",
      "save data to file: ./model/LLP_spectra/13.6TeV_321_SIBYLL_m_0.15.npy\n",
      "save data to file: ./model/LLP_spectra/13.6TeV_321_QGSJET_m_0.15.npy\n",
      "save data to file: ./model/LLP_spectra/13.6TeV_321_Pythia8-Forward_m_0.15.npy\n",
      "save data to file: ./model/LLP_spectra/13.6TeV_-321_EPOSLHC_m_0.15.npy\n",
      "save data to file: ./model/LLP_spectra/13.6TeV_-321_SIBYLL_m_0.15.npy\n",
      "save data to file: ./model/LLP_spectra/13.6TeV_-321_QGSJET_m_0.15.npy\n",
      "save data to file: ./model/LLP_spectra/13.6TeV_-321_Pythia8-Forward_m_0.15.npy\n",
      "save data to file: ./model/LLP_spectra/13.6TeV_511_NLO-P8_m_0.15.npy\n",
      "save data to file: ./model/LLP_spectra/13.6TeV_511_NLO-P8-Max_m_0.15.npy\n",
      "save data to file: ./model/LLP_spectra/13.6TeV_511_NLO-P8-Min_m_0.15.npy\n",
      "save data to file: ./model/LLP_spectra/13.6TeV_-511_NLO-P8_m_0.15.npy\n",
      "save data to file: ./model/LLP_spectra/13.6TeV_-511_NLO-P8-Max_m_0.15.npy\n",
      "save data to file: ./model/LLP_spectra/13.6TeV_-511_NLO-P8-Min_m_0.15.npy\n",
      "save data to file: ./model/LLP_spectra/13.6TeV_521_NLO-P8_m_0.15.npy\n",
      "save data to file: ./model/LLP_spectra/13.6TeV_521_NLO-P8-Max_m_0.15.npy\n",
      "save data to file: ./model/LLP_spectra/13.6TeV_521_NLO-P8-Min_m_0.15.npy\n",
      "save data to file: ./model/LLP_spectra/13.6TeV_-521_NLO-P8_m_0.15.npy\n",
      "save data to file: ./model/LLP_spectra/13.6TeV_-521_NLO-P8-Max_m_0.15.npy\n",
      "save data to file: ./model/LLP_spectra/13.6TeV_-521_NLO-P8-Min_m_0.15.npy\n",
      "save data to file: ./model/LLP_spectra/13.6TeV_531_NLO-P8_m_0.15.npy\n",
      "save data to file: ./model/LLP_spectra/13.6TeV_531_NLO-P8-Max_m_0.15.npy\n",
      "save data to file: ./model/LLP_spectra/13.6TeV_531_NLO-P8-Min_m_0.15.npy\n",
      "save data to file: ./model/LLP_spectra/13.6TeV_-531_NLO-P8_m_0.15.npy\n",
      "save data to file: ./model/LLP_spectra/13.6TeV_-531_NLO-P8-Max_m_0.15.npy\n",
      "save data to file: ./model/LLP_spectra/13.6TeV_-531_NLO-P8-Min_m_0.15.npy\n"
     ]
    },
    {
     "data": {
      "image/png": "[encoded data removed]",
      "text/plain": [
       "<Figure size 700x550 with 2 Axes>"
      ]
     },
     "metadata": {},
     "output_type": "display_data"
    }
   ],
   "source": [
    "plot=foresee.get_llp_spectrum(mass=mass, coupling=1, do_plot=True)\n",
    "plot.savefig(\"Spectrum_\"+modelname+\".pdf\")\n",
    "plot.show()"
   ]
  },
  {
   "cell_type": "markdown",
   "metadata": {},
   "source": [
    "Next, let us define the configuration of the detector (in terms of position, size and luminosity). Here we choose FASER during 2022/2023. "
   ]
  },
  {
   "cell_type": "code",
   "execution_count": 9,
   "metadata": {
    "ExecuteTime": {
     "end_time": "2023-12-12T15:48:31.662245Z",
     "start_time": "2023-12-12T15:48:31.659408Z"
    }
   },
   "outputs": [],
   "source": [
    "foresee.set_detector(\n",
    "    distance=474, \n",
    "    selection=\"np.sqrt(x.x**2 + (x.y+0.065)**2)<.1\", \n",
    "    length=3.5, \n",
    "    luminosity=60, \n",
    ")"
   ]
  },
  {
   "cell_type": "markdown",
   "metadata": {},
   "source": [
    "For our benchmark point, let us now look at how many particle decay inside the decay volume. We also export 1000 unweighted events as a HEPMC file. "
   ]
  },
  {
   "cell_type": "code",
   "execution_count": 10,
   "metadata": {
    "ExecuteTime": {
     "end_time": "2023-12-12T15:49:27.675832Z",
     "start_time": "2023-12-12T15:48:44.508745Z"
    }
   },
   "outputs": [
    {
     "ename": "IndexError",
     "evalue": "index 0 is out of bounds for axis 0 with size 0",
     "output_type": "error",
     "traceback": [
      "\u001b[0;31m---------------------------------------------------------------------------\u001b[0m",
      "\u001b[0;31mIndexError\u001b[0m                                Traceback (most recent call last)",
      "Cell \u001b[0;32mIn [10], line 9\u001b[0m\n\u001b[1;32m      1\u001b[0m setupnames \u001b[38;5;241m=\u001b[39m [\u001b[38;5;124m'\u001b[39m\u001b[38;5;124mPOWHEG-central\u001b[39m\u001b[38;5;124m'\u001b[39m, \u001b[38;5;124m'\u001b[39m\u001b[38;5;124mPOWHEG-max\u001b[39m\u001b[38;5;124m'\u001b[39m, \u001b[38;5;124m'\u001b[39m\u001b[38;5;124mPOWHEG-min\u001b[39m\u001b[38;5;124m'\u001b[39m]\n\u001b[1;32m      2\u001b[0m modes \u001b[38;5;241m=\u001b[39m {\n\u001b[1;32m      3\u001b[0m     \u001b[38;5;124m'\u001b[39m\u001b[38;5;124m511\u001b[39m\u001b[38;5;124m'\u001b[39m: [\u001b[38;5;124m'\u001b[39m\u001b[38;5;124mNLO-P8\u001b[39m\u001b[38;5;124m'\u001b[39m, \u001b[38;5;124m'\u001b[39m\u001b[38;5;124mNLO-P8-max\u001b[39m\u001b[38;5;124m'\u001b[39m, \u001b[38;5;124m'\u001b[39m\u001b[38;5;124mNLO-P8-min\u001b[39m\u001b[38;5;124m'\u001b[39m],\n\u001b[1;32m      4\u001b[0m     \u001b[38;5;124m'\u001b[39m\u001b[38;5;124m-511\u001b[39m\u001b[38;5;124m'\u001b[39m:[\u001b[38;5;124m'\u001b[39m\u001b[38;5;124mNLO-P8\u001b[39m\u001b[38;5;124m'\u001b[39m, \u001b[38;5;124m'\u001b[39m\u001b[38;5;124mNLO-P8-max\u001b[39m\u001b[38;5;124m'\u001b[39m, \u001b[38;5;124m'\u001b[39m\u001b[38;5;124mNLO-P8-min\u001b[39m\u001b[38;5;124m'\u001b[39m],\n\u001b[1;32m      5\u001b[0m     \u001b[38;5;124m'\u001b[39m\u001b[38;5;124m521\u001b[39m\u001b[38;5;124m'\u001b[39m: [\u001b[38;5;124m'\u001b[39m\u001b[38;5;124mNLO-P8\u001b[39m\u001b[38;5;124m'\u001b[39m, \u001b[38;5;124m'\u001b[39m\u001b[38;5;124mNLO-P8-max\u001b[39m\u001b[38;5;124m'\u001b[39m, \u001b[38;5;124m'\u001b[39m\u001b[38;5;124mNLO-P8-min\u001b[39m\u001b[38;5;124m'\u001b[39m],\n\u001b[1;32m      6\u001b[0m     \u001b[38;5;124m'\u001b[39m\u001b[38;5;124m-521\u001b[39m\u001b[38;5;124m'\u001b[39m:[\u001b[38;5;124m'\u001b[39m\u001b[38;5;124mNLO-P8\u001b[39m\u001b[38;5;124m'\u001b[39m, \u001b[38;5;124m'\u001b[39m\u001b[38;5;124mNLO-P8-max\u001b[39m\u001b[38;5;124m'\u001b[39m, \u001b[38;5;124m'\u001b[39m\u001b[38;5;124mNLO-P8-min\u001b[39m\u001b[38;5;124m'\u001b[39m],\n\u001b[1;32m      7\u001b[0m } \n\u001b[0;32m----> 9\u001b[0m momenta, weights, _ \u001b[38;5;241m=\u001b[39m \u001b[43mforesee\u001b[49m\u001b[38;5;241;43m.\u001b[39;49m\u001b[43mwrite_events\u001b[49m\u001b[43m(\u001b[49m\n\u001b[1;32m     10\u001b[0m \u001b[43m    \u001b[49m\u001b[43mmass\u001b[49m\u001b[43m \u001b[49m\u001b[38;5;241;43m=\u001b[39;49m\u001b[43m \u001b[49m\u001b[43mmass\u001b[49m\u001b[43m,\u001b[49m\u001b[43m \u001b[49m\n\u001b[1;32m     11\u001b[0m \u001b[43m    \u001b[49m\u001b[43mcoupling\u001b[49m\u001b[43m \u001b[49m\u001b[38;5;241;43m=\u001b[39;49m\u001b[43m \u001b[49m\u001b[43mcoupling\u001b[49m\u001b[43m,\u001b[49m\u001b[43m \u001b[49m\n\u001b[1;32m     12\u001b[0m \u001b[43m    \u001b[49m\u001b[43menergy\u001b[49m\u001b[43m \u001b[49m\u001b[38;5;241;43m=\u001b[39;49m\u001b[43m \u001b[49m\u001b[43menergy\u001b[49m\u001b[43m,\u001b[49m\u001b[43m \u001b[49m\n\u001b[1;32m     13\u001b[0m \u001b[43m    \u001b[49m\u001b[43mnumberevent\u001b[49m\u001b[43m \u001b[49m\u001b[38;5;241;43m=\u001b[39;49m\u001b[43m \u001b[49m\u001b[38;5;241;43m1000\u001b[39;49m\u001b[43m,\u001b[49m\n\u001b[1;32m     14\u001b[0m \u001b[43m    \u001b[49m\u001b[43mfilename\u001b[49m\u001b[43m \u001b[49m\u001b[38;5;241;43m=\u001b[39;49m\u001b[43m \u001b[49m\u001b[38;5;124;43m\"\u001b[39;49m\u001b[38;5;124;43mmodel/events/test.hepmc\u001b[39;49m\u001b[38;5;124;43m\"\u001b[39;49m\u001b[43m,\u001b[49m\u001b[43m \u001b[49m\n\u001b[1;32m     15\u001b[0m \u001b[43m    \u001b[49m\u001b[43mreturn_data\u001b[49m\u001b[43m \u001b[49m\u001b[38;5;241;43m=\u001b[39;49m\u001b[43m \u001b[49m\u001b[38;5;28;43;01mTrue\u001b[39;49;00m\u001b[43m,\u001b[49m\n\u001b[1;32m     16\u001b[0m \u001b[43m    \u001b[49m\u001b[43mweightnames\u001b[49m\u001b[38;5;241;43m=\u001b[39;49m\u001b[43msetupnames\u001b[49m\u001b[43m,\u001b[49m\n\u001b[1;32m     17\u001b[0m \u001b[43m    \u001b[49m\u001b[43mmodes\u001b[49m\u001b[38;5;241;43m=\u001b[39;49m\u001b[43mmodes\u001b[49m\u001b[43m,\u001b[49m\n\u001b[1;32m     18\u001b[0m \u001b[43m    \u001b[49m\u001b[43mnsample\u001b[49m\u001b[38;5;241;43m=\u001b[39;49m\u001b[38;5;241;43m100\u001b[39;49m\u001b[43m,\u001b[49m\n\u001b[1;32m     19\u001b[0m \u001b[43m)\u001b[49m\n\u001b[1;32m     21\u001b[0m \u001b[38;5;28;01mfor\u001b[39;00m isetup, setup \u001b[38;5;129;01min\u001b[39;00m \u001b[38;5;28menumerate\u001b[39m(setupnames):\n\u001b[1;32m     22\u001b[0m     \u001b[38;5;28mprint\u001b[39m(\u001b[38;5;124m\"\u001b[39m\u001b[38;5;124mExpected number of events for \u001b[39m\u001b[38;5;124m\"\u001b[39m\u001b[38;5;241m+\u001b[39msetup\u001b[38;5;241m+\u001b[39m\u001b[38;5;124m\"\u001b[39m\u001b[38;5;124m:\u001b[39m\u001b[38;5;124m\"\u001b[39m, \u001b[38;5;28mround\u001b[39m(\u001b[38;5;28msum\u001b[39m(weights[:,isetup]),\u001b[38;5;241m3\u001b[39m))\n",
      "File \u001b[0;32m~/work/FORESEE/Models/ALP-W/../../src/foresee.py:1106\u001b[0m, in \u001b[0;36mForesee.write_events\u001b[0;34m(self, mass, coupling, energy, filename, numberevent, zfront, nsample, seed, notime, t0, modes, return_data, extend_to_low_pt_scales, filetype, preselectioncuts, weightnames)\u001b[0m\n\u001b[1;32m   1104\u001b[0m \u001b[38;5;66;03m# get weighted sample of LLPs\u001b[39;00m\n\u001b[1;32m   1105\u001b[0m _, _, _, weighted_raw_data, weights \u001b[38;5;241m=\u001b[39m \u001b[38;5;28mself\u001b[39m\u001b[38;5;241m.\u001b[39mget_events(mass\u001b[38;5;241m=\u001b[39mmass, energy\u001b[38;5;241m=\u001b[39menergy, couplings \u001b[38;5;241m=\u001b[39m [coupling], nsample\u001b[38;5;241m=\u001b[39mnsample, modes\u001b[38;5;241m=\u001b[39mmodes, extend_to_low_pt_scales\u001b[38;5;241m=\u001b[39mextend_to_low_pt_scales, preselectioncuts\u001b[38;5;241m=\u001b[39mpreselectioncuts)\n\u001b[0;32m-> 1106\u001b[0m baseweights \u001b[38;5;241m=\u001b[39m \u001b[43mweights\u001b[49m\u001b[43m[\u001b[49m\u001b[38;5;241;43m0\u001b[39;49m\u001b[43m]\u001b[49m\u001b[38;5;241;43m.\u001b[39;49m\u001b[43mT\u001b[49m\u001b[43m[\u001b[49m\u001b[38;5;241;43m0\u001b[39;49m\u001b[43m]\u001b[49m\n\u001b[1;32m   1108\u001b[0m \u001b[38;5;66;03m# unweight sample\u001b[39;00m\n\u001b[1;32m   1109\u001b[0m weighted_combined_data \u001b[38;5;241m=\u001b[39m [[p,\u001b[38;5;241m0\u001b[39m \u001b[38;5;28;01mif\u001b[39;00m w[\u001b[38;5;241m0\u001b[39m]\u001b[38;5;241m==\u001b[39m\u001b[38;5;241m0\u001b[39m \u001b[38;5;28;01melse\u001b[39;00m w\u001b[38;5;241m/\u001b[39mw[\u001b[38;5;241m0\u001b[39m]] \u001b[38;5;28;01mfor\u001b[39;00m p,w \u001b[38;5;129;01min\u001b[39;00m \u001b[38;5;28mzip\u001b[39m(weighted_raw_data[\u001b[38;5;241m0\u001b[39m], weights[\u001b[38;5;241m0\u001b[39m])]\n",
      "\u001b[0;31mIndexError\u001b[0m: index 0 is out of bounds for axis 0 with size 0"
     ]
    }
   ],
   "source": [
    "setupnames = ['POWHEG-central', 'POWHEG-max', 'POWHEG-min']\n",
    "modes = {\n",
    "    '511': ['NLO-P8', 'NLO-P8-max', 'NLO-P8-min'],\n",
    "    '-511':['NLO-P8', 'NLO-P8-max', 'NLO-P8-min'],\n",
    "    '521': ['NLO-P8', 'NLO-P8-max', 'NLO-P8-min'],\n",
    "    '-521':['NLO-P8', 'NLO-P8-max', 'NLO-P8-min'],\n",
    "} \n",
    "\n",
    "momenta, weights, _ = foresee.write_events(\n",
    "    mass = mass, \n",
    "    coupling = coupling, \n",
    "    energy = energy, \n",
    "    numberevent = 1000,\n",
    "    filename = \"model/events/test.hepmc\", \n",
    "    return_data = True,\n",
    "    weightnames=setupnames,\n",
    "    modes=modes,\n",
    "    nsample=100,\n",
    ")\n",
    "\n",
    "for isetup, setup in enumerate(setupnames):\n",
    "    print(\"Expected number of events for \"+setup+\":\", round(sum(weights[:,isetup]),3))"
   ]
  },
  {
   "cell_type": "markdown",
   "metadata": {},
   "source": [
    "Let us plot the resulting energy distribution"
   ]
  },
  {
   "cell_type": "code",
   "execution_count": null,
   "metadata": {
    "ExecuteTime": {
     "end_time": "2023-12-12T15:49:33.883000Z",
     "start_time": "2023-12-12T15:49:33.463153Z"
    }
   },
   "outputs": [],
   "source": [
    "fig = plt.figure(figsize=(7,5))\n",
    "ax = plt.subplot(1,1,1)\n",
    "energies = [p.e for p in momenta], \n",
    "for isetup, setup in enumerate(setupnames):\n",
    "    ax.hist(energies, weights=weights[:,isetup], bins=np.logspace(2,4, 20+1), histtype='step', label=setup) \n",
    "ax.set_xscale(\"log\")\n",
    "ax.set_xlim(1e2,1e4) \n",
    "ax.set_xlabel(\"E [GeV]\") \n",
    "ax.set_ylabel(\"Number of Events per Bin\") \n",
    "ax.legend(frameon=False, labelspacing=0, fontsize=14, loc='upper left')\n",
    "plt.savefig(\"E_distribution_\"+modelname+\".pdf\")\n",
    "plt.show()"
   ]
  },
  {
   "cell_type": "markdown",
   "metadata": {},
   "source": [
    "## 3. Sensitivity Reach"
   ]
  },
  {
   "cell_type": "markdown",
   "metadata": {},
   "source": [
    "In the following, we will obtain the projected sensitivity for the LLP model. For this, we first define a grid of couplings and masses, and then produce the corresponding fluxes. "
   ]
  },
  {
   "cell_type": "code",
   "execution_count": null,
   "metadata": {
    "ExecuteTime": {
     "end_time": "2023-12-12T16:31:04.847110Z",
     "start_time": "2023-12-12T15:51:42.790431Z"
    }
   },
   "outputs": [],
   "source": [
    "masses=[round(x,5) for x in np.logspace(-2,0.2,22+1)]\n",
    "couplings = np.logspace(-8,-3,101) \n",
    "\n",
    "for mass in masses: foresee.get_llp_spectrum(mass=mass,coupling=1)"
   ]
  },
  {
   "cell_type": "markdown",
   "metadata": {},
   "source": [
    "We can now plot the `production rate vs mass` using the `foresee.plot_production()` function."
   ]
  },
  {
   "cell_type": "code",
   "execution_count": null,
   "metadata": {
    "ExecuteTime": {
     "end_time": "2023-12-12T16:31:56.044923Z",
     "start_time": "2023-12-12T16:31:04.850382Z"
    }
   },
   "outputs": [],
   "source": [
    "productions=[\n",
    "     {\"channels\": [\"130\",\"321\",\"-321\"], \"color\": \"blue\"   , \"label\": r\"$K \\to \\pi a$\"            , \"generators\": ['EPOSLHC', 'SIBYLL', 'QGSJET', 'Pythia8-Forward']},\n",
    "     {\"channels\": [\"511\",\"-511\"]      , \"color\": \"red\"    , \"label\": r\"$B^0   \\to X_s a + cc.$\"  , \"generators\": [\"NLO-P8\",\"NLO-P8-Max\",\"NLO-P8-Min\"]},\n",
    "     {\"channels\": [\"521\",\"-521\"]      , \"color\": \"orange\" , \"label\": r\"$B^\\pm \\to X_s a$\"        , \"generators\": [\"NLO-P8\",\"NLO-P8-Max\",\"NLO-P8-Min\"]},    \n",
    "     {\"channels\": [\"531\",\"-531\"]      , \"color\": \"green\"  , \"label\": r\"$B_s   \\to X_s a$\"        , \"generators\": [\"NLO-P8\",\"NLO-P8-Max\",\"NLO-P8-Min\"]},\n",
    "]\n",
    "\n",
    "plot=foresee.plot_production(\n",
    "    masses = masses,\n",
    "    productions = productions,\n",
    "    energy=energy,\n",
    "    condition=\"logth<-3.7 and logp>2\",  \n",
    "    xlims=[0.01,1],ylims=[1e6,1e9],\n",
    "    xlabel=r\"Mass [GeV]\",\n",
    "    ylabel=r\"Production Rate $\\sigma/g^2$ [pb]\",\n",
    "    title=r\"$\\theta < 0.2$ mrad and $E > 100$ GeV\",\n",
    "    legendloc=(0.97,1),\n",
    "    fs_label=12,\n",
    "    ncol=2,\n",
    ")\n",
    "plot.savefig(\"Production_\"+modelname+\".pdf\")"
   ]
  },
  {
   "cell_type": "markdown",
   "metadata": {},
   "source": [
    "Let us now scan over various masses and couplings, and record the resulting number of evets. Note that here we again consider the FASER configuration, which we set up before."
   ]
  },
  {
   "cell_type": "code",
   "execution_count": null,
   "metadata": {
    "ExecuteTime": {
     "end_time": "2023-12-12T20:48:03.639564Z",
     "start_time": "2023-12-12T16:33:39.480864Z"
    }
   },
   "outputs": [],
   "source": [
    "#get reach  \n",
    "list_nevents = {label:[] for label in setupnames}\n",
    "for mass in masses:\n",
    "    couplings, _, nevents, _, _  = foresee.get_events(mass=mass, energy=energy, couplings = couplings,modes=modes,nsample=10)\n",
    "    for i,label in enumerate(setupnames): list_nevents[label].append(nevents.T[i])  \n",
    "        \n",
    "#save results\n",
    "configuration='default'\n",
    "for label in setupnames: \n",
    "    result = np.array([masses,couplings,list_nevents[label]], dtype='object')\n",
    "    np.save(\"model/results/\"+energy+\"TeV_\"+configuration+\"_\"+label+\".npy\",result)"
   ]
  },
  {
   "cell_type": "markdown",
   "metadata": {},
   "source": [
    "We can now plot the results. For this, we first specify all detector setups for which we want to show result (filename in model/results directory, label, color, linestyle, opacity alpha for filled contours, required number of events)."
   ]
  },
  {
   "cell_type": "code",
   "execution_count": null,
   "metadata": {
    "ExecuteTime": {
     "end_time": "2023-12-12T20:48:42.409376Z",
     "start_time": "2023-12-12T20:48:42.372979Z"
    }
   },
   "outputs": [],
   "source": [
    "setups = [ \n",
    "    [\"13.6TeV_default_POWHEG-central.npy\", \"POWHEG (central)\", \"red\"     ,  \"solid\"  , 0., 3],\n",
    "    [\"13.6TeV_default_POWHEG-max.npy\"    , \"POWHEG (max)\"    , \"magenta\" ,  \"solid\"  , 0., 3],\n",
    "    [\"13.6TeV_default_POWHEG-min.npy\"    , \"POWHEG (min)\"    , \"orange\"  ,  \"solid\"  , 0., 3],\n",
    "]"
   ]
  },
  {
   "cell_type": "markdown",
   "metadata": {},
   "source": [
    "Then we specify all the existing bounds, separating the bounds obtained by experimental collaboratios and theory recasts. "
   ]
  },
  {
   "cell_type": "code",
   "execution_count": null,
   "metadata": {
    "ExecuteTime": {
     "end_time": "2023-12-12T20:53:19.273587Z",
     "start_time": "2023-12-12T20:53:19.264674Z"
    }
   },
   "outputs": [],
   "source": [
    "bounds = [   \n",
    "    [\"bounds_BaBar.txt\",       \"BaBar\",    0.30, 9.0e-5, 0       ],\n",
    "    [\"bounds_SN1987.txt\",      \"SN1987\",  0.065, 9.0e-7, 0       ],\n",
    "    [\"bounds_E137.txt\",        \"E137\",    0.100, 1.2*10**-6, -8  ],\n",
    "    [\"bounds_LEP.txt\",         \"LEP\",     0.650, 6.7*10**-4, 0   ],\n",
    "    [\"bounds_E949_displ.txt\",  \"E949\",    0.065, 9.0*10**-5, -9  ],\n",
    "    [\"bounds_NA62_1.txt\",      \"NA62\",    0.245, 4.5*10**-4, 90  ],\n",
    "    [\"bounds_NA62_2.txt\",      \"NA62\",    0.065, 9.2*10**-6, 2   ],\n",
    "    [\"bounds_KOTO.txt\",        \"KOTO\",    0.090, 3.4*10**-5, 2   ],\n",
    "    [\"bounds_KTEV.txt\",        \"KTEV\",    0.200, 4.5*10**-4, 90  ],\n",
    "    [\"bounds_NA6264.txt\",      \"+ NA48/2\",0.270, 2.5*10**-4, 90  ],\n",
    "    [\"bounds_E949_prompt.txt\", \"E949\",    0.065, 3.0*10**-6, -5  ],\n",
    "    [\"bounds_CDF.txt\",         \"CDF\",     0.065, 6.5*10**-4, -12 ],\n",
    "]"
   ]
  },
  {
   "cell_type": "markdown",
   "metadata": {},
   "source": [
    "We then specify other projected sensitivitities (filename in model/bounds directory, color, label, label position x, label position y, label rotation)"
   ]
  },
  {
   "cell_type": "code",
   "execution_count": null,
   "metadata": {
    "ExecuteTime": {
     "end_time": "2023-12-12T20:53:39.107325Z",
     "start_time": "2023-12-12T20:53:39.098708Z"
    }
   },
   "outputs": [],
   "source": [
    "projections = [\n",
    "    [\"limits_Belle2-3gamma.txt\",   \"royalblue\",   r\"Belle2 $3\\gamma$\"+ \"\\n\" +r\"50ab$^{-1}$\"  , 0.450, 2.1e-4, 0  ],\n",
    "    [\"limits_KOTO-2gamma.txt\",     \"cyan\",        r\"KOTO $2\\gamma$\"    , 0.090, 2.4e-4, 0  ],\n",
    "    [\"limits_KOTO-4gamma.txt\",     \"blue\",        r\"KOTO $4\\gamma$\"    , 0.115, 3.2e-4, 0  ],\n",
    "    [\"limits_NA62-0gamma1.txt\",    \"dodgerblue\",  r\"NA62 $0\\gamma$\"    , 0.220, 2.25e-5, 0  ],\n",
    "    [\"limits_NA62-0gamma2.txt\",    \"dodgerblue\",  None                 , 0    , 0     , 0  ],\n",
    "    [\"limits_LHC.txt\",             \"teal\",        r\"LHC $Z\\to3\\gamma$\" , 0.650, 5e-6  , 0  ],\n",
    "]\n"
   ]
  },
  {
   "cell_type": "markdown",
   "metadata": {},
   "source": [
    "We also want to show the branching fractions for some of the channels (name of file in model/br directory, color, line style, label, x-position, y-position)  "
   ]
  },
  {
   "cell_type": "code",
   "execution_count": null,
   "metadata": {
    "ExecuteTime": {
     "end_time": "2023-12-12T20:48:47.367009Z",
     "start_time": "2023-12-12T20:48:47.354021Z"
    }
   },
   "outputs": [],
   "source": [
    "branchings = [\n",
    "    [\"gamma_gamma\", \"black\", \"solid\", r\"$\\gamma\\gamma$\", 0.1, 0.3 ],\n",
    "    [\"e_e_gamma\"  , \"blue\" , \"solid\", r\"$ee\\gamma$\"    , 0.1, 0.02],\n",
    "]"
   ]
  },
  {
   "cell_type": "markdown",
   "metadata": {},
   "source": [
    "Finally, we can plot everything using `foresee.plot_reach()`. Here we also add the dark matter relict target line obtained in [2105.07077](https://arxiv.org/abs/2105.07077)."
   ]
  },
  {
   "cell_type": "code",
   "execution_count": null,
   "metadata": {
    "ExecuteTime": {
     "end_time": "2023-12-12T20:53:43.710818Z",
     "start_time": "2023-12-12T20:53:42.874803Z"
    }
   },
   "outputs": [],
   "source": [
    "plot, ax1, ax2 = foresee.plot_reach(\n",
    "    setups=setups,\n",
    "    bounds=bounds,\n",
    "    projections=projections,\n",
    "    branchings=branchings,\n",
    "    title=\"ALPs coupling to SU(2)L\", \n",
    "    xlims = [0.06,1], \n",
    "    ylims=[8e-7,0.001],    \n",
    "    xlabel=r\"ALP mass $m_{a}$ [GeV]\", \n",
    "    ylabel=r\"ALP coupling $g_{aWW}$ [1/GeV]\",\n",
    "    legendloc=(1,0.22),\n",
    "    figsize=(8,8),\n",
    ")\n",
    "\n",
    "plot.subplots_adjust(left=0.12, right=0.97, bottom=0.10, top=0.95)\n",
    "plot.savefig(\"Reach_\"+modelname+\".pdf\")\n",
    "plot.show()"
   ]
  },
  {
   "cell_type": "code",
   "execution_count": null,
   "metadata": {},
   "outputs": [],
   "source": []
  }
 ],
 "metadata": {
  "kernelspec": {
   "display_name": "Python 3 (ipykernel)",
   "language": "python",
   "name": "python3"
  },
  "language_info": {
   "codemirror_mode": {
    "name": "ipython",
    "version": 3
   },
   "file_extension": ".py",
   "mimetype": "text/x-python",
   "name": "python",
   "nbconvert_exporter": "python",
   "pygments_lexer": "ipython3",
   "version": "3.8.10"
  },
  "toc": {
   "base_numbering": 1,
   "nav_menu": {
    "height": "734px",
    "width": "465px"
   },
   "number_sections": true,
   "sideBar": true,
   "skip_h1_title": false,
   "title_cell": "Table of Contents",
   "title_sidebar": "Contents",
   "toc_cell": false,
   "toc_position": {},
   "toc_section_display": true,
   "toc_window_display": false
  }
 },
 "nbformat": 4,
 "nbformat_minor": 2
}
