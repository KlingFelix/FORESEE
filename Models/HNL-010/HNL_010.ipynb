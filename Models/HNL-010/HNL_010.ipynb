{
 "cells": [
  {
   "cell_type": "markdown",
   "metadata": {},
   "source": [
    "# FORESEE Models: Heavy Neutral Leptons (HNLs)"
   ]
  },
  {
   "cell_type": "markdown",
   "metadata": {},
   "source": [
    "## Load Libraries "
   ]
  },
  {
   "cell_type": "code",
   "execution_count": null,
   "metadata": {},
   "outputs": [],
   "source": [
    "import numpy as np\n",
    "import sys\n",
    "import os\n",
    "src_path = \"../../\"\n",
    "sys.path.append(src_path)\n",
    "from src.foresee import Foresee, Utility, Model\n",
    "from matplotlib import pyplot as plt\n",
    "\n",
    "from HeavyNeutralLepton import * "
   ]
  },
  {
   "cell_type": "markdown",
   "metadata": {},
   "source": [
    "## 1. Specifying the Model"
   ]
  },
  {
   "cell_type": "markdown",
   "metadata": {},
   "source": [
    "Heavy Neutral Leptons, denoted by $N$, are fermionic gauge singlets that can be added as an extenstion to the standard model. These HNLs mix with the SM active neutrinos, and thus pick up couplings to the SM which are suppresed by a small mixing angle, $U_\\alpha$ for $\\alpha = e, \\mu, \\tau$. The phenomenology of these interactions can be described by the following Lagrangian: \n",
    "\\begin{equation} \n",
    "\\mathcal{L} \\supset -{m_N} \\bar{N}^c N  - \\frac{1}{\\sqrt{2}}g\\sum_{\\alpha=e,\\mu,\\tau} {U^*_\\alpha}  W_\\mu^+  \\,\\overline{N^c} \\, \\gamma^\\mu l_\\alpha  - \\frac{1}{2\\cos\\theta_W}g\\sum_{\\alpha=e,\\mu,\\tau} {U^*_\\alpha} Z_\\mu  \\overline{N^c}\\, \\gamma^\\mu \\nu_\\alpha+ \\text{h.c.} . \n",
    "\\end{equation}\n",
    "\n",
    "In principle, this model has four free parameters: the mass $m_N$ and the three mixing angles $U_\\alpha$. In practice, however, we will therefore impose some relations between the mixing angles to reduce the number of free parameters. In particular, we define $U_\\alpha = g \\times V_\\alpha$ with $V_\\alpha= \\hat{U}_\\alpha$ being the normalized coupling vector, so $|V_\\alpha|=1$. Using this definition, we have the HNL mass $m_N$ and the coupling parameter $g$ as free parameters. "
   ]
  },
  {
   "cell_type": "code",
   "execution_count": null,
   "metadata": {},
   "outputs": [],
   "source": [
    "energy = \"13.6\"\n",
    "modelname=\"HNL-010\"\n",
    "model = Model(modelname, path=\"./\")"
   ]
  },
  {
   "cell_type": "markdown",
   "metadata": {},
   "source": [
    "**Model Initialization:** The production and decay rates of the HNL depend not only on the choice of $m_N$ and $g$, but also $V_\\alpha$. In addition, the number of production modes in sgificantly larger than in other models. To simplify the process of setting up the model we provide the class `HeavyNeutralLepton(ve, vmu, vtau)`. Here `ve`, `vmu` and `vtau` correspond to the three entries of $V_\\alpha$. In the following case, we choose $V_e=1$ and $V_\\mu=V_\\tau=0$. We also define the generators for light/heavy hadrons. "
   ]
  },
  {
   "cell_type": "code",
   "execution_count": null,
   "metadata": {},
   "outputs": [],
   "source": [
    "hnl = HeavyNeutralLepton(ve=0, vmu=1, vtau=0)\n",
    "hnl.set_generators(\n",
    "    generators_light = ['EPOSLHC', 'SIBYLL', 'QGSJET'],\n",
    "    generators_heavy = ['NLO-P8','NLO-P8-Max', 'NLO-P8-Min']\n",
    ")"
   ]
  },
  {
   "cell_type": "markdown",
   "metadata": {},
   "source": [
    "**Production:** The leptonic two body decay of a pseudoscalar meson $P \\to l N$ is a dominant production mechanism for HNL's. In addition, HNLs with non-vanishing coupling to taus can be produced in two body tau decays $\\tau \\to M N$ with $M = \\pi, K, \\rho, K^*$. We can load all the non-vanishing channels using `hnl.get_channels_2body()`. \n",
    "\n",
    "Additionally, HNLs can be produced through three body pseudoscalar meson decay $P \\to P'lN, VlN$ or through three body tau decays $\\tau \\to l \\nu N$. The non-vanishing three body channels can likewise be loaded using `hnl.get_channels_3body()`. "
   ]
  },
  {
   "cell_type": "code",
   "execution_count": null,
   "metadata": {},
   "outputs": [],
   "source": [
    "production_channels = []\n",
    "for label, pid0, pid1, br, generator, description in hnl.get_channels_2body():\n",
    "    print ('include:', description)\n",
    "    model.add_production_2bodydecay(\n",
    "        label = label,\n",
    "        pid0 = pid0,\n",
    "        pid1 = pid1,\n",
    "        br = br,\n",
    "        generator = generator,\n",
    "        energy = energy,\n",
    "        nsample = 2,\n",
    "    )\n",
    "    production_channels.append([label, None, description])\n",
    "\n",
    "for label, pid0, pid1, pid2,br,generator,integration,description in hnl.get_channels_3body():\n",
    "    print ('include:', description)\n",
    "    model.add_production_3bodydecay(\n",
    "        label = label,\n",
    "        pid0 = pid0,\n",
    "        pid1 = pid1,\n",
    "        pid2 = pid2,\n",
    "        br = br,\n",
    "        generator = generator,\n",
    "        energy = energy,\n",
    "        nsample = 2,\n",
    "        integration = integration,\n",
    "    )\n",
    "    production_channels.append([label, None, description])"
   ]
  },
  {
   "cell_type": "markdown",
   "metadata": {},
   "source": [
    "**Decay:** HNLs can decay into purely leptonic finalstates, $\\nu\\, l_\\alpha^+ l_\\beta^-$ or $\\nu\\nu\\nu$, and Hadronic finalstates, $\\nu H^0 (q\\overline{q})$ or $l^\\pm H^\\mp (q\\overline{q}')$,   with a decay width proportional to $g^2$. Since we are considering Majorana HNLs, LNV decays are included. We implemented the decay formulas given in [1905.00284](https://arxiv.org/abs/1905.00284). The function `hnl.get_br_and_ctau()` is used to generate the decay branching fractions and lifetimes and stores them in the `model/br` and `model/ctau` folders respectively. The function `hnl.set_brs()` provides the input needed to load the branching fractions into FORESEE. "
   ]
  },
  {
   "cell_type": "code",
   "execution_count": null,
   "metadata": {},
   "outputs": [],
   "source": [
    "hnl.get_br_and_ctau()"
   ]
  },
  {
   "cell_type": "code",
   "execution_count": null,
   "metadata": {},
   "outputs": [],
   "source": [
    "model.set_ctau_1d(\n",
    "    filename=f\"model/ctau/ctau.txt\",\n",
    "    coupling_ref=1 \n",
    ")\n",
    "\n",
    "modes,finalstates,filenames = hnl.set_brs()\n",
    "\n",
    "model.set_br_1d(\n",
    "    modes=modes,\n",
    "    finalstates=finalstates,\n",
    "    filenames=filenames\n",
    ")"
   ]
  },
  {
   "cell_type": "markdown",
   "metadata": {},
   "source": [
    "We can now initiate FORESEE with the model that we just created. "
   ]
  },
  {
   "cell_type": "code",
   "execution_count": null,
   "metadata": {},
   "outputs": [],
   "source": [
    "foresee = Foresee()\n",
    "foresee.set_model(model=model)"
   ]
  },
  {
   "cell_type": "markdown",
   "metadata": {},
   "source": [
    "We can see what the branching fractions look like for each of the production channels. Here we only plot the first 20 channels in 'production_channels'. "
   ]
  },
  {
   "cell_type": "code",
   "execution_count": null,
   "metadata": {},
   "outputs": [],
   "source": [
    "foresee.plot_production_branchings(\n",
    "    masses = np.logspace(-1,1,21), \n",
    "    productions = production_channels[:20],\n",
    "    xlims=[.1,50],ylims=[1e-7,10],\n",
    "    xlabel=r\"$m_N$ (GeV)\", \n",
    "    ylabel=r\"Branching Fraction for g=1\",\n",
    "    nsample=10,\n",
    "    fs_label=10,\n",
    "     figsize=(8,6)\n",
    ")"
   ]
  },
  {
   "cell_type": "markdown",
   "metadata": {},
   "source": [
    "## 2. Event Generation"
   ]
  },
  {
   "cell_type": "markdown",
   "metadata": {},
   "source": [
    "In the following, we want to study one specific benchmark point with $m_{N}=1$ GeV and $\\epsilon=3\\cdot 10^{-5}$ and export events as a HEPMC file. "
   ]
  },
  {
   "cell_type": "code",
   "execution_count": null,
   "metadata": {},
   "outputs": [],
   "source": [
    "mass, coupling, = 1.0, 3e-5"
   ]
  },
  {
   "cell_type": "markdown",
   "metadata": {},
   "source": [
    "First, we will produce the corresponding flux for this mass and a reference coupling $\\epsilon_{ref}=1$. "
   ]
  },
  {
   "cell_type": "code",
   "execution_count": null,
   "metadata": {},
   "outputs": [],
   "source": [
    "plot=foresee.get_llp_spectrum(mass=mass, coupling=1.0, do_plot=True, save_file=True)\n",
    "plot.show()"
   ]
  },
  {
   "cell_type": "markdown",
   "metadata": {},
   "source": [
    "Next, let us define the configuration of the detector (in terms of position, size and luminosity). Here we choose FASER during LHC Run 3. "
   ]
  },
  {
   "cell_type": "code",
   "execution_count": null,
   "metadata": {},
   "outputs": [],
   "source": [
    "foresee.set_detector(\n",
    "    distance=480, \n",
    "    selection=\"np.sqrt(x.x**2 + x.y**2)<1\", \n",
    "    length=1.5, \n",
    "    luminosity=250,\n",
    ")"
   ]
  },
  {
   "cell_type": "markdown",
   "metadata": {},
   "source": [
    "For our benchmark point, let us now look at how many particle decay inside the decay volume. We also export 1000 unweighted events as a HEPMC file. "
   ]
  },
  {
   "cell_type": "code",
   "execution_count": null,
   "metadata": {},
   "outputs": [],
   "source": [
    "setupnames = ['POWHEG-central', 'POWHEG-max', 'POWHEG-min']\n",
    "\n",
    "momenta, weights, _ = foresee.write_events(\n",
    "    mass = mass, \n",
    "    coupling = coupling, \n",
    "    energy = energy, \n",
    "    numberevent = 1000,\n",
    "    filename = \"model/events/test.hepmc\", \n",
    "    return_data = True,\n",
    "    nsample=10,\n",
    ")\n",
    "\n",
    "for isetup, setup in enumerate(setupnames):\n",
    "    print(\"Expected number of events for \"+setup+\":\", round(sum(weights[:,isetup]),3))"
   ]
  },
  {
   "cell_type": "markdown",
   "metadata": {},
   "source": [
    "Let us plot the resulting energy distribution"
   ]
  },
  {
   "cell_type": "code",
   "execution_count": null,
   "metadata": {},
   "outputs": [],
   "source": [
    "fig = plt.figure(figsize=(7,5))\n",
    "ax = plt.subplot(1,1,1)\n",
    "energies = [p.e for p in momenta], \n",
    "for isetup, setup in enumerate(setupnames):\n",
    "    ax.hist(energies, weights=weights[:,isetup], bins=np.logspace(2,4, 20+1), histtype='step', label=setup) \n",
    "ax.set_xscale(\"log\")\n",
    "ax.set_xlim(1e2,1e4) \n",
    "ax.set_xlabel(\"E [GeV]\") \n",
    "ax.set_ylabel(\"Number of Events per Bin\") \n",
    "ax.legend(frameon=False, labelspacing=0, fontsize=14, loc='upper right')\n",
    "plt.show()"
   ]
  },
  {
   "cell_type": "markdown",
   "metadata": {},
   "source": [
    "## 3. Sensitivity Reach"
   ]
  },
  {
   "cell_type": "markdown",
   "metadata": {},
   "source": [
    "In the following, we will obtain the projected sensitivity for the LLP model. For this, we first define a grid of couplings and masses, and then produce the corresponding fluxes. "
   ]
  },
  {
   "cell_type": "code",
   "execution_count": null,
   "metadata": {},
   "outputs": [],
   "source": [
    "masses = np.logspace(-1,1,10+1)\n",
    "for mass in masses: foresee.get_llp_spectrum(mass=mass,coupling=1)"
   ]
  },
  {
   "cell_type": "markdown",
   "metadata": {},
   "source": [
    "We can now plot the `production rate vs mass` using the `foresee.plot_production()` function."
   ]
  },
  {
   "cell_type": "code",
   "execution_count": null,
   "metadata": {},
   "outputs": [],
   "source": [
    "productions = [\n",
    "    {\"channels\": [c[0] for c in production_channels if ((\"2body_4\" in c[0]) or (\"2body_-4\" in c[0])) ], \"color\": \"red\"  , \"label\": r\"$D \\to \\ell N$\"  , \"generators\": ['NLO-P8','NLO-P8-Max', 'NLO-P8-Min']  },\n",
    "    {\"channels\": [c[0] for c in production_channels if ((\"2body_5\" in c[0]) or (\"2body_-5\" in c[0])) ], \"color\": \"blue\" , \"label\": r\"$B \\to \\ell N$\"  , \"generators\": ['NLO-P8','NLO-P8-Max', 'NLO-P8-Min']  },\n",
    "    {\"channels\": [c[0] for c in production_channels if ((\"2body_3\" in c[0]) or (\"2body_-3\" in c[0])) ], \"color\": \"green\", \"label\": r\"$K \\to \\ell N$\"  , \"generators\": ['EPOSLHC', 'SIBYLL', 'QGSJET'] },\n",
    "    ]\n",
    "\n",
    "_=foresee.plot_production(\n",
    "    masses=masses, \n",
    "    productions = productions, \n",
    "    condition=\"True\", \n",
    "    energy=energy,\n",
    "    xlims=[0.1,10],\n",
    "    ylims=[1e2,1e11],\n",
    "    xlabel=r\"$m_N (GeV)$\", \n",
    "    ylabel=r\"$\\sigma (pb)$\",\n",
    "    figsize=(7,5), \n",
    "    fs_label=14, \n",
    "    title=None, \n",
    "    legendloc=None, \n",
    "    dolegend=True, \n",
    "    ncol=1,\n",
    ")"
   ]
  },
  {
   "cell_type": "markdown",
   "metadata": {},
   "source": [
    "Let us now scan over various masses and couplings, and record the resulting number of events. Here we are iterating over various detector configurations: FASER Run 3, FASER HL-LHC, and FASER2 HL-LHC. "
   ]
  },
  {
   "cell_type": "code",
   "execution_count": null,
   "metadata": {},
   "outputs": [],
   "source": [
    "visible_modes = [mode for mode in list(model.br_finalstate.keys()) if mode != ('nu', 'nu', 'nu')]\n",
    "couplings = np.logspace(-5,0,50+1)\n",
    "\n",
    "detectors = [\n",
    "    [\"R3_FASER\", 480, \"np.sqrt(x.x**2 + x.y**2)< .1\", 1.5, 250 ,  visible_modes],\n",
    "    [\"HL_FASER\"  , 480, \"np.sqrt(x.x**2 + x.y**2)< .1\", 1.5, 3000,  visible_modes],\n",
    "    [\"HL_FASER2\" , 620, \"-1.5<x.x<1.5 and -.5<x.y<.5\" , 10 , 3000,  visible_modes],\n",
    "]\n",
    "\n",
    "for detector in detectors: \n",
    "    \n",
    "    #setup detector\n",
    "    dlabel, distance, selection, length, luminosity, channels  = detector\n",
    "    foresee.set_detector(distance=distance, selection=selection, length=length, luminosity=luminosity, channels=channels)\n",
    "    \n",
    "    #get reach \n",
    "    list_nevents = {label:[] for label in setupnames}\n",
    "    for mass in masses:\n",
    "        couplings, _, nevents, _, _  = foresee.get_events(mass=mass, energy=energy, couplings = couplings, nsample=2)\n",
    "        for i,label in enumerate(setupnames): list_nevents[label].append(nevents.T[i])  \n",
    "\n",
    "    #save results\n",
    "    for label in setupnames: \n",
    "        result = np.array([masses,couplings,list_nevents[label]], dtype='object')\n",
    "        np.save(\"model/results/\"+energy+\"TeV_\"+dlabel+\"_\"+label+\".npy\",result)"
   ]
  },
  {
   "cell_type": "markdown",
   "metadata": {},
   "source": [
    "We can now plot the results. For this, we first specify all detector setups for which we want to show result (filename in model/results directory, label, color, linestyle, opacity alpha for filled contours, required number of events)."
   ]
  },
  {
   "cell_type": "code",
   "execution_count": null,
   "metadata": {},
   "outputs": [],
   "source": [
    "setups = [ \n",
    "    [f\"13.6TeV_R3_FASER_POWHEG-central.npy\"  ,  r\"FASER (Run 3)\"      , \"firebrick\"  ,  \"solid\"   , 0., 3],\n",
    "    [f\"13.6TeV_HL_FASER_POWHEG-central.npy\"  ,  r\"FASER (HL-LHC)\"     , \"red\"        ,  \"solid\"   , 0., 3],\n",
    "    [f\"13.6TeV_HL_FASER2_POWHEG-central.npy\" ,  r\"FASER2 (HL-LHC)\"    , \"salmon\"     ,  \"solid\"   , 0., 3],\n",
    "    [f\"13.6TeV_R3_FASER_POWHEG-min.npy\"      ,  \"\"                    , \"firebrick\"  ,  \"dashed\"  , 0., 3],\n",
    "    [f\"13.6TeV_HL_FASER_POWHEG-min.npy\"      ,  \"\"                    , \"red\"        ,  \"dashed\"  , 0., 3],\n",
    "    [f\"13.6TeV_HL_FASER2_POWHEG-min.npy\"     ,  \"\"                    , \"salmon\"     ,  \"dashed\"  , 0., 3],\n",
    "    [f\"13.6TeV_R3_FASER_POWHEG-max.npy\"      ,  \"\"                    , \"firebrick\"  ,  \"dotted\"  , 0., 3],\n",
    "    [f\"13.6TeV_HL_FASER_POWHEG-max.npy\"      ,  \"\"                    , \"red\"        ,  \"dotted\"  , 0., 3],\n",
    "    [f\"13.6TeV_HL_FASER2_POWHEG-max.npy\"     ,  \"\"                    , \"salmon\"     ,  \"dotted\"  , 0., 3],\n",
    "]"
   ]
  },
  {
   "cell_type": "markdown",
   "metadata": {},
   "source": [
    "We also want to show the branching fractions for some of the channels (name of file in model/br directory, color, line style, label, x-position, y-position)."
   ]
  },
  {
   "cell_type": "code",
   "execution_count": null,
   "metadata": {},
   "outputs": [],
   "source": [
    "branchings = [\n",
    "    [('nu', 'nu', 'nu')      , \"black\"         , \"solid\" , r\"$\\nu \\nu \\nu$\"      , .2,   0.06],\n",
    "    [('nu', 'e', 'anti_e')   , \"red\"           , \"solid\" , r\"$\\nu e^+ e^-$\"      , 5.0,  0.08],\n",
    "    [('nu', 'mu', 'anti_mu') , \"orange\"        , \"solid\" , r\"$\\nu \\mu^+ \\mu^-$\"  , 1.7,  2e-2],\n",
    "    [('e', 'anti_mu', 'nu')  , \"purple\"        , \"solid\" , r\"$\\nu e^+ \\mu^-$\"    , 5.0, 0.025],\n",
    "    [('nu', 'pi0')           , \"blue\"          , \"solid\" , r\"$\\nu \\pi^0$\"        , .2,   0.50],\n",
    "    [('mu', 'pi+')            , \"green\"         , \"solid\" , r\"$\\mu^- \\pi^+ $\"       , .2,   0.13],\n",
    "]\n",
    "branchingsother=['gray', 'solid', 'other', 1.2, 0.3, [0.1,10]]"
   ]
  },
  {
   "cell_type": "markdown",
   "metadata": {},
   "source": [
    "Finally, we can plot everything using `foresee.plot_reach()`. The function `hnl.get_bounds()` is used to import existing constraints.  \n",
    "\n",
    "**The 'other' BR line is pretty large, especially at low masses. Can you check what's missing and add it? (Daniel: Will fix this when hadronic decays are fixed.) **"
   ]
  },
  {
   "cell_type": "code",
   "execution_count": null,
   "metadata": {},
   "outputs": [],
   "source": [
    "plot,ax, ax2 = foresee.plot_reach(\n",
    "    setups=setups,\n",
    "    bounds=hnl.get_bounds(),\n",
    "    projections=[],\n",
    "    branchings = branchings,\n",
    "    title=\"HNL's\",\n",
    "    xlims = [0.1, 10], \n",
    "    ylims = [1e-5, 1e-2],\n",
    "    xlabel=r\"$m_{N}$ (GeV)\", \n",
    "    ylabel=r\"$\\epsilon$\",\n",
    "    legendloc=(1,0.2),\n",
    "    figsize=(8,8),\n",
    "    branchingsother=branchingsother,\n",
    ")\n",
    "\n",
    "plot.savefig(\"Reach_\"+modelname+\".pdf\")\n",
    "plot.show()"
   ]
  },
  {
   "cell_type": "code",
   "execution_count": null,
   "metadata": {},
   "outputs": [],
   "source": []
  }
 ],
 "metadata": {
  "kernelspec": {
   "display_name": "Python 3 (ipykernel)",
   "language": "python",
   "name": "python3"
  },
  "language_info": {
   "codemirror_mode": {
    "name": "ipython",
    "version": 3
   },
   "file_extension": ".py",
   "mimetype": "text/x-python",
   "name": "python",
   "nbconvert_exporter": "python",
   "pygments_lexer": "ipython3",
   "version": "3.9.17"
  }
 },
 "nbformat": 4,
 "nbformat_minor": 4
}
