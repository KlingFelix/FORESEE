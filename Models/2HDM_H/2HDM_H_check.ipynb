{
 "cells": [
  {
   "cell_type": "markdown",
   "metadata": {},
   "source": [
    "# FORESEE Models: light scalar H of the Type-I 2HDM "
   ]
  },
  {
   "cell_type": "markdown",
   "metadata": {},
   "source": [
    "## Load Libraries "
   ]
  },
  {
   "cell_type": "code",
   "execution_count": 1,
   "metadata": {},
   "outputs": [],
   "source": [
    "import sys, os\n",
    "src_path = \"../../\"\n",
    "sys.path.append(src_path)\n",
    "\n",
    "import numpy as np\n",
    "from src.foresee import Foresee, Utility, Model\n",
    "from matplotlib import pyplot as plt"
   ]
  },
  {
   "cell_type": "markdown",
   "metadata": {},
   "source": [
    "## 1. Specifying the Model "
   ]
  },
  {
   "cell_type": "markdown",
   "metadata": {},
   "source": [
    "In this notebook, we consider a light scalar $H$ of the the type-I 2HDM. Unlike for other types of 2HDMs, in this case the scalar becomes very weakly coupled for large values of $\\tan\\beta$ and small values of $\\cos(\\beta-\\alpha)$. This has two consequences: i) such particle can avoid existing constrains, and ii) its lifetime can be macroscopic which allows us to probe such particle via long-lived particles searches. \n",
    "\n",
    "In the more general case, the phenomenology of the light scalar $H$ can be described by the following Lagrangian\n",
    "\n",
    "\\begin{equation}\n",
    " \\mathcal{L} =  - m_{H^+}^2 H^+ H^- - \\frac{1}{2} m_{H}^2 H^2  -  \\sum_f  \\frac{s_\\alpha}{c_\\beta}y_f \\ \\bar f f  H  - c_{\\beta-\\alpha} \\frac{2m_W}{v} H W^{\\mu+} W^-_\\mu - c_{\\beta-\\alpha} \\frac{m_Z}{v} H Z^{\\mu} Z_\\mu - \\lambda_{H H^+ H^-} H H^+ H^- - \\lambda_{h H H} h H H\n",
    "\\end{equation}\n",
    "\n",
    "with the Higgs mass $m_{H}$, the mixing parameter $\\tan\\theta$ and $c_{\\beta-\\alpha}$ as free parameters. Additionally, we have the tri-linear coupling $\\lambda_{H H^+ H^-}$ and $\\lambda_{h H H}$, which depend on the masses an coupling parameters of the 2HDM. In particular, the value of $\\lambda_{H H^+ H^-}$ has an impact on decay width into di-photons. \n",
    "\n",
    "To reduce the dimensionality of the parameter space and to avoid existing constraints, we make a serious of assumptions:\n",
    "- We us choose $\\lambda v^2 = 0$ which avoids the vaccum stability and perturbative unitarity bounds. This implies $\\lambda_{H H^{+} H^{-} } = - 2 m_{H^{\\pm}}^{2}/v \\times c_{\\beta-\\alpha}$\n",
    "- We choose $m_A = m_H^+ = 600$ GeV, which avoids bounds from EWPM while remaining allowed with flavour constraints from $b \\to s \\gamma$. \n",
    "- We choose $\\cos_{\\beta-\\alpha}=1/\\tan\\beta$, which leads to a suppressed SM Higgs decay branching fraction into the light Higgs at high values of $\\tan\\beta$: ${\\rm Br}(h\\to HH) = 25/\\tan^4\\beta$.\n",
    "\n",
    "In this scenario, the Lagrangian becomes\n",
    "\\begin{equation}\n",
    " \\mathcal{L} =  - \\frac{1}{2} \\color{red}{m_{H}}^2 H^2  -  \\sum_f \\frac{1}{2 \\color{red}{\\tan^2\\beta}} y_f \\ \\bar f f  H  - \\frac{1}{\\color{red}{\\tan\\beta}}\\frac{2m_W}{v} H W^{\\mu+} W^-_\\mu - \\frac{1}{\\color{red}{\\tan\\beta}} \\frac{m_Z}{v} H Z^{\\mu} Z_\\mu - \\frac{2 m_{H^{\\pm}}^{2} }{v \\color{red}{\\tan\\beta}} H H^+ H^- - \\frac{m_h^2 }{ 4 v \\color{red}{\\tan^2\\beta}} h H H\n",
    "\\end{equation}\n",
    "\n",
    "with the light scalar mass $m_H$ and the coupling parameter $\\tan\\beta$ as the only free parameters. "
   ]
  },
  {
   "cell_type": "code",
   "execution_count": 2,
   "metadata": {},
   "outputs": [],
   "source": [
    "energy = \"13.6\"\n",
    "modelname = \"2HDM_H\"\n",
    "model = Model(modelname)"
   ]
  },
  {
   "cell_type": "markdown",
   "metadata": {},
   "source": [
    "**Production**  The light Higgs is produced in the FCNC B-meson decays. Let us consider the following interaction Lagrangian \n",
    "\n",
    "\n",
    "\\begin{equation}\n",
    " \\mathcal{L}_{H sb}=g_{\\phi sb} H \\, ( \\bar{s}_L b_R + \\bar{b}_L s_R) = \\xi_{H sb} \\frac{m_b}{v} H \\, ( \\bar{s}_L b_R + \\bar{b}_L s_R)  \\ . \n",
    "\\end{equation}\n",
    "\n",
    "Following the recommendation of the [2309.12793](https://arxiv.org/abs/2309.12793) App. C, the decay branching fraction in the spectator model is\n",
    "\n",
    "\\begin{equation}\n",
    "BR_{B \\rightarrow X_s\\phi} = \\frac{1}{\\Gamma_B}  \\frac{(m_B^2-m_\\phi^2)^2}{32\\pi\\,m_B^3}\\, |g_{\\phi sb}|^2  \n",
    "\\end{equation}\n",
    "\n",
    "\n",
    "The FCNC coupling is given in Eq 4.21 of [2212.06186](https://arxiv.org/abs/2212.06186) (where we make the substitution $g= \\xi \\times m_b / v) $: \n",
    "\n",
    "\\begin{equation}\n",
    "g_{H s b}=- \\frac{m_b}{4\\pi^2 v^3} \\sum_k V_{ki}^* V_{kj} m_k^2  \\left[ g_1(x_k, x_{H^\\pm}) \\cos(\\beta-\\alpha)   -g_2(x_k, x_{H^\\pm})\\sin(\\beta-\\alpha)-g_0(x_k, x_{H^\\pm}) \\frac{2v}{m_W^2} \\lambda_{H H^+ H^-}   \\right]  \n",
    "\\end{equation}\n",
    "\n",
    "with \n",
    "\n",
    "\\begin{aligned}\n",
    " \\frac{2v}{m_W^2} \\lambda_{H^{+} H^{-} H}&=-\\frac{2}{m_W^2}\\left(2 m_{H^{\\pm}}^{2}-m_{H}^{2}\\right) c_{\\beta-\\alpha} \\approx -\\frac{4 m_{H^\\pm}^2}{ m_W^2 \\tan\\beta} = -\\frac{4 x_{H^\\pm}}{ \\tan\\beta}  \\\\\n",
    " X_1(x_k, x_{H^\\pm})&=-\\frac{1}{4}\\left\\{ \\left[\\frac{x_{H^\\pm}}{x_{H^\\pm}-x_k}-\\frac{6}{(x_k-1)^2}+3\\right]-\\frac{x_{H^\\pm}(3x_{H^\\pm}-2 x_k)}{(x_{H^\\pm}-x_k)^2}\\log x_{H^\\pm}  +\\left[\\frac{x_{H^\\pm}(3x_{H^\\pm}-2x_k)}{(x_{H^\\pm}-x_k)^2}+\\frac{3 (x_k+1)}{(x_k-1)^3}\\right]\\log x_k\\right\\}, \\\\\n",
    "    X_2(x_k, x_{H^\\pm})&=\\frac{x_k(5x_{H^\\pm}-3x_k)}{4(x_{H^\\pm}-x_k)^2}-\\frac{x_{H^\\pm}x_k(2 x_{H^\\pm}-x_k)}{2 (x_{H^\\pm}-x_k)^3}\\log\\frac{x_{H^\\pm}}{x_k}, \\\\\n",
    " g_0(x_k, x_{H^\\pm}) &=-\\cot^2\\beta\\frac{3x_{H^\\pm}^2-4x_{H^\\pm}x_k+x_k^2-2x_k(2x_{H^\\pm}-x_k)\\log\\frac{x_{H^\\pm}}{x_k}}{16 (x_{H^\\pm}-x_k)^3}, \\\\\n",
    " g_1(x_k, x_{H^\\pm}) &=-\\frac{3}{4}+\\cot^2\\beta\\frac{x_k\\left[5x_{H^\\pm}^2-8x_{H^\\pm}x_k+3x_k^2-2x_{H^\\pm}(2x_{H^\\pm}-x_k) \\log\\frac{x_{H^\\pm}}{x_k}\\right]}{4(x_{H^\\pm}-x_k)^3}, \\\\\n",
    " g_2(x_k, x_{H^\\pm}) &=\\cot\\beta X_1(x_k, x_{H^\\pm})+\\cot^3\\beta X_2(x_k, x_{H^\\pm}),\n",
    "\\end{aligned}\n",
    "\n",
    "Using $x_t = m_t^2/m_W^2$ and $x_{H^\\pm} = m_{H^\\pm}^2/m_W^2$ with $m_H^+=600$ GeV we get\n",
    "\n",
    "\\begin{aligned}\n",
    " \\frac{2v}{m_W^2} \\lambda_{H^{+} H^{-} H}&= -\\frac{222.76}{ \\tan\\beta}  \\\\\n",
    " g_0(x_k, x_{H^\\pm}) &=-\\frac{0.0027314}{\\tan^2\\beta}  \\\\\n",
    " g_1(x_k, x_{H^\\pm}) &=-\\frac{3}{4}- \\frac{0.1415}{\\tan^2\\beta} \\\\\n",
    " g_2(x_k, x_{H^\\pm}) &=\\frac{1.0386}{\\tan\\beta} - \\frac{0.1415}{\\tan^3\\beta} \n",
    "\\end{aligned}\n",
    "\n",
    "Putting everything together, we get \n",
    "\n",
    "\\begin{equation}\n",
    "g_{H s b}= -9.86 \\cdot 10^{-6} \\times \\left[ -\\frac{3}{4\\tan\\beta}- \\frac{0.1415}{\\tan^3\\beta} - \\left(\\frac{1.0386}{\\tan\\beta} - \\frac{0.1415}{\\tan^3\\beta}\\right)\\times \\left(1- \\frac{1}{\\tan^2\\beta} \\right)^{1/2} - \\frac{0.608446664}{\\tan^3\\beta} \\right]  \n",
    "\\end{equation}\n",
    "\n",
    "and \n",
    "\n",
    "\\begin{aligned}\n",
    "BR_{B \\rightarrow X_s\\phi} & =\\left(1 -\\frac{m_\\phi^2}{m_B^2} \\right)^2  \\frac{m_B}{\\Gamma_B}  \\frac{1}{32\\pi }\\, |g_{\\phi sb}|^2  \\\\\n",
    "& = 9.6854\\cdot 10^{-13} \\times \\left(1 -\\frac{m_\\phi^2}{m_B^2} \\right)^2  \\frac{m_B}{\\Gamma_B} \\times \\left[ -\\frac{3}{4\\tan\\beta}- \\frac{0.1415}{\\tan^3\\beta} - \\left(\\frac{1.0386}{\\tan\\beta} - \\frac{0.1415}{\\tan^3\\beta}\\right)\\times \\left(1- \\frac{1}{\\tan^2\\beta} \\right)^{1/2} - \\frac{0.608446664}{\\tan^3\\beta} \\right]^2\n",
    "\\end{aligned}\n",
    "\n",
    "\n",
    "\n",
    "**NOTE: IN THE ORIGINAL VERSION OF THE NOTEBOOK, WE WERE EFFECTIVELY USING. WE USE THE SAME HERE. BUT THIS SHOULD BE FIXED!**\n",
    "\n",
    "\\begin{equation}\n",
    "g_{H s b}= -9.86 \\cdot 10^{-6} \\times \\left[ -\\frac{3}{4\\tan\\beta} - \\frac{0.1415}{\\tan^3\\beta} \\color{red}{+} \\left(\\frac{1.0386}{\\tan\\beta} - \\frac{0.1415}{\\tan^3\\beta}\\right)\\times \\left(1- \\frac{1}{\\tan^2\\beta} \\right)^{1/2} - \\frac{0.608446664}{\\tan^3\\beta} \\right]  \n",
    "\\end{equation}\n",
    "\n",
    "\n",
    "**WE SHOULD ALSO VALIDATE THE B>KHH PRODUCTION CHANNEL**"
   ]
  },
  {
   "cell_type": "code",
   "execution_count": 3,
   "metadata": {},
   "outputs": [
    {
     "name": "stdout",
     "output_type": "stream",
     "text": [
      "f_lamdba -222.7667631989307\n",
      "f_x1 1.0385989246323903\n",
      "f_x2 -0.1415273191118425\n",
      "f_g0 -0.0027314338645069397\n",
      "f_g1 -0.1415273191118424\n",
      "f_pre -9.867556115057588e-06\n"
     ]
    }
   ],
   "source": [
    "def f_lamdba(mH=600, mt=175, mW=80.4):\n",
    "    xH, xt = mH**2/mW**2, mt**2/mW**2\n",
    "    return -4*xH\n",
    "\n",
    "def f_x1(mH=600, mt=175, mW=80.4):\n",
    "    xH, xt = mH**2/mW**2, mt**2/mW**2\n",
    "    term1 = xH/(xH-xt) - 6/(xt-1)**2 + 3\n",
    "    term2 = xH * (3*xH-2*xt)/(xH-xt)**2 \n",
    "    term3 = xH * (3*xH-2*xt)/(xH-xt)**2 + 3*(xt+1)/(xt-1)**3\n",
    "    return - 1/4 * (term1-term2 * np.log(xH) +term3*np.log(xt))\n",
    "\n",
    "def f_x2(mH=600, mt=175, mW=80.4):\n",
    "    xH, xt = mH**2/mW**2, mt**2/mW**2\n",
    "    term1 = xt * (5*xH - 3*xt) / 4/(xH-xt)**2 \n",
    "    term2 = xH *xt * (2*xH - xt) / 2/(xH-xt)**3\n",
    "    return term1-term2*np.log(xH/xt)\n",
    "\n",
    "def f_g0(mH=600, mt=175, mW=80.4):\n",
    "    xH, xt = mH**2/mW**2, mt**2/mW**2\n",
    "    term1 = 3*xH**2 - 4*xH*xt + xt**2 - 2*xt*(2*xH-xt)*np.log(xH/xt)\n",
    "    return -1*term1 / ( 16*(xH-xt)**3 )\n",
    "\n",
    "def f_g1(mH=600, mt=175, mW=80.4):\n",
    "    xH, xt = mH**2/mW**2, mt**2/mW**2\n",
    "    term1 = 5*xH**2 - 8*xH*xt + 3*xt**2 - 2*xH*(2*xH-xt)*np.log(xH/xt)\n",
    "    return term1 * xt/ ( 4*(xH-xt)**3 )\n",
    "\n",
    "def f_pre(mH=600, mt=175, mW=80.4):\n",
    "    mb, v, vst, vbt =4.5, 246, 0.0415, 1.014\n",
    "    return - mb / (4*np.pi**2 * v**3) * vst * vbt * mt**2  \n",
    "\n",
    "print(\"f_lamdba\", f_lamdba())\n",
    "print(\"f_x1\", f_x1())\n",
    "print(\"f_x2\", f_x2())\n",
    "print(\"f_g0\", f_g0())\n",
    "print(\"f_g1\", f_g1())\n",
    "print(\"f_pre\", f_pre())"
   ]
  },
  {
   "cell_type": "code",
   "execution_count": 4,
   "metadata": {},
   "outputs": [],
   "source": [
    "def get_br_paper(mass, coupling, sign=1):\n",
    "    mb, v, vst, vbt, vcb =4.5, 246, 0.0415, 1.014, 0.04\n",
    "    ghsb =  -9.86e-6*(-3/4/coupling -0.1415/coupling**3 +sign* (1.0386/coupling-0.1415/coupling**3)*np.sqrt(1-1/coupling**2)-0.608446664/coupling**3)\n",
    "    xi = v/mb* ghsb\n",
    "    br_xcenu = 0.1\n",
    "    return 12 * np.pi**2  * v**2/ mb**2 * (1-mass**2/mb**2)**2 * 1/0.5 * xi**2 / vcb**2 * br_xcenu"
   ]
  },
  {
   "cell_type": "code",
   "execution_count": 7,
   "metadata": {},
   "outputs": [
    {
     "data": {
      "image/png": "[encoded data removed]",
      "text/plain": [
       "<Figure size 432x288 with 1 Axes>"
      ]
     },
     "metadata": {
      "needs_background": "light"
     },
     "output_type": "display_data"
    }
   ],
   "source": [
    "mass=1\n",
    "couplings = np.logspace(0,3,161)\n",
    "foresee = Foresee(path=src_path)\n",
    "br_new = \"9.68544e-13 * foresee.masses('511')/ foresee.widths('511') * (1-(mass/foresee.masses('511'))**2)**2  * (-3/4/coupling -0.1415/coupling**3 + (1.0386/coupling-0.1415/coupling**3)*np.sqrt(1-1/coupling**2)-0.608446664/coupling**3)**2 \"    \n",
    "#\"9.68544e-13 * foresee.masses('511')/ foresee.widths('511') * (1-(mass/foresee.masses('511'))**2)**2  * (-3/4/coupling -0.1415/coupling**3 - (1.0386/coupling-0.1415/coupling**3)*np.sqrt(1-1/coupling**2)-0.608446664/coupling**3)**2 \"\n",
    "brs_new = [eval(br_new) for coupling in couplings]\n",
    "br_old = \"(1 - 0.0572331*mass**2)**2*(-0.24314154523573*pow(1/coupling,8) +5.0878*pow(10,7)*(1/coupling)**2*(4.1087602837281734*pow(10,-7) - 3.8824784955758917*pow(10,-7)*np.sqrt(1 - pow(1/coupling,2)) ) +5.0878*pow(10,7)*(1/coupling)**4*(-6.84665542*pow(10,-8) - 3.36849177820*pow(10,-7)*np.sqrt(1 - pow(1/coupling,2)) ) +5.0878*pow(10,7)*(1/coupling)**6*(2.1517750474943*pow(10,-7) +5.139867173701*pow(10,-8)*np.sqrt(1 - pow(1/coupling,2)) )  ) \"\n",
    "brs_old = [eval(br_old) for coupling in couplings]\n",
    "brs_check = [get_br_paper(mass,coupling, sign=1) for coupling in couplings]\n",
    "\n",
    "\n",
    "plt.plot(couplings, brs_new, label = 'new expression')\n",
    "plt.plot(couplings, brs_old , label='2212.06186')\n",
    "plt.plot(couplings, brs_check , label='by hand')\n",
    "plt.xscale(\"log\")\n",
    "plt.yscale(\"log\")\n",
    "plt.legend()\n",
    "plt.show()\n"
   ]
  },
  {
   "cell_type": "code",
   "execution_count": null,
   "metadata": {},
   "outputs": [],
   "source": []
  }
 ],
 "metadata": {
  "interpreter": {
   "hash": "949777d72b0d2535278d3dc13498b2535136f6dfe0678499012e853ee9abcab1"
  },
  "kernelspec": {
   "display_name": "Python 3",
   "language": "python",
   "name": "python3"
  },
  "language_info": {
   "codemirror_mode": {
    "name": "ipython",
    "version": 3
   },
   "file_extension": ".py",
   "mimetype": "text/x-python",
   "name": "python",
   "nbconvert_exporter": "python",
   "pygments_lexer": "ipython3",
   "version": "3.6.10"
  },
  "toc": {
   "base_numbering": 1,
   "nav_menu": {
    "height": "734px",
    "width": "465px"
   },
   "number_sections": true,
   "sideBar": true,
   "skip_h1_title": false,
   "title_cell": "Table of Contents",
   "title_sidebar": "Contents",
   "toc_cell": false,
   "toc_position": {},
   "toc_section_display": true,
   "toc_window_display": false
  }
 },
 "nbformat": 4,
 "nbformat_minor": 2
}
