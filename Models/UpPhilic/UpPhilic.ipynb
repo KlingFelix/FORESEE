{
 "cells": [
  {
   "cell_type": "markdown",
   "metadata": {},
   "source": [
    "# FORESEE Models: Up-philic Scalar"
   ]
  },
  {
   "cell_type": "markdown",
   "metadata": {},
   "source": [
    "## Load Libraries "
   ]
  },
  {
   "cell_type": "code",
   "execution_count": 1,
   "metadata": {
    "ExecuteTime": {
     "end_time": "2023-12-12T19:38:34.405102Z",
     "start_time": "2023-12-12T19:38:32.638921Z"
    }
   },
   "outputs": [],
   "source": [
    "import sys, os\n",
    "src_path = \"../../\"\n",
    "sys.path.append(src_path)\n",
    "\n",
    "import numpy as np\n",
    "from src.foresee import Foresee, Utility, Model\n",
    "from matplotlib import pyplot as plt"
   ]
  },
  {
   "cell_type": "markdown",
   "metadata": {},
   "source": [
    "## 1. Specifying the Model"
   ]
  },
  {
   "cell_type": "markdown",
   "metadata": {},
   "source": [
    "The phenomenology of the up-philic Scalar $S$ can be described by the following Lagrangian\n",
    "\n",
    "\\begin{equation}\n",
    " \\mathcal{L} =  - \\frac{1}{2} \\color{red}{m_{S}}^2\\ S^2  - \\color{red}{g_u} \\bar u \\ u \\ S\n",
    "\\end{equation}\n",
    "\n",
    "with the scalar mass $m_{S}$ and the coupling parameter $g_u$ as free parameters. "
   ]
  },
  {
   "cell_type": "code",
   "execution_count": 2,
   "metadata": {
    "ExecuteTime": {
     "end_time": "2023-12-12T19:38:34.415020Z",
     "start_time": "2023-12-12T19:38:34.411157Z"
    }
   },
   "outputs": [],
   "source": [
    "energy = \"13.6\"\n",
    "modelname=\"UpPhilic\"\n",
    "model = Model(modelname, path=\"./\")"
   ]
  },
  {
   "cell_type": "markdown",
   "metadata": {},
   "source": [
    "**Production** The up-philic Scalar is mainly produced in $\\eta$, $\\eta'$ and kaon decays. The branching fractions are:\n",
    "\n",
    "\\begin{equation}\n",
    "    \\text{BR}(\\eta \\to \\pi^0  S) = 1.26 \\cdot 10^{5} \\times [(1-(m_\\pi+m_a)^2/m_\\eta^2)(1-(m_\\pi-m_a)^2/m_\\eta^2)]^{1/2}\\times  g_u^2 \n",
    "\\end{equation}\n",
    "\n",
    "\\begin{equation}\n",
    "    \\text{BR}(\\eta' \\to \\pi^0 S) = 2.73 \\cdot 10^{2} \\times [(1-(m_\\pi+m_a)^2/m_{\\eta'}^2)(1-(m_\\pi-m_a)^2/m_{\\eta'}^2)]^{1/2}\\times  g_u^2 \n",
    "\\end{equation}\n",
    "\n",
    "\\begin{equation}\n",
    "    \\text{BR}(K^+ \\to \\pi^+ S) = 7.42 \\times [(1-(m_\\pi+m_a)^2/m_K^2)(1-(m_\\pi-m_a)^2/m_K^2)]^{1/2} \\times  g_u^2 \n",
    "\\end{equation}\n",
    "\n",
    "\n",
    "In the following, we model the production using `EPOSLHC`, `SIBYLL`, `QGSJET`, and `Pythia8-Forward`. "
   ]
  },
  {
   "cell_type": "code",
   "execution_count": 3,
   "metadata": {
    "ExecuteTime": {
     "end_time": "2023-12-12T19:39:27.415693Z",
     "start_time": "2023-12-12T19:39:27.402331Z"
    }
   },
   "outputs": [],
   "source": [
    "model.add_production_2bodydecay(\n",
    "    pid0 = \"221\",\n",
    "    pid1 = \"111\",\n",
    "    br = \"1.26e5 * coupling**2 * np.sqrt((1-(mass+self.masses('pid1'))**2/self.masses('pid0')**2)*(1-(mass-self.masses('pid1'))**2/self.masses('pid0')**2))\",\n",
    "    generator = ['EPOSLHC', 'SIBYLL', 'QGSJET', 'Pythia8-Forward'],\n",
    "    energy = energy,\n",
    "    nsample = 100,\n",
    ")\n",
    "\n",
    "model.add_production_2bodydecay(\n",
    "    pid0 = \"331\",\n",
    "    pid1 = \"111\",\n",
    "    br = \"273. * coupling**2 * np.sqrt((1-(mass+self.masses('pid1'))**2/self.masses('pid0')**2)*(1-(mass-self.masses('pid1'))**2/self.masses('pid0')**2))\",\n",
    "    generator = ['EPOSLHC', 'SIBYLL', 'Pythia8-Forward'],\n",
    "    energy = energy,\n",
    "    nsample = 100,\n",
    ")"
   ]
  },
  {
   "cell_type": "code",
   "execution_count": 4,
   "metadata": {
    "ExecuteTime": {
     "end_time": "2023-12-12T19:39:28.052982Z",
     "start_time": "2023-12-12T19:39:28.045634Z"
    }
   },
   "outputs": [],
   "source": [
    "model.add_production_2bodydecay(\n",
    "    pid0 = \"321\",\n",
    "    pid1 = \"211\",\n",
    "    br = \"7.42 * coupling**2 * np.sqrt((1-(mass+self.masses('pid1'))**2/self.masses('pid0')**2)*(1-(mass-self.masses('pid1'))**2/self.masses('pid0')**2))\",\n",
    "    generator = ['EPOSLHC', 'SIBYLL', 'QGSJET', 'Pythia8-Forward'],\n",
    "    energy = energy,\n",
    "    nsample = 100,\n",
    ")\n",
    "\n",
    "model.add_production_2bodydecay(\n",
    "    pid0 = \"-321\",\n",
    "    pid1 = \"-211\",\n",
    "    br = \"7.42 * coupling**2 * np.sqrt((1-(mass+self.masses('pid1'))**2/self.masses('pid0')**2)*(1-(mass-self.masses('pid1'))**2/self.masses('pid0')**2))\",\n",
    "    generator = ['EPOSLHC', 'SIBYLL', 'QGSJET', 'Pythia8-Forward'],\n",
    "    energy = energy,\n",
    "    nsample = 100,\n",
    ")"
   ]
  },
  {
   "cell_type": "markdown",
   "metadata": {},
   "source": [
    "**Decay:** The up-philic scalar mainly decays to photons and pions. Here we use the lifetime and the decay branching fractions as presented in [1812.05103](https://arxiv.org/abs/1812.05103). "
   ]
  },
  {
   "cell_type": "code",
   "execution_count": 5,
   "metadata": {
    "ExecuteTime": {
     "end_time": "2023-12-12T19:40:29.333401Z",
     "start_time": "2023-12-12T19:40:29.312162Z"
    }
   },
   "outputs": [],
   "source": [
    "model.set_ctau_1d(\n",
    "    filename=\"model/ctau.txt\", \n",
    ")\n",
    "\n",
    "decay_modes = [\"gamma\", \"pi0_pi0\", \"pi+_pi-\", ] \n",
    "model.set_br_1d(\n",
    "    modes = decay_modes,\n",
    "    finalstates=[[22,22], [111,111], [221,-211]],\n",
    "    filenames=[\"model/br/\"+mode+\".txt\" for mode in decay_modes],\n",
    ")"
   ]
  },
  {
   "cell_type": "markdown",
   "metadata": {},
   "source": [
    "We can now initiate FORESEE with the model that we just created. "
   ]
  },
  {
   "cell_type": "code",
   "execution_count": 6,
   "metadata": {
    "ExecuteTime": {
     "end_time": "2023-12-12T19:40:31.397166Z",
     "start_time": "2023-12-12T19:40:30.126686Z"
    }
   },
   "outputs": [],
   "source": [
    "foresee = Foresee(path=src_path)\n",
    "foresee.set_model(model=model)"
   ]
  },
  {
   "cell_type": "markdown",
   "metadata": {},
   "source": [
    "## 2. Event Generation"
   ]
  },
  {
   "cell_type": "markdown",
   "metadata": {},
   "source": [
    "In the following, we want to study one specific benchmark point with $m_{A'}=280$ MeV and $\\epsilon=3\\cdot 10^{-8}$ and export events as a HEPMC file. "
   ]
  },
  {
   "cell_type": "code",
   "execution_count": 7,
   "metadata": {
    "ExecuteTime": {
     "end_time": "2023-12-12T19:40:31.411035Z",
     "start_time": "2023-12-12T19:40:31.405481Z"
    }
   },
   "outputs": [],
   "source": [
    "mass, coupling, = 0.28, 3e-8"
   ]
  },
  {
   "cell_type": "markdown",
   "metadata": {},
   "source": [
    "First, we will produce the corresponding flux for this mass and a reference coupling $\\epsilon_{ref}=1$. "
   ]
  },
  {
   "cell_type": "code",
   "execution_count": 8,
   "metadata": {
    "ExecuteTime": {
     "end_time": "2023-12-12T19:42:54.434919Z",
     "start_time": "2023-12-12T19:40:35.744839Z"
    }
   },
   "outputs": [
    {
     "name": "stdout",
     "output_type": "stream",
     "text": [
      "save data to file: ./model/LLP_spectra/13.6TeV_221_EPOSLHC_m_0.28.npy\n",
      "save data to file: ./model/LLP_spectra/13.6TeV_221_SIBYLL_m_0.28.npy\n",
      "save data to file: ./model/LLP_spectra/13.6TeV_221_QGSJET_m_0.28.npy\n",
      "save data to file: ./model/LLP_spectra/13.6TeV_221_Pythia8-Forward_m_0.28.npy\n",
      "save data to file: ./model/LLP_spectra/13.6TeV_331_EPOSLHC_m_0.28.npy\n",
      "save data to file: ./model/LLP_spectra/13.6TeV_331_SIBYLL_m_0.28.npy\n",
      "save data to file: ./model/LLP_spectra/13.6TeV_331_Pythia8-Forward_m_0.28.npy\n",
      "save data to file: ./model/LLP_spectra/13.6TeV_321_EPOSLHC_m_0.28.npy\n",
      "save data to file: ./model/LLP_spectra/13.6TeV_321_SIBYLL_m_0.28.npy\n",
      "save data to file: ./model/LLP_spectra/13.6TeV_321_QGSJET_m_0.28.npy\n",
      "save data to file: ./model/LLP_spectra/13.6TeV_321_Pythia8-Forward_m_0.28.npy\n",
      "save data to file: ./model/LLP_spectra/13.6TeV_-321_EPOSLHC_m_0.28.npy\n",
      "save data to file: ./model/LLP_spectra/13.6TeV_-321_SIBYLL_m_0.28.npy\n",
      "save data to file: ./model/LLP_spectra/13.6TeV_-321_QGSJET_m_0.28.npy\n",
      "save data to file: ./model/LLP_spectra/13.6TeV_-321_Pythia8-Forward_m_0.28.npy\n"
     ]
    },
    {
     "data": {
      "image/png": "[encoded data removed]",
      "text/plain": [
       "<Figure size 504x396 with 2 Axes>"
      ]
     },
     "metadata": {
      "needs_background": "light"
     },
     "output_type": "display_data"
    }
   ],
   "source": [
    "plot=foresee.get_llp_spectrum(mass=mass, coupling=1, do_plot=True)\n",
    "plot.savefig(\"Spectrum_\"+modelname+\".pdf\")\n",
    "plot.show()"
   ]
  },
  {
   "cell_type": "markdown",
   "metadata": {},
   "source": [
    "Next, let us define the configuration of the detector (in terms of position, size and luminosity). Here we choose FASER during 2022/2023 and require the decay channel $S \\to \\gamma\\gamma$ or $\\pi^0 \\pi^0  \\to 4\\gamma$. "
   ]
  },
  {
   "cell_type": "code",
   "execution_count": 9,
   "metadata": {
    "ExecuteTime": {
     "end_time": "2023-12-12T23:40:39.497063Z",
     "start_time": "2023-12-12T23:40:39.492891Z"
    }
   },
   "outputs": [],
   "source": [
    "foresee.set_detector(\n",
    "    distance=474, \n",
    "    selection=\"np.sqrt(x.x**2 + (x.y+0.065)**2)<.1\", \n",
    "    length=3.5, \n",
    "    luminosity=60, \n",
    "    channels=['gamma', 'pi0_pi0'],\n",
    ")"
   ]
  },
  {
   "cell_type": "markdown",
   "metadata": {},
   "source": [
    "For our benchmark point, let us now look at how many particle decay inside the decay volume. We also export 1000 unweighted events as a HEPMC file. "
   ]
  },
  {
   "cell_type": "code",
   "execution_count": 10,
   "metadata": {
    "ExecuteTime": {
     "end_time": "2023-12-12T23:41:51.896231Z",
     "start_time": "2023-12-12T23:41:44.325555Z"
    }
   },
   "outputs": [
    {
     "name": "stdout",
     "output_type": "stream",
     "text": [
      "Expected number of events for EPOSLHC: 6.673\n",
      "Expected number of events for SIBYLL: 9.425\n",
      "Expected number of events for QGSJET: 2.996\n",
      "Expected number of events for PYTHIA: 6.151\n"
     ]
    }
   ],
   "source": [
    "setupnames = ['EPOSLHC', 'SIBYLL', 'QGSJET', 'PYTHIA']\n",
    "modes = {'221': ['EPOSLHC', 'SIBYLL', 'QGSJET' , 'Pythia8-Forward'],\n",
    "         '331': ['EPOSLHC', 'SIBYLL', 'EPOSLHC', 'Pythia8-Forward'],\n",
    "        }\n",
    "\n",
    "momenta, weights, _ = foresee.write_events(\n",
    "    mass = mass, \n",
    "    coupling = coupling, \n",
    "    energy = energy, \n",
    "    numberevent = 1000,\n",
    "    filename = \"model/events/test.hepmc\", \n",
    "    return_data = True,\n",
    "    weightnames=setupnames,\n",
    "    modes=modes,\n",
    "    nsample=100,\n",
    ")\n",
    "\n",
    "for isetup, setup in enumerate(setupnames):\n",
    "    print(\"Expected number of events for \"+setup+\":\", round(sum(weights[:,isetup]),3))"
   ]
  },
  {
   "cell_type": "markdown",
   "metadata": {},
   "source": [
    "Let us plot the resulting energy distribution"
   ]
  },
  {
   "cell_type": "code",
   "execution_count": 11,
   "metadata": {
    "ExecuteTime": {
     "end_time": "2023-12-12T23:41:59.867575Z",
     "start_time": "2023-12-12T23:41:59.663403Z"
    }
   },
   "outputs": [
    {
     "data": {
      "image/png": "[encoded data removed]",
      "text/plain": [
       "<Figure size 504x360 with 1 Axes>"
      ]
     },
     "metadata": {
      "needs_background": "light"
     },
     "output_type": "display_data"
    }
   ],
   "source": [
    "fig = plt.figure(figsize=(7,5))\n",
    "ax = plt.subplot(1,1,1)\n",
    "energies = [p.e for p in momenta], \n",
    "for isetup, setup in enumerate(setupnames):\n",
    "    ax.hist(energies, weights=weights[:,isetup], bins=np.logspace(2,4, 20+1), histtype='step', label=setup) \n",
    "ax.set_xscale(\"log\")\n",
    "ax.set_xlim(1e2,1e4) \n",
    "ax.set_xlabel(\"E [GeV]\") \n",
    "ax.set_ylabel(\"Number of Events per Bin\") \n",
    "ax.legend(frameon=False, labelspacing=0, fontsize=14, loc='upper left')\n",
    "plt.savefig(\"E_distribution_\"+modelname+\".pdf\")\n",
    "plt.show()"
   ]
  },
  {
   "cell_type": "markdown",
   "metadata": {},
   "source": [
    "## 3. Sensitivity Reach"
   ]
  },
  {
   "cell_type": "markdown",
   "metadata": {},
   "source": [
    "In the following, we will obtain the projected sensitivity for the LLP model. For this, we first define a grid of couplings and masses, and then produce the corresponding fluxes. "
   ]
  },
  {
   "cell_type": "code",
   "execution_count": 12,
   "metadata": {
    "ExecuteTime": {
     "end_time": "2023-12-12T21:07:13.550899Z",
     "start_time": "2023-12-12T19:44:03.934741Z"
    }
   },
   "outputs": [
    {
     "name": "stdout",
     "output_type": "stream",
     "text": [
      "save data to file: ./model/LLP_spectra/13.6TeV_221_EPOSLHC_m_0.15.npy\n",
      "save data to file: ./model/LLP_spectra/13.6TeV_221_SIBYLL_m_0.15.npy\n",
      "save data to file: ./model/LLP_spectra/13.6TeV_221_QGSJET_m_0.15.npy\n",
      "save data to file: ./model/LLP_spectra/13.6TeV_221_Pythia8-Forward_m_0.15.npy\n",
      "save data to file: ./model/LLP_spectra/13.6TeV_331_EPOSLHC_m_0.15.npy\n",
      "save data to file: ./model/LLP_spectra/13.6TeV_331_SIBYLL_m_0.15.npy\n",
      "save data to file: ./model/LLP_spectra/13.6TeV_331_Pythia8-Forward_m_0.15.npy\n",
      "save data to file: ./model/LLP_spectra/13.6TeV_321_EPOSLHC_m_0.15.npy\n",
      "save data to file: ./model/LLP_spectra/13.6TeV_321_SIBYLL_m_0.15.npy\n",
      "save data to file: ./model/LLP_spectra/13.6TeV_321_QGSJET_m_0.15.npy\n",
      "save data to file: ./model/LLP_spectra/13.6TeV_321_Pythia8-Forward_m_0.15.npy\n",
      "save data to file: ./model/LLP_spectra/13.6TeV_-321_EPOSLHC_m_0.15.npy\n",
      "save data to file: ./model/LLP_spectra/13.6TeV_-321_SIBYLL_m_0.15.npy\n",
      "save data to file: ./model/LLP_spectra/13.6TeV_-321_QGSJET_m_0.15.npy\n",
      "save data to file: ./model/LLP_spectra/13.6TeV_-321_Pythia8-Forward_m_0.15.npy\n",
      "save data to file: ./model/LLP_spectra/13.6TeV_221_EPOSLHC_m_0.16.npy\n",
      "save data to file: ./model/LLP_spectra/13.6TeV_221_SIBYLL_m_0.16.npy\n",
      "save data to file: ./model/LLP_spectra/13.6TeV_221_QGSJET_m_0.16.npy\n",
      "save data to file: ./model/LLP_spectra/13.6TeV_221_Pythia8-Forward_m_0.16.npy\n",
      "save data to file: ./model/LLP_spectra/13.6TeV_331_EPOSLHC_m_0.16.npy\n",
      "save data to file: ./model/LLP_spectra/13.6TeV_331_SIBYLL_m_0.16.npy\n",
      "save data to file: ./model/LLP_spectra/13.6TeV_331_Pythia8-Forward_m_0.16.npy\n",
      "save data to file: ./model/LLP_spectra/13.6TeV_321_EPOSLHC_m_0.16.npy\n",
      "save data to file: ./model/LLP_spectra/13.6TeV_321_SIBYLL_m_0.16.npy\n",
      "save data to file: ./model/LLP_spectra/13.6TeV_321_QGSJET_m_0.16.npy\n",
      "save data to file: ./model/LLP_spectra/13.6TeV_321_Pythia8-Forward_m_0.16.npy\n",
      "save data to file: ./model/LLP_spectra/13.6TeV_-321_EPOSLHC_m_0.16.npy\n",
      "save data to file: ./model/LLP_spectra/13.6TeV_-321_SIBYLL_m_0.16.npy\n",
      "save data to file: ./model/LLP_spectra/13.6TeV_-321_QGSJET_m_0.16.npy\n",
      "save data to file: ./model/LLP_spectra/13.6TeV_-321_Pythia8-Forward_m_0.16.npy\n",
      "save data to file: ./model/LLP_spectra/13.6TeV_221_EPOSLHC_m_0.16999999999999998.npy\n",
      "save data to file: ./model/LLP_spectra/13.6TeV_221_SIBYLL_m_0.16999999999999998.npy\n",
      "save data to file: ./model/LLP_spectra/13.6TeV_221_QGSJET_m_0.16999999999999998.npy\n",
      "save data to file: ./model/LLP_spectra/13.6TeV_221_Pythia8-Forward_m_0.16999999999999998.npy\n",
      "save data to file: ./model/LLP_spectra/13.6TeV_331_EPOSLHC_m_0.16999999999999998.npy\n",
      "save data to file: ./model/LLP_spectra/13.6TeV_331_SIBYLL_m_0.16999999999999998.npy\n",
      "save data to file: ./model/LLP_spectra/13.6TeV_331_Pythia8-Forward_m_0.16999999999999998.npy\n",
      "save data to file: ./model/LLP_spectra/13.6TeV_321_EPOSLHC_m_0.16999999999999998.npy\n",
      "save data to file: ./model/LLP_spectra/13.6TeV_321_SIBYLL_m_0.16999999999999998.npy\n",
      "save data to file: ./model/LLP_spectra/13.6TeV_321_QGSJET_m_0.16999999999999998.npy\n",
      "save data to file: ./model/LLP_spectra/13.6TeV_321_Pythia8-Forward_m_0.16999999999999998.npy\n",
      "save data to file: ./model/LLP_spectra/13.6TeV_-321_EPOSLHC_m_0.16999999999999998.npy\n",
      "save data to file: ./model/LLP_spectra/13.6TeV_-321_SIBYLL_m_0.16999999999999998.npy\n",
      "save data to file: ./model/LLP_spectra/13.6TeV_-321_QGSJET_m_0.16999999999999998.npy\n",
      "save data to file: ./model/LLP_spectra/13.6TeV_-321_Pythia8-Forward_m_0.16999999999999998.npy\n",
      "save data to file: ./model/LLP_spectra/13.6TeV_221_EPOSLHC_m_0.18.npy\n",
      "save data to file: ./model/LLP_spectra/13.6TeV_221_SIBYLL_m_0.18.npy\n",
      "save data to file: ./model/LLP_spectra/13.6TeV_221_QGSJET_m_0.18.npy\n",
      "save data to file: ./model/LLP_spectra/13.6TeV_221_Pythia8-Forward_m_0.18.npy\n",
      "save data to file: ./model/LLP_spectra/13.6TeV_331_EPOSLHC_m_0.18.npy\n",
      "save data to file: ./model/LLP_spectra/13.6TeV_331_SIBYLL_m_0.18.npy\n",
      "save data to file: ./model/LLP_spectra/13.6TeV_331_Pythia8-Forward_m_0.18.npy\n",
      "save data to file: ./model/LLP_spectra/13.6TeV_321_EPOSLHC_m_0.18.npy\n",
      "save data to file: ./model/LLP_spectra/13.6TeV_321_SIBYLL_m_0.18.npy\n",
      "save data to file: ./model/LLP_spectra/13.6TeV_321_QGSJET_m_0.18.npy\n",
      "save data to file: ./model/LLP_spectra/13.6TeV_321_Pythia8-Forward_m_0.18.npy\n",
      "save data to file: ./model/LLP_spectra/13.6TeV_-321_EPOSLHC_m_0.18.npy\n",
      "save data to file: ./model/LLP_spectra/13.6TeV_-321_SIBYLL_m_0.18.npy\n",
      "save data to file: ./model/LLP_spectra/13.6TeV_-321_QGSJET_m_0.18.npy\n",
      "save data to file: ./model/LLP_spectra/13.6TeV_-321_Pythia8-Forward_m_0.18.npy\n",
      "save data to file: ./model/LLP_spectra/13.6TeV_221_EPOSLHC_m_0.19.npy\n",
      "save data to file: ./model/LLP_spectra/13.6TeV_221_SIBYLL_m_0.19.npy\n",
      "save data to file: ./model/LLP_spectra/13.6TeV_221_QGSJET_m_0.19.npy\n",
      "save data to file: ./model/LLP_spectra/13.6TeV_221_Pythia8-Forward_m_0.19.npy\n",
      "save data to file: ./model/LLP_spectra/13.6TeV_331_EPOSLHC_m_0.19.npy\n",
      "save data to file: ./model/LLP_spectra/13.6TeV_331_SIBYLL_m_0.19.npy\n",
      "save data to file: ./model/LLP_spectra/13.6TeV_331_Pythia8-Forward_m_0.19.npy\n",
      "save data to file: ./model/LLP_spectra/13.6TeV_321_EPOSLHC_m_0.19.npy\n",
      "save data to file: ./model/LLP_spectra/13.6TeV_321_SIBYLL_m_0.19.npy\n",
      "save data to file: ./model/LLP_spectra/13.6TeV_321_QGSJET_m_0.19.npy\n",
      "save data to file: ./model/LLP_spectra/13.6TeV_321_Pythia8-Forward_m_0.19.npy\n",
      "save data to file: ./model/LLP_spectra/13.6TeV_-321_EPOSLHC_m_0.19.npy\n",
      "save data to file: ./model/LLP_spectra/13.6TeV_-321_SIBYLL_m_0.19.npy\n",
      "save data to file: ./model/LLP_spectra/13.6TeV_-321_QGSJET_m_0.19.npy\n",
      "save data to file: ./model/LLP_spectra/13.6TeV_-321_Pythia8-Forward_m_0.19.npy\n",
      "save data to file: ./model/LLP_spectra/13.6TeV_221_EPOSLHC_m_0.2.npy\n",
      "save data to file: ./model/LLP_spectra/13.6TeV_221_SIBYLL_m_0.2.npy\n",
      "save data to file: ./model/LLP_spectra/13.6TeV_221_QGSJET_m_0.2.npy\n",
      "save data to file: ./model/LLP_spectra/13.6TeV_221_Pythia8-Forward_m_0.2.npy\n",
      "save data to file: ./model/LLP_spectra/13.6TeV_331_EPOSLHC_m_0.2.npy\n",
      "save data to file: ./model/LLP_spectra/13.6TeV_331_SIBYLL_m_0.2.npy\n",
      "save data to file: ./model/LLP_spectra/13.6TeV_331_Pythia8-Forward_m_0.2.npy\n",
      "save data to file: ./model/LLP_spectra/13.6TeV_321_EPOSLHC_m_0.2.npy\n",
      "save data to file: ./model/LLP_spectra/13.6TeV_321_SIBYLL_m_0.2.npy\n",
      "save data to file: ./model/LLP_spectra/13.6TeV_321_QGSJET_m_0.2.npy\n",
      "save data to file: ./model/LLP_spectra/13.6TeV_321_Pythia8-Forward_m_0.2.npy\n",
      "save data to file: ./model/LLP_spectra/13.6TeV_-321_EPOSLHC_m_0.2.npy\n",
      "save data to file: ./model/LLP_spectra/13.6TeV_-321_SIBYLL_m_0.2.npy\n",
      "save data to file: ./model/LLP_spectra/13.6TeV_-321_QGSJET_m_0.2.npy\n",
      "save data to file: ./model/LLP_spectra/13.6TeV_-321_Pythia8-Forward_m_0.2.npy\n",
      "save data to file: ./model/LLP_spectra/13.6TeV_221_EPOSLHC_m_0.21000000000000002.npy\n",
      "save data to file: ./model/LLP_spectra/13.6TeV_221_SIBYLL_m_0.21000000000000002.npy\n",
      "save data to file: ./model/LLP_spectra/13.6TeV_221_QGSJET_m_0.21000000000000002.npy\n",
      "save data to file: ./model/LLP_spectra/13.6TeV_221_Pythia8-Forward_m_0.21000000000000002.npy\n",
      "save data to file: ./model/LLP_spectra/13.6TeV_331_EPOSLHC_m_0.21000000000000002.npy\n",
      "save data to file: ./model/LLP_spectra/13.6TeV_331_SIBYLL_m_0.21000000000000002.npy\n",
      "save data to file: ./model/LLP_spectra/13.6TeV_331_Pythia8-Forward_m_0.21000000000000002.npy\n",
      "save data to file: ./model/LLP_spectra/13.6TeV_321_EPOSLHC_m_0.21000000000000002.npy\n",
      "save data to file: ./model/LLP_spectra/13.6TeV_321_SIBYLL_m_0.21000000000000002.npy\n",
      "save data to file: ./model/LLP_spectra/13.6TeV_321_QGSJET_m_0.21000000000000002.npy\n",
      "save data to file: ./model/LLP_spectra/13.6TeV_321_Pythia8-Forward_m_0.21000000000000002.npy\n",
      "save data to file: ./model/LLP_spectra/13.6TeV_-321_EPOSLHC_m_0.21000000000000002.npy\n",
      "save data to file: ./model/LLP_spectra/13.6TeV_-321_SIBYLL_m_0.21000000000000002.npy\n",
      "save data to file: ./model/LLP_spectra/13.6TeV_-321_QGSJET_m_0.21000000000000002.npy\n",
      "save data to file: ./model/LLP_spectra/13.6TeV_-321_Pythia8-Forward_m_0.21000000000000002.npy\n",
      "save data to file: ./model/LLP_spectra/13.6TeV_221_EPOSLHC_m_0.22.npy\n",
      "save data to file: ./model/LLP_spectra/13.6TeV_221_SIBYLL_m_0.22.npy\n",
      "save data to file: ./model/LLP_spectra/13.6TeV_221_QGSJET_m_0.22.npy\n"
     ]
    },
    {
     "name": "stdout",
     "output_type": "stream",
     "text": [
      "save data to file: ./model/LLP_spectra/13.6TeV_221_Pythia8-Forward_m_0.22.npy\n",
      "save data to file: ./model/LLP_spectra/13.6TeV_331_EPOSLHC_m_0.22.npy\n",
      "save data to file: ./model/LLP_spectra/13.6TeV_331_SIBYLL_m_0.22.npy\n",
      "save data to file: ./model/LLP_spectra/13.6TeV_331_Pythia8-Forward_m_0.22.npy\n",
      "save data to file: ./model/LLP_spectra/13.6TeV_321_EPOSLHC_m_0.22.npy\n",
      "save data to file: ./model/LLP_spectra/13.6TeV_321_SIBYLL_m_0.22.npy\n",
      "save data to file: ./model/LLP_spectra/13.6TeV_321_QGSJET_m_0.22.npy\n",
      "save data to file: ./model/LLP_spectra/13.6TeV_321_Pythia8-Forward_m_0.22.npy\n",
      "save data to file: ./model/LLP_spectra/13.6TeV_-321_EPOSLHC_m_0.22.npy\n",
      "save data to file: ./model/LLP_spectra/13.6TeV_-321_SIBYLL_m_0.22.npy\n",
      "save data to file: ./model/LLP_spectra/13.6TeV_-321_QGSJET_m_0.22.npy\n",
      "save data to file: ./model/LLP_spectra/13.6TeV_-321_Pythia8-Forward_m_0.22.npy\n",
      "save data to file: ./model/LLP_spectra/13.6TeV_221_EPOSLHC_m_0.23.npy\n",
      "save data to file: ./model/LLP_spectra/13.6TeV_221_SIBYLL_m_0.23.npy\n",
      "save data to file: ./model/LLP_spectra/13.6TeV_221_QGSJET_m_0.23.npy\n",
      "save data to file: ./model/LLP_spectra/13.6TeV_221_Pythia8-Forward_m_0.23.npy\n",
      "save data to file: ./model/LLP_spectra/13.6TeV_331_EPOSLHC_m_0.23.npy\n",
      "save data to file: ./model/LLP_spectra/13.6TeV_331_SIBYLL_m_0.23.npy\n",
      "save data to file: ./model/LLP_spectra/13.6TeV_331_Pythia8-Forward_m_0.23.npy\n",
      "save data to file: ./model/LLP_spectra/13.6TeV_321_EPOSLHC_m_0.23.npy\n",
      "save data to file: ./model/LLP_spectra/13.6TeV_321_SIBYLL_m_0.23.npy\n",
      "save data to file: ./model/LLP_spectra/13.6TeV_321_QGSJET_m_0.23.npy\n",
      "save data to file: ./model/LLP_spectra/13.6TeV_321_Pythia8-Forward_m_0.23.npy\n",
      "save data to file: ./model/LLP_spectra/13.6TeV_-321_EPOSLHC_m_0.23.npy\n",
      "save data to file: ./model/LLP_spectra/13.6TeV_-321_SIBYLL_m_0.23.npy\n",
      "save data to file: ./model/LLP_spectra/13.6TeV_-321_QGSJET_m_0.23.npy\n",
      "save data to file: ./model/LLP_spectra/13.6TeV_-321_Pythia8-Forward_m_0.23.npy\n",
      "save data to file: ./model/LLP_spectra/13.6TeV_221_EPOSLHC_m_0.24000000000000002.npy\n",
      "save data to file: ./model/LLP_spectra/13.6TeV_221_SIBYLL_m_0.24000000000000002.npy\n",
      "save data to file: ./model/LLP_spectra/13.6TeV_221_QGSJET_m_0.24000000000000002.npy\n",
      "save data to file: ./model/LLP_spectra/13.6TeV_221_Pythia8-Forward_m_0.24000000000000002.npy\n",
      "save data to file: ./model/LLP_spectra/13.6TeV_331_EPOSLHC_m_0.24000000000000002.npy\n",
      "save data to file: ./model/LLP_spectra/13.6TeV_331_SIBYLL_m_0.24000000000000002.npy\n",
      "save data to file: ./model/LLP_spectra/13.6TeV_331_Pythia8-Forward_m_0.24000000000000002.npy\n",
      "save data to file: ./model/LLP_spectra/13.6TeV_321_EPOSLHC_m_0.24000000000000002.npy\n",
      "save data to file: ./model/LLP_spectra/13.6TeV_321_SIBYLL_m_0.24000000000000002.npy\n",
      "save data to file: ./model/LLP_spectra/13.6TeV_321_QGSJET_m_0.24000000000000002.npy\n",
      "save data to file: ./model/LLP_spectra/13.6TeV_321_Pythia8-Forward_m_0.24000000000000002.npy\n",
      "save data to file: ./model/LLP_spectra/13.6TeV_-321_EPOSLHC_m_0.24000000000000002.npy\n",
      "save data to file: ./model/LLP_spectra/13.6TeV_-321_SIBYLL_m_0.24000000000000002.npy\n",
      "save data to file: ./model/LLP_spectra/13.6TeV_-321_QGSJET_m_0.24000000000000002.npy\n",
      "save data to file: ./model/LLP_spectra/13.6TeV_-321_Pythia8-Forward_m_0.24000000000000002.npy\n",
      "save data to file: ./model/LLP_spectra/13.6TeV_221_EPOSLHC_m_0.25.npy\n",
      "save data to file: ./model/LLP_spectra/13.6TeV_221_SIBYLL_m_0.25.npy\n",
      "save data to file: ./model/LLP_spectra/13.6TeV_221_QGSJET_m_0.25.npy\n",
      "save data to file: ./model/LLP_spectra/13.6TeV_221_Pythia8-Forward_m_0.25.npy\n",
      "save data to file: ./model/LLP_spectra/13.6TeV_331_EPOSLHC_m_0.25.npy\n",
      "save data to file: ./model/LLP_spectra/13.6TeV_331_SIBYLL_m_0.25.npy\n",
      "save data to file: ./model/LLP_spectra/13.6TeV_331_Pythia8-Forward_m_0.25.npy\n",
      "save data to file: ./model/LLP_spectra/13.6TeV_321_EPOSLHC_m_0.25.npy\n",
      "save data to file: ./model/LLP_spectra/13.6TeV_321_SIBYLL_m_0.25.npy\n",
      "save data to file: ./model/LLP_spectra/13.6TeV_321_QGSJET_m_0.25.npy\n",
      "save data to file: ./model/LLP_spectra/13.6TeV_321_Pythia8-Forward_m_0.25.npy\n",
      "save data to file: ./model/LLP_spectra/13.6TeV_-321_EPOSLHC_m_0.25.npy\n",
      "save data to file: ./model/LLP_spectra/13.6TeV_-321_SIBYLL_m_0.25.npy\n",
      "save data to file: ./model/LLP_spectra/13.6TeV_-321_QGSJET_m_0.25.npy\n",
      "save data to file: ./model/LLP_spectra/13.6TeV_-321_Pythia8-Forward_m_0.25.npy\n",
      "save data to file: ./model/LLP_spectra/13.6TeV_221_EPOSLHC_m_0.26.npy\n",
      "save data to file: ./model/LLP_spectra/13.6TeV_221_SIBYLL_m_0.26.npy\n",
      "save data to file: ./model/LLP_spectra/13.6TeV_221_QGSJET_m_0.26.npy\n",
      "save data to file: ./model/LLP_spectra/13.6TeV_221_Pythia8-Forward_m_0.26.npy\n",
      "save data to file: ./model/LLP_spectra/13.6TeV_331_EPOSLHC_m_0.26.npy\n",
      "save data to file: ./model/LLP_spectra/13.6TeV_331_SIBYLL_m_0.26.npy\n",
      "save data to file: ./model/LLP_spectra/13.6TeV_331_Pythia8-Forward_m_0.26.npy\n",
      "save data to file: ./model/LLP_spectra/13.6TeV_321_EPOSLHC_m_0.26.npy\n",
      "save data to file: ./model/LLP_spectra/13.6TeV_321_SIBYLL_m_0.26.npy\n",
      "save data to file: ./model/LLP_spectra/13.6TeV_321_QGSJET_m_0.26.npy\n",
      "save data to file: ./model/LLP_spectra/13.6TeV_321_Pythia8-Forward_m_0.26.npy\n",
      "save data to file: ./model/LLP_spectra/13.6TeV_-321_EPOSLHC_m_0.26.npy\n",
      "save data to file: ./model/LLP_spectra/13.6TeV_-321_SIBYLL_m_0.26.npy\n",
      "save data to file: ./model/LLP_spectra/13.6TeV_-321_QGSJET_m_0.26.npy\n",
      "save data to file: ./model/LLP_spectra/13.6TeV_-321_Pythia8-Forward_m_0.26.npy\n",
      "save data to file: ./model/LLP_spectra/13.6TeV_221_EPOSLHC_m_0.27.npy\n",
      "save data to file: ./model/LLP_spectra/13.6TeV_221_SIBYLL_m_0.27.npy\n",
      "save data to file: ./model/LLP_spectra/13.6TeV_221_QGSJET_m_0.27.npy\n",
      "save data to file: ./model/LLP_spectra/13.6TeV_221_Pythia8-Forward_m_0.27.npy\n",
      "save data to file: ./model/LLP_spectra/13.6TeV_331_EPOSLHC_m_0.27.npy\n",
      "save data to file: ./model/LLP_spectra/13.6TeV_331_SIBYLL_m_0.27.npy\n",
      "save data to file: ./model/LLP_spectra/13.6TeV_331_Pythia8-Forward_m_0.27.npy\n",
      "save data to file: ./model/LLP_spectra/13.6TeV_321_EPOSLHC_m_0.27.npy\n",
      "save data to file: ./model/LLP_spectra/13.6TeV_321_SIBYLL_m_0.27.npy\n",
      "save data to file: ./model/LLP_spectra/13.6TeV_321_QGSJET_m_0.27.npy\n",
      "save data to file: ./model/LLP_spectra/13.6TeV_321_Pythia8-Forward_m_0.27.npy\n",
      "save data to file: ./model/LLP_spectra/13.6TeV_-321_EPOSLHC_m_0.27.npy\n",
      "save data to file: ./model/LLP_spectra/13.6TeV_-321_SIBYLL_m_0.27.npy\n",
      "save data to file: ./model/LLP_spectra/13.6TeV_-321_QGSJET_m_0.27.npy\n",
      "save data to file: ./model/LLP_spectra/13.6TeV_-321_Pythia8-Forward_m_0.27.npy\n",
      "save data to file: ./model/LLP_spectra/13.6TeV_221_EPOSLHC_m_0.271.npy\n",
      "save data to file: ./model/LLP_spectra/13.6TeV_221_SIBYLL_m_0.271.npy\n",
      "save data to file: ./model/LLP_spectra/13.6TeV_221_QGSJET_m_0.271.npy\n",
      "save data to file: ./model/LLP_spectra/13.6TeV_221_Pythia8-Forward_m_0.271.npy\n",
      "save data to file: ./model/LLP_spectra/13.6TeV_331_EPOSLHC_m_0.271.npy\n",
      "save data to file: ./model/LLP_spectra/13.6TeV_331_SIBYLL_m_0.271.npy\n",
      "save data to file: ./model/LLP_spectra/13.6TeV_331_Pythia8-Forward_m_0.271.npy\n",
      "save data to file: ./model/LLP_spectra/13.6TeV_321_EPOSLHC_m_0.271.npy\n",
      "save data to file: ./model/LLP_spectra/13.6TeV_321_SIBYLL_m_0.271.npy\n",
      "save data to file: ./model/LLP_spectra/13.6TeV_321_QGSJET_m_0.271.npy\n",
      "save data to file: ./model/LLP_spectra/13.6TeV_321_Pythia8-Forward_m_0.271.npy\n",
      "save data to file: ./model/LLP_spectra/13.6TeV_-321_EPOSLHC_m_0.271.npy\n",
      "save data to file: ./model/LLP_spectra/13.6TeV_-321_SIBYLL_m_0.271.npy\n",
      "save data to file: ./model/LLP_spectra/13.6TeV_-321_QGSJET_m_0.271.npy\n",
      "save data to file: ./model/LLP_spectra/13.6TeV_-321_Pythia8-Forward_m_0.271.npy\n",
      "save data to file: ./model/LLP_spectra/13.6TeV_221_EPOSLHC_m_0.272.npy\n",
      "save data to file: ./model/LLP_spectra/13.6TeV_221_SIBYLL_m_0.272.npy\n",
      "save data to file: ./model/LLP_spectra/13.6TeV_221_QGSJET_m_0.272.npy\n",
      "save data to file: ./model/LLP_spectra/13.6TeV_221_Pythia8-Forward_m_0.272.npy\n",
      "save data to file: ./model/LLP_spectra/13.6TeV_331_EPOSLHC_m_0.272.npy\n",
      "save data to file: ./model/LLP_spectra/13.6TeV_331_SIBYLL_m_0.272.npy\n",
      "save data to file: ./model/LLP_spectra/13.6TeV_331_Pythia8-Forward_m_0.272.npy\n",
      "save data to file: ./model/LLP_spectra/13.6TeV_321_EPOSLHC_m_0.272.npy\n",
      "save data to file: ./model/LLP_spectra/13.6TeV_321_SIBYLL_m_0.272.npy\n"
     ]
    },
    {
     "name": "stdout",
     "output_type": "stream",
     "text": [
      "save data to file: ./model/LLP_spectra/13.6TeV_321_QGSJET_m_0.272.npy\n",
      "save data to file: ./model/LLP_spectra/13.6TeV_321_Pythia8-Forward_m_0.272.npy\n",
      "save data to file: ./model/LLP_spectra/13.6TeV_-321_EPOSLHC_m_0.272.npy\n",
      "save data to file: ./model/LLP_spectra/13.6TeV_-321_SIBYLL_m_0.272.npy\n",
      "save data to file: ./model/LLP_spectra/13.6TeV_-321_QGSJET_m_0.272.npy\n",
      "save data to file: ./model/LLP_spectra/13.6TeV_-321_Pythia8-Forward_m_0.272.npy\n",
      "save data to file: ./model/LLP_spectra/13.6TeV_221_EPOSLHC_m_0.273.npy\n",
      "save data to file: ./model/LLP_spectra/13.6TeV_221_SIBYLL_m_0.273.npy\n",
      "save data to file: ./model/LLP_spectra/13.6TeV_221_QGSJET_m_0.273.npy\n",
      "save data to file: ./model/LLP_spectra/13.6TeV_221_Pythia8-Forward_m_0.273.npy\n",
      "save data to file: ./model/LLP_spectra/13.6TeV_331_EPOSLHC_m_0.273.npy\n",
      "save data to file: ./model/LLP_spectra/13.6TeV_331_SIBYLL_m_0.273.npy\n",
      "save data to file: ./model/LLP_spectra/13.6TeV_331_Pythia8-Forward_m_0.273.npy\n",
      "save data to file: ./model/LLP_spectra/13.6TeV_321_EPOSLHC_m_0.273.npy\n",
      "save data to file: ./model/LLP_spectra/13.6TeV_321_SIBYLL_m_0.273.npy\n",
      "save data to file: ./model/LLP_spectra/13.6TeV_321_QGSJET_m_0.273.npy\n",
      "save data to file: ./model/LLP_spectra/13.6TeV_321_Pythia8-Forward_m_0.273.npy\n",
      "save data to file: ./model/LLP_spectra/13.6TeV_-321_EPOSLHC_m_0.273.npy\n",
      "save data to file: ./model/LLP_spectra/13.6TeV_-321_SIBYLL_m_0.273.npy\n",
      "save data to file: ./model/LLP_spectra/13.6TeV_-321_QGSJET_m_0.273.npy\n",
      "save data to file: ./model/LLP_spectra/13.6TeV_-321_Pythia8-Forward_m_0.273.npy\n",
      "save data to file: ./model/LLP_spectra/13.6TeV_221_EPOSLHC_m_0.274.npy\n",
      "save data to file: ./model/LLP_spectra/13.6TeV_221_SIBYLL_m_0.274.npy\n",
      "save data to file: ./model/LLP_spectra/13.6TeV_221_QGSJET_m_0.274.npy\n",
      "save data to file: ./model/LLP_spectra/13.6TeV_221_Pythia8-Forward_m_0.274.npy\n",
      "save data to file: ./model/LLP_spectra/13.6TeV_331_EPOSLHC_m_0.274.npy\n",
      "save data to file: ./model/LLP_spectra/13.6TeV_331_SIBYLL_m_0.274.npy\n",
      "save data to file: ./model/LLP_spectra/13.6TeV_331_Pythia8-Forward_m_0.274.npy\n",
      "save data to file: ./model/LLP_spectra/13.6TeV_321_EPOSLHC_m_0.274.npy\n",
      "save data to file: ./model/LLP_spectra/13.6TeV_321_SIBYLL_m_0.274.npy\n",
      "save data to file: ./model/LLP_spectra/13.6TeV_321_QGSJET_m_0.274.npy\n",
      "save data to file: ./model/LLP_spectra/13.6TeV_321_Pythia8-Forward_m_0.274.npy\n",
      "save data to file: ./model/LLP_spectra/13.6TeV_-321_EPOSLHC_m_0.274.npy\n",
      "save data to file: ./model/LLP_spectra/13.6TeV_-321_SIBYLL_m_0.274.npy\n",
      "save data to file: ./model/LLP_spectra/13.6TeV_-321_QGSJET_m_0.274.npy\n",
      "save data to file: ./model/LLP_spectra/13.6TeV_-321_Pythia8-Forward_m_0.274.npy\n",
      "save data to file: ./model/LLP_spectra/13.6TeV_221_EPOSLHC_m_0.275.npy\n",
      "save data to file: ./model/LLP_spectra/13.6TeV_221_SIBYLL_m_0.275.npy\n",
      "save data to file: ./model/LLP_spectra/13.6TeV_221_QGSJET_m_0.275.npy\n",
      "save data to file: ./model/LLP_spectra/13.6TeV_221_Pythia8-Forward_m_0.275.npy\n",
      "save data to file: ./model/LLP_spectra/13.6TeV_331_EPOSLHC_m_0.275.npy\n",
      "save data to file: ./model/LLP_spectra/13.6TeV_331_SIBYLL_m_0.275.npy\n",
      "save data to file: ./model/LLP_spectra/13.6TeV_331_Pythia8-Forward_m_0.275.npy\n",
      "save data to file: ./model/LLP_spectra/13.6TeV_321_EPOSLHC_m_0.275.npy\n",
      "save data to file: ./model/LLP_spectra/13.6TeV_321_SIBYLL_m_0.275.npy\n",
      "save data to file: ./model/LLP_spectra/13.6TeV_321_QGSJET_m_0.275.npy\n",
      "save data to file: ./model/LLP_spectra/13.6TeV_321_Pythia8-Forward_m_0.275.npy\n",
      "save data to file: ./model/LLP_spectra/13.6TeV_-321_EPOSLHC_m_0.275.npy\n",
      "save data to file: ./model/LLP_spectra/13.6TeV_-321_SIBYLL_m_0.275.npy\n",
      "save data to file: ./model/LLP_spectra/13.6TeV_-321_QGSJET_m_0.275.npy\n",
      "save data to file: ./model/LLP_spectra/13.6TeV_-321_Pythia8-Forward_m_0.275.npy\n",
      "save data to file: ./model/LLP_spectra/13.6TeV_221_EPOSLHC_m_0.276.npy\n",
      "save data to file: ./model/LLP_spectra/13.6TeV_221_SIBYLL_m_0.276.npy\n",
      "save data to file: ./model/LLP_spectra/13.6TeV_221_QGSJET_m_0.276.npy\n",
      "save data to file: ./model/LLP_spectra/13.6TeV_221_Pythia8-Forward_m_0.276.npy\n",
      "save data to file: ./model/LLP_spectra/13.6TeV_331_EPOSLHC_m_0.276.npy\n",
      "save data to file: ./model/LLP_spectra/13.6TeV_331_SIBYLL_m_0.276.npy\n",
      "save data to file: ./model/LLP_spectra/13.6TeV_331_Pythia8-Forward_m_0.276.npy\n",
      "save data to file: ./model/LLP_spectra/13.6TeV_321_EPOSLHC_m_0.276.npy\n",
      "save data to file: ./model/LLP_spectra/13.6TeV_321_SIBYLL_m_0.276.npy\n",
      "save data to file: ./model/LLP_spectra/13.6TeV_321_QGSJET_m_0.276.npy\n",
      "save data to file: ./model/LLP_spectra/13.6TeV_321_Pythia8-Forward_m_0.276.npy\n",
      "save data to file: ./model/LLP_spectra/13.6TeV_-321_EPOSLHC_m_0.276.npy\n",
      "save data to file: ./model/LLP_spectra/13.6TeV_-321_SIBYLL_m_0.276.npy\n",
      "save data to file: ./model/LLP_spectra/13.6TeV_-321_QGSJET_m_0.276.npy\n",
      "save data to file: ./model/LLP_spectra/13.6TeV_-321_Pythia8-Forward_m_0.276.npy\n",
      "save data to file: ./model/LLP_spectra/13.6TeV_221_EPOSLHC_m_0.277.npy\n",
      "save data to file: ./model/LLP_spectra/13.6TeV_221_SIBYLL_m_0.277.npy\n",
      "save data to file: ./model/LLP_spectra/13.6TeV_221_QGSJET_m_0.277.npy\n",
      "save data to file: ./model/LLP_spectra/13.6TeV_221_Pythia8-Forward_m_0.277.npy\n",
      "save data to file: ./model/LLP_spectra/13.6TeV_331_EPOSLHC_m_0.277.npy\n",
      "save data to file: ./model/LLP_spectra/13.6TeV_331_SIBYLL_m_0.277.npy\n",
      "save data to file: ./model/LLP_spectra/13.6TeV_331_Pythia8-Forward_m_0.277.npy\n",
      "save data to file: ./model/LLP_spectra/13.6TeV_321_EPOSLHC_m_0.277.npy\n",
      "save data to file: ./model/LLP_spectra/13.6TeV_321_SIBYLL_m_0.277.npy\n",
      "save data to file: ./model/LLP_spectra/13.6TeV_321_QGSJET_m_0.277.npy\n",
      "save data to file: ./model/LLP_spectra/13.6TeV_321_Pythia8-Forward_m_0.277.npy\n",
      "save data to file: ./model/LLP_spectra/13.6TeV_-321_EPOSLHC_m_0.277.npy\n",
      "save data to file: ./model/LLP_spectra/13.6TeV_-321_SIBYLL_m_0.277.npy\n",
      "save data to file: ./model/LLP_spectra/13.6TeV_-321_QGSJET_m_0.277.npy\n",
      "save data to file: ./model/LLP_spectra/13.6TeV_-321_Pythia8-Forward_m_0.277.npy\n",
      "save data to file: ./model/LLP_spectra/13.6TeV_221_EPOSLHC_m_0.278.npy\n",
      "save data to file: ./model/LLP_spectra/13.6TeV_221_SIBYLL_m_0.278.npy\n",
      "save data to file: ./model/LLP_spectra/13.6TeV_221_QGSJET_m_0.278.npy\n",
      "save data to file: ./model/LLP_spectra/13.6TeV_221_Pythia8-Forward_m_0.278.npy\n",
      "save data to file: ./model/LLP_spectra/13.6TeV_331_EPOSLHC_m_0.278.npy\n",
      "save data to file: ./model/LLP_spectra/13.6TeV_331_SIBYLL_m_0.278.npy\n",
      "save data to file: ./model/LLP_spectra/13.6TeV_331_Pythia8-Forward_m_0.278.npy\n",
      "save data to file: ./model/LLP_spectra/13.6TeV_321_EPOSLHC_m_0.278.npy\n",
      "save data to file: ./model/LLP_spectra/13.6TeV_321_SIBYLL_m_0.278.npy\n",
      "save data to file: ./model/LLP_spectra/13.6TeV_321_QGSJET_m_0.278.npy\n",
      "save data to file: ./model/LLP_spectra/13.6TeV_321_Pythia8-Forward_m_0.278.npy\n",
      "save data to file: ./model/LLP_spectra/13.6TeV_-321_EPOSLHC_m_0.278.npy\n",
      "save data to file: ./model/LLP_spectra/13.6TeV_-321_SIBYLL_m_0.278.npy\n",
      "save data to file: ./model/LLP_spectra/13.6TeV_-321_QGSJET_m_0.278.npy\n",
      "save data to file: ./model/LLP_spectra/13.6TeV_-321_Pythia8-Forward_m_0.278.npy\n",
      "save data to file: ./model/LLP_spectra/13.6TeV_221_EPOSLHC_m_0.279.npy\n",
      "save data to file: ./model/LLP_spectra/13.6TeV_221_SIBYLL_m_0.279.npy\n",
      "save data to file: ./model/LLP_spectra/13.6TeV_221_QGSJET_m_0.279.npy\n",
      "save data to file: ./model/LLP_spectra/13.6TeV_221_Pythia8-Forward_m_0.279.npy\n",
      "save data to file: ./model/LLP_spectra/13.6TeV_331_EPOSLHC_m_0.279.npy\n",
      "save data to file: ./model/LLP_spectra/13.6TeV_331_SIBYLL_m_0.279.npy\n",
      "save data to file: ./model/LLP_spectra/13.6TeV_331_Pythia8-Forward_m_0.279.npy\n",
      "save data to file: ./model/LLP_spectra/13.6TeV_321_EPOSLHC_m_0.279.npy\n",
      "save data to file: ./model/LLP_spectra/13.6TeV_321_SIBYLL_m_0.279.npy\n",
      "save data to file: ./model/LLP_spectra/13.6TeV_321_QGSJET_m_0.279.npy\n",
      "save data to file: ./model/LLP_spectra/13.6TeV_321_Pythia8-Forward_m_0.279.npy\n",
      "save data to file: ./model/LLP_spectra/13.6TeV_-321_EPOSLHC_m_0.279.npy\n",
      "save data to file: ./model/LLP_spectra/13.6TeV_-321_SIBYLL_m_0.279.npy\n",
      "save data to file: ./model/LLP_spectra/13.6TeV_-321_QGSJET_m_0.279.npy\n",
      "save data to file: ./model/LLP_spectra/13.6TeV_-321_Pythia8-Forward_m_0.279.npy\n",
      "save data to file: ./model/LLP_spectra/13.6TeV_221_EPOSLHC_m_0.28.npy\n",
      "save data to file: ./model/LLP_spectra/13.6TeV_221_SIBYLL_m_0.28.npy\n"
     ]
    },
    {
     "name": "stdout",
     "output_type": "stream",
     "text": [
      "save data to file: ./model/LLP_spectra/13.6TeV_221_QGSJET_m_0.28.npy\n",
      "save data to file: ./model/LLP_spectra/13.6TeV_221_Pythia8-Forward_m_0.28.npy\n",
      "save data to file: ./model/LLP_spectra/13.6TeV_331_EPOSLHC_m_0.28.npy\n",
      "save data to file: ./model/LLP_spectra/13.6TeV_331_SIBYLL_m_0.28.npy\n",
      "save data to file: ./model/LLP_spectra/13.6TeV_331_Pythia8-Forward_m_0.28.npy\n",
      "save data to file: ./model/LLP_spectra/13.6TeV_321_EPOSLHC_m_0.28.npy\n",
      "save data to file: ./model/LLP_spectra/13.6TeV_321_SIBYLL_m_0.28.npy\n",
      "save data to file: ./model/LLP_spectra/13.6TeV_321_QGSJET_m_0.28.npy\n",
      "save data to file: ./model/LLP_spectra/13.6TeV_321_Pythia8-Forward_m_0.28.npy\n",
      "save data to file: ./model/LLP_spectra/13.6TeV_-321_EPOSLHC_m_0.28.npy\n",
      "save data to file: ./model/LLP_spectra/13.6TeV_-321_SIBYLL_m_0.28.npy\n",
      "save data to file: ./model/LLP_spectra/13.6TeV_-321_QGSJET_m_0.28.npy\n",
      "save data to file: ./model/LLP_spectra/13.6TeV_-321_Pythia8-Forward_m_0.28.npy\n",
      "save data to file: ./model/LLP_spectra/13.6TeV_221_EPOSLHC_m_0.281.npy\n",
      "save data to file: ./model/LLP_spectra/13.6TeV_221_SIBYLL_m_0.281.npy\n",
      "save data to file: ./model/LLP_spectra/13.6TeV_221_QGSJET_m_0.281.npy\n",
      "save data to file: ./model/LLP_spectra/13.6TeV_221_Pythia8-Forward_m_0.281.npy\n",
      "save data to file: ./model/LLP_spectra/13.6TeV_331_EPOSLHC_m_0.281.npy\n",
      "save data to file: ./model/LLP_spectra/13.6TeV_331_SIBYLL_m_0.281.npy\n",
      "save data to file: ./model/LLP_spectra/13.6TeV_331_Pythia8-Forward_m_0.281.npy\n",
      "save data to file: ./model/LLP_spectra/13.6TeV_321_EPOSLHC_m_0.281.npy\n",
      "save data to file: ./model/LLP_spectra/13.6TeV_321_SIBYLL_m_0.281.npy\n",
      "save data to file: ./model/LLP_spectra/13.6TeV_321_QGSJET_m_0.281.npy\n",
      "save data to file: ./model/LLP_spectra/13.6TeV_321_Pythia8-Forward_m_0.281.npy\n",
      "save data to file: ./model/LLP_spectra/13.6TeV_-321_EPOSLHC_m_0.281.npy\n",
      "save data to file: ./model/LLP_spectra/13.6TeV_-321_SIBYLL_m_0.281.npy\n",
      "save data to file: ./model/LLP_spectra/13.6TeV_-321_QGSJET_m_0.281.npy\n",
      "save data to file: ./model/LLP_spectra/13.6TeV_-321_Pythia8-Forward_m_0.281.npy\n",
      "save data to file: ./model/LLP_spectra/13.6TeV_221_EPOSLHC_m_0.28200000000000003.npy\n",
      "save data to file: ./model/LLP_spectra/13.6TeV_221_SIBYLL_m_0.28200000000000003.npy\n",
      "save data to file: ./model/LLP_spectra/13.6TeV_221_QGSJET_m_0.28200000000000003.npy\n",
      "save data to file: ./model/LLP_spectra/13.6TeV_221_Pythia8-Forward_m_0.28200000000000003.npy\n",
      "save data to file: ./model/LLP_spectra/13.6TeV_331_EPOSLHC_m_0.28200000000000003.npy\n",
      "save data to file: ./model/LLP_spectra/13.6TeV_331_SIBYLL_m_0.28200000000000003.npy\n",
      "save data to file: ./model/LLP_spectra/13.6TeV_331_Pythia8-Forward_m_0.28200000000000003.npy\n",
      "save data to file: ./model/LLP_spectra/13.6TeV_321_EPOSLHC_m_0.28200000000000003.npy\n",
      "save data to file: ./model/LLP_spectra/13.6TeV_321_SIBYLL_m_0.28200000000000003.npy\n",
      "save data to file: ./model/LLP_spectra/13.6TeV_321_QGSJET_m_0.28200000000000003.npy\n",
      "save data to file: ./model/LLP_spectra/13.6TeV_321_Pythia8-Forward_m_0.28200000000000003.npy\n",
      "save data to file: ./model/LLP_spectra/13.6TeV_-321_EPOSLHC_m_0.28200000000000003.npy\n",
      "save data to file: ./model/LLP_spectra/13.6TeV_-321_SIBYLL_m_0.28200000000000003.npy\n",
      "save data to file: ./model/LLP_spectra/13.6TeV_-321_QGSJET_m_0.28200000000000003.npy\n",
      "save data to file: ./model/LLP_spectra/13.6TeV_-321_Pythia8-Forward_m_0.28200000000000003.npy\n",
      "save data to file: ./model/LLP_spectra/13.6TeV_221_EPOSLHC_m_0.28300000000000003.npy\n",
      "save data to file: ./model/LLP_spectra/13.6TeV_221_SIBYLL_m_0.28300000000000003.npy\n",
      "save data to file: ./model/LLP_spectra/13.6TeV_221_QGSJET_m_0.28300000000000003.npy\n",
      "save data to file: ./model/LLP_spectra/13.6TeV_221_Pythia8-Forward_m_0.28300000000000003.npy\n",
      "save data to file: ./model/LLP_spectra/13.6TeV_331_EPOSLHC_m_0.28300000000000003.npy\n",
      "save data to file: ./model/LLP_spectra/13.6TeV_331_SIBYLL_m_0.28300000000000003.npy\n",
      "save data to file: ./model/LLP_spectra/13.6TeV_331_Pythia8-Forward_m_0.28300000000000003.npy\n",
      "save data to file: ./model/LLP_spectra/13.6TeV_321_EPOSLHC_m_0.28300000000000003.npy\n",
      "save data to file: ./model/LLP_spectra/13.6TeV_321_SIBYLL_m_0.28300000000000003.npy\n",
      "save data to file: ./model/LLP_spectra/13.6TeV_321_QGSJET_m_0.28300000000000003.npy\n",
      "save data to file: ./model/LLP_spectra/13.6TeV_321_Pythia8-Forward_m_0.28300000000000003.npy\n",
      "save data to file: ./model/LLP_spectra/13.6TeV_-321_EPOSLHC_m_0.28300000000000003.npy\n",
      "save data to file: ./model/LLP_spectra/13.6TeV_-321_SIBYLL_m_0.28300000000000003.npy\n",
      "save data to file: ./model/LLP_spectra/13.6TeV_-321_QGSJET_m_0.28300000000000003.npy\n",
      "save data to file: ./model/LLP_spectra/13.6TeV_-321_Pythia8-Forward_m_0.28300000000000003.npy\n",
      "save data to file: ./model/LLP_spectra/13.6TeV_221_EPOSLHC_m_0.28400000000000003.npy\n",
      "save data to file: ./model/LLP_spectra/13.6TeV_221_SIBYLL_m_0.28400000000000003.npy\n",
      "save data to file: ./model/LLP_spectra/13.6TeV_221_QGSJET_m_0.28400000000000003.npy\n",
      "save data to file: ./model/LLP_spectra/13.6TeV_221_Pythia8-Forward_m_0.28400000000000003.npy\n",
      "save data to file: ./model/LLP_spectra/13.6TeV_331_EPOSLHC_m_0.28400000000000003.npy\n",
      "save data to file: ./model/LLP_spectra/13.6TeV_331_SIBYLL_m_0.28400000000000003.npy\n",
      "save data to file: ./model/LLP_spectra/13.6TeV_331_Pythia8-Forward_m_0.28400000000000003.npy\n",
      "save data to file: ./model/LLP_spectra/13.6TeV_321_EPOSLHC_m_0.28400000000000003.npy\n",
      "save data to file: ./model/LLP_spectra/13.6TeV_321_SIBYLL_m_0.28400000000000003.npy\n",
      "save data to file: ./model/LLP_spectra/13.6TeV_321_QGSJET_m_0.28400000000000003.npy\n",
      "save data to file: ./model/LLP_spectra/13.6TeV_321_Pythia8-Forward_m_0.28400000000000003.npy\n",
      "save data to file: ./model/LLP_spectra/13.6TeV_-321_EPOSLHC_m_0.28400000000000003.npy\n",
      "save data to file: ./model/LLP_spectra/13.6TeV_-321_SIBYLL_m_0.28400000000000003.npy\n",
      "save data to file: ./model/LLP_spectra/13.6TeV_-321_QGSJET_m_0.28400000000000003.npy\n",
      "save data to file: ./model/LLP_spectra/13.6TeV_-321_Pythia8-Forward_m_0.28400000000000003.npy\n",
      "save data to file: ./model/LLP_spectra/13.6TeV_221_EPOSLHC_m_0.28500000000000003.npy\n",
      "save data to file: ./model/LLP_spectra/13.6TeV_221_SIBYLL_m_0.28500000000000003.npy\n",
      "save data to file: ./model/LLP_spectra/13.6TeV_221_QGSJET_m_0.28500000000000003.npy\n",
      "save data to file: ./model/LLP_spectra/13.6TeV_221_Pythia8-Forward_m_0.28500000000000003.npy\n",
      "save data to file: ./model/LLP_spectra/13.6TeV_331_EPOSLHC_m_0.28500000000000003.npy\n",
      "save data to file: ./model/LLP_spectra/13.6TeV_331_SIBYLL_m_0.28500000000000003.npy\n",
      "save data to file: ./model/LLP_spectra/13.6TeV_331_Pythia8-Forward_m_0.28500000000000003.npy\n",
      "save data to file: ./model/LLP_spectra/13.6TeV_321_EPOSLHC_m_0.28500000000000003.npy\n",
      "save data to file: ./model/LLP_spectra/13.6TeV_321_SIBYLL_m_0.28500000000000003.npy\n",
      "save data to file: ./model/LLP_spectra/13.6TeV_321_QGSJET_m_0.28500000000000003.npy\n",
      "save data to file: ./model/LLP_spectra/13.6TeV_321_Pythia8-Forward_m_0.28500000000000003.npy\n",
      "save data to file: ./model/LLP_spectra/13.6TeV_-321_EPOSLHC_m_0.28500000000000003.npy\n",
      "save data to file: ./model/LLP_spectra/13.6TeV_-321_SIBYLL_m_0.28500000000000003.npy\n",
      "save data to file: ./model/LLP_spectra/13.6TeV_-321_QGSJET_m_0.28500000000000003.npy\n",
      "save data to file: ./model/LLP_spectra/13.6TeV_-321_Pythia8-Forward_m_0.28500000000000003.npy\n",
      "save data to file: ./model/LLP_spectra/13.6TeV_221_EPOSLHC_m_0.286.npy\n",
      "save data to file: ./model/LLP_spectra/13.6TeV_221_SIBYLL_m_0.286.npy\n",
      "save data to file: ./model/LLP_spectra/13.6TeV_221_QGSJET_m_0.286.npy\n",
      "save data to file: ./model/LLP_spectra/13.6TeV_221_Pythia8-Forward_m_0.286.npy\n",
      "save data to file: ./model/LLP_spectra/13.6TeV_331_EPOSLHC_m_0.286.npy\n",
      "save data to file: ./model/LLP_spectra/13.6TeV_331_SIBYLL_m_0.286.npy\n",
      "save data to file: ./model/LLP_spectra/13.6TeV_331_Pythia8-Forward_m_0.286.npy\n",
      "save data to file: ./model/LLP_spectra/13.6TeV_321_EPOSLHC_m_0.286.npy\n",
      "save data to file: ./model/LLP_spectra/13.6TeV_321_SIBYLL_m_0.286.npy\n",
      "save data to file: ./model/LLP_spectra/13.6TeV_321_QGSJET_m_0.286.npy\n",
      "save data to file: ./model/LLP_spectra/13.6TeV_321_Pythia8-Forward_m_0.286.npy\n",
      "save data to file: ./model/LLP_spectra/13.6TeV_-321_EPOSLHC_m_0.286.npy\n",
      "save data to file: ./model/LLP_spectra/13.6TeV_-321_SIBYLL_m_0.286.npy\n"
     ]
    },
    {
     "name": "stdout",
     "output_type": "stream",
     "text": [
      "save data to file: ./model/LLP_spectra/13.6TeV_-321_QGSJET_m_0.286.npy\n",
      "save data to file: ./model/LLP_spectra/13.6TeV_-321_Pythia8-Forward_m_0.286.npy\n",
      "save data to file: ./model/LLP_spectra/13.6TeV_221_EPOSLHC_m_0.287.npy\n",
      "save data to file: ./model/LLP_spectra/13.6TeV_221_SIBYLL_m_0.287.npy\n",
      "save data to file: ./model/LLP_spectra/13.6TeV_221_QGSJET_m_0.287.npy\n",
      "save data to file: ./model/LLP_spectra/13.6TeV_221_Pythia8-Forward_m_0.287.npy\n",
      "save data to file: ./model/LLP_spectra/13.6TeV_331_EPOSLHC_m_0.287.npy\n",
      "save data to file: ./model/LLP_spectra/13.6TeV_331_SIBYLL_m_0.287.npy\n",
      "save data to file: ./model/LLP_spectra/13.6TeV_331_Pythia8-Forward_m_0.287.npy\n",
      "save data to file: ./model/LLP_spectra/13.6TeV_321_EPOSLHC_m_0.287.npy\n",
      "save data to file: ./model/LLP_spectra/13.6TeV_321_SIBYLL_m_0.287.npy\n",
      "save data to file: ./model/LLP_spectra/13.6TeV_321_QGSJET_m_0.287.npy\n",
      "save data to file: ./model/LLP_spectra/13.6TeV_321_Pythia8-Forward_m_0.287.npy\n",
      "save data to file: ./model/LLP_spectra/13.6TeV_-321_EPOSLHC_m_0.287.npy\n",
      "save data to file: ./model/LLP_spectra/13.6TeV_-321_SIBYLL_m_0.287.npy\n",
      "save data to file: ./model/LLP_spectra/13.6TeV_-321_QGSJET_m_0.287.npy\n",
      "save data to file: ./model/LLP_spectra/13.6TeV_-321_Pythia8-Forward_m_0.287.npy\n",
      "save data to file: ./model/LLP_spectra/13.6TeV_221_EPOSLHC_m_0.288.npy\n",
      "save data to file: ./model/LLP_spectra/13.6TeV_221_SIBYLL_m_0.288.npy\n",
      "save data to file: ./model/LLP_spectra/13.6TeV_221_QGSJET_m_0.288.npy\n",
      "save data to file: ./model/LLP_spectra/13.6TeV_221_Pythia8-Forward_m_0.288.npy\n",
      "save data to file: ./model/LLP_spectra/13.6TeV_331_EPOSLHC_m_0.288.npy\n",
      "save data to file: ./model/LLP_spectra/13.6TeV_331_SIBYLL_m_0.288.npy\n",
      "save data to file: ./model/LLP_spectra/13.6TeV_331_Pythia8-Forward_m_0.288.npy\n",
      "save data to file: ./model/LLP_spectra/13.6TeV_321_EPOSLHC_m_0.288.npy\n",
      "save data to file: ./model/LLP_spectra/13.6TeV_321_SIBYLL_m_0.288.npy\n",
      "save data to file: ./model/LLP_spectra/13.6TeV_321_QGSJET_m_0.288.npy\n",
      "save data to file: ./model/LLP_spectra/13.6TeV_321_Pythia8-Forward_m_0.288.npy\n",
      "save data to file: ./model/LLP_spectra/13.6TeV_-321_EPOSLHC_m_0.288.npy\n",
      "save data to file: ./model/LLP_spectra/13.6TeV_-321_SIBYLL_m_0.288.npy\n",
      "save data to file: ./model/LLP_spectra/13.6TeV_-321_QGSJET_m_0.288.npy\n",
      "save data to file: ./model/LLP_spectra/13.6TeV_-321_Pythia8-Forward_m_0.288.npy\n",
      "save data to file: ./model/LLP_spectra/13.6TeV_221_EPOSLHC_m_0.289.npy\n",
      "save data to file: ./model/LLP_spectra/13.6TeV_221_SIBYLL_m_0.289.npy\n",
      "save data to file: ./model/LLP_spectra/13.6TeV_221_QGSJET_m_0.289.npy\n",
      "save data to file: ./model/LLP_spectra/13.6TeV_221_Pythia8-Forward_m_0.289.npy\n",
      "save data to file: ./model/LLP_spectra/13.6TeV_331_EPOSLHC_m_0.289.npy\n",
      "save data to file: ./model/LLP_spectra/13.6TeV_331_SIBYLL_m_0.289.npy\n",
      "save data to file: ./model/LLP_spectra/13.6TeV_331_Pythia8-Forward_m_0.289.npy\n",
      "save data to file: ./model/LLP_spectra/13.6TeV_321_EPOSLHC_m_0.289.npy\n",
      "save data to file: ./model/LLP_spectra/13.6TeV_321_SIBYLL_m_0.289.npy\n",
      "save data to file: ./model/LLP_spectra/13.6TeV_321_QGSJET_m_0.289.npy\n",
      "save data to file: ./model/LLP_spectra/13.6TeV_321_Pythia8-Forward_m_0.289.npy\n",
      "save data to file: ./model/LLP_spectra/13.6TeV_-321_EPOSLHC_m_0.289.npy\n",
      "save data to file: ./model/LLP_spectra/13.6TeV_-321_SIBYLL_m_0.289.npy\n",
      "save data to file: ./model/LLP_spectra/13.6TeV_-321_QGSJET_m_0.289.npy\n",
      "save data to file: ./model/LLP_spectra/13.6TeV_-321_Pythia8-Forward_m_0.289.npy\n",
      "save data to file: ./model/LLP_spectra/13.6TeV_221_EPOSLHC_m_0.29.npy\n",
      "save data to file: ./model/LLP_spectra/13.6TeV_221_SIBYLL_m_0.29.npy\n",
      "save data to file: ./model/LLP_spectra/13.6TeV_221_QGSJET_m_0.29.npy\n",
      "save data to file: ./model/LLP_spectra/13.6TeV_221_Pythia8-Forward_m_0.29.npy\n",
      "save data to file: ./model/LLP_spectra/13.6TeV_331_EPOSLHC_m_0.29.npy\n",
      "save data to file: ./model/LLP_spectra/13.6TeV_331_SIBYLL_m_0.29.npy\n",
      "save data to file: ./model/LLP_spectra/13.6TeV_331_Pythia8-Forward_m_0.29.npy\n",
      "save data to file: ./model/LLP_spectra/13.6TeV_321_EPOSLHC_m_0.29.npy\n",
      "save data to file: ./model/LLP_spectra/13.6TeV_321_SIBYLL_m_0.29.npy\n",
      "save data to file: ./model/LLP_spectra/13.6TeV_321_QGSJET_m_0.29.npy\n",
      "save data to file: ./model/LLP_spectra/13.6TeV_321_Pythia8-Forward_m_0.29.npy\n",
      "save data to file: ./model/LLP_spectra/13.6TeV_-321_EPOSLHC_m_0.29.npy\n",
      "save data to file: ./model/LLP_spectra/13.6TeV_-321_SIBYLL_m_0.29.npy\n",
      "save data to file: ./model/LLP_spectra/13.6TeV_-321_QGSJET_m_0.29.npy\n",
      "save data to file: ./model/LLP_spectra/13.6TeV_-321_Pythia8-Forward_m_0.29.npy\n",
      "save data to file: ./model/LLP_spectra/13.6TeV_221_EPOSLHC_m_0.291.npy\n",
      "save data to file: ./model/LLP_spectra/13.6TeV_221_SIBYLL_m_0.291.npy\n",
      "save data to file: ./model/LLP_spectra/13.6TeV_221_QGSJET_m_0.291.npy\n",
      "save data to file: ./model/LLP_spectra/13.6TeV_221_Pythia8-Forward_m_0.291.npy\n",
      "save data to file: ./model/LLP_spectra/13.6TeV_331_EPOSLHC_m_0.291.npy\n",
      "save data to file: ./model/LLP_spectra/13.6TeV_331_SIBYLL_m_0.291.npy\n",
      "save data to file: ./model/LLP_spectra/13.6TeV_331_Pythia8-Forward_m_0.291.npy\n",
      "save data to file: ./model/LLP_spectra/13.6TeV_321_EPOSLHC_m_0.291.npy\n",
      "save data to file: ./model/LLP_spectra/13.6TeV_321_SIBYLL_m_0.291.npy\n",
      "save data to file: ./model/LLP_spectra/13.6TeV_321_QGSJET_m_0.291.npy\n",
      "save data to file: ./model/LLP_spectra/13.6TeV_321_Pythia8-Forward_m_0.291.npy\n",
      "save data to file: ./model/LLP_spectra/13.6TeV_-321_EPOSLHC_m_0.291.npy\n",
      "save data to file: ./model/LLP_spectra/13.6TeV_-321_SIBYLL_m_0.291.npy\n",
      "save data to file: ./model/LLP_spectra/13.6TeV_-321_QGSJET_m_0.291.npy\n",
      "save data to file: ./model/LLP_spectra/13.6TeV_-321_Pythia8-Forward_m_0.291.npy\n",
      "save data to file: ./model/LLP_spectra/13.6TeV_221_EPOSLHC_m_0.292.npy\n",
      "save data to file: ./model/LLP_spectra/13.6TeV_221_SIBYLL_m_0.292.npy\n",
      "save data to file: ./model/LLP_spectra/13.6TeV_221_QGSJET_m_0.292.npy\n",
      "save data to file: ./model/LLP_spectra/13.6TeV_221_Pythia8-Forward_m_0.292.npy\n",
      "save data to file: ./model/LLP_spectra/13.6TeV_331_EPOSLHC_m_0.292.npy\n",
      "save data to file: ./model/LLP_spectra/13.6TeV_331_SIBYLL_m_0.292.npy\n",
      "save data to file: ./model/LLP_spectra/13.6TeV_331_Pythia8-Forward_m_0.292.npy\n",
      "save data to file: ./model/LLP_spectra/13.6TeV_321_EPOSLHC_m_0.292.npy\n",
      "save data to file: ./model/LLP_spectra/13.6TeV_321_SIBYLL_m_0.292.npy\n",
      "save data to file: ./model/LLP_spectra/13.6TeV_321_QGSJET_m_0.292.npy\n",
      "save data to file: ./model/LLP_spectra/13.6TeV_321_Pythia8-Forward_m_0.292.npy\n",
      "save data to file: ./model/LLP_spectra/13.6TeV_-321_EPOSLHC_m_0.292.npy\n",
      "save data to file: ./model/LLP_spectra/13.6TeV_-321_SIBYLL_m_0.292.npy\n",
      "save data to file: ./model/LLP_spectra/13.6TeV_-321_QGSJET_m_0.292.npy\n",
      "save data to file: ./model/LLP_spectra/13.6TeV_-321_Pythia8-Forward_m_0.292.npy\n",
      "save data to file: ./model/LLP_spectra/13.6TeV_221_EPOSLHC_m_0.293.npy\n",
      "save data to file: ./model/LLP_spectra/13.6TeV_221_SIBYLL_m_0.293.npy\n",
      "save data to file: ./model/LLP_spectra/13.6TeV_221_QGSJET_m_0.293.npy\n",
      "save data to file: ./model/LLP_spectra/13.6TeV_221_Pythia8-Forward_m_0.293.npy\n",
      "save data to file: ./model/LLP_spectra/13.6TeV_331_EPOSLHC_m_0.293.npy\n",
      "save data to file: ./model/LLP_spectra/13.6TeV_331_SIBYLL_m_0.293.npy\n",
      "save data to file: ./model/LLP_spectra/13.6TeV_331_Pythia8-Forward_m_0.293.npy\n",
      "save data to file: ./model/LLP_spectra/13.6TeV_321_EPOSLHC_m_0.293.npy\n",
      "save data to file: ./model/LLP_spectra/13.6TeV_321_SIBYLL_m_0.293.npy\n",
      "save data to file: ./model/LLP_spectra/13.6TeV_321_QGSJET_m_0.293.npy\n",
      "save data to file: ./model/LLP_spectra/13.6TeV_321_Pythia8-Forward_m_0.293.npy\n",
      "save data to file: ./model/LLP_spectra/13.6TeV_-321_EPOSLHC_m_0.293.npy\n",
      "save data to file: ./model/LLP_spectra/13.6TeV_-321_SIBYLL_m_0.293.npy\n",
      "save data to file: ./model/LLP_spectra/13.6TeV_-321_QGSJET_m_0.293.npy\n",
      "save data to file: ./model/LLP_spectra/13.6TeV_-321_Pythia8-Forward_m_0.293.npy\n",
      "save data to file: ./model/LLP_spectra/13.6TeV_221_EPOSLHC_m_0.294.npy\n",
      "save data to file: ./model/LLP_spectra/13.6TeV_221_SIBYLL_m_0.294.npy\n",
      "save data to file: ./model/LLP_spectra/13.6TeV_221_QGSJET_m_0.294.npy\n",
      "save data to file: ./model/LLP_spectra/13.6TeV_221_Pythia8-Forward_m_0.294.npy\n",
      "save data to file: ./model/LLP_spectra/13.6TeV_331_EPOSLHC_m_0.294.npy\n",
      "save data to file: ./model/LLP_spectra/13.6TeV_331_SIBYLL_m_0.294.npy\n"
     ]
    },
    {
     "name": "stdout",
     "output_type": "stream",
     "text": [
      "save data to file: ./model/LLP_spectra/13.6TeV_331_Pythia8-Forward_m_0.294.npy\n",
      "save data to file: ./model/LLP_spectra/13.6TeV_321_EPOSLHC_m_0.294.npy\n",
      "save data to file: ./model/LLP_spectra/13.6TeV_321_SIBYLL_m_0.294.npy\n",
      "save data to file: ./model/LLP_spectra/13.6TeV_321_QGSJET_m_0.294.npy\n",
      "save data to file: ./model/LLP_spectra/13.6TeV_321_Pythia8-Forward_m_0.294.npy\n",
      "save data to file: ./model/LLP_spectra/13.6TeV_-321_EPOSLHC_m_0.294.npy\n",
      "save data to file: ./model/LLP_spectra/13.6TeV_-321_SIBYLL_m_0.294.npy\n",
      "save data to file: ./model/LLP_spectra/13.6TeV_-321_QGSJET_m_0.294.npy\n",
      "save data to file: ./model/LLP_spectra/13.6TeV_-321_Pythia8-Forward_m_0.294.npy\n",
      "save data to file: ./model/LLP_spectra/13.6TeV_221_EPOSLHC_m_0.295.npy\n",
      "save data to file: ./model/LLP_spectra/13.6TeV_221_SIBYLL_m_0.295.npy\n",
      "save data to file: ./model/LLP_spectra/13.6TeV_221_QGSJET_m_0.295.npy\n",
      "save data to file: ./model/LLP_spectra/13.6TeV_221_Pythia8-Forward_m_0.295.npy\n",
      "save data to file: ./model/LLP_spectra/13.6TeV_331_EPOSLHC_m_0.295.npy\n",
      "save data to file: ./model/LLP_spectra/13.6TeV_331_SIBYLL_m_0.295.npy\n",
      "save data to file: ./model/LLP_spectra/13.6TeV_331_Pythia8-Forward_m_0.295.npy\n",
      "save data to file: ./model/LLP_spectra/13.6TeV_321_EPOSLHC_m_0.295.npy\n",
      "save data to file: ./model/LLP_spectra/13.6TeV_321_SIBYLL_m_0.295.npy\n",
      "save data to file: ./model/LLP_spectra/13.6TeV_321_QGSJET_m_0.295.npy\n",
      "save data to file: ./model/LLP_spectra/13.6TeV_321_Pythia8-Forward_m_0.295.npy\n",
      "save data to file: ./model/LLP_spectra/13.6TeV_-321_EPOSLHC_m_0.295.npy\n",
      "save data to file: ./model/LLP_spectra/13.6TeV_-321_SIBYLL_m_0.295.npy\n",
      "save data to file: ./model/LLP_spectra/13.6TeV_-321_QGSJET_m_0.295.npy\n",
      "save data to file: ./model/LLP_spectra/13.6TeV_-321_Pythia8-Forward_m_0.295.npy\n",
      "save data to file: ./model/LLP_spectra/13.6TeV_221_EPOSLHC_m_0.296.npy\n",
      "save data to file: ./model/LLP_spectra/13.6TeV_221_SIBYLL_m_0.296.npy\n",
      "save data to file: ./model/LLP_spectra/13.6TeV_221_QGSJET_m_0.296.npy\n",
      "save data to file: ./model/LLP_spectra/13.6TeV_221_Pythia8-Forward_m_0.296.npy\n",
      "save data to file: ./model/LLP_spectra/13.6TeV_331_EPOSLHC_m_0.296.npy\n",
      "save data to file: ./model/LLP_spectra/13.6TeV_331_SIBYLL_m_0.296.npy\n",
      "save data to file: ./model/LLP_spectra/13.6TeV_331_Pythia8-Forward_m_0.296.npy\n",
      "save data to file: ./model/LLP_spectra/13.6TeV_321_EPOSLHC_m_0.296.npy\n",
      "save data to file: ./model/LLP_spectra/13.6TeV_321_SIBYLL_m_0.296.npy\n",
      "save data to file: ./model/LLP_spectra/13.6TeV_321_QGSJET_m_0.296.npy\n",
      "save data to file: ./model/LLP_spectra/13.6TeV_321_Pythia8-Forward_m_0.296.npy\n",
      "save data to file: ./model/LLP_spectra/13.6TeV_-321_EPOSLHC_m_0.296.npy\n",
      "save data to file: ./model/LLP_spectra/13.6TeV_-321_SIBYLL_m_0.296.npy\n",
      "save data to file: ./model/LLP_spectra/13.6TeV_-321_QGSJET_m_0.296.npy\n",
      "save data to file: ./model/LLP_spectra/13.6TeV_-321_Pythia8-Forward_m_0.296.npy\n",
      "save data to file: ./model/LLP_spectra/13.6TeV_221_EPOSLHC_m_0.297.npy\n",
      "save data to file: ./model/LLP_spectra/13.6TeV_221_SIBYLL_m_0.297.npy\n",
      "save data to file: ./model/LLP_spectra/13.6TeV_221_QGSJET_m_0.297.npy\n",
      "save data to file: ./model/LLP_spectra/13.6TeV_221_Pythia8-Forward_m_0.297.npy\n",
      "save data to file: ./model/LLP_spectra/13.6TeV_331_EPOSLHC_m_0.297.npy\n",
      "save data to file: ./model/LLP_spectra/13.6TeV_331_SIBYLL_m_0.297.npy\n",
      "save data to file: ./model/LLP_spectra/13.6TeV_331_Pythia8-Forward_m_0.297.npy\n",
      "save data to file: ./model/LLP_spectra/13.6TeV_321_EPOSLHC_m_0.297.npy\n",
      "save data to file: ./model/LLP_spectra/13.6TeV_321_SIBYLL_m_0.297.npy\n",
      "save data to file: ./model/LLP_spectra/13.6TeV_321_QGSJET_m_0.297.npy\n",
      "save data to file: ./model/LLP_spectra/13.6TeV_321_Pythia8-Forward_m_0.297.npy\n",
      "save data to file: ./model/LLP_spectra/13.6TeV_-321_EPOSLHC_m_0.297.npy\n",
      "save data to file: ./model/LLP_spectra/13.6TeV_-321_SIBYLL_m_0.297.npy\n",
      "save data to file: ./model/LLP_spectra/13.6TeV_-321_QGSJET_m_0.297.npy\n",
      "save data to file: ./model/LLP_spectra/13.6TeV_-321_Pythia8-Forward_m_0.297.npy\n",
      "save data to file: ./model/LLP_spectra/13.6TeV_221_EPOSLHC_m_0.298.npy\n",
      "save data to file: ./model/LLP_spectra/13.6TeV_221_SIBYLL_m_0.298.npy\n",
      "save data to file: ./model/LLP_spectra/13.6TeV_221_QGSJET_m_0.298.npy\n",
      "save data to file: ./model/LLP_spectra/13.6TeV_221_Pythia8-Forward_m_0.298.npy\n",
      "save data to file: ./model/LLP_spectra/13.6TeV_331_EPOSLHC_m_0.298.npy\n",
      "save data to file: ./model/LLP_spectra/13.6TeV_331_SIBYLL_m_0.298.npy\n",
      "save data to file: ./model/LLP_spectra/13.6TeV_331_Pythia8-Forward_m_0.298.npy\n",
      "save data to file: ./model/LLP_spectra/13.6TeV_321_EPOSLHC_m_0.298.npy\n",
      "save data to file: ./model/LLP_spectra/13.6TeV_321_SIBYLL_m_0.298.npy\n",
      "save data to file: ./model/LLP_spectra/13.6TeV_321_QGSJET_m_0.298.npy\n",
      "save data to file: ./model/LLP_spectra/13.6TeV_321_Pythia8-Forward_m_0.298.npy\n",
      "save data to file: ./model/LLP_spectra/13.6TeV_-321_EPOSLHC_m_0.298.npy\n",
      "save data to file: ./model/LLP_spectra/13.6TeV_-321_SIBYLL_m_0.298.npy\n",
      "save data to file: ./model/LLP_spectra/13.6TeV_-321_QGSJET_m_0.298.npy\n",
      "save data to file: ./model/LLP_spectra/13.6TeV_-321_Pythia8-Forward_m_0.298.npy\n",
      "save data to file: ./model/LLP_spectra/13.6TeV_221_EPOSLHC_m_0.299.npy\n",
      "save data to file: ./model/LLP_spectra/13.6TeV_221_SIBYLL_m_0.299.npy\n",
      "save data to file: ./model/LLP_spectra/13.6TeV_221_QGSJET_m_0.299.npy\n",
      "save data to file: ./model/LLP_spectra/13.6TeV_221_Pythia8-Forward_m_0.299.npy\n",
      "save data to file: ./model/LLP_spectra/13.6TeV_331_EPOSLHC_m_0.299.npy\n",
      "save data to file: ./model/LLP_spectra/13.6TeV_331_SIBYLL_m_0.299.npy\n",
      "save data to file: ./model/LLP_spectra/13.6TeV_331_Pythia8-Forward_m_0.299.npy\n",
      "save data to file: ./model/LLP_spectra/13.6TeV_321_EPOSLHC_m_0.299.npy\n",
      "save data to file: ./model/LLP_spectra/13.6TeV_321_SIBYLL_m_0.299.npy\n",
      "save data to file: ./model/LLP_spectra/13.6TeV_321_QGSJET_m_0.299.npy\n",
      "save data to file: ./model/LLP_spectra/13.6TeV_321_Pythia8-Forward_m_0.299.npy\n",
      "save data to file: ./model/LLP_spectra/13.6TeV_-321_EPOSLHC_m_0.299.npy\n",
      "save data to file: ./model/LLP_spectra/13.6TeV_-321_SIBYLL_m_0.299.npy\n",
      "save data to file: ./model/LLP_spectra/13.6TeV_-321_QGSJET_m_0.299.npy\n",
      "save data to file: ./model/LLP_spectra/13.6TeV_-321_Pythia8-Forward_m_0.299.npy\n",
      "save data to file: ./model/LLP_spectra/13.6TeV_221_EPOSLHC_m_0.3.npy\n",
      "save data to file: ./model/LLP_spectra/13.6TeV_221_SIBYLL_m_0.3.npy\n",
      "save data to file: ./model/LLP_spectra/13.6TeV_221_QGSJET_m_0.3.npy\n",
      "save data to file: ./model/LLP_spectra/13.6TeV_221_Pythia8-Forward_m_0.3.npy\n",
      "save data to file: ./model/LLP_spectra/13.6TeV_331_EPOSLHC_m_0.3.npy\n",
      "save data to file: ./model/LLP_spectra/13.6TeV_331_SIBYLL_m_0.3.npy\n",
      "save data to file: ./model/LLP_spectra/13.6TeV_331_Pythia8-Forward_m_0.3.npy\n",
      "save data to file: ./model/LLP_spectra/13.6TeV_321_EPOSLHC_m_0.3.npy\n",
      "save data to file: ./model/LLP_spectra/13.6TeV_321_SIBYLL_m_0.3.npy\n",
      "save data to file: ./model/LLP_spectra/13.6TeV_321_QGSJET_m_0.3.npy\n",
      "save data to file: ./model/LLP_spectra/13.6TeV_321_Pythia8-Forward_m_0.3.npy\n",
      "save data to file: ./model/LLP_spectra/13.6TeV_-321_EPOSLHC_m_0.3.npy\n",
      "save data to file: ./model/LLP_spectra/13.6TeV_-321_SIBYLL_m_0.3.npy\n",
      "save data to file: ./model/LLP_spectra/13.6TeV_-321_QGSJET_m_0.3.npy\n",
      "save data to file: ./model/LLP_spectra/13.6TeV_-321_Pythia8-Forward_m_0.3.npy\n",
      "save data to file: ./model/LLP_spectra/13.6TeV_221_EPOSLHC_m_0.31.npy\n",
      "save data to file: ./model/LLP_spectra/13.6TeV_221_SIBYLL_m_0.31.npy\n",
      "save data to file: ./model/LLP_spectra/13.6TeV_221_QGSJET_m_0.31.npy\n",
      "save data to file: ./model/LLP_spectra/13.6TeV_221_Pythia8-Forward_m_0.31.npy\n",
      "save data to file: ./model/LLP_spectra/13.6TeV_331_EPOSLHC_m_0.31.npy\n",
      "save data to file: ./model/LLP_spectra/13.6TeV_331_SIBYLL_m_0.31.npy\n",
      "save data to file: ./model/LLP_spectra/13.6TeV_331_Pythia8-Forward_m_0.31.npy\n",
      "save data to file: ./model/LLP_spectra/13.6TeV_321_EPOSLHC_m_0.31.npy\n",
      "save data to file: ./model/LLP_spectra/13.6TeV_321_SIBYLL_m_0.31.npy\n",
      "save data to file: ./model/LLP_spectra/13.6TeV_321_QGSJET_m_0.31.npy\n",
      "save data to file: ./model/LLP_spectra/13.6TeV_321_Pythia8-Forward_m_0.31.npy\n",
      "save data to file: ./model/LLP_spectra/13.6TeV_-321_EPOSLHC_m_0.31.npy\n",
      "save data to file: ./model/LLP_spectra/13.6TeV_-321_SIBYLL_m_0.31.npy\n",
      "save data to file: ./model/LLP_spectra/13.6TeV_-321_QGSJET_m_0.31.npy\n"
     ]
    },
    {
     "name": "stdout",
     "output_type": "stream",
     "text": [
      "save data to file: ./model/LLP_spectra/13.6TeV_-321_Pythia8-Forward_m_0.31.npy\n",
      "save data to file: ./model/LLP_spectra/13.6TeV_221_EPOSLHC_m_0.32.npy\n",
      "save data to file: ./model/LLP_spectra/13.6TeV_221_SIBYLL_m_0.32.npy\n",
      "save data to file: ./model/LLP_spectra/13.6TeV_221_QGSJET_m_0.32.npy\n",
      "save data to file: ./model/LLP_spectra/13.6TeV_221_Pythia8-Forward_m_0.32.npy\n",
      "save data to file: ./model/LLP_spectra/13.6TeV_331_EPOSLHC_m_0.32.npy\n",
      "save data to file: ./model/LLP_spectra/13.6TeV_331_SIBYLL_m_0.32.npy\n",
      "save data to file: ./model/LLP_spectra/13.6TeV_331_Pythia8-Forward_m_0.32.npy\n",
      "save data to file: ./model/LLP_spectra/13.6TeV_321_EPOSLHC_m_0.32.npy\n",
      "save data to file: ./model/LLP_spectra/13.6TeV_321_SIBYLL_m_0.32.npy\n",
      "save data to file: ./model/LLP_spectra/13.6TeV_321_QGSJET_m_0.32.npy\n",
      "save data to file: ./model/LLP_spectra/13.6TeV_321_Pythia8-Forward_m_0.32.npy\n",
      "save data to file: ./model/LLP_spectra/13.6TeV_-321_EPOSLHC_m_0.32.npy\n",
      "save data to file: ./model/LLP_spectra/13.6TeV_-321_SIBYLL_m_0.32.npy\n",
      "save data to file: ./model/LLP_spectra/13.6TeV_-321_QGSJET_m_0.32.npy\n",
      "save data to file: ./model/LLP_spectra/13.6TeV_-321_Pythia8-Forward_m_0.32.npy\n",
      "save data to file: ./model/LLP_spectra/13.6TeV_221_EPOSLHC_m_0.33.npy\n",
      "save data to file: ./model/LLP_spectra/13.6TeV_221_SIBYLL_m_0.33.npy\n",
      "save data to file: ./model/LLP_spectra/13.6TeV_221_QGSJET_m_0.33.npy\n",
      "save data to file: ./model/LLP_spectra/13.6TeV_221_Pythia8-Forward_m_0.33.npy\n",
      "save data to file: ./model/LLP_spectra/13.6TeV_331_EPOSLHC_m_0.33.npy\n",
      "save data to file: ./model/LLP_spectra/13.6TeV_331_SIBYLL_m_0.33.npy\n",
      "save data to file: ./model/LLP_spectra/13.6TeV_331_Pythia8-Forward_m_0.33.npy\n",
      "save data to file: ./model/LLP_spectra/13.6TeV_321_EPOSLHC_m_0.33.npy\n",
      "save data to file: ./model/LLP_spectra/13.6TeV_321_SIBYLL_m_0.33.npy\n",
      "save data to file: ./model/LLP_spectra/13.6TeV_321_QGSJET_m_0.33.npy\n",
      "save data to file: ./model/LLP_spectra/13.6TeV_321_Pythia8-Forward_m_0.33.npy\n",
      "save data to file: ./model/LLP_spectra/13.6TeV_-321_EPOSLHC_m_0.33.npy\n",
      "save data to file: ./model/LLP_spectra/13.6TeV_-321_SIBYLL_m_0.33.npy\n",
      "save data to file: ./model/LLP_spectra/13.6TeV_-321_QGSJET_m_0.33.npy\n",
      "save data to file: ./model/LLP_spectra/13.6TeV_-321_Pythia8-Forward_m_0.33.npy\n",
      "save data to file: ./model/LLP_spectra/13.6TeV_221_EPOSLHC_m_0.33999999999999997.npy\n",
      "save data to file: ./model/LLP_spectra/13.6TeV_221_SIBYLL_m_0.33999999999999997.npy\n",
      "save data to file: ./model/LLP_spectra/13.6TeV_221_QGSJET_m_0.33999999999999997.npy\n",
      "save data to file: ./model/LLP_spectra/13.6TeV_221_Pythia8-Forward_m_0.33999999999999997.npy\n",
      "save data to file: ./model/LLP_spectra/13.6TeV_331_EPOSLHC_m_0.33999999999999997.npy\n",
      "save data to file: ./model/LLP_spectra/13.6TeV_331_SIBYLL_m_0.33999999999999997.npy\n",
      "save data to file: ./model/LLP_spectra/13.6TeV_331_Pythia8-Forward_m_0.33999999999999997.npy\n",
      "save data to file: ./model/LLP_spectra/13.6TeV_321_EPOSLHC_m_0.33999999999999997.npy\n",
      "save data to file: ./model/LLP_spectra/13.6TeV_321_SIBYLL_m_0.33999999999999997.npy\n",
      "save data to file: ./model/LLP_spectra/13.6TeV_321_QGSJET_m_0.33999999999999997.npy\n",
      "save data to file: ./model/LLP_spectra/13.6TeV_321_Pythia8-Forward_m_0.33999999999999997.npy\n",
      "save data to file: ./model/LLP_spectra/13.6TeV_-321_EPOSLHC_m_0.33999999999999997.npy\n",
      "save data to file: ./model/LLP_spectra/13.6TeV_-321_SIBYLL_m_0.33999999999999997.npy\n",
      "save data to file: ./model/LLP_spectra/13.6TeV_-321_QGSJET_m_0.33999999999999997.npy\n",
      "save data to file: ./model/LLP_spectra/13.6TeV_-321_Pythia8-Forward_m_0.33999999999999997.npy\n",
      "save data to file: ./model/LLP_spectra/13.6TeV_221_EPOSLHC_m_0.35.npy\n",
      "save data to file: ./model/LLP_spectra/13.6TeV_221_SIBYLL_m_0.35.npy\n",
      "save data to file: ./model/LLP_spectra/13.6TeV_221_QGSJET_m_0.35.npy\n",
      "save data to file: ./model/LLP_spectra/13.6TeV_221_Pythia8-Forward_m_0.35.npy\n",
      "save data to file: ./model/LLP_spectra/13.6TeV_331_EPOSLHC_m_0.35.npy\n",
      "save data to file: ./model/LLP_spectra/13.6TeV_331_SIBYLL_m_0.35.npy\n",
      "save data to file: ./model/LLP_spectra/13.6TeV_331_Pythia8-Forward_m_0.35.npy\n",
      "save data to file: ./model/LLP_spectra/13.6TeV_321_EPOSLHC_m_0.35.npy\n",
      "save data to file: ./model/LLP_spectra/13.6TeV_321_SIBYLL_m_0.35.npy\n",
      "save data to file: ./model/LLP_spectra/13.6TeV_321_QGSJET_m_0.35.npy\n",
      "save data to file: ./model/LLP_spectra/13.6TeV_321_Pythia8-Forward_m_0.35.npy\n",
      "save data to file: ./model/LLP_spectra/13.6TeV_-321_EPOSLHC_m_0.35.npy\n",
      "save data to file: ./model/LLP_spectra/13.6TeV_-321_SIBYLL_m_0.35.npy\n",
      "save data to file: ./model/LLP_spectra/13.6TeV_-321_QGSJET_m_0.35.npy\n",
      "save data to file: ./model/LLP_spectra/13.6TeV_-321_Pythia8-Forward_m_0.35.npy\n",
      "save data to file: ./model/LLP_spectra/13.6TeV_221_EPOSLHC_m_0.36.npy\n",
      "save data to file: ./model/LLP_spectra/13.6TeV_221_SIBYLL_m_0.36.npy\n",
      "save data to file: ./model/LLP_spectra/13.6TeV_221_QGSJET_m_0.36.npy\n",
      "save data to file: ./model/LLP_spectra/13.6TeV_221_Pythia8-Forward_m_0.36.npy\n",
      "save data to file: ./model/LLP_spectra/13.6TeV_331_EPOSLHC_m_0.36.npy\n",
      "save data to file: ./model/LLP_spectra/13.6TeV_331_SIBYLL_m_0.36.npy\n",
      "save data to file: ./model/LLP_spectra/13.6TeV_331_Pythia8-Forward_m_0.36.npy\n",
      "save data to file: ./model/LLP_spectra/13.6TeV_221_EPOSLHC_m_0.37.npy\n",
      "save data to file: ./model/LLP_spectra/13.6TeV_221_SIBYLL_m_0.37.npy\n",
      "save data to file: ./model/LLP_spectra/13.6TeV_221_QGSJET_m_0.37.npy\n",
      "save data to file: ./model/LLP_spectra/13.6TeV_221_Pythia8-Forward_m_0.37.npy\n",
      "save data to file: ./model/LLP_spectra/13.6TeV_331_EPOSLHC_m_0.37.npy\n",
      "save data to file: ./model/LLP_spectra/13.6TeV_331_SIBYLL_m_0.37.npy\n",
      "save data to file: ./model/LLP_spectra/13.6TeV_331_Pythia8-Forward_m_0.37.npy\n",
      "save data to file: ./model/LLP_spectra/13.6TeV_221_EPOSLHC_m_0.38.npy\n",
      "save data to file: ./model/LLP_spectra/13.6TeV_221_SIBYLL_m_0.38.npy\n",
      "save data to file: ./model/LLP_spectra/13.6TeV_221_QGSJET_m_0.38.npy\n",
      "save data to file: ./model/LLP_spectra/13.6TeV_221_Pythia8-Forward_m_0.38.npy\n",
      "save data to file: ./model/LLP_spectra/13.6TeV_331_EPOSLHC_m_0.38.npy\n",
      "save data to file: ./model/LLP_spectra/13.6TeV_331_SIBYLL_m_0.38.npy\n",
      "save data to file: ./model/LLP_spectra/13.6TeV_331_Pythia8-Forward_m_0.38.npy\n",
      "save data to file: ./model/LLP_spectra/13.6TeV_221_EPOSLHC_m_0.39.npy\n",
      "save data to file: ./model/LLP_spectra/13.6TeV_221_SIBYLL_m_0.39.npy\n",
      "save data to file: ./model/LLP_spectra/13.6TeV_221_QGSJET_m_0.39.npy\n",
      "save data to file: ./model/LLP_spectra/13.6TeV_221_Pythia8-Forward_m_0.39.npy\n",
      "save data to file: ./model/LLP_spectra/13.6TeV_331_EPOSLHC_m_0.39.npy\n",
      "save data to file: ./model/LLP_spectra/13.6TeV_331_SIBYLL_m_0.39.npy\n",
      "save data to file: ./model/LLP_spectra/13.6TeV_331_Pythia8-Forward_m_0.39.npy\n",
      "save data to file: ./model/LLP_spectra/13.6TeV_221_EPOSLHC_m_0.4.npy\n",
      "save data to file: ./model/LLP_spectra/13.6TeV_221_SIBYLL_m_0.4.npy\n",
      "save data to file: ./model/LLP_spectra/13.6TeV_221_QGSJET_m_0.4.npy\n",
      "save data to file: ./model/LLP_spectra/13.6TeV_221_Pythia8-Forward_m_0.4.npy\n",
      "save data to file: ./model/LLP_spectra/13.6TeV_331_EPOSLHC_m_0.4.npy\n",
      "save data to file: ./model/LLP_spectra/13.6TeV_331_SIBYLL_m_0.4.npy\n",
      "save data to file: ./model/LLP_spectra/13.6TeV_331_Pythia8-Forward_m_0.4.npy\n",
      "save data to file: ./model/LLP_spectra/13.6TeV_221_EPOSLHC_m_0.41000000000000003.npy\n",
      "save data to file: ./model/LLP_spectra/13.6TeV_221_SIBYLL_m_0.41000000000000003.npy\n",
      "save data to file: ./model/LLP_spectra/13.6TeV_221_QGSJET_m_0.41000000000000003.npy\n",
      "save data to file: ./model/LLP_spectra/13.6TeV_221_Pythia8-Forward_m_0.41000000000000003.npy\n",
      "save data to file: ./model/LLP_spectra/13.6TeV_331_EPOSLHC_m_0.41000000000000003.npy\n",
      "save data to file: ./model/LLP_spectra/13.6TeV_331_SIBYLL_m_0.41000000000000003.npy\n",
      "save data to file: ./model/LLP_spectra/13.6TeV_331_Pythia8-Forward_m_0.41000000000000003.npy\n",
      "save data to file: ./model/LLP_spectra/13.6TeV_331_EPOSLHC_m_0.42.npy\n",
      "save data to file: ./model/LLP_spectra/13.6TeV_331_SIBYLL_m_0.42.npy\n",
      "save data to file: ./model/LLP_spectra/13.6TeV_331_Pythia8-Forward_m_0.42.npy\n",
      "save data to file: ./model/LLP_spectra/13.6TeV_331_EPOSLHC_m_0.43.npy\n",
      "save data to file: ./model/LLP_spectra/13.6TeV_331_SIBYLL_m_0.43.npy\n",
      "save data to file: ./model/LLP_spectra/13.6TeV_331_Pythia8-Forward_m_0.43.npy\n",
      "save data to file: ./model/LLP_spectra/13.6TeV_331_EPOSLHC_m_0.44.npy\n"
     ]
    },
    {
     "name": "stdout",
     "output_type": "stream",
     "text": [
      "save data to file: ./model/LLP_spectra/13.6TeV_331_SIBYLL_m_0.44.npy\n",
      "save data to file: ./model/LLP_spectra/13.6TeV_331_Pythia8-Forward_m_0.44.npy\n",
      "save data to file: ./model/LLP_spectra/13.6TeV_331_EPOSLHC_m_0.45.npy\n",
      "save data to file: ./model/LLP_spectra/13.6TeV_331_SIBYLL_m_0.45.npy\n",
      "save data to file: ./model/LLP_spectra/13.6TeV_331_Pythia8-Forward_m_0.45.npy\n",
      "save data to file: ./model/LLP_spectra/13.6TeV_331_EPOSLHC_m_0.45999999999999996.npy\n",
      "save data to file: ./model/LLP_spectra/13.6TeV_331_SIBYLL_m_0.45999999999999996.npy\n",
      "save data to file: ./model/LLP_spectra/13.6TeV_331_Pythia8-Forward_m_0.45999999999999996.npy\n",
      "save data to file: ./model/LLP_spectra/13.6TeV_331_EPOSLHC_m_0.47.npy\n",
      "save data to file: ./model/LLP_spectra/13.6TeV_331_SIBYLL_m_0.47.npy\n",
      "save data to file: ./model/LLP_spectra/13.6TeV_331_Pythia8-Forward_m_0.47.npy\n",
      "save data to file: ./model/LLP_spectra/13.6TeV_331_EPOSLHC_m_0.48.npy\n",
      "save data to file: ./model/LLP_spectra/13.6TeV_331_SIBYLL_m_0.48.npy\n",
      "save data to file: ./model/LLP_spectra/13.6TeV_331_Pythia8-Forward_m_0.48.npy\n",
      "save data to file: ./model/LLP_spectra/13.6TeV_331_EPOSLHC_m_0.49.npy\n",
      "save data to file: ./model/LLP_spectra/13.6TeV_331_SIBYLL_m_0.49.npy\n",
      "save data to file: ./model/LLP_spectra/13.6TeV_331_Pythia8-Forward_m_0.49.npy\n",
      "save data to file: ./model/LLP_spectra/13.6TeV_331_EPOSLHC_m_0.5.npy\n",
      "save data to file: ./model/LLP_spectra/13.6TeV_331_SIBYLL_m_0.5.npy\n",
      "save data to file: ./model/LLP_spectra/13.6TeV_331_Pythia8-Forward_m_0.5.npy\n"
     ]
    }
   ],
   "source": [
    "masses=[x for x in np.linspace(0.15,0.27,13)]\n",
    "masses+=[x for x in np.linspace(0.271,0.3,30)]\n",
    "masses+=[x for x in np.linspace(0.31,0.5,20)]\n",
    "couplings = np.logspace(-9,-2,71) \n",
    "\n",
    "for mass in masses: foresee.get_llp_spectrum(mass=mass,coupling=1)"
   ]
  },
  {
   "cell_type": "markdown",
   "metadata": {},
   "source": [
    "We can now plot the `production rate vs mass` using the `foresee.plot_production()` function."
   ]
  },
  {
   "cell_type": "code",
   "execution_count": 13,
   "metadata": {
    "ExecuteTime": {
     "end_time": "2023-12-12T21:14:38.339167Z",
     "start_time": "2023-12-12T21:13:49.325569Z"
    }
   },
   "outputs": [
    {
     "data": {
      "image/png": "[encoded data removed]",
      "text/plain": [
       "<Figure size 504x360 with 1 Axes>"
      ]
     },
     "metadata": {
      "needs_background": "light"
     },
     "output_type": "display_data"
    }
   ],
   "source": [
    "productions=[\n",
    "    {\"channels\": [\"221\"]       , \"color\": \"red\"      , \"label\": r\"$\\eta \\to \\pi^0 S$\" , \"generators\": ['EPOSLHC', 'SIBYLL', 'QGSJET', 'Pythia8-Forward'] },\n",
    "    {\"channels\": [\"331\"]       , \"color\": \"orange\"   , \"label\": r\"$\\eta' \\to \\pi^0 S$\", \"generators\": ['EPOSLHC', 'SIBYLL', 'Pythia8-Forward']           },\n",
    "    {\"channels\": [\"321\",\"-321\"], \"color\": \"limegreen\", \"label\": r\"$K \\to \\pi S$\"      , \"generators\": ['EPOSLHC', 'SIBYLL', 'QGSJET', 'Pythia8-Forward'] },\n",
    "]\n",
    "\n",
    "plot=foresee.plot_production(\n",
    "    masses = masses,\n",
    "    productions = productions,\n",
    "    energy=energy,\n",
    "    condition=\"logth<-3.7 and logp>2\",  \n",
    "    xlims=[0.15,0.5],ylims=[1e6,1e15],\n",
    "    xlabel=r\"Mass [GeV]\",\n",
    "    ylabel=r\"Production Rate $\\sigma/g_u^2$ [pb]\",\n",
    "    title=r\"$\\theta < 0.2$ mrad and $E > 100$ GeV\",\n",
    "    legendloc=(0.97,1),\n",
    "    fs_label=12,\n",
    "    ncol=3,\n",
    ")\n",
    "plot.savefig(\"Production_\"+modelname+\".pdf\")"
   ]
  },
  {
   "cell_type": "markdown",
   "metadata": {},
   "source": [
    "Let us now scan over various masses and couplings, and record the resulting number of evets. Note that here we again consider the FASER configuration, which we set up before."
   ]
  },
  {
   "cell_type": "code",
   "execution_count": 14,
   "metadata": {
    "ExecuteTime": {
     "end_time": "2023-12-13T03:25:43.093608Z",
     "start_time": "2023-12-12T23:42:49.983325Z"
    }
   },
   "outputs": [],
   "source": [
    "#get reach  \n",
    "list_nevents = {label:[] for label in setupnames}\n",
    "for mass in masses:\n",
    "    couplings, _, nevents, _, _  = foresee.get_events(mass=mass, energy=energy, couplings = couplings,modes=modes,nsample=10)\n",
    "    for i,label in enumerate(setupnames): list_nevents[label].append(nevents.T[i])  \n",
    "        \n",
    "#save results\n",
    "configuration='default'\n",
    "for label in setupnames: \n",
    "    result = np.array([masses,couplings,list_nevents[label]], dtype='object')\n",
    "    np.save(\"model/results/\"+energy+\"TeV_\"+configuration+\"_\"+label+\".npy\",result)"
   ]
  },
  {
   "cell_type": "markdown",
   "metadata": {},
   "source": [
    "We can now plot the results. For this, we first specify all detector setups for which we want to show result (filename in model/results directory, label, color, linestyle, opacity alpha for filled contours, required number of events)."
   ]
  },
  {
   "cell_type": "code",
   "execution_count": 15,
   "metadata": {
    "ExecuteTime": {
     "end_time": "2023-12-13T03:25:52.502764Z",
     "start_time": "2023-12-13T03:25:52.495574Z"
    }
   },
   "outputs": [],
   "source": [
    "setups = [ \n",
    "    [\"13.6TeV_default_EPOSLHC.npy\", \"EPOS\"    , \"red\"        ,  \"solid\"  , 0., 3],\n",
    "    [\"13.6TeV_default_SIBYLL.npy\" , \"SYBILL\"  , \"magenta\"    ,  \"solid\"  , 0., 3],\n",
    "    [\"13.6TeV_default_QGSJET.npy\" , \"QGSJET\"  , \"orange\"     ,  \"solid\"  , 0., 3],\n",
    "    [\"13.6TeV_default_PYTHIA.npy\" , \"PYTHIA\"  , \"salmon\"     ,  \"solid\"  , 0., 3],\n",
    "]"
   ]
  },
  {
   "cell_type": "markdown",
   "metadata": {},
   "source": [
    "Then we specify all the existing bounds."
   ]
  },
  {
   "cell_type": "code",
   "execution_count": 16,
   "metadata": {
    "ExecuteTime": {
     "end_time": "2023-12-13T03:25:53.349093Z",
     "start_time": "2023-12-13T03:25:53.338957Z"
    }
   },
   "outputs": [],
   "source": [
    "bounds = [ \n",
    "    [\"bounds_BBN.txt\"       , \"BBN\"    , 0.260, 5.0*10**-8, 90  ],\n",
    "    [\"bounds_MAMI.txt\"      , \"MAMI\"   , 0.210, 2.5*10**-3 , 0  ],\n",
    "    [\"bounds_CHARM.txt\"     , \"CHARM\"  , 0.200, 1.5*10**-5 , 0  ],\n",
    "    [\"bounds_CHARM2.txt\"    , None     , 0.   , 0.         , 0  ],\n",
    "    [\"bounds_E137.txt\"      , \"E137\"   , 0.215, 2.1*10**-4 , 0 ],\n",
    "    [\"bounds_SN1987.txt\"    , \"SN1987\" , 0.2  , 1.0*10**-8 , 0  ],\n",
    "    [\"bounds_KLOE.txt\"      , \"KLOE\"   , 0.358, 3.4*10**-4 , 90 ],\n",
    "    [\"bounds_BES3.txt\"      , \"BES3\"   , 0.410, 3.0*10**-3 , 0  ],\n",
    "]"
   ]
  },
  {
   "cell_type": "markdown",
   "metadata": {},
   "source": [
    "We then specify other projected sensitivitities (filename in model/bounds directory, color, label, label position x, label position y, label rotation)"
   ]
  },
  {
   "cell_type": "code",
   "execution_count": 17,
   "metadata": {
    "ExecuteTime": {
     "end_time": "2023-12-13T03:25:54.374785Z",
     "start_time": "2023-12-13T03:25:54.362438Z"
    }
   },
   "outputs": [],
   "source": [
    "projections = [\n",
    "    [\"limits_SHIP.txt\",       \"teal\",         \"SHiP\"    , 0.410, 1.0*10**-8, 0  ],\n",
    "    [\"limits_REDTOP.txt\",     \"dodgerblue\",   \"REDTOP\"  , 0.410, 5.0*10**-6, 0  ],\n",
    "]"
   ]
  },
  {
   "cell_type": "markdown",
   "metadata": {},
   "source": [
    "We also want to show the branching fractions for some of the channels (name of file in model/br directory, color, line style, label, x-position, y-position)  "
   ]
  },
  {
   "cell_type": "code",
   "execution_count": 18,
   "metadata": {
    "ExecuteTime": {
     "end_time": "2023-12-13T03:25:55.237103Z",
     "start_time": "2023-12-13T03:25:55.231112Z"
    }
   },
   "outputs": [],
   "source": [
    "branchings = [\n",
    "    [\"gamma\"     , \"black\"        , \"solid\" , r\"$\\gamma\\gamma$\"         , 0.210, 0.50],\n",
    "    [\"pi0_pi0\"   , \"blue\"         , \"solid\" , r\"$\\pi^0\\pi^0$\"           , 0.240, 0.03],\n",
    "    [\"pi+_pi-\"   , \"red\"          , \"solid\" , r\"$\\pi^+\\pi^-$\"           , 0.290, 0.03],\n",
    "]"
   ]
  },
  {
   "cell_type": "markdown",
   "metadata": {},
   "source": [
    "Finally, we can plot everything using `foresee.plot_reach()`. Here we also add the dark matter relict target line obtained in [2105.07077](https://arxiv.org/abs/2105.07077)."
   ]
  },
  {
   "cell_type": "code",
   "execution_count": 19,
   "metadata": {
    "ExecuteTime": {
     "end_time": "2023-12-13T03:25:57.475273Z",
     "start_time": "2023-12-13T03:25:56.889188Z"
    }
   },
   "outputs": [
    {
     "data": {
      "image/png": "[encoded data removed]",
      "text/plain": [
       "<Figure size 576x576 with 2 Axes>"
      ]
     },
     "metadata": {
      "needs_background": "light"
     },
     "output_type": "display_data"
    }
   ],
   "source": [
    "plot, ax, ax2 = foresee.plot_reach(\n",
    "    setups=setups,\n",
    "    bounds=bounds,\n",
    "    projections=projections,\n",
    "    branchings=branchings,\n",
    "    title=\"Up-Philic Scalar\", \n",
    "    xlims=[0.175,0.55], \n",
    "    ylims=[5e-9,1e-2],  \n",
    "    xlabel=r\"Scalar Mass $m_{S}$ [GeV]\", \n",
    "    ylabel=r\"Coupling $g_u$\",\n",
    "    legendloc=(1,0.85),\n",
    "    figsize=(8,8),\n",
    ")\n",
    "\n",
    "plot.subplots_adjust(left=0.12, right=0.97, bottom=0.10, top=0.95)\n",
    "plot.savefig(\"Reach_\"+modelname+\".pdf\")\n",
    "plot.show()"
   ]
  },
  {
   "cell_type": "code",
   "execution_count": null,
   "metadata": {},
   "outputs": [],
   "source": []
  }
 ],
 "metadata": {
  "kernelspec": {
   "display_name": "Python 3",
   "language": "python",
   "name": "python3"
  },
  "language_info": {
   "codemirror_mode": {
    "name": "ipython",
    "version": 3
   },
   "file_extension": ".py",
   "mimetype": "text/x-python",
   "name": "python",
   "nbconvert_exporter": "python",
   "pygments_lexer": "ipython3",
   "version": "3.6.10"
  },
  "toc": {
   "base_numbering": 1,
   "nav_menu": {
    "height": "734px",
    "width": "465px"
   },
   "number_sections": true,
   "sideBar": true,
   "skip_h1_title": false,
   "title_cell": "Table of Contents",
   "title_sidebar": "Contents",
   "toc_cell": false,
   "toc_position": {},
   "toc_section_display": true,
   "toc_window_display": false
  }
 },
 "nbformat": 4,
 "nbformat_minor": 2
}
