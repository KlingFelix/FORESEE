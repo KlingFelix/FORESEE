{
 "cells": [
  {
   "cell_type": "markdown",
   "metadata": {},
   "source": [
    "# FORESEE - ALP with photon couplings"
   ]
  },
  {
   "cell_type": "markdown",
   "metadata": {},
   "source": [
    "### Load Libraries "
   ]
  },
  {
   "cell_type": "code",
   "execution_count": 3,
   "metadata": {},
   "outputs": [],
   "source": [
    "import numpy as np\n",
    "import sys\n",
    "import os\n",
    "src_path = \"/Users/felixkling/Documents/GitHub/FORESEE/\"\n",
    "sys.path.append(src_path)\n",
    "from src.foresee import Foresee, Utility, Model"
   ]
  },
  {
   "cell_type": "markdown",
   "metadata": {},
   "source": [
    "## 1. Initialization "
   ]
  },
  {
   "cell_type": "markdown",
   "metadata": {},
   "source": [
    "We will use some function from the FORESEE package. So let's load it first."
   ]
  },
  {
   "cell_type": "code",
   "execution_count": 4,
   "metadata": {},
   "outputs": [],
   "source": [
    "foresee = Foresee(path=src_path)"
   ]
  },
  {
   "cell_type": "markdown",
   "metadata": {},
   "source": [
    "## 2. ALP Production via Primakoff Process"
   ]
  },
  {
   "cell_type": "markdown",
   "metadata": {},
   "source": [
    "The phenomenology of the ALP with $\\gamma$-couplings can be described by the following Lagrangian\n",
    "\n",
    "\\begin{equation}\n",
    " \\mathcal{L} = - \\frac{1}{2} m_{a}^2 a^2  - \\frac{g}{4}a F^a_{\\mu\\nu} \\tilde F^a_{\\mu\\nu}\n",
    "\\end{equation}\n",
    "\n",
    "with the ALP mass $a$ and the coupling parameter $g$ as free parameters. For the search for ALPS at forward experiments we need to know i) the *production rate*, ii) the *lifetime* and iii) possibly the *decay branching fractions* of dark photons as function of those two parameters. All properties are specified in the `Model` class. We initialize it with the name of the model as argument. "
   ]
  },
  {
   "cell_type": "markdown",
   "metadata": {},
   "source": [
    "**Production** The Dark Higgs is mainly produced via the Primakoff Process. Following [1806.02348](https://arxiv.org/pdf/1806.02348.pdf) Eq (6), the Primakoff cross section is given by\n",
    "\\begin{equation}\n",
    " \\frac{d\\sigma}{d\\log\\theta } \n",
    " = \\theta \\frac{d\\sigma}{d\\log\\theta} = g^2 \\frac{\\alpha Z^2}{4} \\times F(t)^2 \\times \\frac{p_a^4 \\theta^4}{t^2}\n",
    "\\end{equation}\n",
    "where $p_a \\approx E_\\gamma$, $t = m_a^4 / (2E_\\gamma^2) + E_\\gamma^2 \\theta^2$ and the form factor is given by $F(t) = a^2t/(1+a^2t)$ for $t<7.39m_e^2$ and $F(t) = 1/(1+t/d)$ for $t>7.39m_e^2$. In the following, we will get the ALP spectrum and save it. \n",
    "\n",
    "Let us first define a function `get_spectrum()` that obtains this spectrum."
   ]
  },
  {
   "cell_type": "code",
   "execution_count": 5,
   "metadata": {},
   "outputs": [],
   "source": [
    "def get_spectrum(mass, generator=\"EPOSLHC\", energy=\"14\"):\n",
    "    \n",
    "    #load photon spectrum\n",
    "    filepath = src_path+\"files/hadrons/\"+energy+\"TeV/\"+generator+\"/\"+generator+\"_\"+energy+\"TeV_22.txt\"\n",
    "    photons = foresee.readfile(filepath)\n",
    "    \n",
    "    #define quantities\n",
    "    alpha, me, ZFe, AFe = 1./137., 0.000511, 26, 56\n",
    "    a, d  = 111.*ZFe**(-1./3.) / me,  0.164 * AFe**(-2./3.)\n",
    "    SMXSinBarn, GeV2inBarn = 5, 0.389379e-3\n",
    "    SMXSinIGeV2 = 13311.9696379 \n",
    "\n",
    "    # integration boundaries theta \n",
    "    logthmin, logthmax, nlogth = -12, 0, 20\n",
    "    dlogth = (logthmax-logthmin)/float(nlogth)\n",
    "    \n",
    "    # prepare output file\n",
    "    filename_out = energy+\"TeV/Prim_\"+energy+\"TeV_\"+str(mass)+\".txt\"\n",
    "    f= open(filename_out,\"w+\")\n",
    "    f.write(\"# This file contains the cross section for ALP-photon with g=1 into the FORWARD hemisphere only\\n\")\n",
    "    f.write(\"#  log10(theta)    log10(p/GeV)     cross-section[pb/bin]\\n\")\n",
    "        \n",
    "    # loop over photons in spectrum\n",
    "    for logth,logen,wgt in photons:\n",
    "        # weight == 0\n",
    "        if wgt==0: \n",
    "            f.write(str(logth)+\" \"+str(logen)+\" \"+str(wgt)+\"\\n\")\n",
    "            continue\n",
    "        # finite weight\n",
    "        xs, xsx = 0, 0\n",
    "        k = 10**logen\n",
    "        for ltheta in np.linspace(logthmin+0.5*dlogth,logthmax-0.5*dlogth,nlogth):\n",
    "            # kinematics\n",
    "            theta = 10**ltheta\n",
    "            t = mass**4 / (2.*k**2) + k**2 * theta**2\n",
    "            #form factor \n",
    "            if t<7.39*me*me: ff = a*a*t/(1.+a*a*t)\n",
    "            else: ff = 1./(1.+t/d)\n",
    "            #combine\n",
    "            xs += alpha * ZFe**2 / 4. * ff**2 * k**4 * np.sin(theta)**3 *theta / t**2 * dlogth * np.log(10)\n",
    "\n",
    "        # print \n",
    "        prob = xs / SMXSinIGeV2\n",
    "        if np.isnan(prob): prob=0\n",
    "        f.write(str(logth)+\" \"+str(logen)+\" \"+str(wgt*prob)+\"\\n\")\n",
    "    \n",
    "    #close file\n",
    "    f.close()"
   ]
  },
  {
   "cell_type": "markdown",
   "metadata": {},
   "source": [
    "And then loop over a set of masses, and calculate it"
   ]
  },
  {
   "cell_type": "code",
   "execution_count": 6,
   "metadata": {},
   "outputs": [],
   "source": [
    "masses = [float(x) for x in ['{:0.4e}'.format(m) for m in np.logspace(-2,0,20+1)]]\n",
    "for mass in masses: \n",
    "    get_spectrum(mass=mass, generator=\"EPOSLHC\", energy=\"14\")"
   ]
  }
 ],
 "metadata": {
  "kernelspec": {
   "display_name": "Python 3",
   "language": "python",
   "name": "python3"
  },
  "language_info": {
   "codemirror_mode": {
    "name": "ipython",
    "version": 3
   },
   "file_extension": ".py",
   "mimetype": "text/x-python",
   "name": "python",
   "nbconvert_exporter": "python",
   "pygments_lexer": "ipython3",
   "version": "3.6.10"
  },
  "toc": {
   "base_numbering": 1,
   "nav_menu": {
    "height": "734px",
    "width": "465px"
   },
   "number_sections": true,
   "sideBar": true,
   "skip_h1_title": false,
   "title_cell": "Table of Contents",
   "title_sidebar": "Contents",
   "toc_cell": false,
   "toc_position": {},
   "toc_section_display": true,
   "toc_window_display": false
  }
 },
 "nbformat": 4,
 "nbformat_minor": 2
}
