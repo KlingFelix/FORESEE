{
 "cells": [
  {
   "cell_type": "code",
   "execution_count": 2,
   "metadata": {},
   "outputs": [],
   "source": [
    "import sys\n",
    "import os\n",
    "import numpy as np\n",
    "import matplotlib\n",
    "from matplotlib import pyplot as plt"
   ]
  },
  {
   "cell_type": "code",
   "execution_count": 7,
   "metadata": {},
   "outputs": [],
   "source": [
    "def readfile_txt(filename):\n",
    "    list_of_lists = []\n",
    "    with open(filename) as f:\n",
    "        for line in f:\n",
    "            if line[0]==\"#\":continue\n",
    "            if line[0]==\"l\":continue\n",
    "            inner_list = [float(elt.strip()) for elt in line.split( )]\n",
    "            list_of_lists.append(inner_list)\n",
    "    return np.array(list_of_lists)"
   ]
  },
  {
   "cell_type": "markdown",
   "metadata": {},
   "source": [
    "### combine"
   ]
  },
  {
   "cell_type": "code",
   "execution_count": 50,
   "metadata": {},
   "outputs": [
    {
     "name": "stdout",
     "output_type": "stream",
     "text": [
      "\n"
     ]
    }
   ],
   "source": [
    "def combine_files(gen=\"0\",energy=\"7000\"):\n",
    "    print gen, energy\n",
    "    dirname = \"/Users/felixkling/work/MyReader/MyCRMCFactory/files/\"\n",
    "    nmax=50\n",
    "    if gen==\"6\" and energy==\"7000\": nmax=250 \n",
    "    for ifile in range(1,nmax+1):\n",
    "        print \" \", ifile,\n",
    "        filename = dirname+\"GEN_\"+gen+\"_EN_\"+energy+\"_RUN_\"+str(ifile)+\"_log.txt\"\n",
    "        if ifile==1: data = readfile_txt(filename)\n",
    "        else: data += readfile_txt(filename)\n",
    "    data = data/float(nmax)\n",
    "    print \"done\"\n",
    "    \n",
    "    filename = dirname+\"GEN_\"+gen+\"_EN_\"+energy+\"_log.txt\"\n",
    "    outfile = open(filename, \"w\")\n",
    "    for iline, line in enumerate(data):\n",
    "        for ielement, element in enumerate(line): \n",
    "            outfile.write(str(element)+\" \")\n",
    "        outfile.write(\"\\n\")\n",
    "    outfile.close()"
   ]
  },
  {
   "cell_type": "code",
   "execution_count": 51,
   "metadata": {},
   "outputs": [
    {
     "name": "stdout",
     "output_type": "stream",
     "text": [
      "0 7000\n",
      "  1   2   3   4   5   6   7   8   9   10   11   12   13   14   15   16   17   18   19   20   21   22   23   24   25   26   27   28   29   30   31   32   33   34   35   36   37   38   39   40   41   42   43   44   45   46   47   48   49   50 done\n",
      "0 13500\n",
      "  1   2   3   4   5   6   7   8   9   10   11   12   13   14   15   16   17   18   19   20   21   22   23   24   25   26   27   28   29   30   31   32   33   34   35   36   37   38   39   40   41   42   43   44   45   46   47   48   49   50 done\n",
      "0 50000\n",
      "  1   2   3   4   5   6   7   8   9   10   11   12   13   14   15   16   17   18   19   20   21   22   23   24   25   26   27   28   29   30   31   32   33   34   35   36   37   38   39   40   41   42   43   44   45   46   47   48   49   50 done\n",
      "6 7000\n",
      "  1   2   3   4   5   6   7   8   9   10   11   12   13   14   15   16   17   18   19   20   21   22   23   24   25   26   27   28   29   30   31   32   33   34   35   36   37   38   39   40   41   42   43   44   45   46   47   48   49   50   51   52   53   54   55   56   57   58   59   60   61   62   63   64   65   66   67   68   69   70   71   72   73   74   75   76   77   78   79   80   81   82   83   84   85   86   87   88   89   90   91   92   93   94   95   96   97   98   99   100   101   102   103   104   105   106   107   108   109   110   111   112   113   114   115   116   117   118   119   120   121   122   123   124   125   126   127   128   129   130   131   132   133   134   135   136   137   138   139   140   141   142   143   144   145   146   147   148   149   150   151   152   153   154   155   156   157   158   159   160   161   162   163   164   165   166   167   168   169   170   171   172   173   174   175   176   177   178   179   180   181   182   183   184   185   186   187   188   189   190   191   192   193   194   195   196   197   198   199   200   201   202   203   204   205   206   207   208   209   210   211   212   213   214   215   216   217   218   219   220   221   222   223   224   225   226   227   228   229   230   231   232   233   234   235   236   237   238   239   240   241   242   243   244   245   246   247   248   249   250 done\n",
      "6 13500\n",
      "  1   2   3   4   5   6   7   8   9   10   11   12   13   14   15   16   17   18   19   20   21   22   23   24   25   26   27   28   29   30   31   32   33   34   35   36   37   38   39   40   41   42   43   44   45   46   47   48   49   50 done\n",
      "6 50000\n",
      "  1   2   3   4   5   6   7   8   9   10   11   12   13   14   15   16   17   18   19   20   21   22   23   24   25   26   27   28   29   30   31   32   33   34   35   36   37   38   39   40   41   42   43   44   45   46   47   48   49   50 done\n",
      "7 7000\n",
      "  1   2   3   4   5   6   7   8   9   10   11   12   13   14   15   16   17   18   19   20   21   22   23   24   25   26   27   28   29   30   31   32   33   34   35   36   37   38   39   40   41   42   43   44   45   46   47   48   49   50 done\n",
      "7 13500\n",
      "  1   2   3   4   5   6   7   8   9   10   11   12   13   14   15   16   17   18   19   20   21   22   23   24   25   26   27   28   29   30   31   32   33   34   35   36   37   38   39   40   41   42   43   44   45   46   47   48   49   50 done\n",
      "7 50000\n",
      "  1   2   3   4   5   6   7   8   9   10   11   12   13   14   15   16   17   18   19   20   21   22   23   24   25   26   27   28   29   30   31   32   33   34   35   36   37   38   39   40   41   42   43   44   45   46   47   48   49   50 done\n"
     ]
    }
   ],
   "source": [
    "for gen in [\"0\",\"6\",\"7\"]:\n",
    "    for energy in [\"7000\",\"13500\",\"50000\"]:\n",
    "        combine_files(gen=gen, energy=energy)"
   ]
  },
  {
   "cell_type": "markdown",
   "metadata": {},
   "source": [
    "### export"
   ]
  },
  {
   "cell_type": "code",
   "execution_count": 107,
   "metadata": {},
   "outputs": [],
   "source": [
    "def get_id(inpid):\n",
    "    pids = [11,-11,12,-12,13,-13,14,-14,15,-15,16,-16,22,111,211,-211,113,213,-213,221,331,223,333,130,310,321,-321,313,-313,\n",
    "        323,-323,411,-411,421,-421,413,-413,423,-423,431,-431,433,-433,2212,-2212,2112,-2112,2224,-2224,2214,\n",
    "        -2214,2114,-2114,1114,-1114,3122,-3122,3222,-3222,3212,-3212,3112,-3112,3322,-3322,3312,-3312,3334,-3334,\n",
    "        4122,-4122,4222,-4222,4212,-4212,4112,-4112,4232,-4232,4132,-4132,4322,-4322,4312,-4312,4332,-4332,4412\n",
    "        -4412,4422,-4422,4432,-4432,4444,-4444,441,443]\n",
    "    for ipid,pid in enumerate(pids):\n",
    "        if inpid==pid: break\n",
    "    return ipid\n",
    "\n",
    "def get_idx(inpid):\n",
    "    pids = [11,-11,12,-12,13,-13,14,-14,15,-15,16,-16,22,111,211,-211,113,213,-213,221,331,223,333,130,310,321,-321,313,-313,\n",
    "        323,-323,411,-411,421,-421,413,-413,423,-423,431,-431,433,-433,2212,-2212,2112,-2112,2224,-2224,2214,\n",
    "        -2214,2114,-2114,1114,-1114,3122,-3122,4122,-4122]\n",
    "    for ipid,pid in enumerate(pids):\n",
    "        if inpid==pid: break\n",
    "    return ipid\n",
    "\n",
    "def get_table(pid, generator=\"EPOSLHC\", energy = \"14\"):\n",
    "    if generator in [\"EPOSLHC\", \"QGSJET\"] and pid in [411,421,431,-411,-421,-431,4122,-4122]: return\n",
    "    outdir=\"/Users/felixkling/Documents/GitHub/FORESEE/files/mesons/\"\n",
    "    gens = {\"SIBYLL\": \"6\", \"EPOSLHC\": \"0\", \"QGSJET\": \"7\"}\n",
    "    energies = {\"14\": \"7000\", \"27\": \"13500\", \"100\": \"50000\"}\n",
    "    if generator==\"SIBYLL\" and energy==\"14\": ipid = get_id(pid)\n",
    "    else: ipid = get_idx(pid)\n",
    "    hadrons={111:\"pi0\", 211:\"pi+\", -211:\"pi-\", 130:\"K_L\", 310:\"K_S\", 221:\"eta\", 331:\"eta'\", 321:\"K+\", \n",
    "            -321:\"K-\", 113:\"rho\", 223:\"omega\", 333:\"phi\", 411:\"D+\",421:\"D0\",431:\"Ds+\", \n",
    "             -411:\"D-\",-421:\"D0bar\",-431:\"Ds-\", 4122:\"LambdaC\", -4122:\"LambdaCbar\"}\n",
    "    \n",
    "    # load data\n",
    "    dirname = \"/Users/felixkling/work/MyReader/MyCRMCFactory/files/\"\n",
    "    filename = dirname+\"GEN_\"+gens[generator]+\"_EN_\"+energies[energy]+\"_log.txt\"\n",
    "    #print \"load\", filename\n",
    "    data = readfile_txt(filename)\n",
    "    \n",
    "    # get sum\n",
    "    sumval = 0\n",
    "    for iline, line in enumerate(data):\n",
    "        sumval += line[ipid+2]\n",
    "    #print \"sum\", sumval\n",
    "    \n",
    "    # write\n",
    "    filename = outdir+energy+\"TeV/\"+generator+\"/\"+generator+\"_\"+energy+\"TeV_\"+str(pid)+\".txt\"\n",
    "    #print \"write\", filename\n",
    "    outfile = open(filename, \"w\")\n",
    "    outfile.write(\"# This file contains the cross section for particles into the FORWARD hemisphere only\\n\")\n",
    "    outfile.write(\"# Normalization: \"+'{0:15.5e}'.format(sumval)+\" pb\\n\")\n",
    "    outfile.write(\"# pid: \"+str(pid)+\"\\n\")\n",
    "    outfile.write(\"#  log10(theta)    log10(p/GeV)     cross-section[pb/bin] \\n\")\n",
    "    for iline, line in enumerate(data):\n",
    "        value = '{0:15.5e} {1:15.5e} {2:15.5e}'.format(line[0], line[1], line[ipid+2])\n",
    "        outfile.write(value+\"\\n\")\n",
    "    outfile.close()"
   ]
  },
  {
   "cell_type": "code",
   "execution_count": 108,
   "metadata": {},
   "outputs": [
    {
     "name": "stdout",
     "output_type": "stream",
     "text": [
      "4122 SIBYLL 14\n",
      "4122 SIBYLL 27\n",
      "4122 SIBYLL 100\n",
      "4122 EPOSLHC 14\n",
      "4122 EPOSLHC 27\n",
      "4122 EPOSLHC 100\n",
      "4122 QGSJET 14\n",
      "4122 QGSJET 27\n",
      "4122 QGSJET 100\n",
      "-4122 SIBYLL 14\n",
      "-4122 SIBYLL 27\n",
      "-4122 SIBYLL 100\n",
      "-4122 EPOSLHC 14\n",
      "-4122 EPOSLHC 27\n",
      "-4122 EPOSLHC 100\n",
      "-4122 QGSJET 14\n",
      "-4122 QGSJET 27\n",
      "-4122 QGSJET 100\n"
     ]
    }
   ],
   "source": [
    "for pid in [111,211,-211,130,310,221,331,321,-321,113,223,333,411,421,431,-411,-421,-431,4122,-4122]:\n",
    "    for gen in [\"SIBYLL\",\"EPOSLHC\",\"QGSJET\"]:\n",
    "        for energy in [\"14\",\"27\",\"100\"]:\n",
    "            print pid, gen, energy\n",
    "            get_table(pid=pid, generator=gen, energy=energy)"
   ]
  },
  {
   "cell_type": "code",
   "execution_count": null,
   "metadata": {},
   "outputs": [],
   "source": [
    "def readfile(filename):\n",
    "        array = []\n",
    "        with open(filename) as f:\n",
    "            for line in f:\n",
    "                if line[0]==\"#\":continue\n",
    "                words = [float(elt.strip()) for elt in line.split( )]\n",
    "                array.append(words)\n",
    "        return np.array(array)\n",
    "    \n",
    "for energy, en in zip([\"14\",\"27\",\"100\"],[\"7000\", \"13500\", \"50000\"]):\n",
    "    for logm in [-2, -1.9, -1.8, -1.7, -1.6, -1.5, -1.4, -1.3, -1.2, -1.1,\n",
    "                 -1, -0.95 ,-0.9, -0.85, -0.8 ,-0.75, -0.7, -0.65,\n",
    "                 -0.6 ,-0.55 ,-0.5 ,-0.45 ,-0.4 ,-0.35, -0.3 ,-0.25 ,-0.22,-0.2 ,-0.19,\n",
    "                 -0.18 ,-0.17, -0.16, -0.15, -0.14, -0.13, -0.12, -0.11 ,-0.10 ,-0.09 ,-0.08,\n",
    "                 -0.07 ,-0.06, -0.05 ,-0.04 ,-0.03, -0.02, -0.01, 0, 0.05 ,0.1 ,0.15 ,\n",
    "                  0.2 ,0.25, 0.3 ,0.35 ,0.4 ,0.45, 0.5, 0.6, 0.7 ,0.8 ,0.9 ,1]:\n",
    "        filename = \"files/direct/direct/BREM\"+energy+\"_\"+str(logm)+\".txt\"\n",
    "        data=readfile(filename)\n",
    "        \n",
    "        filename = \"files/direct/\"+energy+\"TeV/DarkPhoton/Brem_\"+energy+\"TeV_\"+str(round(10**logm,4))+\".txt\"\n",
    "        outfile = open(filename, \"w\")\n",
    "        outfile.write(\"# This file contains the cross section for Dark Photons with epsilon=1 into the FORWARD hemisphere only\\n\")\n",
    "        outfile.write(\"#  log10(theta)    log10(p/GeV)     cross-section[pb/bin] \\n\")\n",
    "        for iline, line in enumerate(data):\n",
    "            val = line[2]\n",
    "            if np.sin(10**line[0]) * 10**line[1] > 1: val = 1\n",
    "            value = '{0:15.5e} {1:15.5e} {2:15.5e}'.format(line[0], line[1], )\n",
    "            outfile.write(value+\"\\n\")\n",
    "        outfile.close()\n",
    "        \n",
    "for energy, en in zip([\"14\",\"27\",\"100\"],[\"7000\", \"13500\", \"50000\"]):\n",
    "    for logm in [0.2 ,0.25, 0.3 ,0.35 ,0.4 ,0.45, 0.5, 0.6, 0.7 ,0.8 ,0.9 ,1]:\n",
    "        filename = \"files/direct/direct/DY_\"+energy+\"_\"+str(logm)+\".txt\"\n",
    "        data=readfile(filename)\n",
    "        \n",
    "        filename = \"files/direct/\"+energy+\"TeV/DarkPhoton/DY_\"+energy+\"TeV_\"+str(round(10**logm,4))+\".txt\"\n",
    "        outfile = open(filename, \"w\")\n",
    "        outfile.write(\"# This file contains the cross section for Dark Photons with epsilon=1 into the FORWARD hemisphere only\\n\")\n",
    "        outfile.write(\"#  log10(theta)    log10(p/GeV)     cross-section[pb/bin] \\n\")\n",
    "        for iline, line in enumerate(data):\n",
    "            value = '{0:15.5e} {1:15.5e} {2:15.5e}'.format(line[0], line[1], line[2])\n",
    "            outfile.write(value+\"\\n\")\n",
    "        outfile.close()"
   ]
  }
 ],
 "metadata": {
  "kernelspec": {
   "display_name": "Python 2",
   "language": "python",
   "name": "python2"
  },
  "language_info": {
   "codemirror_mode": {
    "name": "ipython",
    "version": 2
   },
   "file_extension": ".py",
   "mimetype": "text/x-python",
   "name": "python",
   "nbconvert_exporter": "python",
   "pygments_lexer": "ipython2",
   "version": "2.7.15"
  },
  "toc": {
   "base_numbering": 1,
   "nav_menu": {
    "height": "734px",
    "width": "465px"
   },
   "number_sections": true,
   "sideBar": true,
   "skip_h1_title": false,
   "title_cell": "Table of Contents",
   "title_sidebar": "Contents",
   "toc_cell": false,
   "toc_position": {},
   "toc_section_display": true,
   "toc_window_display": false
  }
 },
 "nbformat": 4,
 "nbformat_minor": 2
}
