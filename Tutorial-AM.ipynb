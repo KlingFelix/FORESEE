{
 "cells": [
  {
   "cell_type": "markdown",
   "metadata": {},
   "source": [
    "# FORESEE - AM"
   ]
  },
  {
   "cell_type": "markdown",
   "metadata": {},
   "source": [
    "### Load Libraries "
   ]
  },
  {
   "cell_type": "code",
   "execution_count": 1,
   "metadata": {},
   "outputs": [],
   "source": [
    "import numpy as np\n",
    "from src.foresee import Foresee, Utility, Model"
   ]
  },
  {
   "cell_type": "markdown",
   "metadata": {},
   "source": [
    "## 1. Initialization \n"
   ]
  },
  {
   "cell_type": "markdown",
   "metadata": {},
   "source": [
    "All function that we will need are included in the FORESEE package. We start by simply initializing it: "
   ]
  },
  {
   "cell_type": "code",
   "execution_count": 3,
   "metadata": {},
   "outputs": [],
   "source": [
    "foresee = Foresee()"
   ]
  },
  {
   "cell_type": "markdown",
   "metadata": {},
   "source": [
    "If MCPs are sufficiently light, they are mainly produced via pion decay. To start, let us have a look at the pion spectrum in terms of the angle with respect to the beam axis $\\theta$ and the momentum $p$. This can be done using the function `get_spectrumplot` which requires the MC particle ID (or simply pid), the MC generator and the energy. The units on the coloraxis are pb/bin. \n",
    "\n",
    "FORESEE provides the 2D spectrum as tables for a variety of particles ($\\pi^0$, $\\eta$, ...), generators (SIBYLL, EPOSLHC, QGSJET, PYTHIA). The datafiles are stored in the directory `files/hadrons`. "
   ]
  },
  {
   "cell_type": "code",
   "execution_count": 4,
   "metadata": {},
   "outputs": [
    {
     "data": {
      "image/png": "[encoded data removed]",
      "text/plain": [
       "<Figure size 576x396 with 2 Axes>"
      ]
     },
     "metadata": {
      "needs_background": "light"
     },
     "output_type": "display_data"
    }
   ],
   "source": [
    "plot=foresee.get_spectrumplot(pid=\"211\", generator=\"EPOSLHC\", energy=\"14\")\n",
    "plot.show()"
   ]
  },
  {
   "cell_type": "markdown",
   "metadata": {},
   "source": [
    "## 2. Specifying the Model: AM"
   ]
  },
  {
   "cell_type": "markdown",
   "metadata": {},
   "source": [
    "The phenomenology of the dark states with AM can be described by the following Lagrangian\n",
    "\n",
    "\\begin{equation}\n",
    " \\mathcal{L} = - m_\\chi \\bar \\chi \\chi -  a_\\chi \\bar{\\chi} \\gamma^\\mu \\gamma^5 \\chi \\partial^\\nu F_{\\mu \\nu}\n",
    "\\end{equation}\n",
    "\n",
    "with the dark state mass $m_\\chi$ and the AM $a_\\chi$ as free parameters. For the search for dark states with AM at forward experiments we need to know i) the *production rate*, and ii) the *interaction rate*. All these properties are specified in the `Model` class. We initialize it with the name of the model as argument. "
   ]
  },
  {
   "cell_type": "code",
   "execution_count": 2,
   "metadata": {},
   "outputs": [],
   "source": [
    "energy = \"14\" # CM energy of LHC in unit of TeV\n",
    "modelname=\"AM\"\n",
    "model = Model(modelname)"
   ]
  },
  {
   "cell_type": "markdown",
   "metadata": {},
   "source": [
    "**Production** Most light dark sector particles are produced in the decay of primary particles. Here we need to specify the total branching fraction into the dark sector as function of the `coupling` and the `mass`. We additionally specify the variable `nsample` which specifies how often each parent particle is decayed. \n",
    "\n",
    "In the simplest case, the dark state with AM is produced via two body decays of vector mesons $M \\to \\bar \\chi \\chi$ with $M = \\rho, \\omega, \\phi, J/\\psi, \\psi(2S)$ and $\\Upsilon(nS)$. The corresponding branching fractions are given by\n",
    "\n",
    "\\begin{equation}\n",
    "\\frac{\\text{BR}(M \\!\\to\\! \\chi\\bar\\chi)}{\\text{BR}(M \\!\\to\\! ee) } \n",
    "= \\dfrac{a_\\chi^2 m_M^4}{4\\pi\\alpha} \n",
    "\\frac{(m_M^2 \\!-\\!4m_\\chi^2)(m_M^2 \\!-\\! 4m_\\chi^2)^{1/2}} {(m_M^2 \\!+\\! 2m_e^2)(m_M^2 \\!-\\! 4m_e^2)^{1/2}} \\ . \n",
    "\\end{equation}\n",
    "\n",
    "The benchmark value of $a_\\chi$ is taken to be $1\\,{\\rm GeV}^{-2}$. \n",
    "\n"
   ]
  },
  {
   "cell_type": "code",
   "execution_count": 3,
   "metadata": {},
   "outputs": [],
   "source": [
    "nsample = 50\n",
    "\n",
    "\n",
    "# rho decay \n",
    "model.add_production_2bodydecay(\n",
    "    pid0 = \"113\",\n",
    "    pid1 = \"0\",\n",
    "    br = \"2 * 4.72e-5 * coupling**2 *(0.77545**4.)/(4.*np.pi/137.) * ((1-4*(mass/0.77545)**2)*np.sqrt(1-4*(mass/0.77545)**2) )/( (1+2*(0.000511/0.77545)**2)*np.sqrt(1-4*(0.000511/0.77545)**2) )\",\n",
    "    generator = \"EPOSLHC\",\n",
    "    energy = energy,\n",
    "    nsample = nsample,\n",
    ")\n",
    "\n",
    "\n",
    "# omega decay\n",
    "model.add_production_2bodydecay(\n",
    "    pid0 = \"223\",\n",
    "    pid1 = \"0\",\n",
    "    br = \"2 * 7.36e-5 * coupling**2 *(0.78266**4.)/(4.*np.pi/137.) * ((1-4*(mass/0.78266)**2)*np.sqrt(1-4*(mass/0.78266)**2) )/( (1+2*(0.000511/0.78266)**2)*np.sqrt(1-4*(0.000511/0.78266)**2) )\",\n",
    "    generator = \"EPOSLHC\",\n",
    "    energy = energy,\n",
    "    nsample = nsample,\n",
    ")\n",
    "# phi decay\n",
    "model.add_production_2bodydecay(\n",
    "    pid0 = \"333\",\n",
    "    pid1 = \"0\",\n",
    "    br = \"2 * 2.97e-4 * coupling**2 *(1.019461**4.)/(4.*np.pi/137.) * ((1-4*(mass/1.019461)**2)*np.sqrt(1-4*(mass/1.019461)**2) )/( (1+2*(0.000511/1.019461)**2)*np.sqrt(1-4*(0.000511/1.019461)**2) )\",\n",
    "    generator = \"EPOSLHC\",\n",
    "    energy = energy,\n",
    "    nsample = nsample,\n",
    ")\n",
    "\n",
    "# J/psi decay\n",
    "model.add_production_2bodydecay(\n",
    "    pid0 = \"443\",\n",
    "    pid1 = \"0\",\n",
    "    br = \"2 * 0.0597 * coupling**2  *(3.096**4.)/(4.*np.pi/137.) * ((1-4*(mass/3.096)**2)*np.sqrt(1-4*(mass/3.096)**2) )/( (1+2*(0.000511/3.096)**2)*np.sqrt(1-4*(0.000511/3.096)**2) )\",\n",
    "    generator = \"Pythia8\",\n",
    "    energy = energy,\n",
    "    nsample = nsample,\n",
    ")\n",
    "\n",
    "\n",
    "# psi (2S) decay\n",
    "model.add_production_2bodydecay(\n",
    "    pid0 = \"100443\",\n",
    "    pid1 = \"0\",\n",
    "    br = \"2 * 0.00993 * coupling**2  *(3.686**4.)/(4.*np.pi/137.) * ((1-4*(mass/3.686)**2)*np.sqrt(1-4*(mass/3.686)**2) )/( (1+2*(0.000511/3.686)**2)*np.sqrt(1-4*(0.000511/3.686)**2) )\",\n",
    "    generator = \"Pythia8\",\n",
    "    energy = energy,\n",
    "    nsample = nsample,\n",
    ")\n",
    " \n",
    "# Upsilon decay        \n",
    "model.add_production_2bodydecay(\n",
    "    pid0 = \"553\",\n",
    "    pid1 = \"0\",\n",
    "    br = \"2 * 0.0238 * coupling**2 *(9.460**4.)/(4.*np.pi/137.) * ((1-4*(mass/9.460)**2)*np.sqrt(1-4*(mass/9.460)**2) )/( (1+2*(0.000511/9.460)**2)*np.sqrt(1-4*(0.000511/9.460)**2) )\",\n",
    "    generator = \"Pythia8\",\n",
    "    energy = energy,\n",
    "    nsample = nsample,\n",
    ")\n",
    "\n",
    "# Upsilon (2S) decay        \n",
    "model.add_production_2bodydecay(\n",
    "    pid0 = \"100553\",\n",
    "    pid1 = \"0\",\n",
    "    br = \"2 * 0.0191 * coupling**2  *(10.023**4.)/(4.*np.pi/137.) * ((1-4*(mass/10.023)**2)*np.sqrt(1-4*(mass/10.023)**2) )/( (1+2*(0.000511/10.023)**2)*np.sqrt(1-4*(0.000511/10.023)**2) )\",\n",
    "    generator = \"Pythia8\",\n",
    "    energy = energy,\n",
    "    nsample = nsample,\n",
    ")\n",
    "\n",
    "# Upsilon (3S) decay  \n",
    "model.add_production_2bodydecay(\n",
    "    pid0 = \"200553\",\n",
    "    pid1 = \"0\",\n",
    "    br = \"2 * 0.0218 * coupling**2  *(10.355**4.)/(4.*np.pi/137.) * ((1-4*(mass/10.355)**2)*np.sqrt(1-4*(mass/10.355)**2) )/( (1+2*(0.000511/10.355)**2)*np.sqrt(1-4*(0.000511/10.355)**2) )\",\n",
    "    generator = \"Pythia8\",\n",
    "    energy = energy,\n",
    "    nsample = nsample,\n",
    ")"
   ]
  },
  {
   "cell_type": "markdown",
   "metadata": {},
   "source": [
    "The dark state with AM can also be produced in 3-body decays of pseudoscalar mesons $M \\to \\gamma \\bar\\chi \\chi$ via an offshell photon. This can be added using the function `add_production_3bodydecay()`. It requires to provide `br` which is the differential branching fraction $d\\text{BR}/(dq^2 \\ d\\cos\\theta)$ where $q^2=(p_{\\chi_1}+p_{\\chi_2})^2$ and $\\theta$ is the angle between $p_{\\chi_1}$ in the restframe of $p_{\\chi_1}+p_{\\chi_2}$ and the direction of $p_{\\chi_1}+p_{\\chi_2}$ in the restframe of $M$. The reason for this choice of coordinates it simplified the integration boundaries. The differential branching fraction for this process is given by \n",
    "\n",
    "\\begin{equation}\n",
    "\\frac{d\\text{BR}(M \\!\\to\\! \\gamma\\chi\\chi)}{dq^2 \\, d\\!\\cos\\theta}\n",
    " = \\frac{a_\\chi^2 q^2}{16 \\pi^2} \\Big[1\\!-\\!\\frac{q^2}{m_M^2}\\Big]^3 \\Big[1-\\frac{4m_\\chi^2}{q^2}\\Big]^{\\frac12} \n",
    "  \\times  \\Big(1-\\frac{4m_\\chi^2}{q^2} \\Big) \\times (2- \\sin^2 \\theta )   \\times \\text{BR}(M \\!\\to \\!\\gamma\\gamma)\n",
    "\\end{equation}\n",
    "\n",
    "Since we have two $\\chi$'s in the final state, we multiply by an additional factor 2. In the formulas below $q$ and $\\theta$ are expressed as `q` and `th`."
   ]
  },
  {
   "cell_type": "code",
   "execution_count": 9,
   "metadata": {},
   "outputs": [],
   "source": [
    "nsample = 20\n",
    "\n",
    "\n",
    "# pion decay\n",
    "model.add_production_3bodydecay(\n",
    "    pid0 = \"111\",\n",
    "    pid1 = \"22\",\n",
    "    pid2 = \"0\",\n",
    "    br = \"2.*0.99 * coupling**2 * (q**2.)/16./(np.pi**2.) * (1-q**2/0.135**2)**3 * (1-4*mass**2/q**2)**0.5 * (1-4*mass**2/q**2)*(2.- np.sin(th)**2)\",\n",
    "    generator = \"EPOSLHC\",\n",
    "    energy = energy,\n",
    "    nsample = nsample,\n",
    ")\n",
    "\n",
    "# eta decay\n",
    "model.add_production_3bodydecay(\n",
    "    pid0 = \"221\",\n",
    "    pid1 = \"22\",\n",
    "    pid2 = \"0\",\n",
    "    br = \"2.*0.39 * coupling**2 * (q**2.)/16./(np.pi**2.) * (1-q**2/0.547**2)**3 * (1-4*mass**2/q**2)**0.5 * (1-4*mass**2/q**2)*(2. - np.sin(th)**2)\",\n",
    "    generator = \"EPOSLHC\",\n",
    "    energy = energy,\n",
    "    nsample = nsample,\n",
    ")\n",
    "\n",
    "# eta' decay\n",
    "model.add_production_3bodydecay(\n",
    "    pid0 = \"331\",\n",
    "    pid1 = \"22\",\n",
    "    pid2 = \"0\",\n",
    "    br = \"2.*0.023 * coupling**2 *(q**2.)/16./(np.pi**2.) * (1-q**2/0.957**2)**3 * (1-4*mass**2/q**2)**0.5 * (1-4*mass**2/q**2)*(2. - np.sin(th)**2)\",\n",
    "    generator = \"EPOSLHC\",\n",
    "    energy = energy,\n",
    "    nsample = nsample,\n",
    ")"
   ]
  },
  {
   "cell_type": "markdown",
   "metadata": {},
   "source": [
    "Particles can also be produced directly in collisions. In the case of dark states with AM, this proceeds through Drell-Yan production, which is relevant at higher masses. The spectra for LLPs at some reference coupling need to be provided in the `files/direct` directory. (not done yet)"
   ]
  },
  {
   "cell_type": "code",
   "execution_count": 10,
   "metadata": {},
   "outputs": [],
   "source": [
    "model.add_production_direct(\n",
    "    label = \"DY\",\n",
    "    energy = energy,\n",
    "    coupling_ref=1,\n",
    "    massrange=[0.3, 101.] # in unit of GeV \n",
    ")"
   ]
  },
  {
   "cell_type": "markdown",
   "metadata": {},
   "source": [
    "**Interaction Rate:** To estimate the number of scattering events, we need to know the differential scattering rate with respect to the recoil energy $d\\sigma/dE_r$ which in general depends is a function of the coupling $g$ (or `coupling`), the particle mass $m$ (or `mass`), the particles incoming energy $E$ (or `energy`) and the recoil energy $E_R$ (or `recoil`).  In most models can be written as $\\ d\\sigma/dE_r(m,g,E,E_R)\\  =\\  d\\sigma/dE_r (m,g_*, E,E_R) \\ \\cdot\\  g_*^2 \\ / \\ g^{2}$ where $g_*$ is some reference coupling. In this case, we can provide  $d\\sigma/dE_r (m,g_*, E,E_R)$ at a reference coupling $g_*$ using `model.set_dsigma_drecoil_1d()`. Alternatively, one can also provide $d\\sigma/dE_r(m,g,E,E_R)$ via `model.model.set_dsigma_drecoil_2d()`, which is probably a bit slower. \n",
    "\n",
    "For MCPs, we can follow Eq. (6) of [1902.03246](https://arxiv.org/pdf/1902.03246.pdf) and write \n",
    "\\begin{equation}\n",
    " \\frac{d\\sigma}{d E_R} = \\epsilon^2 \\frac{2 \\pi \\alpha^2}{E_R^2 m_e} = \\epsilon^2 \\frac{0.655~{\\rm GeV}^{-1}}{E_R^2}\n",
    "\\end{equation}"
   ]
  },
  {
   "cell_type": "code",
   "execution_count": 11,
   "metadata": {},
   "outputs": [],
   "source": [
    "model.set_dsigma_drecoil_1d(\n",
    "    dsigma_der=\"0.655/recoil**2\", \n",
    "    coupling_ref=1\n",
    ")"
   ]
  },
  {
   "cell_type": "markdown",
   "metadata": {},
   "source": [
    "## 3. Generate LLP Spectra"
   ]
  },
  {
   "cell_type": "markdown",
   "metadata": {},
   "source": [
    "After we have specified the model, let us generate the LLP spectra. We first set the model we just created. "
   ]
  },
  {
   "cell_type": "code",
   "execution_count": 12,
   "metadata": {},
   "outputs": [],
   "source": [
    "foresee.set_model(model=model)"
   ]
  },
  {
   "cell_type": "markdown",
   "metadata": {},
   "source": [
    "Let's first look at one benchmark scenario with $m_{a}=200$ MeV and $g=10^{-4}$ using the function `foresee.get_llp_spectrum()`. "
   ]
  },
  {
   "cell_type": "code",
   "execution_count": 13,
   "metadata": {},
   "outputs": [
    {
     "name": "stdout",
     "output_type": "stream",
     "text": [
      "('save data to file:', 'files/models/MCP/LLP_spectra/14TeV_443_m_1.001.npy')\n",
      "('save data to file:', 'files/models/MCP/LLP_spectra/14TeV_DY_m_1.001.npy')\n",
      "('save data to file:', 'files/models/MCP/LLP_spectra/14TeV_100443_m_1.001.npy')\n",
      "('save data to file:', 'files/models/MCP/LLP_spectra/14TeV_200553_m_1.001.npy')\n",
      "('save data to file:', 'files/models/MCP/LLP_spectra/14TeV_553_m_1.001.npy')\n",
      "('save data to file:', 'files/models/MCP/LLP_spectra/14TeV_100553_m_1.001.npy')\n"
     ]
    },
    {
     "data": {
      "image/png": "[encoded data removed]",
      "text/plain": [
       "<Figure size 576x396 with 2 Axes>"
      ]
     },
     "metadata": {
      "needs_background": "light"
     },
     "output_type": "display_data"
    }
   ],
   "source": [
    "plt = foresee.get_llp_spectrum(1.001, coupling=1, do_plot=True)\n",
    "plt.show()"
   ]
  },
  {
   "cell_type": "markdown",
   "metadata": {},
   "source": [
    "We can now produce a set of LLP spectra for various masses (chosen to be equally spaced in log(mass)) and unit coupling and save them.  "
   ]
  },
  {
   "cell_type": "code",
   "execution_count": 14,
   "metadata": {},
   "outputs": [
    {
     "name": "stdout",
     "output_type": "stream",
     "text": [
      "('save data to file:', 'files/models/MCP/LLP_spectra/14TeV_443_m_0.01001.npy')\n",
      "('save data to file:', 'files/models/MCP/LLP_spectra/14TeV_331_m_0.01001.npy')\n",
      "('save data to file:', 'files/models/MCP/LLP_spectra/14TeV_100443_m_0.01001.npy')\n",
      "('save data to file:', 'files/models/MCP/LLP_spectra/14TeV_200553_m_0.01001.npy')\n",
      "('save data to file:', 'files/models/MCP/LLP_spectra/14TeV_111_m_0.01001.npy')\n",
      "('save data to file:', 'files/models/MCP/LLP_spectra/14TeV_333_m_0.01001.npy')\n",
      "('save data to file:', 'files/models/MCP/LLP_spectra/14TeV_113_m_0.01001.npy')\n",
      "('save data to file:', 'files/models/MCP/LLP_spectra/14TeV_553_m_0.01001.npy')\n",
      "('save data to file:', 'files/models/MCP/LLP_spectra/14TeV_100553_m_0.01001.npy')\n",
      "('save data to file:', 'files/models/MCP/LLP_spectra/14TeV_223_m_0.01001.npy')\n",
      "('save data to file:', 'files/models/MCP/LLP_spectra/14TeV_221_m_0.01001.npy')\n",
      "('save data to file:', 'files/models/MCP/LLP_spectra/14TeV_443_m_0.01258.npy')\n",
      "('save data to file:', 'files/models/MCP/LLP_spectra/14TeV_331_m_0.01258.npy')\n",
      "('save data to file:', 'files/models/MCP/LLP_spectra/14TeV_100443_m_0.01258.npy')\n",
      "('save data to file:', 'files/models/MCP/LLP_spectra/14TeV_200553_m_0.01258.npy')\n",
      "('save data to file:', 'files/models/MCP/LLP_spectra/14TeV_111_m_0.01258.npy')\n",
      "('save data to file:', 'files/models/MCP/LLP_spectra/14TeV_333_m_0.01258.npy')\n",
      "('save data to file:', 'files/models/MCP/LLP_spectra/14TeV_113_m_0.01258.npy')\n",
      "('save data to file:', 'files/models/MCP/LLP_spectra/14TeV_553_m_0.01258.npy')\n",
      "('save data to file:', 'files/models/MCP/LLP_spectra/14TeV_100553_m_0.01258.npy')\n",
      "('save data to file:', 'files/models/MCP/LLP_spectra/14TeV_223_m_0.01258.npy')\n",
      "('save data to file:', 'files/models/MCP/LLP_spectra/14TeV_221_m_0.01258.npy')\n",
      "('save data to file:', 'files/models/MCP/LLP_spectra/14TeV_443_m_0.01584.npy')\n",
      "('save data to file:', 'files/models/MCP/LLP_spectra/14TeV_331_m_0.01584.npy')\n",
      "('save data to file:', 'files/models/MCP/LLP_spectra/14TeV_100443_m_0.01584.npy')\n",
      "('save data to file:', 'files/models/MCP/LLP_spectra/14TeV_200553_m_0.01584.npy')\n",
      "('save data to file:', 'files/models/MCP/LLP_spectra/14TeV_111_m_0.01584.npy')\n",
      "('save data to file:', 'files/models/MCP/LLP_spectra/14TeV_333_m_0.01584.npy')\n",
      "('save data to file:', 'files/models/MCP/LLP_spectra/14TeV_113_m_0.01584.npy')\n",
      "('save data to file:', 'files/models/MCP/LLP_spectra/14TeV_553_m_0.01584.npy')\n",
      "('save data to file:', 'files/models/MCP/LLP_spectra/14TeV_100553_m_0.01584.npy')\n",
      "('save data to file:', 'files/models/MCP/LLP_spectra/14TeV_223_m_0.01584.npy')\n",
      "('save data to file:', 'files/models/MCP/LLP_spectra/14TeV_221_m_0.01584.npy')\n",
      "('save data to file:', 'files/models/MCP/LLP_spectra/14TeV_443_m_0.01995.npy')\n",
      "('save data to file:', 'files/models/MCP/LLP_spectra/14TeV_331_m_0.01995.npy')\n",
      "('save data to file:', 'files/models/MCP/LLP_spectra/14TeV_100443_m_0.01995.npy')\n",
      "('save data to file:', 'files/models/MCP/LLP_spectra/14TeV_200553_m_0.01995.npy')\n",
      "('save data to file:', 'files/models/MCP/LLP_spectra/14TeV_111_m_0.01995.npy')\n",
      "('save data to file:', 'files/models/MCP/LLP_spectra/14TeV_333_m_0.01995.npy')\n",
      "('save data to file:', 'files/models/MCP/LLP_spectra/14TeV_113_m_0.01995.npy')\n",
      "('save data to file:', 'files/models/MCP/LLP_spectra/14TeV_553_m_0.01995.npy')\n",
      "('save data to file:', 'files/models/MCP/LLP_spectra/14TeV_100553_m_0.01995.npy')\n",
      "('save data to file:', 'files/models/MCP/LLP_spectra/14TeV_223_m_0.01995.npy')\n",
      "('save data to file:', 'files/models/MCP/LLP_spectra/14TeV_221_m_0.01995.npy')\n",
      "('save data to file:', 'files/models/MCP/LLP_spectra/14TeV_443_m_0.02511.npy')\n",
      "('save data to file:', 'files/models/MCP/LLP_spectra/14TeV_331_m_0.02511.npy')\n",
      "('save data to file:', 'files/models/MCP/LLP_spectra/14TeV_100443_m_0.02511.npy')\n",
      "('save data to file:', 'files/models/MCP/LLP_spectra/14TeV_200553_m_0.02511.npy')\n",
      "('save data to file:', 'files/models/MCP/LLP_spectra/14TeV_111_m_0.02511.npy')\n",
      "('save data to file:', 'files/models/MCP/LLP_spectra/14TeV_333_m_0.02511.npy')\n",
      "('save data to file:', 'files/models/MCP/LLP_spectra/14TeV_113_m_0.02511.npy')\n",
      "('save data to file:', 'files/models/MCP/LLP_spectra/14TeV_553_m_0.02511.npy')\n",
      "('save data to file:', 'files/models/MCP/LLP_spectra/14TeV_100553_m_0.02511.npy')\n",
      "('save data to file:', 'files/models/MCP/LLP_spectra/14TeV_223_m_0.02511.npy')\n",
      "('save data to file:', 'files/models/MCP/LLP_spectra/14TeV_221_m_0.02511.npy')\n",
      "('save data to file:', 'files/models/MCP/LLP_spectra/14TeV_443_m_0.03162.npy')\n",
      "('save data to file:', 'files/models/MCP/LLP_spectra/14TeV_331_m_0.03162.npy')\n",
      "('save data to file:', 'files/models/MCP/LLP_spectra/14TeV_100443_m_0.03162.npy')\n",
      "('save data to file:', 'files/models/MCP/LLP_spectra/14TeV_200553_m_0.03162.npy')\n",
      "('save data to file:', 'files/models/MCP/LLP_spectra/14TeV_111_m_0.03162.npy')\n",
      "('save data to file:', 'files/models/MCP/LLP_spectra/14TeV_333_m_0.03162.npy')\n",
      "('save data to file:', 'files/models/MCP/LLP_spectra/14TeV_113_m_0.03162.npy')\n",
      "('save data to file:', 'files/models/MCP/LLP_spectra/14TeV_553_m_0.03162.npy')\n",
      "('save data to file:', 'files/models/MCP/LLP_spectra/14TeV_100553_m_0.03162.npy')\n",
      "('save data to file:', 'files/models/MCP/LLP_spectra/14TeV_223_m_0.03162.npy')\n",
      "('save data to file:', 'files/models/MCP/LLP_spectra/14TeV_221_m_0.03162.npy')\n",
      "('save data to file:', 'files/models/MCP/LLP_spectra/14TeV_443_m_0.03981.npy')\n",
      "('save data to file:', 'files/models/MCP/LLP_spectra/14TeV_331_m_0.03981.npy')\n",
      "('save data to file:', 'files/models/MCP/LLP_spectra/14TeV_100443_m_0.03981.npy')\n",
      "('save data to file:', 'files/models/MCP/LLP_spectra/14TeV_200553_m_0.03981.npy')\n",
      "('save data to file:', 'files/models/MCP/LLP_spectra/14TeV_111_m_0.03981.npy')\n",
      "('save data to file:', 'files/models/MCP/LLP_spectra/14TeV_333_m_0.03981.npy')\n",
      "('save data to file:', 'files/models/MCP/LLP_spectra/14TeV_113_m_0.03981.npy')\n",
      "('save data to file:', 'files/models/MCP/LLP_spectra/14TeV_553_m_0.03981.npy')\n",
      "('save data to file:', 'files/models/MCP/LLP_spectra/14TeV_100553_m_0.03981.npy')\n",
      "('save data to file:', 'files/models/MCP/LLP_spectra/14TeV_223_m_0.03981.npy')\n",
      "('save data to file:', 'files/models/MCP/LLP_spectra/14TeV_221_m_0.03981.npy')\n",
      "('save data to file:', 'files/models/MCP/LLP_spectra/14TeV_443_m_0.05011.npy')\n",
      "('save data to file:', 'files/models/MCP/LLP_spectra/14TeV_331_m_0.05011.npy')\n",
      "('save data to file:', 'files/models/MCP/LLP_spectra/14TeV_100443_m_0.05011.npy')\n",
      "('save data to file:', 'files/models/MCP/LLP_spectra/14TeV_200553_m_0.05011.npy')\n",
      "('save data to file:', 'files/models/MCP/LLP_spectra/14TeV_111_m_0.05011.npy')\n",
      "('save data to file:', 'files/models/MCP/LLP_spectra/14TeV_333_m_0.05011.npy')\n",
      "('save data to file:', 'files/models/MCP/LLP_spectra/14TeV_113_m_0.05011.npy')\n",
      "('save data to file:', 'files/models/MCP/LLP_spectra/14TeV_553_m_0.05011.npy')\n",
      "('save data to file:', 'files/models/MCP/LLP_spectra/14TeV_100553_m_0.05011.npy')\n",
      "('save data to file:', 'files/models/MCP/LLP_spectra/14TeV_223_m_0.05011.npy')\n",
      "('save data to file:', 'files/models/MCP/LLP_spectra/14TeV_221_m_0.05011.npy')\n",
      "('save data to file:', 'files/models/MCP/LLP_spectra/14TeV_443_m_0.06309.npy')\n",
      "('save data to file:', 'files/models/MCP/LLP_spectra/14TeV_331_m_0.06309.npy')\n",
      "('save data to file:', 'files/models/MCP/LLP_spectra/14TeV_100443_m_0.06309.npy')\n",
      "('save data to file:', 'files/models/MCP/LLP_spectra/14TeV_200553_m_0.06309.npy')\n",
      "('save data to file:', 'files/models/MCP/LLP_spectra/14TeV_111_m_0.06309.npy')\n",
      "('save data to file:', 'files/models/MCP/LLP_spectra/14TeV_333_m_0.06309.npy')\n",
      "('save data to file:', 'files/models/MCP/LLP_spectra/14TeV_113_m_0.06309.npy')\n",
      "('save data to file:', 'files/models/MCP/LLP_spectra/14TeV_553_m_0.06309.npy')\n",
      "('save data to file:', 'files/models/MCP/LLP_spectra/14TeV_100553_m_0.06309.npy')\n",
      "('save data to file:', 'files/models/MCP/LLP_spectra/14TeV_223_m_0.06309.npy')\n",
      "('save data to file:', 'files/models/MCP/LLP_spectra/14TeV_221_m_0.06309.npy')\n",
      "('save data to file:', 'files/models/MCP/LLP_spectra/14TeV_443_m_0.07943.npy')\n",
      "('save data to file:', 'files/models/MCP/LLP_spectra/14TeV_331_m_0.07943.npy')\n",
      "('save data to file:', 'files/models/MCP/LLP_spectra/14TeV_100443_m_0.07943.npy')\n",
      "('save data to file:', 'files/models/MCP/LLP_spectra/14TeV_200553_m_0.07943.npy')\n"
     ]
    },
    {
     "name": "stdout",
     "output_type": "stream",
     "text": [
      "('save data to file:', 'files/models/MCP/LLP_spectra/14TeV_333_m_0.07943.npy')\n",
      "('save data to file:', 'files/models/MCP/LLP_spectra/14TeV_113_m_0.07943.npy')\n",
      "('save data to file:', 'files/models/MCP/LLP_spectra/14TeV_553_m_0.07943.npy')\n",
      "('save data to file:', 'files/models/MCP/LLP_spectra/14TeV_100553_m_0.07943.npy')\n",
      "('save data to file:', 'files/models/MCP/LLP_spectra/14TeV_223_m_0.07943.npy')\n",
      "('save data to file:', 'files/models/MCP/LLP_spectra/14TeV_221_m_0.07943.npy')\n",
      "('save data to file:', 'files/models/MCP/LLP_spectra/14TeV_443_m_0.1001.npy')\n",
      "('save data to file:', 'files/models/MCP/LLP_spectra/14TeV_331_m_0.1001.npy')\n",
      "('save data to file:', 'files/models/MCP/LLP_spectra/14TeV_100443_m_0.1001.npy')\n",
      "('save data to file:', 'files/models/MCP/LLP_spectra/14TeV_200553_m_0.1001.npy')\n",
      "('save data to file:', 'files/models/MCP/LLP_spectra/14TeV_333_m_0.1001.npy')\n",
      "('save data to file:', 'files/models/MCP/LLP_spectra/14TeV_113_m_0.1001.npy')\n",
      "('save data to file:', 'files/models/MCP/LLP_spectra/14TeV_553_m_0.1001.npy')\n",
      "('save data to file:', 'files/models/MCP/LLP_spectra/14TeV_100553_m_0.1001.npy')\n",
      "('save data to file:', 'files/models/MCP/LLP_spectra/14TeV_223_m_0.1001.npy')\n",
      "('save data to file:', 'files/models/MCP/LLP_spectra/14TeV_221_m_0.1001.npy')\n",
      "('save data to file:', 'files/models/MCP/LLP_spectra/14TeV_443_m_0.1258.npy')\n",
      "('save data to file:', 'files/models/MCP/LLP_spectra/14TeV_331_m_0.1258.npy')\n",
      "('save data to file:', 'files/models/MCP/LLP_spectra/14TeV_100443_m_0.1258.npy')\n",
      "('save data to file:', 'files/models/MCP/LLP_spectra/14TeV_200553_m_0.1258.npy')\n",
      "('save data to file:', 'files/models/MCP/LLP_spectra/14TeV_333_m_0.1258.npy')\n",
      "('save data to file:', 'files/models/MCP/LLP_spectra/14TeV_113_m_0.1258.npy')\n",
      "('save data to file:', 'files/models/MCP/LLP_spectra/14TeV_553_m_0.1258.npy')\n",
      "('save data to file:', 'files/models/MCP/LLP_spectra/14TeV_100553_m_0.1258.npy')\n",
      "('save data to file:', 'files/models/MCP/LLP_spectra/14TeV_223_m_0.1258.npy')\n",
      "('save data to file:', 'files/models/MCP/LLP_spectra/14TeV_221_m_0.1258.npy')\n",
      "('save data to file:', 'files/models/MCP/LLP_spectra/14TeV_443_m_0.1584.npy')\n",
      "('save data to file:', 'files/models/MCP/LLP_spectra/14TeV_331_m_0.1584.npy')\n",
      "('save data to file:', 'files/models/MCP/LLP_spectra/14TeV_100443_m_0.1584.npy')\n",
      "('save data to file:', 'files/models/MCP/LLP_spectra/14TeV_200553_m_0.1584.npy')\n",
      "('save data to file:', 'files/models/MCP/LLP_spectra/14TeV_333_m_0.1584.npy')\n",
      "('save data to file:', 'files/models/MCP/LLP_spectra/14TeV_113_m_0.1584.npy')\n",
      "('save data to file:', 'files/models/MCP/LLP_spectra/14TeV_553_m_0.1584.npy')\n",
      "('save data to file:', 'files/models/MCP/LLP_spectra/14TeV_100553_m_0.1584.npy')\n",
      "('save data to file:', 'files/models/MCP/LLP_spectra/14TeV_223_m_0.1584.npy')\n",
      "('save data to file:', 'files/models/MCP/LLP_spectra/14TeV_221_m_0.1584.npy')\n",
      "('save data to file:', 'files/models/MCP/LLP_spectra/14TeV_443_m_0.1995.npy')\n",
      "('save data to file:', 'files/models/MCP/LLP_spectra/14TeV_331_m_0.1995.npy')\n",
      "('save data to file:', 'files/models/MCP/LLP_spectra/14TeV_100443_m_0.1995.npy')\n",
      "('save data to file:', 'files/models/MCP/LLP_spectra/14TeV_200553_m_0.1995.npy')\n",
      "('save data to file:', 'files/models/MCP/LLP_spectra/14TeV_333_m_0.1995.npy')\n",
      "('save data to file:', 'files/models/MCP/LLP_spectra/14TeV_113_m_0.1995.npy')\n",
      "('save data to file:', 'files/models/MCP/LLP_spectra/14TeV_553_m_0.1995.npy')\n",
      "('save data to file:', 'files/models/MCP/LLP_spectra/14TeV_100553_m_0.1995.npy')\n",
      "('save data to file:', 'files/models/MCP/LLP_spectra/14TeV_223_m_0.1995.npy')\n",
      "('save data to file:', 'files/models/MCP/LLP_spectra/14TeV_221_m_0.1995.npy')\n",
      "('save data to file:', 'files/models/MCP/LLP_spectra/14TeV_443_m_0.2511.npy')\n",
      "('save data to file:', 'files/models/MCP/LLP_spectra/14TeV_331_m_0.2511.npy')\n",
      "('save data to file:', 'files/models/MCP/LLP_spectra/14TeV_100443_m_0.2511.npy')\n",
      "('save data to file:', 'files/models/MCP/LLP_spectra/14TeV_200553_m_0.2511.npy')\n",
      "('save data to file:', 'files/models/MCP/LLP_spectra/14TeV_333_m_0.2511.npy')\n",
      "('save data to file:', 'files/models/MCP/LLP_spectra/14TeV_113_m_0.2511.npy')\n",
      "('save data to file:', 'files/models/MCP/LLP_spectra/14TeV_553_m_0.2511.npy')\n",
      "('save data to file:', 'files/models/MCP/LLP_spectra/14TeV_100553_m_0.2511.npy')\n",
      "('save data to file:', 'files/models/MCP/LLP_spectra/14TeV_223_m_0.2511.npy')\n",
      "('save data to file:', 'files/models/MCP/LLP_spectra/14TeV_221_m_0.2511.npy')\n",
      "('save data to file:', 'files/models/MCP/LLP_spectra/14TeV_443_m_0.3162.npy')\n",
      "('save data to file:', 'files/models/MCP/LLP_spectra/14TeV_DY_m_0.3162.npy')\n",
      "('save data to file:', 'files/models/MCP/LLP_spectra/14TeV_331_m_0.3162.npy')\n",
      "('save data to file:', 'files/models/MCP/LLP_spectra/14TeV_100443_m_0.3162.npy')\n",
      "('save data to file:', 'files/models/MCP/LLP_spectra/14TeV_200553_m_0.3162.npy')\n",
      "('save data to file:', 'files/models/MCP/LLP_spectra/14TeV_333_m_0.3162.npy')\n",
      "('save data to file:', 'files/models/MCP/LLP_spectra/14TeV_113_m_0.3162.npy')\n",
      "('save data to file:', 'files/models/MCP/LLP_spectra/14TeV_553_m_0.3162.npy')\n",
      "('save data to file:', 'files/models/MCP/LLP_spectra/14TeV_100553_m_0.3162.npy')\n",
      "('save data to file:', 'files/models/MCP/LLP_spectra/14TeV_223_m_0.3162.npy')\n",
      "('save data to file:', 'files/models/MCP/LLP_spectra/14TeV_443_m_0.365.npy')\n",
      "('save data to file:', 'files/models/MCP/LLP_spectra/14TeV_DY_m_0.365.npy')\n",
      "('save data to file:', 'files/models/MCP/LLP_spectra/14TeV_331_m_0.365.npy')\n",
      "('save data to file:', 'files/models/MCP/LLP_spectra/14TeV_100443_m_0.365.npy')\n",
      "('save data to file:', 'files/models/MCP/LLP_spectra/14TeV_200553_m_0.365.npy')\n",
      "('save data to file:', 'files/models/MCP/LLP_spectra/14TeV_333_m_0.365.npy')\n",
      "('save data to file:', 'files/models/MCP/LLP_spectra/14TeV_113_m_0.365.npy')\n",
      "('save data to file:', 'files/models/MCP/LLP_spectra/14TeV_553_m_0.365.npy')\n",
      "('save data to file:', 'files/models/MCP/LLP_spectra/14TeV_100553_m_0.365.npy')\n",
      "('save data to file:', 'files/models/MCP/LLP_spectra/14TeV_223_m_0.365.npy')\n",
      "('save data to file:', 'files/models/MCP/LLP_spectra/14TeV_443_m_0.392.npy')\n",
      "('save data to file:', 'files/models/MCP/LLP_spectra/14TeV_DY_m_0.392.npy')\n",
      "('save data to file:', 'files/models/MCP/LLP_spectra/14TeV_331_m_0.392.npy')\n",
      "('save data to file:', 'files/models/MCP/LLP_spectra/14TeV_100443_m_0.392.npy')\n",
      "('save data to file:', 'files/models/MCP/LLP_spectra/14TeV_200553_m_0.392.npy')\n",
      "('save data to file:', 'files/models/MCP/LLP_spectra/14TeV_333_m_0.392.npy')\n",
      "('save data to file:', 'files/models/MCP/LLP_spectra/14TeV_553_m_0.392.npy')\n",
      "('save data to file:', 'files/models/MCP/LLP_spectra/14TeV_100553_m_0.392.npy')\n",
      "('save data to file:', 'files/models/MCP/LLP_spectra/14TeV_443_m_0.3981.npy')\n",
      "('save data to file:', 'files/models/MCP/LLP_spectra/14TeV_DY_m_0.3981.npy')\n",
      "('save data to file:', 'files/models/MCP/LLP_spectra/14TeV_331_m_0.3981.npy')\n",
      "('save data to file:', 'files/models/MCP/LLP_spectra/14TeV_100443_m_0.3981.npy')\n",
      "('save data to file:', 'files/models/MCP/LLP_spectra/14TeV_200553_m_0.3981.npy')\n",
      "('save data to file:', 'files/models/MCP/LLP_spectra/14TeV_333_m_0.3981.npy')\n",
      "('save data to file:', 'files/models/MCP/LLP_spectra/14TeV_553_m_0.3981.npy')\n",
      "('save data to file:', 'files/models/MCP/LLP_spectra/14TeV_100553_m_0.3981.npy')\n",
      "('save data to file:', 'files/models/MCP/LLP_spectra/14TeV_443_m_0.475.npy')\n",
      "('save data to file:', 'files/models/MCP/LLP_spectra/14TeV_DY_m_0.475.npy')\n",
      "('save data to file:', 'files/models/MCP/LLP_spectra/14TeV_331_m_0.475.npy')\n",
      "('save data to file:', 'files/models/MCP/LLP_spectra/14TeV_100443_m_0.475.npy')\n",
      "('save data to file:', 'files/models/MCP/LLP_spectra/14TeV_200553_m_0.475.npy')\n",
      "('save data to file:', 'files/models/MCP/LLP_spectra/14TeV_333_m_0.475.npy')\n",
      "('save data to file:', 'files/models/MCP/LLP_spectra/14TeV_553_m_0.475.npy')\n",
      "('save data to file:', 'files/models/MCP/LLP_spectra/14TeV_100553_m_0.475.npy')\n",
      "('save data to file:', 'files/models/MCP/LLP_spectra/14TeV_443_m_0.5011.npy')\n",
      "('save data to file:', 'files/models/MCP/LLP_spectra/14TeV_DY_m_0.5011.npy')\n",
      "('save data to file:', 'files/models/MCP/LLP_spectra/14TeV_100443_m_0.5011.npy')\n",
      "('save data to file:', 'files/models/MCP/LLP_spectra/14TeV_200553_m_0.5011.npy')\n",
      "('save data to file:', 'files/models/MCP/LLP_spectra/14TeV_333_m_0.5011.npy')\n"
     ]
    },
    {
     "name": "stdout",
     "output_type": "stream",
     "text": [
      "('save data to file:', 'files/models/MCP/LLP_spectra/14TeV_553_m_0.5011.npy')\n",
      "('save data to file:', 'files/models/MCP/LLP_spectra/14TeV_100553_m_0.5011.npy')\n",
      "('save data to file:', 'files/models/MCP/LLP_spectra/14TeV_443_m_0.6309.npy')\n",
      "('save data to file:', 'files/models/MCP/LLP_spectra/14TeV_DY_m_0.6309.npy')\n",
      "('save data to file:', 'files/models/MCP/LLP_spectra/14TeV_100443_m_0.6309.npy')\n",
      "('save data to file:', 'files/models/MCP/LLP_spectra/14TeV_200553_m_0.6309.npy')\n",
      "('save data to file:', 'files/models/MCP/LLP_spectra/14TeV_553_m_0.6309.npy')\n",
      "('save data to file:', 'files/models/MCP/LLP_spectra/14TeV_100553_m_0.6309.npy')\n",
      "('save data to file:', 'files/models/MCP/LLP_spectra/14TeV_443_m_0.7943.npy')\n",
      "('save data to file:', 'files/models/MCP/LLP_spectra/14TeV_DY_m_0.7943.npy')\n",
      "('save data to file:', 'files/models/MCP/LLP_spectra/14TeV_100443_m_0.7943.npy')\n",
      "('save data to file:', 'files/models/MCP/LLP_spectra/14TeV_200553_m_0.7943.npy')\n",
      "('save data to file:', 'files/models/MCP/LLP_spectra/14TeV_553_m_0.7943.npy')\n",
      "('save data to file:', 'files/models/MCP/LLP_spectra/14TeV_100553_m_0.7943.npy')\n",
      "('save data to file:', 'files/models/MCP/LLP_spectra/14TeV_443_m_1.001.npy')\n",
      "('save data to file:', 'files/models/MCP/LLP_spectra/14TeV_DY_m_1.001.npy')\n",
      "('save data to file:', 'files/models/MCP/LLP_spectra/14TeV_100443_m_1.001.npy')\n",
      "('save data to file:', 'files/models/MCP/LLP_spectra/14TeV_200553_m_1.001.npy')\n",
      "('save data to file:', 'files/models/MCP/LLP_spectra/14TeV_553_m_1.001.npy')\n",
      "('save data to file:', 'files/models/MCP/LLP_spectra/14TeV_100553_m_1.001.npy')\n",
      "('save data to file:', 'files/models/MCP/LLP_spectra/14TeV_443_m_1.258.npy')\n",
      "('save data to file:', 'files/models/MCP/LLP_spectra/14TeV_DY_m_1.258.npy')\n",
      "('save data to file:', 'files/models/MCP/LLP_spectra/14TeV_100443_m_1.258.npy')\n",
      "('save data to file:', 'files/models/MCP/LLP_spectra/14TeV_200553_m_1.258.npy')\n",
      "('save data to file:', 'files/models/MCP/LLP_spectra/14TeV_553_m_1.258.npy')\n",
      "('save data to file:', 'files/models/MCP/LLP_spectra/14TeV_100553_m_1.258.npy')\n",
      "('save data to file:', 'files/models/MCP/LLP_spectra/14TeV_443_m_1.501.npy')\n",
      "('save data to file:', 'files/models/MCP/LLP_spectra/14TeV_DY_m_1.501.npy')\n",
      "('save data to file:', 'files/models/MCP/LLP_spectra/14TeV_100443_m_1.501.npy')\n",
      "('save data to file:', 'files/models/MCP/LLP_spectra/14TeV_200553_m_1.501.npy')\n",
      "('save data to file:', 'files/models/MCP/LLP_spectra/14TeV_553_m_1.501.npy')\n",
      "('save data to file:', 'files/models/MCP/LLP_spectra/14TeV_100553_m_1.501.npy')\n",
      "('save data to file:', 'files/models/MCP/LLP_spectra/14TeV_DY_m_1.549.npy')\n",
      "('save data to file:', 'files/models/MCP/LLP_spectra/14TeV_100443_m_1.549.npy')\n",
      "('save data to file:', 'files/models/MCP/LLP_spectra/14TeV_200553_m_1.549.npy')\n",
      "('save data to file:', 'files/models/MCP/LLP_spectra/14TeV_553_m_1.549.npy')\n",
      "('save data to file:', 'files/models/MCP/LLP_spectra/14TeV_100553_m_1.549.npy')\n",
      "('save data to file:', 'files/models/MCP/LLP_spectra/14TeV_DY_m_1.584.npy')\n",
      "('save data to file:', 'files/models/MCP/LLP_spectra/14TeV_100443_m_1.584.npy')\n",
      "('save data to file:', 'files/models/MCP/LLP_spectra/14TeV_200553_m_1.584.npy')\n",
      "('save data to file:', 'files/models/MCP/LLP_spectra/14TeV_553_m_1.584.npy')\n",
      "('save data to file:', 'files/models/MCP/LLP_spectra/14TeV_100553_m_1.584.npy')\n",
      "('save data to file:', 'files/models/MCP/LLP_spectra/14TeV_DY_m_1.801.npy')\n",
      "('save data to file:', 'files/models/MCP/LLP_spectra/14TeV_100443_m_1.801.npy')\n",
      "('save data to file:', 'files/models/MCP/LLP_spectra/14TeV_200553_m_1.801.npy')\n",
      "('save data to file:', 'files/models/MCP/LLP_spectra/14TeV_553_m_1.801.npy')\n",
      "('save data to file:', 'files/models/MCP/LLP_spectra/14TeV_100553_m_1.801.npy')\n",
      "('save data to file:', 'files/models/MCP/LLP_spectra/14TeV_DY_m_1.844.npy')\n",
      "('save data to file:', 'files/models/MCP/LLP_spectra/14TeV_200553_m_1.844.npy')\n",
      "('save data to file:', 'files/models/MCP/LLP_spectra/14TeV_553_m_1.844.npy')\n",
      "('save data to file:', 'files/models/MCP/LLP_spectra/14TeV_100553_m_1.844.npy')\n",
      "('save data to file:', 'files/models/MCP/LLP_spectra/14TeV_DY_m_1.995.npy')\n",
      "('save data to file:', 'files/models/MCP/LLP_spectra/14TeV_200553_m_1.995.npy')\n",
      "('save data to file:', 'files/models/MCP/LLP_spectra/14TeV_553_m_1.995.npy')\n",
      "('save data to file:', 'files/models/MCP/LLP_spectra/14TeV_100553_m_1.995.npy')\n",
      "('save data to file:', 'files/models/MCP/LLP_spectra/14TeV_DY_m_2.511.npy')\n",
      "('save data to file:', 'files/models/MCP/LLP_spectra/14TeV_200553_m_2.511.npy')\n",
      "('save data to file:', 'files/models/MCP/LLP_spectra/14TeV_553_m_2.511.npy')\n",
      "('save data to file:', 'files/models/MCP/LLP_spectra/14TeV_100553_m_2.511.npy')\n",
      "('save data to file:', 'files/models/MCP/LLP_spectra/14TeV_DY_m_3.162.npy')\n",
      "('save data to file:', 'files/models/MCP/LLP_spectra/14TeV_200553_m_3.162.npy')\n",
      "('save data to file:', 'files/models/MCP/LLP_spectra/14TeV_553_m_3.162.npy')\n",
      "('save data to file:', 'files/models/MCP/LLP_spectra/14TeV_100553_m_3.162.npy')\n",
      "('save data to file:', 'files/models/MCP/LLP_spectra/14TeV_DY_m_3.981.npy')\n",
      "('save data to file:', 'files/models/MCP/LLP_spectra/14TeV_200553_m_3.981.npy')\n",
      "('save data to file:', 'files/models/MCP/LLP_spectra/14TeV_553_m_3.981.npy')\n",
      "('save data to file:', 'files/models/MCP/LLP_spectra/14TeV_100553_m_3.981.npy')\n",
      "('save data to file:', 'files/models/MCP/LLP_spectra/14TeV_DY_m_4.601.npy')\n",
      "('save data to file:', 'files/models/MCP/LLP_spectra/14TeV_200553_m_4.601.npy')\n",
      "('save data to file:', 'files/models/MCP/LLP_spectra/14TeV_553_m_4.601.npy')\n",
      "('save data to file:', 'files/models/MCP/LLP_spectra/14TeV_100553_m_4.601.npy')\n",
      "('save data to file:', 'files/models/MCP/LLP_spectra/14TeV_DY_m_4.731.npy')\n",
      "('save data to file:', 'files/models/MCP/LLP_spectra/14TeV_200553_m_4.731.npy')\n",
      "('save data to file:', 'files/models/MCP/LLP_spectra/14TeV_100553_m_4.731.npy')\n",
      "('save data to file:', 'files/models/MCP/LLP_spectra/14TeV_DY_m_4.901.npy')\n",
      "('save data to file:', 'files/models/MCP/LLP_spectra/14TeV_200553_m_4.901.npy')\n",
      "('save data to file:', 'files/models/MCP/LLP_spectra/14TeV_100553_m_4.901.npy')\n",
      "('save data to file:', 'files/models/MCP/LLP_spectra/14TeV_DY_m_5.011.npy')\n",
      "('save data to file:', 'files/models/MCP/LLP_spectra/14TeV_200553_m_5.011.npy')\n",
      "('save data to file:', 'files/models/MCP/LLP_spectra/14TeV_100553_m_5.011.npy')\n",
      "('save data to file:', 'files/models/MCP/LLP_spectra/14TeV_DY_m_5.012.npy')\n",
      "('save data to file:', 'files/models/MCP/LLP_spectra/14TeV_200553_m_5.012.npy')\n",
      "('save data to file:', 'files/models/MCP/LLP_spectra/14TeV_DY_m_5.178.npy')\n",
      "('save data to file:', 'files/models/MCP/LLP_spectra/14TeV_DY_m_6.309.npy')\n",
      "('save data to file:', 'files/models/MCP/LLP_spectra/14TeV_DY_m_7.943.npy')\n",
      "('save data to file:', 'files/models/MCP/LLP_spectra/14TeV_DY_m_10.01.npy')\n",
      "('save data to file:', 'files/models/MCP/LLP_spectra/14TeV_DY_m_12.58.npy')\n",
      "('save data to file:', 'files/models/MCP/LLP_spectra/14TeV_DY_m_15.84.npy')\n",
      "('save data to file:', 'files/models/MCP/LLP_spectra/14TeV_DY_m_19.95.npy')\n",
      "('save data to file:', 'files/models/MCP/LLP_spectra/14TeV_DY_m_25.11.npy')\n",
      "('save data to file:', 'files/models/MCP/LLP_spectra/14TeV_DY_m_31.62.npy')\n",
      "('save data to file:', 'files/models/MCP/LLP_spectra/14TeV_DY_m_39.81.npy')\n",
      "('save data to file:', 'files/models/MCP/LLP_spectra/14TeV_DY_m_50.11.npy')\n",
      "('save data to file:', 'files/models/MCP/LLP_spectra/14TeV_DY_m_63.09.npy')\n",
      "('save data to file:', 'files/models/MCP/LLP_spectra/14TeV_DY_m_79.43.npy')\n",
      "('save data to file:', 'files/models/MCP/LLP_spectra/14TeV_DY_m_100.01.npy')\n"
     ]
    }
   ],
   "source": [
    "# full mass set\n",
    "masses_all = [\n",
    "    # equally spaced in log-space\n",
    "    0.01001, 0.01122, 0.01258, 0.01412, 0.01584, 0.01778, 0.01995, 0.02238, 0.02511, 0.02818, \n",
    "    0.03162, 0.03548, 0.03981, 0.04466, 0.05011, 0.05623, 0.06309, 0.07079, 0.07943, 0.08912,\n",
    "    0.1001, 0.1122, 0.1258, 0.1412, 0.1584, 0.1778, 0.1995, 0.2238, 0.2511, 0.2818, \n",
    "    0.3162, 0.3548, 0.3981, 0.4466, 0.5011, 0.5623, 0.6309, 0.7079, 0.7943, 0.8912,\n",
    "    1.001, 1.122, 1.258, 1.412, 1.584, 1.778, 1.995, 2.238, 2.511, 2.818, \n",
    "    3.162, 3.548, 3.981, 4.466, 5.011, 5.623, 6.309, 7.079, 7.943, 8.912,\n",
    "    10.01, 11.22, 12.58, 14.12, 15.84, 17.78, 19.95, 22.38, 25.11, 28.18, \n",
    "    31.62, 35.48, 39.81, 44.66, 50.11, 56.23, 63.09, 70.79, 79.43, 89.12, 100.01, \n",
    "    # extra points near thresholds\n",
    "    0.333, 0.365, 0.386, 0.392, 0.475, 0.51, 1.501, 1.541, 1.549, 1.801, 1.821, \n",
    "    1.841, 1.844, 4.601, 4.666, 4.701, 4.731, 4.901, 5.012, 5.101, 5.171, 5.178 \n",
    "]\n",
    "\n",
    "#reduced set (is quicker)\n",
    "masses_reduced = [\n",
    "    0.01001, 0.01258, 0.01584, 0.01995, 0.02511, 0.03162, 0.03981, 0.05011, 0.06309, 0.07943, \n",
    "    0.1001, 0.1258, 0.1584, 0.1995, 0.2511, 0.3162, 0.3981, 0.5011, 0.6309, 0.7943, \n",
    "    1.001, 1.258, 1.584, 1.995, 2.511, 3.162, 3.981, 5.011, 6.309, 7.943, \n",
    "    10.01, 12.58, 15.84, 19.95, 25.11, 31.62, 39.81, 50.11, 63.09, 79.43, 100.01, \n",
    "    0.365, 0.392, 0.475, 1.501, 1.549, 1.801, 1.844, 4.601, 4.731, 4.901, 5.012,5.178 \n",
    "]\n",
    "\n",
    "masses = sorted(masses_reduced)\n",
    "for mass in masses:\n",
    "    foresee.get_llp_spectrum(mass=mass,coupling=1)"
   ]
  },
  {
   "cell_type": "markdown",
   "metadata": {},
   "source": [
    "## 4. Count Eventrate in Detector"
   ]
  },
  {
   "cell_type": "markdown",
   "metadata": {},
   "source": [
    "Before counting the number of decays within the detector volume, let us specify the detector geometry. For this we need\n",
    "\n",
    "- the `distance` of the detectot from the IP in meter (default: 480)\n",
    "- the `length` of the detector in meter (default: 5)\n",
    "- the `luminosity` in units of fb^-1 (default: 3000)\n",
    "- the `selection` depending in `x.x` and `x.y` (default: `np.sqrt(x.x**2 + x.y**2)< 1`)\n",
    "- the `numberdensity` of target particles in the detector in $1/m^3$ (default: 3.754e+29 for LAr)\n",
    "- the `ermin` and `ermax` as minimum and maximum recoil energy of the analysis (default: 0.03 and 1 GeV)\n",
    "\n",
    "The default correspond to the FASER2 detector (for LLP seraches). For FLArE10 we need to modify things a bit. "
   ]
  },
  {
   "cell_type": "code",
   "execution_count": 15,
   "metadata": {},
   "outputs": [],
   "source": [
    "distance, selection, length, luminosity = 620, \"abs(x.x)<0.5 and abs(x.y)<0.5\", 7, 3000\n",
    "numberdensity , ermin, ermax = 3.754e+29, 0.03, 1.\n",
    "foresee.set_detector(\n",
    "    distance=distance, selection=selection, length=length, luminosity=luminosity, \n",
    "    numberdensity=numberdensity, ermin=ermin, ermax=ermax)"
   ]
  },
  {
   "cell_type": "markdown",
   "metadata": {},
   "source": [
    "Let us look for one specific dark photon mass $m_{\\chi}=1$ GeV at how many particle decay inside the decay volume. This can be done using `get_events_interaction()` for which we need to specify again the mass and filename. Additionally, we can specify \n",
    "\n",
    "- the `couplings` for which we evaluate the event rate as numpy array (default `np.logspace(-8,-3,51)`)\n",
    "- the `preselectioncuts` when reading the LLP spectra in terms of momentum `p` and angle `th` (default: `th<0.01 and p>100`)\n",
    "- the number `nsample` describing how many randomly choosen values of $\\phi_{LLP}$ should sampled (default 1). This is only relevant for detectors that are not cylyndrical or not centered around the beam axis. \n",
    "- the production `modes` which should be considered\n",
    "- the `energy` of the experiments"
   ]
  },
  {
   "cell_type": "code",
   "execution_count": 16,
   "metadata": {},
   "outputs": [
    {
     "name": "stdout",
     "output_type": "stream",
     "text": [
      "('g =', '1.000e-05', ': nsig =', '6.286e-09')\n",
      "('g =', '1.000e-04', ': nsig =', '6.286e-05')\n",
      "('g =', '1.000e-03', ': nsig =', '6.286e-01')\n",
      "('g =', '1.000e-02', ': nsig =', '6.286e+03')\n",
      "('g =', '1.000e-01', ': nsig =', '6.286e+07')\n",
      "('g =', '1.000e+00', ': nsig =', '6.286e+11')\n"
     ]
    }
   ],
   "source": [
    "mass = 1.001\n",
    "output = foresee.get_events_interaction(mass=mass, energy=energy, couplings=np.logspace(-5,0,6), nsample=1)\n",
    "coups, nsigs, energies, weights, _ = output\n",
    "for coup,nsig in zip(coups, nsigs):\n",
    "    print (\"g =\", '{:5.3e}'.format(coup), \": nsig =\", '{:5.3e}'.format(nsig))"
   ]
  },
  {
   "cell_type": "markdown",
   "metadata": {},
   "source": [
    "The previous function also outputs the energy distribution of the dark photons which decay inside the detector. Let's have a look at them."
   ]
  },
  {
   "cell_type": "code",
   "execution_count": 17,
   "metadata": {},
   "outputs": [
    {
     "data": {
      "image/png": "[encoded data removed]",
      "text/plain": [
       "<Figure size 504x360 with 1 Axes>"
      ]
     },
     "metadata": {
      "needs_background": "light"
     },
     "output_type": "display_data"
    }
   ],
   "source": [
    "fig = plt.figure(figsize=(7,5))\n",
    "ax = plt.subplot(1,1,1)\n",
    "for coup,en,weight in zip(coups,energies,weights):\n",
    "    if sum(weight)<10**-5 : continue\n",
    "    ax.hist(en, weights=weight, bins=np.logspace(2,4, 20), histtype='step', label=r\"$\\epsilon=$\"+str(coup)) \n",
    "    ax.set_xscale(\"log\")\n",
    "    ax.set_yscale(\"log\")\n",
    "    ax.set_ylim(10**-7,10**5) \n",
    "    ax.set_xlabel(\"E(a) [GeV]\") \n",
    "    ax.set_ylabel(\"Number of Events per bin\") \n",
    "    ax.legend(frameon=False, labelspacing=0)\n",
    "plt.tight_layout()\n",
    "plt.show()"
   ]
  },
  {
   "cell_type": "markdown",
   "metadata": {},
   "source": [
    "## 5. Parameter Scan"
   ]
  },
  {
   "cell_type": "markdown",
   "metadata": {},
   "source": [
    "In the following, we will get the LLP sensitivity reach for different detector configuraions. As an example, we show the FASER2 reach for dark photons for 3 scenarios. We just need to loop over different masses and use the previously introduced funtion `get_events`. The results will be written into a `.npy` file that we can store and plot later."
   ]
  },
  {
   "cell_type": "markdown",
   "metadata": {},
   "source": [
    "- the nominal/default setup"
   ]
  },
  {
   "cell_type": "code",
   "execution_count": 18,
   "metadata": {},
   "outputs": [
    {
     "name": "stdout",
     "output_type": "stream",
     "text": [
      "Do 0.01001\n",
      "Do 0.01258\n",
      "Do 0.01584\n",
      "Do 0.01995\n",
      "Do 0.02511\n",
      "Do 0.03162\n",
      "Do 0.03981\n",
      "Do 0.05011\n",
      "Do 0.06309\n",
      "Do 0.07943\n",
      "Do 0.1001\n",
      "Do 0.1258\n",
      "Do 0.1584\n",
      "Do 0.1995\n",
      "Do 0.2511\n",
      "Do 0.3162\n",
      "Do 0.365\n",
      "Do 0.392\n",
      "Do 0.3981\n",
      "Do 0.475\n",
      "Do 0.5011\n",
      "Do 0.6309\n",
      "Do 0.7943\n",
      "Do 1.001\n",
      "Do 1.258\n",
      "Do 1.501\n",
      "Do 1.549\n",
      "Do 1.584\n",
      "Do 1.801\n",
      "Do 1.844\n",
      "Do 1.995\n",
      "Do 2.511\n",
      "Do 3.162\n",
      "Do 3.981\n",
      "Do 4.601\n",
      "Do 4.731\n",
      "Do 4.901\n",
      "Do 5.011\n",
      "Do 5.012\n",
      "Do 5.178\n",
      "Do 6.309\n",
      "Do 7.943\n",
      "Do 10.01\n",
      "Do 12.58\n",
      "Do 15.84\n",
      "Do 19.95\n",
      "Do 25.11\n",
      "Do 31.62\n",
      "Do 39.81\n",
      "Do 50.11\n",
      "Do 63.09\n",
      "Do 79.43\n",
      "Do 100.01\n"
     ]
    }
   ],
   "source": [
    "#specify setup\n",
    "luminosity, distance, length = 3000, 620, 7\n",
    "setup, selection, channels = \"default\", \"abs(x.x)<0.5 and abs(x.y)<0.5\", None\n",
    "numberdensity, ermin, ermax = 3.754e+29, 0.03, 1\n",
    "foresee.set_detector(distance=distance, selection=selection, length=length, luminosity=luminosity, \n",
    "    numberdensity=numberdensity, ermin=ermin, ermax=ermax, )\n",
    "\n",
    "#get reach \n",
    "list_nevents = []    \n",
    "for mass in masses:\n",
    "    print \"Do\", mass\n",
    "    outout=foresee.get_events_interaction(mass=mass, energy=energy, couplings = np.logspace(-5,0,51), nsample=5)\n",
    "    couplings, nevents, _, _ , _ = outout\n",
    "    list_nevents.append(nevents)  \n",
    "    \n",
    "#save results\n",
    "np.save(\"files/models/\"+modelname+\"/results/\"+energy+\"TeV_\"+setup+\".npy\",[masses,couplings,list_nevents])"
   ]
  },
  {
   "cell_type": "markdown",
   "metadata": {},
   "source": [
    "## 6. Plot the Results - Configurations"
   ]
  },
  {
   "cell_type": "markdown",
   "metadata": {},
   "source": [
    "Now let's plot the results. We first specify all detector setups for which we want to show result (filename in model/results directory, label, color, linestyle, opacity alpha for filled contours, required number of events)."
   ]
  },
  {
   "cell_type": "code",
   "execution_count": 19,
   "metadata": {},
   "outputs": [],
   "source": [
    "setups = [\n",
    "    [\"14TeV_default.npy\",    \"default\"  , \"red\",     \"solid\", 0., 3],\n",
    "]"
   ]
  },
  {
   "cell_type": "markdown",
   "metadata": {},
   "source": [
    "Then we specify all the existing bounds (filename in model/bounds directory, label, label position x, label position y, label rotation)"
   ]
  },
  {
   "cell_type": "code",
   "execution_count": 20,
   "metadata": {},
   "outputs": [],
   "source": [
    "bounds = [   \n",
    "    [\"bounds_all.txt\",         \"\",  0.100, 1.9*10**-7, 25  ],\n",
    "]"
   ]
  },
  {
   "cell_type": "markdown",
   "metadata": {},
   "source": [
    "We then specify other projected sensitivitities (filename in model/bounds directory, color, label, label position x, label position y, label rotation)"
   ]
  },
  {
   "cell_type": "code",
   "execution_count": 21,
   "metadata": {},
   "outputs": [],
   "source": [
    "projections = [\n",
    "#    [\"limits_Belle2-3gamma.txt\",   \"royalblue\",   r\"Belle2 $3\\gamma$\"  , 1.400, 1.7*10**-4, 0  ],\n",
    "]"
   ]
  },
  {
   "cell_type": "markdown",
   "metadata": {},
   "source": [
    "Finally, we can plot everything using `foresee.plot_reach()`. It returns a matplotlib instance, to which we can add further lines and which we can show or save. Below, we add the dark matter relict target line for a specific benchmark."
   ]
  },
  {
   "cell_type": "code",
   "execution_count": 23,
   "metadata": {},
   "outputs": [
    {
     "data": {
      "image/png": "[encoded data removed]",
      "text/plain": [
       "<Figure size 576x432 with 1 Axes>"
      ]
     },
     "metadata": {
      "needs_background": "light"
     },
     "output_type": "display_data"
    }
   ],
   "source": [
    "plot = foresee.plot_reach(\n",
    "    setups=setups,\n",
    "    bounds=bounds,\n",
    "    projections=[],\n",
    "    title=\"MCPs\", \n",
    "    xlims = [0.01,100], \n",
    "    ylims = [10**-4,1],\n",
    "    xlabel=r\"MCP Mass $m_{\\chi}$ [GeV]\", \n",
    "    ylabel=r\"millicharge $\\epsilon$\",\n",
    "    legendloc=(1,0.28),\n",
    "    figsize=(8,6),\n",
    ")\n",
    "\n",
    "plot.subplots_adjust(left=0.12, right=0.97, bottom=0.10, top=0.95)\n",
    "#plot.savefig(\"/Users/felixkling/Downloads/Figure.pdf\")\n",
    "plot.show()"
   ]
  },
  {
   "cell_type": "code",
   "execution_count": null,
   "metadata": {},
   "outputs": [],
   "source": []
  }
 ],
 "metadata": {
  "kernelspec": {
   "display_name": "Python 2",
   "language": "python",
   "name": "python2"
  },
  "language_info": {
   "codemirror_mode": {
    "name": "ipython",
    "version": 2
   },
   "file_extension": ".py",
   "mimetype": "text/x-python",
   "name": "python",
   "nbconvert_exporter": "python",
   "pygments_lexer": "ipython2",
   "version": "2.7.17"
  },
  "toc": {
   "base_numbering": 1,
   "nav_menu": {
    "height": "734px",
    "width": "465px"
   },
   "number_sections": true,
   "sideBar": true,
   "skip_h1_title": false,
   "title_cell": "Table of Contents",
   "title_sidebar": "Contents",
   "toc_cell": false,
   "toc_position": {},
   "toc_section_display": true,
   "toc_window_display": false
  }
 },
 "nbformat": 4,
 "nbformat_minor": 2
}
